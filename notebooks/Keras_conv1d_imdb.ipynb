{
 "cells": [
  {
   "cell_type": "code",
   "execution_count": 1,
   "metadata": {},
   "outputs": [],
   "source": [
    "%matplotlib inline\n",
    "import matplotlib.pyplot as plt\n",
    "import pandas as pd"
   ]
  },
  {
   "cell_type": "code",
   "execution_count": 2,
   "metadata": {},
   "outputs": [],
   "source": [
    "import spacy\n",
    "nlp = spacy.load('en_vectors_web_lg')"
   ]
  },
  {
   "cell_type": "code",
   "execution_count": 3,
   "metadata": {},
   "outputs": [],
   "source": [
    "RECORDS = -1  # -1 means 'load all'\n",
    "MAX_WORDS_IN_SENTENCE = 200"
   ]
  },
  {
   "cell_type": "code",
   "execution_count": 4,
   "metadata": {
    "scrolled": false
   },
   "outputs": [
    {
     "name": "stderr",
     "output_type": "stream",
     "text": [
      "Using TensorFlow backend.\n"
     ]
    },
    {
     "data": {
      "text/html": [
       "<div>\n",
       "<style scoped>\n",
       "    .dataframe tbody tr th:only-of-type {\n",
       "        vertical-align: middle;\n",
       "    }\n",
       "\n",
       "    .dataframe tbody tr th {\n",
       "        vertical-align: top;\n",
       "    }\n",
       "\n",
       "    .dataframe thead th {\n",
       "        text-align: right;\n",
       "    }\n",
       "</style>\n",
       "<table border=\"1\" class=\"dataframe\">\n",
       "  <thead>\n",
       "    <tr style=\"text-align: right;\">\n",
       "      <th></th>\n",
       "      <th>scores</th>\n",
       "      <th>text</th>\n",
       "    </tr>\n",
       "  </thead>\n",
       "  <tbody>\n",
       "    <tr>\n",
       "      <th>3</th>\n",
       "      <td>1</td>\n",
       "      <td>b\"Dan Katzir has produced a wonderful film tha...</td>\n",
       "    </tr>\n",
       "    <tr>\n",
       "      <th>4</th>\n",
       "      <td>1</td>\n",
       "      <td>b'If you want Scream or anything like the big-...</td>\n",
       "    </tr>\n",
       "    <tr>\n",
       "      <th>9</th>\n",
       "      <td>0</td>\n",
       "      <td>b\"Outlandish premise that rates low on plausib...</td>\n",
       "    </tr>\n",
       "    <tr>\n",
       "      <th>11</th>\n",
       "      <td>0</td>\n",
       "      <td>b'Let\\'s face it-- if you rented a STDVD seque...</td>\n",
       "    </tr>\n",
       "    <tr>\n",
       "      <th>12</th>\n",
       "      <td>0</td>\n",
       "      <td>b'Bizarre Tobe Hooper exercise regarding an un...</td>\n",
       "    </tr>\n",
       "  </tbody>\n",
       "</table>\n",
       "</div>"
      ],
      "text/plain": [
       "    scores                                               text\n",
       "3        1  b\"Dan Katzir has produced a wonderful film tha...\n",
       "4        1  b'If you want Scream or anything like the big-...\n",
       "9        0  b\"Outlandish premise that rates low on plausib...\n",
       "11       0  b'Let\\'s face it-- if you rented a STDVD seque...\n",
       "12       0  b'Bizarre Tobe Hooper exercise regarding an un..."
      ]
     },
     "metadata": {},
     "output_type": "display_data"
    },
    {
     "data": {
      "text/html": [
       "<div>\n",
       "<style scoped>\n",
       "    .dataframe tbody tr th:only-of-type {\n",
       "        vertical-align: middle;\n",
       "    }\n",
       "\n",
       "    .dataframe tbody tr th {\n",
       "        vertical-align: top;\n",
       "    }\n",
       "\n",
       "    .dataframe thead th {\n",
       "        text-align: right;\n",
       "    }\n",
       "</style>\n",
       "<table border=\"1\" class=\"dataframe\">\n",
       "  <thead>\n",
       "    <tr style=\"text-align: right;\">\n",
       "      <th></th>\n",
       "      <th>scores</th>\n",
       "      <th>text</th>\n",
       "    </tr>\n",
       "  </thead>\n",
       "  <tbody>\n",
       "    <tr>\n",
       "      <th>0</th>\n",
       "      <td>1</td>\n",
       "      <td>b\"Don't hate Heather Graham because she's beau...</td>\n",
       "    </tr>\n",
       "    <tr>\n",
       "      <th>1</th>\n",
       "      <td>0</td>\n",
       "      <td>b'I don\\'t know how this movie has received so...</td>\n",
       "    </tr>\n",
       "    <tr>\n",
       "      <th>2</th>\n",
       "      <td>1</td>\n",
       "      <td>b\"I caught this movie on the Horror Channel an...</td>\n",
       "    </tr>\n",
       "    <tr>\n",
       "      <th>3</th>\n",
       "      <td>0</td>\n",
       "      <td>b'NBC had a chance to make a powerful religiou...</td>\n",
       "    </tr>\n",
       "    <tr>\n",
       "      <th>4</th>\n",
       "      <td>0</td>\n",
       "      <td>b\"Looking for something shocking? Okay fine......</td>\n",
       "    </tr>\n",
       "  </tbody>\n",
       "</table>\n",
       "</div>"
      ],
      "text/plain": [
       "   scores                                               text\n",
       "0       1  b\"Don't hate Heather Graham because she's beau...\n",
       "1       0  b'I don\\'t know how this movie has received so...\n",
       "2       1  b\"I caught this movie on the Horror Channel an...\n",
       "3       0  b'NBC had a chance to make a powerful religiou...\n",
       "4       0  b\"Looking for something shocking? Okay fine......"
      ]
     },
     "metadata": {},
     "output_type": "display_data"
    }
   ],
   "source": [
    "from src import IMDBDataSet\n",
    "from IPython.display import display\n",
    "\n",
    "train = IMDBDataSet.load_data('../data/aclImdb/train', limit=RECORDS)\n",
    "test = IMDBDataSet.load_data('../data/aclImdb/test', limit=RECORDS)\n",
    "display(train.head())\n",
    "display(test.head())"
   ]
  },
  {
   "cell_type": "code",
   "execution_count": 5,
   "metadata": {},
   "outputs": [
    {
     "data": {
      "text/plain": [
       "count    25000.000000\n",
       "mean       233.776720\n",
       "std        173.715418\n",
       "min         10.000000\n",
       "25%        127.000000\n",
       "50%        174.000000\n",
       "75%        284.000000\n",
       "max       2470.000000\n",
       "Name: text, dtype: float64"
      ]
     },
     "metadata": {},
     "output_type": "display_data"
    },
    {
     "data": {
      "text/plain": [
       "Text(0,0.5,'Count')"
      ]
     },
     "execution_count": 5,
     "metadata": {},
     "output_type": "execute_result"
    },
    {
     "data": {
      "image/png": "[encoded data removed]",
      "text/plain": [
       "<matplotlib.figure.Figure at 0x7f146d16dcc0>"
      ]
     },
     "metadata": {},
     "output_type": "display_data"
    }
   ],
   "source": [
    "word_counts = train.text.apply(lambda t: len(t.split()))\n",
    "display(word_counts.describe())\n",
    "plt.hist(word_counts)\n",
    "plt.title('Histogram of Word Counts in dataset')\n",
    "plt.xlabel('Score')\n",
    "plt.ylabel('Count')"
   ]
  },
  {
   "cell_type": "code",
   "execution_count": 6,
   "metadata": {},
   "outputs": [
    {
     "data": {
      "text/plain": [
       "Text(0,0.5,'Count')"
      ]
     },
     "execution_count": 6,
     "metadata": {},
     "output_type": "execute_result"
    },
    {
     "data": {
      "image/png": "[encoded data removed]",
      "text/plain": [
       "<matplotlib.figure.Figure at 0x7f146d16da58>"
      ]
     },
     "metadata": {},
     "output_type": "display_data"
    }
   ],
   "source": [
    "plt.hist(train.scores)\n",
    "plt.title('Histogram of Scores in dataset')\n",
    "plt.xlabel('Score')\n",
    "plt.ylabel('Count')"
   ]
  },
  {
   "cell_type": "code",
   "execution_count": 7,
   "metadata": {},
   "outputs": [
    {
     "data": {
      "text/plain": [
       "Text(0,0.5,'Count')"
      ]
     },
     "execution_count": 7,
     "metadata": {},
     "output_type": "execute_result"
    },
    {
     "data": {
      "image/png": "[encoded data removed]",
      "text/plain": [
       "<matplotlib.figure.Figure at 0x7f146d16d2e8>"
      ]
     },
     "metadata": {},
     "output_type": "display_data"
    }
   ],
   "source": [
    "plt.hist(test.scores)\n",
    "plt.title('Histogram of Scores in dataset')\n",
    "plt.xlabel('Score')\n",
    "plt.ylabel('Count')"
   ]
  },
  {
   "cell_type": "code",
   "execution_count": 14,
   "metadata": {},
   "outputs": [],
   "source": [
    "from src import apply_middlewares, middleware\n",
    "\n",
    "\n",
    "def apply_common_middleware(dataset, padding_length=200):\n",
    "    clear_text_middleware = middleware.ClearTextMiddleware()\n",
    "    binarize_labels_middleware = middleware.BinarizeLabelsMiddleware(threshold=3)\n",
    "    nlp_middleware = middleware.WordsToNlpIndexMiddleware(nlp)\n",
    "    input_middleware = middleware.NlpIndexToInputVectorMiddleware(nlp, padding_length=padding_length)\n",
    "    cache_middleware = middleware.CacheMiddleware('../dist/data')\n",
    "\n",
    "    return apply_middlewares(dataset, [\n",
    "        clear_text_middleware,\n",
    "        binarize_labels_middleware,\n",
    "        nlp_middleware,\n",
    "        cache_middleware,\n",
    "        input_middleware\n",
    "    ])\n",
    "\n",
    "\n",
    "# middleware for data processing, caching etc\n",
    "train_with_middleware = apply_common_middleware(train, padding_length=MAX_WORDS_IN_SENTENCE)\n",
    "test_with_middleware = apply_common_middleware(test, padding_length=MAX_WORDS_IN_SENTENCE)\n",
    "\n",
    "\n",
    "n_train_batches, train_generator = train_with_middleware.to_generator(batch_size=128)\n",
    "n_test_batches, test_generator = test_with_middleware.to_generator(batch_size=128)"
   ]
  },
  {
   "cell_type": "code",
   "execution_count": 9,
   "metadata": {},
   "outputs": [],
   "source": [
    "from keras.layers import Dense, Conv1D, BatchNormalization, GlobalMaxPooling1D, \\\n",
    "    Activation, Dropout, MaxPooling1D, Input, concatenate\n",
    "from keras.models import Sequential \n",
    "from keras.regularizers import l2\n",
    "\n",
    "def build_conv1d(max_len=MAX_WORDS_IN_SENTENCE, embedding_dim=300, filters=32, kernel_size=5, l2_weight=0.001,\n",
    "                 dropout_rate=0.7):\n",
    "    model = Sequential([\n",
    "        Conv1D(\n",
    "            filters, kernel_size, strides=1, kernel_regularizer=l2(l2_weight),\n",
    "            input_shape=(max_len, embedding_dim), padding='valid', activation='relu'),\n",
    "        MaxPooling1D(5),\n",
    "        BatchNormalization(),\n",
    "        Conv1D(\n",
    "            2 * filters, kernel_size, strides=1, kernel_regularizer=l2(l2_weight),\n",
    "            input_shape=(max_len, embedding_dim), padding='valid', activation='relu'),\n",
    "        GlobalMaxPooling1D(),\n",
    "        BatchNormalization(),\n",
    "        Dropout(dropout_rate),\n",
    "        Dense(1, kernel_regularizer=l2(l2_weight)),\n",
    "    ])\n",
    "    model.compile(loss='mean_squared_error', optimizer='adam', metrics=['accuracy'])\n",
    "    return model"
   ]
  },
  {
   "cell_type": "code",
   "execution_count": 10,
   "metadata": {},
   "outputs": [
    {
     "name": "stdout",
     "output_type": "stream",
     "text": [
      "_________________________________________________________________\n",
      "Layer (type)                 Output Shape              Param #   \n",
      "=================================================================\n",
      "conv1d_1 (Conv1D)            (None, 196, 32)           48032     \n",
      "_________________________________________________________________\n",
      "max_pooling1d_1 (MaxPooling1 (None, 39, 32)            0         \n",
      "_________________________________________________________________\n",
      "batch_normalization_1 (Batch (None, 39, 32)            128       \n",
      "_________________________________________________________________\n",
      "conv1d_2 (Conv1D)            (None, 35, 64)            10304     \n",
      "_________________________________________________________________\n",
      "global_max_pooling1d_1 (Glob (None, 64)                0         \n",
      "_________________________________________________________________\n",
      "batch_normalization_2 (Batch (None, 64)                256       \n",
      "_________________________________________________________________\n",
      "dropout_1 (Dropout)          (None, 64)                0         \n",
      "_________________________________________________________________\n",
      "dense_1 (Dense)              (None, 1)                 65        \n",
      "=================================================================\n",
      "Total params: 58,785\n",
      "Trainable params: 58,593\n",
      "Non-trainable params: 192\n",
      "_________________________________________________________________\n"
     ]
    }
   ],
   "source": [
    "model = build_conv1d()\n",
    "model.summary()"
   ]
  },
  {
   "cell_type": "code",
   "execution_count": 15,
   "metadata": {},
   "outputs": [
    {
     "name": "stdout",
     "output_type": "stream",
     "text": [
      "Epoch 1/5\n",
      "Data loaded from data_6895568a.h5\n",
      "195/196 [============================>.] - ETA: 0s - loss: 3.6211 - acc: 0.2506Data loaded from data_f82e9e9a.h5\n",
      "196/196 [==============================] - 23s 117ms/step - loss: 3.6083 - acc: 0.2509 - val_loss: 0.1623 - val_acc: 0.9630\n",
      "Epoch 2/5\n",
      "196/196 [==============================] - 16s 84ms/step - loss: 0.7017 - acc: 0.5595 - val_loss: 0.1223 - val_acc: 0.9996\n",
      "Epoch 3/5\n",
      "196/196 [==============================] - 16s 84ms/step - loss: 0.2013 - acc: 0.9001 - val_loss: 0.1064 - val_acc: 1.0000\n",
      "Epoch 4/5\n",
      "196/196 [==============================] - 17s 86ms/step - loss: 0.1156 - acc: 0.9976 - val_loss: 0.1021 - val_acc: 1.0000\n",
      "Epoch 5/5\n",
      "196/196 [==============================] - 17s 89ms/step - loss: 0.1022 - acc: 1.0000 - val_loss: 0.1000 - val_acc: 1.0000\n"
     ]
    }
   ],
   "source": [
    "history = model.fit_generator(\n",
    "    train_generator,\n",
    "    steps_per_epoch=n_train_batches,\n",
    "    epochs=5,\n",
    "    verbose=1,\n",
    "    validation_data=test_generator,\n",
    "    validation_steps=n_test_batches)"
   ]
  },
  {
   "cell_type": "code",
   "execution_count": 17,
   "metadata": {},
   "outputs": [
    {
     "data": {
      "text/plain": [
       "[<matplotlib.lines.Line2D at 0x7f145c292748>]"
      ]
     },
     "execution_count": 17,
     "metadata": {},
     "output_type": "execute_result"
    },
    {
     "data": {
      "image/png": "[encoded data removed]",
      "text/plain": [
       "<matplotlib.figure.Figure at 0x7f146c1ff828>"
      ]
     },
     "metadata": {},
     "output_type": "display_data"
    }
   ],
   "source": [
    "plt.plot(history.history['loss'], c='red')\n",
    "plt.plot(history.history['val_loss'], c='blue')"
   ]
  },
  {
   "cell_type": "code",
   "execution_count": 18,
   "metadata": {},
   "outputs": [],
   "source": [
    "model.save('../dist/models/model_conv1d_imdb.h5')"
   ]
  },
  {
   "cell_type": "code",
   "execution_count": 20,
   "metadata": {},
   "outputs": [],
   "source": [
    "data, labels = test_with_middleware.get_data_and_labels(batch_slice=slice(0, 5))"
   ]
  },
  {
   "cell_type": "code",
   "execution_count": 24,
   "metadata": {},
   "outputs": [
    {
     "data": {
      "text/plain": [
       "array([[-0.00095111]], dtype=float32)"
      ]
     },
     "execution_count": 24,
     "metadata": {},
     "output_type": "execute_result"
    }
   ],
   "source": [
    "model.predict(data[:1])"
   ]
  }
 ],
 "metadata": {
  "kernelspec": {
   "display_name": "Python 3",
   "language": "python",
   "name": "python3"
  },
  "language_info": {
   "codemirror_mode": {
    "name": "ipython",
    "version": 3
   },
   "file_extension": ".py",
   "mimetype": "text/x-python",
   "name": "python",
   "nbconvert_exporter": "python",
   "pygments_lexer": "ipython3",
   "version": "3.5.2"
  }
 },
 "nbformat": 4,
 "nbformat_minor": 2
}
