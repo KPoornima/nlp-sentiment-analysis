{
 "cells": [
  {
   "cell_type": "code",
   "execution_count": 1,
   "metadata": {
    "scrolled": false
   },
   "outputs": [
    {
     "name": "stderr",
     "output_type": "stream",
     "text": [
      "Using TensorFlow backend.\n"
     ]
    }
   ],
   "source": [
    "import spacy\n",
    "import numpy as np\n",
    "from keras.preprocessing import sequence\n",
    "import pandas as pd\n",
    "import matplotlib.pyplot as plt\n",
    "import h5py"
   ]
  },
  {
   "cell_type": "code",
   "execution_count": 2,
   "metadata": {},
   "outputs": [],
   "source": [
    "RECORDS = None  # None means 'load all'\n",
    "COLUMN = 'Text'\n",
    "MAX_WORDS_IN_SENTENCE = 200"
   ]
  },
  {
   "cell_type": "code",
   "execution_count": 3,
   "metadata": {},
   "outputs": [],
   "source": [
    "nlp = spacy.load('en_vectors_web_lg')"
   ]
  },
  {
   "cell_type": "code",
   "execution_count": 4,
   "metadata": {},
   "outputs": [],
   "source": [
    "import sqlite3\n",
    "import re\n",
    "\n",
    "def clear_text(text):\n",
    "    only_alpha_regex = re.compile(r'[^\\w+ ]')\n",
    "    return only_alpha_regex.sub('', text)\n",
    "\n",
    "\n",
    "def get_query(count, text_column):\n",
    "    query = \"\"\"\n",
    "    SELECT Score, lower({}) as Text\n",
    "    FROM Reviews\n",
    "    WHERE Score != 3\n",
    "    \"\"\".format(text_column)\n",
    "    if count is not None:\n",
    "        query += \" LIMIT {}\".format(count)\n",
    "    return query\n",
    "\n",
    "\n",
    "def describe_data(messages):\n",
    "    from IPython.display import display\n",
    "    display(\"First 10 rows\")\n",
    "    display(messages.head(10))\n",
    "    \n",
    "    display(\"Words statistics\")\n",
    "    display(messages['Text'].apply(lambda x: len(x.split())).describe())\n",
    "\n",
    "\n",
    "def load_data(count=None, text_column='Text'):\n",
    "    connection = sqlite3.connect('../data/database.sqlite')\n",
    "    query = get_query(count, text_column)\n",
    "    messages = pd.read_sql_query(query, connection)\n",
    "\n",
    "    messages['Label'] = messages.apply(lambda x: int(x['Score'] > 3), axis=1)\n",
    "    messages['Text'] = messages['Text'].apply(clear_text)\n",
    "    describe_data(messages)\n",
    "    return messages\n"
   ]
  },
  {
   "cell_type": "code",
   "execution_count": 5,
   "metadata": {},
   "outputs": [
    {
     "name": "stderr",
     "output_type": "stream",
     "text": [
      "/usr/local/lib/python3.5/dist-packages/sklearn/cross_validation.py:41: DeprecationWarning: This module was deprecated in version 0.18 in favor of the model_selection module into which all the refactored classes and functions are moved. Also note that the interface of the new CV iterators are different from that of this module. This module will be removed in 0.20.\n",
      "  \"This module will be removed in 0.20.\", DeprecationWarning)\n"
     ]
    }
   ],
   "source": [
    "import os\n",
    "\n",
    "from sklearn.cross_validation import train_test_split\n",
    "\n",
    "\n",
    "def text_to_tokens(text):\n",
    "    processed_text = nlp(text)\n",
    "    tokens = [w.lex_id for w in processed_text if (w.is_stop is False and str(w).isalnum())]\n",
    "    return tokens\n",
    "\n",
    "\n",
    "def get_cache_filename(prefix, **kwargs):\n",
    "    params = [str(kwargs[k]) for k in sorted(kwargs.keys()) if kwargs[k]]\n",
    "    return \"{}_{}.h5\".format(prefix, '_'.join(params))\n",
    "\n",
    "\n",
    "def preprocess_and_save_to_file(records, labels, filename):\n",
    "    tokens = records.apply(text_to_tokens)\n",
    "    tokens.to_hdf(filename, 'tokens', mode='w')\n",
    "    labels.to_hdf(filename, 'labels', mode='a')\n",
    "    return tokens, labels\n",
    "\n",
    "\n",
    "def load_data_from_file(filepath):\n",
    "    tokens = pd.read_hdf(filepath, 'tokens')\n",
    "    labels = pd.read_hdf(filepath, 'labels')\n",
    "    return tokens, labels\n",
    "\n",
    "\n",
    "def get_data(count=None, column='Text'):\n",
    "    filename = get_cache_filename('preprocessed_data', count=count, column=column)\n",
    "    filepath = os.path.join('../data', filename)\n",
    "    try:\n",
    "        tokens, labels = load_data_from_file(filepath)\n",
    "    except:\n",
    "        messages = load_data(count, column)\n",
    "        text = messages['Text']\n",
    "        labels = messages['Label']\n",
    "        tokens, labels = preprocess_and_save_to_file(text, labels, filepath)\n",
    "    return tokens, labels"
   ]
  },
  {
   "cell_type": "code",
   "execution_count": 6,
   "metadata": {},
   "outputs": [],
   "source": [
    "from itertools import cycle\n",
    "\n",
    "\n",
    "def word_to_vector(nlp, word):\n",
    "    try:\n",
    "        return nlp.vocab.vectors.data[word]\n",
    "    except IndexError:\n",
    "        return None\n",
    "\n",
    "def sentence_to_vectors(nlp, sentence):\n",
    "    word_vectors = [word_to_vector(nlp, word) for word in sentence]\n",
    "    return [word_vector for word_vector in word_vectors if isinstance(word_vector, np.ndarray)]\n",
    "\n",
    "def get_batch_ids(ids, batch_size):\n",
    "    n_batches = len(ids) // batch_size\n",
    "    indices = [\n",
    "        slice(i * batch_size, (i + 1) * batch_size)\n",
    "        for i in range(n_batches)\n",
    "    ]\n",
    "    if len(ids) % batch_size:  # if list cannot be split equally, the remainder is yielded\n",
    "        indices += [slice(n_batches * batch_size, len(ids))]\n",
    "    return indices\n",
    "\n",
    "def process_single_batch(tokens, max_len):\n",
    "    word_vectors = [sentence_to_vectors(nlp, sentence) for sentence in tokens]\n",
    "    word_vectors = sequence.pad_sequences(word_vectors, maxlen=max_len, dtype='float32')\n",
    "    return word_vectors\n",
    "\n",
    "def get_data_generator(nlp, inputs, labels, batch_size, max_len):\n",
    "    indices = get_batch_ids(range(len(inputs)), batch_size)\n",
    "    n_batches = len(indices)\n",
    "    \n",
    "    def batch_generator():\n",
    "        for batch_indices in cycle(indices):\n",
    "            batch_inputs = inputs[batch_indices]\n",
    "            batch_labels = labels[batch_indices]\n",
    "            word_vectors = process_single_batch(batch_inputs, max_len)\n",
    "            yield word_vectors, np.array(batch_labels)\n",
    "            \n",
    "    return n_batches, batch_generator()"
   ]
  },
  {
   "cell_type": "code",
   "execution_count": 7,
   "metadata": {},
   "outputs": [],
   "source": [
    "X, y = get_data(count=RECORDS, column=COLUMN)\n",
    "\n",
    "X_train, X_test, y_train, y_test = train_test_split(X, y, random_state=0)\n",
    "\n",
    "n_train_batches, train_generator = get_data_generator(\n",
    "    nlp, X_train, y_train, batch_size=128, max_len=MAX_WORDS_IN_SENTENCE)\n",
    "n_test_batches, test_generator = get_data_generator(\n",
    "    nlp, X_test, y_test, batch_size=128, max_len=MAX_WORDS_IN_SENTENCE)"
   ]
  },
  {
   "cell_type": "code",
   "execution_count": 8,
   "metadata": {},
   "outputs": [],
   "source": [
    "from keras.layers import Dense, Conv1D, BatchNormalization, GlobalMaxPooling1D, \\\n",
    "    Activation, Dropout, MaxPooling1D, Input, concatenate\n",
    "from keras.models import Sequential \n",
    "from keras.regularizers import l2\n",
    "\n",
    "def build_conv1d(max_len=MAX_WORDS_IN_SENTENCE, embedding_dim=300, filters=32, kernel_size=5, l2_weight=0.001,\n",
    "                 dropout_rate=0.7):\n",
    "    model = Sequential([\n",
    "        Conv1D(\n",
    "            filters, kernel_size, strides=1, kernel_regularizer=l2(l2_weight),\n",
    "            input_shape=(max_len, embedding_dim), padding='valid', activation='relu'),\n",
    "        MaxPooling1D(5),\n",
    "        BatchNormalization(),\n",
    "        Conv1D(\n",
    "            2 * filters, kernel_size, strides=1, kernel_regularizer=l2(l2_weight),\n",
    "            input_shape=(max_len, embedding_dim), padding='valid', activation='relu'),\n",
    "        GlobalMaxPooling1D(),\n",
    "        BatchNormalization(),\n",
    "        Dropout(dropout_rate),\n",
    "        Dense(1, kernel_regularizer=l2(l2_weight)),\n",
    "    ])\n",
    "    model.compile(loss='mean_squared_error', optimizer='adam', metrics=['accuracy'])\n",
    "    return model"
   ]
  },
  {
   "cell_type": "code",
   "execution_count": 9,
   "metadata": {},
   "outputs": [],
   "source": [
    "model = build_conv1d()"
   ]
  },
  {
   "cell_type": "code",
   "execution_count": 10,
   "metadata": {},
   "outputs": [
    {
     "name": "stdout",
     "output_type": "stream",
     "text": [
      "_________________________________________________________________\n",
      "Layer (type)                 Output Shape              Param #   \n",
      "=================================================================\n",
      "conv1d_1 (Conv1D)            (None, 196, 32)           48032     \n",
      "_________________________________________________________________\n",
      "max_pooling1d_1 (MaxPooling1 (None, 39, 32)            0         \n",
      "_________________________________________________________________\n",
      "batch_normalization_1 (Batch (None, 39, 32)            128       \n",
      "_________________________________________________________________\n",
      "conv1d_2 (Conv1D)            (None, 35, 64)            10304     \n",
      "_________________________________________________________________\n",
      "global_max_pooling1d_1 (Glob (None, 64)                0         \n",
      "_________________________________________________________________\n",
      "batch_normalization_2 (Batch (None, 64)                256       \n",
      "_________________________________________________________________\n",
      "dropout_1 (Dropout)          (None, 64)                0         \n",
      "_________________________________________________________________\n",
      "dense_1 (Dense)              (None, 1)                 65        \n",
      "=================================================================\n",
      "Total params: 58,785\n",
      "Trainable params: 58,593\n",
      "Non-trainable params: 192\n",
      "_________________________________________________________________\n"
     ]
    }
   ],
   "source": [
    "model.summary()"
   ]
  },
  {
   "cell_type": "code",
   "execution_count": 11,
   "metadata": {},
   "outputs": [
    {
     "name": "stdout",
     "output_type": "stream",
     "text": [
      "Epoch 1/5\n",
      "3081/3081 [==============================] - 130s 42ms/step - loss: 0.5070 - acc: 0.7665 - val_loss: 0.1518 - val_acc: 0.8888\n",
      "Epoch 2/5\n",
      "3081/3081 [==============================] - 134s 43ms/step - loss: 0.1239 - acc: 0.8915 - val_loss: 0.0904 - val_acc: 0.9083\n",
      "Epoch 3/5\n",
      "3081/3081 [==============================] - 130s 42ms/step - loss: 0.0911 - acc: 0.8993 - val_loss: 0.0851 - val_acc: 0.9087\n",
      "Epoch 4/5\n",
      "3081/3081 [==============================] - 132s 43ms/step - loss: 0.0899 - acc: 0.8993 - val_loss: 0.0844 - val_acc: 0.9068\n",
      "Epoch 5/5\n",
      "3081/3081 [==============================] - 129s 42ms/step - loss: 0.0886 - acc: 0.8990 - val_loss: 0.0833 - val_acc: 0.9071\n"
     ]
    }
   ],
   "source": [
    "history = model.fit_generator(\n",
    "    train_generator,\n",
    "    steps_per_epoch=n_train_batches,\n",
    "    epochs=5,\n",
    "    verbose=1,\n",
    "    validation_data=test_generator,\n",
    "    validation_steps=n_test_batches)"
   ]
  },
  {
   "cell_type": "code",
   "execution_count": 12,
   "metadata": {
    "scrolled": false
   },
   "outputs": [
    {
     "data": {
      "image/png": "[encoded data removed]",
      "text/plain": [
       "<matplotlib.figure.Figure at 0x7fd59b355be0>"
      ]
     },
     "metadata": {},
     "output_type": "display_data"
    }
   ],
   "source": [
    "%matplotlib inline\n",
    "import matplotlib.pyplot as plt\n",
    "\n",
    "plt.plot(history.history['loss'], c='red')\n",
    "_ = plt.plot(history.history['val_loss'], c='blue')"
   ]
  },
  {
   "cell_type": "code",
   "execution_count": 14,
   "metadata": {},
   "outputs": [],
   "source": [
    "filename = get_cache_filename('model', records=RECORDS, column=COLUMN, max_words=MAX_WORDS_IN_SENTENCE)\n",
    "filepath = os.path.join('../models', filename)\n",
    "model.save(filepath)"
   ]
  },
  {
   "cell_type": "code",
   "execution_count": null,
   "metadata": {},
   "outputs": [],
   "source": []
  }
 ],
 "metadata": {
  "kernelspec": {
   "display_name": "Python 3",
   "language": "python",
   "name": "python3"
  },
  "language_info": {
   "codemirror_mode": {
    "name": "ipython",
    "version": 3
   },
   "file_extension": ".py",
   "mimetype": "text/x-python",
   "name": "python",
   "nbconvert_exporter": "python",
   "pygments_lexer": "ipython3",
   "version": "3.5.2"
  }
 },
 "nbformat": 4,
 "nbformat_minor": 2
}
