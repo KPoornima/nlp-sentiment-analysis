{
 "cells": [
  {
   "cell_type": "code",
   "execution_count": 17,
   "metadata": {},
   "outputs": [],
   "source": [
    "%reload_ext autoreload\n",
    "%autoreload 2\n",
    "\n",
    "import numpy as np\n",
    "from IPython.display import display_markdown"
   ]
  },
  {
   "cell_type": "code",
   "execution_count": 2,
   "metadata": {},
   "outputs": [],
   "source": [
    "import en_vectors_web_lg\n",
    "nlp = en_vectors_web_lg.load()"
   ]
  },
  {
   "cell_type": "code",
   "execution_count": 3,
   "metadata": {},
   "outputs": [],
   "source": [
    "MAX_WORDS_IN_SENTENCE = 200\n",
    "TEXT_COLUMN = \"Text\"\n",
    "LIMIT = -1\n",
    "dataset_id = 'food_{}_{}'.format(TEXT_COLUMN.lower(), LIMIT if LIMIT > 0 else 'all')"
   ]
  },
  {
   "cell_type": "code",
   "execution_count": 4,
   "metadata": {},
   "outputs": [],
   "source": [
    "from sklearn.model_selection import train_test_split\n",
    "from shared.data import load_fine_food_reviews\n",
    "\n",
    "X, y = load_fine_food_reviews(limit=LIMIT, text_column=TEXT_COLUMN)\n",
    "\n",
    "# we're limiting test count to 2000 due to memory problems with higher values\n",
    "indices = np.arange(len(X))\n",
    "test_count = min(2000, int(0.25 * len(X)))\n",
    "idx_train, idx_test = train_test_split(indices, test_size=test_count, random_state=42)"
   ]
  },
  {
   "cell_type": "code",
   "execution_count": 5,
   "metadata": {
    "scrolled": false
   },
   "outputs": [
    {
     "data": {
      "text/markdown": [
       "### Data sample"
      ]
     },
     "metadata": {},
     "output_type": "display_data"
    },
    {
     "data": {
      "text/html": [
       "<div>\n",
       "<style scoped>\n",
       "    .dataframe tbody tr th:only-of-type {\n",
       "        vertical-align: middle;\n",
       "    }\n",
       "\n",
       "    .dataframe tbody tr th {\n",
       "        vertical-align: top;\n",
       "    }\n",
       "\n",
       "    .dataframe thead th {\n",
       "        text-align: right;\n",
       "    }\n",
       "</style>\n",
       "<table border=\"1\" class=\"dataframe\">\n",
       "  <thead>\n",
       "    <tr style=\"text-align: right;\">\n",
       "      <th></th>\n",
       "      <th>X</th>\n",
       "      <th>y</th>\n",
       "    </tr>\n",
       "  </thead>\n",
       "  <tbody>\n",
       "    <tr>\n",
       "      <th>0</th>\n",
       "      <td>i have bought several of the vitality canned d...</td>\n",
       "      <td>1</td>\n",
       "    </tr>\n",
       "    <tr>\n",
       "      <th>1</th>\n",
       "      <td>product arrived labeled as jumbo salted peanut...</td>\n",
       "      <td>0</td>\n",
       "    </tr>\n",
       "    <tr>\n",
       "      <th>2</th>\n",
       "      <td>this is a confection that has been around a fe...</td>\n",
       "      <td>1</td>\n",
       "    </tr>\n",
       "    <tr>\n",
       "      <th>3</th>\n",
       "      <td>if you are looking for the secret ingredient i...</td>\n",
       "      <td>0</td>\n",
       "    </tr>\n",
       "    <tr>\n",
       "      <th>4</th>\n",
       "      <td>great taffy at a great price.  there was a wid...</td>\n",
       "      <td>1</td>\n",
       "    </tr>\n",
       "    <tr>\n",
       "      <th>5</th>\n",
       "      <td>i got a wild hair for taffy and ordered this f...</td>\n",
       "      <td>1</td>\n",
       "    </tr>\n",
       "    <tr>\n",
       "      <th>6</th>\n",
       "      <td>this saltwater taffy had great flavors and was...</td>\n",
       "      <td>1</td>\n",
       "    </tr>\n",
       "    <tr>\n",
       "      <th>7</th>\n",
       "      <td>this taffy is so good.  it is very soft and ch...</td>\n",
       "      <td>1</td>\n",
       "    </tr>\n",
       "    <tr>\n",
       "      <th>8</th>\n",
       "      <td>right now i'm mostly just sprouting this so my...</td>\n",
       "      <td>1</td>\n",
       "    </tr>\n",
       "    <tr>\n",
       "      <th>9</th>\n",
       "      <td>this is a very healthy dog food. good for thei...</td>\n",
       "      <td>1</td>\n",
       "    </tr>\n",
       "  </tbody>\n",
       "</table>\n",
       "</div>"
      ],
      "text/plain": [
       "                                                   X  y\n",
       "0  i have bought several of the vitality canned d...  1\n",
       "1  product arrived labeled as jumbo salted peanut...  0\n",
       "2  this is a confection that has been around a fe...  1\n",
       "3  if you are looking for the secret ingredient i...  0\n",
       "4  great taffy at a great price.  there was a wid...  1\n",
       "5  i got a wild hair for taffy and ordered this f...  1\n",
       "6  this saltwater taffy had great flavors and was...  1\n",
       "7  this taffy is so good.  it is very soft and ch...  1\n",
       "8  right now i'm mostly just sprouting this so my...  1\n",
       "9  this is a very healthy dog food. good for thei...  1"
      ]
     },
     "metadata": {},
     "output_type": "display_data"
    },
    {
     "data": {
      "text/markdown": [
       "#### Text stats"
      ]
     },
     "metadata": {},
     "output_type": "display_data"
    },
    {
     "data": {
      "text/plain": [
       "count                                                525814\n",
       "unique                                               363827\n",
       "top       this review will make me sound really stupid, ...\n",
       "freq                                                    199\n",
       "Name: X, dtype: object"
      ]
     },
     "metadata": {},
     "output_type": "display_data"
    },
    {
     "data": {
      "text/markdown": [
       "#### Words length stats"
      ]
     },
     "metadata": {},
     "output_type": "display_data"
    },
    {
     "data": {
      "text/plain": [
       "count    525814.000000\n",
       "mean         79.016667\n",
       "std          78.447587\n",
       "min           3.000000\n",
       "25%          33.000000\n",
       "50%          55.000000\n",
       "75%          96.000000\n",
       "max        2520.000000\n",
       "Name: X, dtype: float64"
      ]
     },
     "metadata": {},
     "output_type": "display_data"
    },
    {
     "data": {
      "text/markdown": [
       "#### Labels stats"
      ]
     },
     "metadata": {},
     "output_type": "display_data"
    },
    {
     "data": {
      "text/plain": [
       "count    525814.000000\n",
       "mean          0.843981\n",
       "std           0.362874\n",
       "min           0.000000\n",
       "25%           1.000000\n",
       "50%           1.000000\n",
       "75%           1.000000\n",
       "max           1.000000\n",
       "Name: y, dtype: float64"
      ]
     },
     "metadata": {},
     "output_type": "display_data"
    },
    {
     "data": {
      "text/markdown": [
       "#### Labels counts"
      ]
     },
     "metadata": {},
     "output_type": "display_data"
    },
    {
     "data": {
      "text/plain": [
       "1    443777\n",
       "0     82037\n",
       "Name: y, dtype: int64"
      ]
     },
     "metadata": {},
     "output_type": "display_data"
    },
    {
     "data": {
      "text/plain": [
       "1    0.843981\n",
       "0    0.156019\n",
       "Name: y, dtype: float64"
      ]
     },
     "metadata": {},
     "output_type": "display_data"
    },
    {
     "data": {
      "text/markdown": [
       "### Train count: 523814"
      ]
     },
     "metadata": {},
     "output_type": "display_data"
    },
    {
     "data": {
      "text/markdown": [
       "### Test count:  2000"
      ]
     },
     "metadata": {},
     "output_type": "display_data"
    }
   ],
   "source": [
    "import pandas as pd\n",
    "data = pd.DataFrame({'X': pd.Series(X), 'y': pd.Series(y[:, 0])})\n",
    "\n",
    "display_markdown(\"### Data sample\", raw=True)\n",
    "display(data.head(10))\n",
    "\n",
    "display_markdown('#### Text stats', raw=True)\n",
    "display(data.X.describe())\n",
    "\n",
    "display_markdown('#### Words length stats', raw=True)\n",
    "display(data.X.apply(lambda w: len(w.split())).describe())\n",
    "\n",
    "display_markdown('#### Labels stats', raw=True)\n",
    "display(data.y.describe())\n",
    "\n",
    "display_markdown('#### Labels counts', raw=True)\n",
    "display(data.y.value_counts())\n",
    "display(data.y.value_counts(normalize=True))\n",
    "\n",
    "display_markdown('### Train count: {}'.format(len(idx_train)), raw=True)\n",
    "display_markdown('### Test count:  {}'.format(len(idx_test)), raw=True)\n",
    "\n",
    "# it's no longer needed, just for presentational purposes\n",
    "del data"
   ]
  },
  {
   "cell_type": "code",
   "execution_count": 16,
   "metadata": {},
   "outputs": [
    {
     "data": {
      "text/markdown": [
       "#### Training or loading model"
      ]
     },
     "metadata": {},
     "output_type": "display_data"
    },
    {
     "name": "stdout",
     "output_type": "stream",
     "text": [
      "Loading model...\n",
      "Unable to load model, training...\n",
      "Epoch 1/5\n",
      "4093/4093 [==============================] - 154s 38ms/step - loss: 0.1098 - acc: 0.8980 - val_loss: 0.0812 - val_acc: 0.9170\n",
      "Epoch 2/5\n",
      "4093/4093 [==============================] - 160s 39ms/step - loss: 0.0748 - acc: 0.9223 - val_loss: 0.1018 - val_acc: 0.8820\n",
      "Epoch 3/5\n",
      "4093/4093 [==============================] - 167s 41ms/step - loss: 0.0720 - acc: 0.9234 - val_loss: 0.0718 - val_acc: 0.9270\n",
      "Epoch 4/5\n",
      "4093/4093 [==============================] - 146s 36ms/step - loss: 0.0702 - acc: 0.9238 - val_loss: 0.0813 - val_acc: 0.9100\n",
      "Epoch 5/5\n",
      "4093/4093 [==============================] - 148s 36ms/step - loss: 0.0693 - acc: 0.9241 - val_loss: 0.0737 - val_acc: 0.9125\n",
      "Model 'keras_food_text_all_b3f214f0.h5' saved\n"
     ]
    },
    {
     "data": {
      "image/png": "[encoded data removed]",
      "text/plain": [
       "<matplotlib.figure.Figure at 0x7f4805d70160>"
      ]
     },
     "metadata": {},
     "output_type": "display_data"
    }
   ],
   "source": [
    "from shared.models import KerasModel\n",
    "from machine_learning.plot_helpers import plot_training\n",
    "\n",
    "display_markdown('#### Training or loading model', raw=True)\n",
    "\n",
    "model = KerasModel(\n",
    "    nlp, dataset_id, \n",
    "    max_words_in_sentence=MAX_WORDS_IN_SENTENCE, \n",
    "    epochs=5)\n",
    "\n",
    "try:\n",
    "    print(\"Loading model...\")\n",
    "    model.load()\n",
    "    print(\"Model '{}' loaded\".format(model.filename))\n",
    "except IOError:\n",
    "    print(\"Unable to load model, training...\")\n",
    "    history = model.train(X, y, idx_train, idx_test)\n",
    "    model.save()\n",
    "    print(\"Model '{}' saved\".format(model.filename))\n",
    "    plot_training(history)"
   ]
  },
  {
   "cell_type": "code",
   "execution_count": 7,
   "metadata": {},
   "outputs": [
    {
     "data": {
      "text/markdown": [
       "#### Overview of created convolutional network architecture"
      ]
     },
     "metadata": {},
     "output_type": "display_data"
    },
    {
     "name": "stdout",
     "output_type": "stream",
     "text": [
      "_________________________________________________________________\n",
      "Layer (type)                 Output Shape              Param #   \n",
      "=================================================================\n",
      "conv1d_1 (Conv1D)            (None, 196, 32)           48032     \n",
      "_________________________________________________________________\n",
      "max_pooling1d_1 (MaxPooling1 (None, 39, 32)            0         \n",
      "_________________________________________________________________\n",
      "batch_normalization_1 (Batch (None, 39, 32)            128       \n",
      "_________________________________________________________________\n",
      "conv1d_2 (Conv1D)            (None, 35, 64)            10304     \n",
      "_________________________________________________________________\n",
      "global_max_pooling1d_1 (Glob (None, 64)                0         \n",
      "_________________________________________________________________\n",
      "batch_normalization_2 (Batch (None, 64)                256       \n",
      "_________________________________________________________________\n",
      "dropout_1 (Dropout)          (None, 64)                0         \n",
      "_________________________________________________________________\n",
      "dense_1 (Dense)              (None, 1)                 65        \n",
      "=================================================================\n",
      "Total params: 58,785\n",
      "Trainable params: 58,593\n",
      "Non-trainable params: 192\n",
      "_________________________________________________________________\n"
     ]
    },
    {
     "data": {
      "text/plain": [
       "None"
      ]
     },
     "metadata": {},
     "output_type": "display_data"
    }
   ],
   "source": [
    "display_markdown(\"#### Overview of created convolutional network architecture\", raw=True)\n",
    "\n",
    "display(model.summary())"
   ]
  },
  {
   "cell_type": "code",
   "execution_count": 15,
   "metadata": {},
   "outputs": [
    {
     "data": {
      "text/markdown": [
       "#### Raw text"
      ]
     },
     "metadata": {},
     "output_type": "display_data"
    },
    {
     "data": {
      "text/plain": [
       "'We went there to eat dinner, and it was delicious'"
      ]
     },
     "metadata": {},
     "output_type": "display_data"
    },
    {
     "data": {
      "text/plain": [
       "\"One of the best suppers I've ever eaten\""
      ]
     },
     "metadata": {},
     "output_type": "display_data"
    },
    {
     "data": {
      "text/plain": [
       "'Totally disgusting dish. I think cook made this with his eyes closed'"
      ]
     },
     "metadata": {},
     "output_type": "display_data"
    },
    {
     "data": {
      "text/markdown": [
       "#### Cleaned text"
      ]
     },
     "metadata": {},
     "output_type": "display_data"
    },
    {
     "data": {
      "text/plain": [
       "'we went there to eat dinner and it was delicious'"
      ]
     },
     "metadata": {},
     "output_type": "display_data"
    },
    {
     "data": {
      "text/plain": [
       "\"one of the best suppers i've ever eaten\""
      ]
     },
     "metadata": {},
     "output_type": "display_data"
    },
    {
     "data": {
      "text/plain": [
       "'totally disgusting dish i think cook made this with his eyes closed'"
      ]
     },
     "metadata": {},
     "output_type": "display_data"
    },
    {
     "data": {
      "text/markdown": [
       "#### Predicted scores"
      ]
     },
     "metadata": {},
     "output_type": "display_data"
    },
    {
     "data": {
      "text/html": [
       "<div>\n",
       "<style scoped>\n",
       "    .dataframe tbody tr th:only-of-type {\n",
       "        vertical-align: middle;\n",
       "    }\n",
       "\n",
       "    .dataframe tbody tr th {\n",
       "        vertical-align: top;\n",
       "    }\n",
       "\n",
       "    .dataframe thead th {\n",
       "        text-align: right;\n",
       "    }\n",
       "</style>\n",
       "<table border=\"1\" class=\"dataframe\">\n",
       "  <thead>\n",
       "    <tr style=\"text-align: right;\">\n",
       "      <th></th>\n",
       "      <th>score</th>\n",
       "      <th>text</th>\n",
       "    </tr>\n",
       "  </thead>\n",
       "  <tbody>\n",
       "    <tr>\n",
       "      <th>0</th>\n",
       "      <td>0.946423</td>\n",
       "      <td>We went there to eat dinner, and it was delicious</td>\n",
       "    </tr>\n",
       "    <tr>\n",
       "      <th>1</th>\n",
       "      <td>0.979501</td>\n",
       "      <td>One of the best suppers I've ever eaten</td>\n",
       "    </tr>\n",
       "    <tr>\n",
       "      <th>2</th>\n",
       "      <td>0.040852</td>\n",
       "      <td>Totally disgusting dish. I think cook made this with his eyes closed</td>\n",
       "    </tr>\n",
       "  </tbody>\n",
       "</table>\n",
       "</div>"
      ],
      "text/plain": [
       "      score  \\\n",
       "0  0.946423   \n",
       "1  0.979501   \n",
       "2  0.040852   \n",
       "\n",
       "                                                                   text  \n",
       "0  We went there to eat dinner, and it was delicious                     \n",
       "1  One of the best suppers I've ever eaten                               \n",
       "2  Totally disgusting dish. I think cook made this with his eyes closed  "
      ]
     },
     "metadata": {},
     "output_type": "display_data"
    }
   ],
   "source": [
    "from sklearn import pipeline\n",
    "from shared import transformers\n",
    "\n",
    "raw_samples = np.array([\n",
    "    \"We went there to eat dinner, and it was delicious\",\n",
    "    \"One of the best suppers I've ever eaten\",\n",
    "    \"Totally disgusting dish. I think cook made this with his eyes closed\"\n",
    "], dtype='object')\n",
    "\n",
    "display_markdown(\"#### Raw text\", raw=True)\n",
    "\n",
    "for text in raw_samples:\n",
    "    display(text)\n",
    "\n",
    "display_markdown(\"#### Cleaned text\", raw=True)\n",
    "\n",
    "clear_pipeline = pipeline.Pipeline([\n",
    "    ('clear', transformers.ClearTextTransformer()),\n",
    "])\n",
    "\n",
    "for text in clear_pipeline.transform(raw_samples):\n",
    "    display(text)\n",
    "\n",
    "display_markdown(\"#### Predicted scores\", raw=True)\n",
    "with pd.option_context(\"display.max_colwidth\", -1):\n",
    "    display(pd.DataFrame({\n",
    "        \"text\": pd.Series(raw_samples),\n",
    "        \"score\": pd.Series(model.predict_proba(raw_samples)[:, 1].reshape(len(raw_samples))),\n",
    "    }))\n"
   ]
  },
  {
   "cell_type": "code",
   "execution_count": 10,
   "metadata": {},
   "outputs": [],
   "source": [
    "from machine_learning.plot_helpers import plot_confusion_matrix, pandas_settings\n",
    "from sklearn.metrics import confusion_matrix, classification_report\n",
    "from sklearn.preprocessing import binarize\n",
    "\n",
    "\n",
    "# if you want to see whole review, change max_coldwith setting to -1\n",
    "@pandas_settings(display__max_colwidth=130, display__float_format = '{:.6f}'.format)\n",
    "def check_model(X_test, y_test, model, show_top_n=5):   \n",
    "    y_pred_proba = model.predict_proba(X_test)[:, 1]\n",
    "    y_pred = binarize(y_pred_proba.reshape(len(y_pred_proba), 1), 0.5)\n",
    "    \n",
    "    dt = pd.DataFrame({\n",
    "        'text': pd.Series(X_test), \n",
    "        'prob': pd.Series(y_pred_proba),\n",
    "        'pred': pd.Series(y_pred.reshape(len(y_pred))),\n",
    "        'real': pd.Series(y_test.reshape(len(y_test)))\n",
    "    })\n",
    "    \n",
    "    display_markdown(\"#### Highest {}\".format(show_top_n), raw=True)\n",
    "    display(dt.nlargest(show_top_n, 'prob'))\n",
    "    \n",
    "    display_markdown(\"#### Lowest {}\".format(show_top_n), raw=True)\n",
    "    display(dt.nsmallest(show_top_n, 'prob'))    \n",
    "    \n",
    "    display_markdown(\"#### Highest {} mispredicted\".format(show_top_n), raw=True)\n",
    "    display(dt[dt.pred != dt.real].nlargest(show_top_n, 'prob'))\n",
    "    \n",
    "    display_markdown(\"#### Lowest {} mispredicted\".format(show_top_n), raw=True)\n",
    "    display(dt[dt.pred != dt.real].nsmallest(show_top_n, 'prob'))    \n",
    "    \n",
    "    display_markdown(\"#### Classification report for {}\".format(model.NAME), raw=True)\n",
    "    classes = ['Negative', 'Positive']    \n",
    "    print(classification_report(y_test, y_pred, target_names=classes))\n",
    "    plot_confusion_matrix(confusion_matrix(y_test, y_pred), classes)"
   ]
  },
  {
   "cell_type": "code",
   "execution_count": 11,
   "metadata": {},
   "outputs": [
    {
     "data": {
      "text/markdown": [
       "#### Highest 5"
      ]
     },
     "metadata": {},
     "output_type": "display_data"
    },
    {
     "data": {
      "text/html": [
       "<div>\n",
       "<style scoped>\n",
       "    .dataframe tbody tr th:only-of-type {\n",
       "        vertical-align: middle;\n",
       "    }\n",
       "\n",
       "    .dataframe tbody tr th {\n",
       "        vertical-align: top;\n",
       "    }\n",
       "\n",
       "    .dataframe thead th {\n",
       "        text-align: right;\n",
       "    }\n",
       "</style>\n",
       "<table border=\"1\" class=\"dataframe\">\n",
       "  <thead>\n",
       "    <tr style=\"text-align: right;\">\n",
       "      <th></th>\n",
       "      <th>pred</th>\n",
       "      <th>prob</th>\n",
       "      <th>real</th>\n",
       "      <th>text</th>\n",
       "    </tr>\n",
       "  </thead>\n",
       "  <tbody>\n",
       "    <tr>\n",
       "      <th>1272</th>\n",
       "      <td>1.000000</td>\n",
       "      <td>0.999965</td>\n",
       "      <td>1</td>\n",
       "      <td>these k-cups are great! the coffee is mild and yummy, but still very flavorful. i love this, cant wait to get my next shipment!</td>\n",
       "    </tr>\n",
       "    <tr>\n",
       "      <th>753</th>\n",
       "      <td>1.000000</td>\n",
       "      <td>0.999963</td>\n",
       "      <td>1</td>\n",
       "      <td>these apple chips are delicious and healthy for you. they are the perfect snack, especially if you are on a gluten free diet. ...</td>\n",
       "    </tr>\n",
       "    <tr>\n",
       "      <th>1206</th>\n",
       "      <td>1.000000</td>\n",
       "      <td>0.999956</td>\n",
       "      <td>1</td>\n",
       "      <td>i love coconut oil for it's high heat tolerance and for putting a great color on veggies but i don't always want the hefty coc...</td>\n",
       "    </tr>\n",
       "    <tr>\n",
       "      <th>1935</th>\n",
       "      <td>1.000000</td>\n",
       "      <td>0.999948</td>\n",
       "      <td>1</td>\n",
       "      <td>fabulous tea! yum! well balanced and flavorful, i like making a large pot at a time. sometimes for a little more \"bite\" or bec...</td>\n",
       "    </tr>\n",
       "    <tr>\n",
       "      <th>144</th>\n",
       "      <td>1.000000</td>\n",
       "      <td>0.999943</td>\n",
       "      <td>1</td>\n",
       "      <td>i generally do not like powdered creamers but coffee mate has the best tasting creamer!! the vanilla is awesome but the vanill...</td>\n",
       "    </tr>\n",
       "  </tbody>\n",
       "</table>\n",
       "</div>"
      ],
      "text/plain": [
       "         pred     prob  real  \\\n",
       "1272 1.000000 0.999965     1   \n",
       "753  1.000000 0.999963     1   \n",
       "1206 1.000000 0.999956     1   \n",
       "1935 1.000000 0.999948     1   \n",
       "144  1.000000 0.999943     1   \n",
       "\n",
       "                                                                                                                                   text  \n",
       "1272    these k-cups are great! the coffee is mild and yummy, but still very flavorful. i love this, cant wait to get my next shipment!  \n",
       "753   these apple chips are delicious and healthy for you. they are the perfect snack, especially if you are on a gluten free diet. ...  \n",
       "1206  i love coconut oil for it's high heat tolerance and for putting a great color on veggies but i don't always want the hefty coc...  \n",
       "1935  fabulous tea! yum! well balanced and flavorful, i like making a large pot at a time. sometimes for a little more \"bite\" or bec...  \n",
       "144   i generally do not like powdered creamers but coffee mate has the best tasting creamer!! the vanilla is awesome but the vanill...  "
      ]
     },
     "metadata": {},
     "output_type": "display_data"
    },
    {
     "data": {
      "text/markdown": [
       "#### Lowest 5"
      ]
     },
     "metadata": {},
     "output_type": "display_data"
    },
    {
     "data": {
      "text/html": [
       "<div>\n",
       "<style scoped>\n",
       "    .dataframe tbody tr th:only-of-type {\n",
       "        vertical-align: middle;\n",
       "    }\n",
       "\n",
       "    .dataframe tbody tr th {\n",
       "        vertical-align: top;\n",
       "    }\n",
       "\n",
       "    .dataframe thead th {\n",
       "        text-align: right;\n",
       "    }\n",
       "</style>\n",
       "<table border=\"1\" class=\"dataframe\">\n",
       "  <thead>\n",
       "    <tr style=\"text-align: right;\">\n",
       "      <th></th>\n",
       "      <th>pred</th>\n",
       "      <th>prob</th>\n",
       "      <th>real</th>\n",
       "      <th>text</th>\n",
       "    </tr>\n",
       "  </thead>\n",
       "  <tbody>\n",
       "    <tr>\n",
       "      <th>1493</th>\n",
       "      <td>0.000000</td>\n",
       "      <td>0.000590</td>\n",
       "      <td>0</td>\n",
       "      <td>i purchased these pepperidge farm cookies for a family member that is sick in the hospital. the cookies had an expiration date...</td>\n",
       "    </tr>\n",
       "    <tr>\n",
       "      <th>17</th>\n",
       "      <td>0.000000</td>\n",
       "      <td>0.000770</td>\n",
       "      <td>0</td>\n",
       "      <td>this coffee smells and tastes absolutely disgusting.  it smells like sugared rubbing alcohol.  it tastes like vomit.  i have n...</td>\n",
       "    </tr>\n",
       "    <tr>\n",
       "      <th>1392</th>\n",
       "      <td>0.000000</td>\n",
       "      <td>0.002541</td>\n",
       "      <td>0</td>\n",
       "      <td>this should be called sad baby--it's awful. my baby absolutely hates it! i tasted a tiny bit&lt;br /&gt;and it was bland to the poin...</td>\n",
       "    </tr>\n",
       "    <tr>\n",
       "      <th>182</th>\n",
       "      <td>0.000000</td>\n",
       "      <td>0.004607</td>\n",
       "      <td>0</td>\n",
       "      <td>this was a waste of money on my part as this powder taste awful in tea, which is why i purchased it. it did not have a honey t...</td>\n",
       "    </tr>\n",
       "    <tr>\n",
       "      <th>825</th>\n",
       "      <td>0.000000</td>\n",
       "      <td>0.004721</td>\n",
       "      <td>0</td>\n",
       "      <td>i think my dog was just too smart for this toy.  i purchased one of the larger ones with the rubber rope.  after 5 minutes of ...</td>\n",
       "    </tr>\n",
       "  </tbody>\n",
       "</table>\n",
       "</div>"
      ],
      "text/plain": [
       "         pred     prob  real  \\\n",
       "1493 0.000000 0.000590     0   \n",
       "17   0.000000 0.000770     0   \n",
       "1392 0.000000 0.002541     0   \n",
       "182  0.000000 0.004607     0   \n",
       "825  0.000000 0.004721     0   \n",
       "\n",
       "                                                                                                                                   text  \n",
       "1493  i purchased these pepperidge farm cookies for a family member that is sick in the hospital. the cookies had an expiration date...  \n",
       "17    this coffee smells and tastes absolutely disgusting.  it smells like sugared rubbing alcohol.  it tastes like vomit.  i have n...  \n",
       "1392  this should be called sad baby--it's awful. my baby absolutely hates it! i tasted a tiny bit<br />and it was bland to the poin...  \n",
       "182   this was a waste of money on my part as this powder taste awful in tea, which is why i purchased it. it did not have a honey t...  \n",
       "825   i think my dog was just too smart for this toy.  i purchased one of the larger ones with the rubber rope.  after 5 minutes of ...  "
      ]
     },
     "metadata": {},
     "output_type": "display_data"
    },
    {
     "data": {
      "text/markdown": [
       "#### Highest 5 mispredicted"
      ]
     },
     "metadata": {},
     "output_type": "display_data"
    },
    {
     "data": {
      "text/html": [
       "<div>\n",
       "<style scoped>\n",
       "    .dataframe tbody tr th:only-of-type {\n",
       "        vertical-align: middle;\n",
       "    }\n",
       "\n",
       "    .dataframe tbody tr th {\n",
       "        vertical-align: top;\n",
       "    }\n",
       "\n",
       "    .dataframe thead th {\n",
       "        text-align: right;\n",
       "    }\n",
       "</style>\n",
       "<table border=\"1\" class=\"dataframe\">\n",
       "  <thead>\n",
       "    <tr style=\"text-align: right;\">\n",
       "      <th></th>\n",
       "      <th>pred</th>\n",
       "      <th>prob</th>\n",
       "      <th>real</th>\n",
       "      <th>text</th>\n",
       "    </tr>\n",
       "  </thead>\n",
       "  <tbody>\n",
       "    <tr>\n",
       "      <th>1714</th>\n",
       "      <td>1.000000</td>\n",
       "      <td>0.998649</td>\n",
       "      <td>0</td>\n",
       "      <td>not so great lemon flavor!&lt;br /&gt;it's very hard to find soy free!&lt;br /&gt;this is a great brand! i prefer the ginger much better t...</td>\n",
       "    </tr>\n",
       "    <tr>\n",
       "      <th>1894</th>\n",
       "      <td>1.000000</td>\n",
       "      <td>0.998151</td>\n",
       "      <td>0</td>\n",
       "      <td>my 10-month old loves these! they are helpful to teach him how to eat and relieve pain from teething, too. look around for a b...</td>\n",
       "    </tr>\n",
       "    <tr>\n",
       "      <th>998</th>\n",
       "      <td>1.000000</td>\n",
       "      <td>0.996062</td>\n",
       "      <td>0</td>\n",
       "      <td>wolfgang puck's \"breakfast in bed\" is a much more flavorful and robust medium roast than this one.</td>\n",
       "    </tr>\n",
       "    <tr>\n",
       "      <th>1717</th>\n",
       "      <td>1.000000</td>\n",
       "      <td>0.994741</td>\n",
       "      <td>0</td>\n",
       "      <td>the first couple of bags were great. really fresh, smooth, great taste. i thought i'd found the perfect coffee bean!! the next...</td>\n",
       "    </tr>\n",
       "    <tr>\n",
       "      <th>1500</th>\n",
       "      <td>1.000000</td>\n",
       "      <td>0.991699</td>\n",
       "      <td>0</td>\n",
       "      <td>i found no benefit in taking the kirkland energy shot where the 5 hour energy has me going in a few of minutes.&lt;br /&gt;&lt;br /&gt;in ...</td>\n",
       "    </tr>\n",
       "  </tbody>\n",
       "</table>\n",
       "</div>"
      ],
      "text/plain": [
       "         pred     prob  real  \\\n",
       "1714 1.000000 0.998649     0   \n",
       "1894 1.000000 0.998151     0   \n",
       "998  1.000000 0.996062     0   \n",
       "1717 1.000000 0.994741     0   \n",
       "1500 1.000000 0.991699     0   \n",
       "\n",
       "                                                                                                                                   text  \n",
       "1714  not so great lemon flavor!<br />it's very hard to find soy free!<br />this is a great brand! i prefer the ginger much better t...  \n",
       "1894  my 10-month old loves these! they are helpful to teach him how to eat and relieve pain from teething, too. look around for a b...  \n",
       "998                                  wolfgang puck's \"breakfast in bed\" is a much more flavorful and robust medium roast than this one.  \n",
       "1717  the first couple of bags were great. really fresh, smooth, great taste. i thought i'd found the perfect coffee bean!! the next...  \n",
       "1500  i found no benefit in taking the kirkland energy shot where the 5 hour energy has me going in a few of minutes.<br /><br />in ...  "
      ]
     },
     "metadata": {},
     "output_type": "display_data"
    },
    {
     "data": {
      "text/markdown": [
       "#### Lowest 5 mispredicted"
      ]
     },
     "metadata": {},
     "output_type": "display_data"
    },
    {
     "data": {
      "text/html": [
       "<div>\n",
       "<style scoped>\n",
       "    .dataframe tbody tr th:only-of-type {\n",
       "        vertical-align: middle;\n",
       "    }\n",
       "\n",
       "    .dataframe tbody tr th {\n",
       "        vertical-align: top;\n",
       "    }\n",
       "\n",
       "    .dataframe thead th {\n",
       "        text-align: right;\n",
       "    }\n",
       "</style>\n",
       "<table border=\"1\" class=\"dataframe\">\n",
       "  <thead>\n",
       "    <tr style=\"text-align: right;\">\n",
       "      <th></th>\n",
       "      <th>pred</th>\n",
       "      <th>prob</th>\n",
       "      <th>real</th>\n",
       "      <th>text</th>\n",
       "    </tr>\n",
       "  </thead>\n",
       "  <tbody>\n",
       "    <tr>\n",
       "      <th>1181</th>\n",
       "      <td>0.000000</td>\n",
       "      <td>0.016157</td>\n",
       "      <td>1</td>\n",
       "      <td>one of the three packs was open before arriving.  the paste was oozing out the side.  i can't return it, and i am having a lot...</td>\n",
       "    </tr>\n",
       "    <tr>\n",
       "      <th>402</th>\n",
       "      <td>0.000000</td>\n",
       "      <td>0.023640</td>\n",
       "      <td>1</td>\n",
       "      <td>these jelly beans are great for a party activity (think harry potter) or as a gag gift. there are 5-6 different colors of jell...</td>\n",
       "    </tr>\n",
       "    <tr>\n",
       "      <th>380</th>\n",
       "      <td>0.000000</td>\n",
       "      <td>0.038121</td>\n",
       "      <td>1</td>\n",
       "      <td>yep, great little convenient packets of stevia for sweetening.  my recommendation would be to use half of a packet at a time. ...</td>\n",
       "    </tr>\n",
       "    <tr>\n",
       "      <th>393</th>\n",
       "      <td>0.000000</td>\n",
       "      <td>0.059590</td>\n",
       "      <td>1</td>\n",
       "      <td>the popcorn is great.  unfortunately, the bags are defective and the buttery flavoring has seeped out thus making the outside ...</td>\n",
       "    </tr>\n",
       "    <tr>\n",
       "      <th>38</th>\n",
       "      <td>0.000000</td>\n",
       "      <td>0.100705</td>\n",
       "      <td>1</td>\n",
       "      <td>we just ordered the \"very berry\" and the \"tropical fruit\" arrived in the same box.&lt;br /&gt;&lt;br /&gt;berry - not crunchy at all. almo...</td>\n",
       "    </tr>\n",
       "  </tbody>\n",
       "</table>\n",
       "</div>"
      ],
      "text/plain": [
       "         pred     prob  real  \\\n",
       "1181 0.000000 0.016157     1   \n",
       "402  0.000000 0.023640     1   \n",
       "380  0.000000 0.038121     1   \n",
       "393  0.000000 0.059590     1   \n",
       "38   0.000000 0.100705     1   \n",
       "\n",
       "                                                                                                                                   text  \n",
       "1181  one of the three packs was open before arriving.  the paste was oozing out the side.  i can't return it, and i am having a lot...  \n",
       "402   these jelly beans are great for a party activity (think harry potter) or as a gag gift. there are 5-6 different colors of jell...  \n",
       "380   yep, great little convenient packets of stevia for sweetening.  my recommendation would be to use half of a packet at a time. ...  \n",
       "393   the popcorn is great.  unfortunately, the bags are defective and the buttery flavoring has seeped out thus making the outside ...  \n",
       "38    we just ordered the \"very berry\" and the \"tropical fruit\" arrived in the same box.<br /><br />berry - not crunchy at all. almo...  "
      ]
     },
     "metadata": {},
     "output_type": "display_data"
    },
    {
     "data": {
      "text/markdown": [
       "#### Classification report for keras"
      ]
     },
     "metadata": {},
     "output_type": "display_data"
    },
    {
     "name": "stdout",
     "output_type": "stream",
     "text": [
      "             precision    recall  f1-score   support\n",
      "\n",
      "   Negative       0.87      0.52      0.65       313\n",
      "   Positive       0.92      0.99      0.95      1687\n",
      "\n",
      "avg / total       0.91      0.91      0.90      2000\n",
      "\n"
     ]
    },
    {
     "data": {
      "image/png": "[encoded data removed]",
      "text/plain": [
       "<matplotlib.figure.Figure at 0x7fb304451a20>"
      ]
     },
     "metadata": {},
     "output_type": "display_data"
    }
   ],
   "source": [
    "check_model(X[idx_test], y[idx_test], model)"
   ]
  },
  {
   "cell_type": "code",
   "execution_count": null,
   "metadata": {},
   "outputs": [],
   "source": []
  }
 ],
 "metadata": {
  "kernelspec": {
   "display_name": "Python 3",
   "language": "python",
   "name": "python3"
  },
  "language_info": {
   "codemirror_mode": {
    "name": "ipython",
    "version": 3
   },
   "file_extension": ".py",
   "mimetype": "text/x-python",
   "name": "python",
   "nbconvert_exporter": "python",
   "pygments_lexer": "ipython3",
   "version": "3.5.2"
  }
 },
 "nbformat": 4,
 "nbformat_minor": 2
}
