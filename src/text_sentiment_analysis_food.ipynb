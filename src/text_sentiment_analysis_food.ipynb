{
 "cells": [
  {
   "cell_type": "code",
   "execution_count": 1,
   "metadata": {},
   "outputs": [],
   "source": [
    "%reload_ext autoreload\n",
    "%autoreload 2\n",
    "\n",
    "import numpy as np\n",
    "from IPython.display import display_markdown"
   ]
  },
  {
   "cell_type": "code",
   "execution_count": 2,
   "metadata": {},
   "outputs": [],
   "source": [
    "import en_vectors_web_lg\n",
    "nlp = en_vectors_web_lg.load()"
   ]
  },
  {
   "cell_type": "code",
   "execution_count": 3,
   "metadata": {},
   "outputs": [],
   "source": [
    "MAX_WORDS_IN_SENTENCE = 200\n",
    "TEXT_COLUMN = \"Text\"\n",
    "LIMIT = -1\n",
    "SAVE_IN_STORE = True\n",
    "dataset_id = 'food_{}_{}'.format(TEXT_COLUMN.lower(), LIMIT if LIMIT > 0 else 'all')"
   ]
  },
  {
   "cell_type": "markdown",
   "metadata": {},
   "source": [
    "## Data loading and preview"
   ]
  },
  {
   "cell_type": "markdown",
   "metadata": {},
   "source": [
    "### Loading"
   ]
  },
  {
   "cell_type": "code",
   "execution_count": 4,
   "metadata": {},
   "outputs": [],
   "source": [
    "from sklearn.model_selection import train_test_split\n",
    "from shared.data import load_fine_food_reviews\n",
    "\n",
    "X, y = load_fine_food_reviews(limit=LIMIT, text_column=TEXT_COLUMN)\n",
    "\n",
    "test_count = min(2000, int(0.25 * len(X)))\n",
    "X_train, X_test, y_train, y_test = train_test_split(X, y, test_size=test_count, random_state=42)"
   ]
  },
  {
   "cell_type": "markdown",
   "metadata": {},
   "source": [
    "### Preview"
   ]
  },
  {
   "cell_type": "code",
   "execution_count": 5,
   "metadata": {
    "scrolled": false
   },
   "outputs": [
    {
     "data": {
      "text/markdown": [
       "### Data sample"
      ]
     },
     "metadata": {},
     "output_type": "display_data"
    },
    {
     "data": {
      "text/html": [
       "<div>\n",
       "<style scoped>\n",
       "    .dataframe tbody tr th:only-of-type {\n",
       "        vertical-align: middle;\n",
       "    }\n",
       "\n",
       "    .dataframe tbody tr th {\n",
       "        vertical-align: top;\n",
       "    }\n",
       "\n",
       "    .dataframe thead th {\n",
       "        text-align: right;\n",
       "    }\n",
       "</style>\n",
       "<table border=\"1\" class=\"dataframe\">\n",
       "  <thead>\n",
       "    <tr style=\"text-align: right;\">\n",
       "      <th></th>\n",
       "      <th>X</th>\n",
       "      <th>y</th>\n",
       "    </tr>\n",
       "  </thead>\n",
       "  <tbody>\n",
       "    <tr>\n",
       "      <th>0</th>\n",
       "      <td>i have bought several of the vitality canned d...</td>\n",
       "      <td>1</td>\n",
       "    </tr>\n",
       "    <tr>\n",
       "      <th>1</th>\n",
       "      <td>product arrived labeled as jumbo salted peanut...</td>\n",
       "      <td>0</td>\n",
       "    </tr>\n",
       "    <tr>\n",
       "      <th>2</th>\n",
       "      <td>this is a confection that has been around a fe...</td>\n",
       "      <td>1</td>\n",
       "    </tr>\n",
       "    <tr>\n",
       "      <th>3</th>\n",
       "      <td>if you are looking for the secret ingredient i...</td>\n",
       "      <td>0</td>\n",
       "    </tr>\n",
       "    <tr>\n",
       "      <th>4</th>\n",
       "      <td>great taffy at a great price.  there was a wid...</td>\n",
       "      <td>1</td>\n",
       "    </tr>\n",
       "    <tr>\n",
       "      <th>5</th>\n",
       "      <td>i got a wild hair for taffy and ordered this f...</td>\n",
       "      <td>1</td>\n",
       "    </tr>\n",
       "    <tr>\n",
       "      <th>6</th>\n",
       "      <td>this saltwater taffy had great flavors and was...</td>\n",
       "      <td>1</td>\n",
       "    </tr>\n",
       "    <tr>\n",
       "      <th>7</th>\n",
       "      <td>this taffy is so good.  it is very soft and ch...</td>\n",
       "      <td>1</td>\n",
       "    </tr>\n",
       "    <tr>\n",
       "      <th>8</th>\n",
       "      <td>right now i'm mostly just sprouting this so my...</td>\n",
       "      <td>1</td>\n",
       "    </tr>\n",
       "    <tr>\n",
       "      <th>9</th>\n",
       "      <td>this is a very healthy dog food. good for thei...</td>\n",
       "      <td>1</td>\n",
       "    </tr>\n",
       "  </tbody>\n",
       "</table>\n",
       "</div>"
      ],
      "text/plain": [
       "                                                   X  y\n",
       "0  i have bought several of the vitality canned d...  1\n",
       "1  product arrived labeled as jumbo salted peanut...  0\n",
       "2  this is a confection that has been around a fe...  1\n",
       "3  if you are looking for the secret ingredient i...  0\n",
       "4  great taffy at a great price.  there was a wid...  1\n",
       "5  i got a wild hair for taffy and ordered this f...  1\n",
       "6  this saltwater taffy had great flavors and was...  1\n",
       "7  this taffy is so good.  it is very soft and ch...  1\n",
       "8  right now i'm mostly just sprouting this so my...  1\n",
       "9  this is a very healthy dog food. good for thei...  1"
      ]
     },
     "metadata": {},
     "output_type": "display_data"
    },
    {
     "data": {
      "text/markdown": [
       "#### Text stats"
      ]
     },
     "metadata": {},
     "output_type": "display_data"
    },
    {
     "data": {
      "text/plain": [
       "count                                                525814\n",
       "unique                                               363827\n",
       "top       this review will make me sound really stupid, ...\n",
       "freq                                                    199\n",
       "Name: X, dtype: object"
      ]
     },
     "metadata": {},
     "output_type": "display_data"
    },
    {
     "data": {
      "text/markdown": [
       "#### Words length stats"
      ]
     },
     "metadata": {},
     "output_type": "display_data"
    },
    {
     "data": {
      "text/plain": [
       "count    525814.000000\n",
       "mean         79.016667\n",
       "std          78.447587\n",
       "min           3.000000\n",
       "25%          33.000000\n",
       "50%          55.000000\n",
       "75%          96.000000\n",
       "max        2520.000000\n",
       "Name: X, dtype: float64"
      ]
     },
     "metadata": {},
     "output_type": "display_data"
    },
    {
     "data": {
      "text/markdown": [
       "#### Labels stats"
      ]
     },
     "metadata": {},
     "output_type": "display_data"
    },
    {
     "data": {
      "text/plain": [
       "count    525814.000000\n",
       "mean          0.843981\n",
       "std           0.362874\n",
       "min           0.000000\n",
       "25%           1.000000\n",
       "50%           1.000000\n",
       "75%           1.000000\n",
       "max           1.000000\n",
       "Name: y, dtype: float64"
      ]
     },
     "metadata": {},
     "output_type": "display_data"
    },
    {
     "data": {
      "text/markdown": [
       "#### Labels counts"
      ]
     },
     "metadata": {},
     "output_type": "display_data"
    },
    {
     "data": {
      "text/plain": [
       "1    443777\n",
       "0     82037\n",
       "Name: y, dtype: int64"
      ]
     },
     "metadata": {},
     "output_type": "display_data"
    },
    {
     "data": {
      "text/plain": [
       "1    0.843981\n",
       "0    0.156019\n",
       "Name: y, dtype: float64"
      ]
     },
     "metadata": {},
     "output_type": "display_data"
    },
    {
     "data": {
      "text/markdown": [
       "### Train count: 523814"
      ]
     },
     "metadata": {},
     "output_type": "display_data"
    },
    {
     "data": {
      "text/markdown": [
       "### Test count:  2000"
      ]
     },
     "metadata": {},
     "output_type": "display_data"
    }
   ],
   "source": [
    "from machine_learning.plot_helpers import describe_data\n",
    "\n",
    "describe_data(X, y)\n",
    "\n",
    "display_markdown('### Train count: {}'.format(len(X_train)), raw=True)\n",
    "display_markdown('### Test count:  {}'.format(len(X_test)), raw=True)"
   ]
  },
  {
   "cell_type": "markdown",
   "metadata": {},
   "source": [
    "## Models"
   ]
  },
  {
   "cell_type": "code",
   "execution_count": 5,
   "metadata": {
    "scrolled": false
   },
   "outputs": [
    {
     "name": "stderr",
     "output_type": "stream",
     "text": [
      "Using TensorFlow backend.\n"
     ]
    }
   ],
   "source": [
    "from shared.models_store import Store\n",
    "from shared import models\n",
    "from machine_learning.plot_helpers import display_example_predictions\n",
    "from machine_learning.evaluation import evaluate_and_report\n",
    "\n",
    "# helper for saving models for reuse in web application\n",
    "store = Store(nlp, '../dist/store.json')\n",
    "input_samples = [\n",
    "    \"We went there to eat dinner, and it was delicious\",\n",
    "    \"One of the best suppers I've ever eaten\",\n",
    "    \"Totally disgusting dish. I think cook made this with his eyes closed\"\n",
    "]\n",
    "\n",
    "def train_model_and_display_results(model, X=X_train, y=y_train, **train_params):\n",
    "    display_markdown('## {}'.format(model.__class__.__name__), raw=True)\n",
    "    display_markdown('#### Training', raw=True)\n",
    "    model.load_or_train(X, y, **train_params)\n",
    "\n",
    "    display_markdown(\"#### Overview of created model\", raw=True)\n",
    "    display(model.summary())\n",
    "\n",
    "    display_markdown('#### Model results', raw=True)\n",
    "    display_example_predictions(model, input_samples)\n",
    "    return evaluate_and_report(model, X_test, y_test)"
   ]
  },
  {
   "cell_type": "code",
   "execution_count": 8,
   "metadata": {
    "scrolled": false
   },
   "outputs": [
    {
     "name": "stdout",
     "output_type": "stream",
     "text": [
      "Loading cached data...\n",
      "Loaded data from 'kerasmodel_food_text_all.h5'\n"
     ]
    },
    {
     "data": {
      "text/markdown": [
       "## KerasModel"
      ]
     },
     "metadata": {},
     "output_type": "display_data"
    },
    {
     "data": {
      "text/markdown": [
       "#### Training"
      ]
     },
     "metadata": {},
     "output_type": "display_data"
    },
    {
     "name": "stdout",
     "output_type": "stream",
     "text": [
      "Loading model...\n",
      "Model 'keras_food_text_all_b3f214f0.h5' loaded\n"
     ]
    },
    {
     "data": {
      "text/markdown": [
       "#### Overview of created model"
      ]
     },
     "metadata": {},
     "output_type": "display_data"
    },
    {
     "name": "stdout",
     "output_type": "stream",
     "text": [
      "_________________________________________________________________\n",
      "Layer (type)                 Output Shape              Param #   \n",
      "=================================================================\n",
      "conv1d_1 (Conv1D)            (None, 196, 32)           48032     \n",
      "_________________________________________________________________\n",
      "max_pooling1d_1 (MaxPooling1 (None, 39, 32)            0         \n",
      "_________________________________________________________________\n",
      "batch_normalization_1 (Batch (None, 39, 32)            128       \n",
      "_________________________________________________________________\n",
      "conv1d_2 (Conv1D)            (None, 35, 64)            10304     \n",
      "_________________________________________________________________\n",
      "global_max_pooling1d_1 (Glob (None, 64)                0         \n",
      "_________________________________________________________________\n",
      "batch_normalization_2 (Batch (None, 64)                256       \n",
      "_________________________________________________________________\n",
      "dropout_1 (Dropout)          (None, 64)                0         \n",
      "_________________________________________________________________\n",
      "dense_1 (Dense)              (None, 1)                 65        \n",
      "=================================================================\n",
      "Total params: 58,785\n",
      "Trainable params: 58,593\n",
      "Non-trainable params: 192\n",
      "_________________________________________________________________\n"
     ]
    },
    {
     "data": {
      "text/plain": [
       "None"
      ]
     },
     "metadata": {},
     "output_type": "display_data"
    },
    {
     "data": {
      "text/markdown": [
       "#### Model results"
      ]
     },
     "metadata": {},
     "output_type": "display_data"
    },
    {
     "data": {
      "text/markdown": [
       "#### Predicted scores"
      ]
     },
     "metadata": {},
     "output_type": "display_data"
    },
    {
     "data": {
      "text/html": [
       "<div>\n",
       "<style scoped>\n",
       "    .dataframe tbody tr th:only-of-type {\n",
       "        vertical-align: middle;\n",
       "    }\n",
       "\n",
       "    .dataframe tbody tr th {\n",
       "        vertical-align: top;\n",
       "    }\n",
       "\n",
       "    .dataframe thead th {\n",
       "        text-align: right;\n",
       "    }\n",
       "</style>\n",
       "<table border=\"1\" class=\"dataframe\">\n",
       "  <thead>\n",
       "    <tr style=\"text-align: right;\">\n",
       "      <th></th>\n",
       "      <th>score</th>\n",
       "      <th>text</th>\n",
       "    </tr>\n",
       "  </thead>\n",
       "  <tbody>\n",
       "    <tr>\n",
       "      <th>0</th>\n",
       "      <td>0.906017</td>\n",
       "      <td>We went there to eat dinner, and it was delicious</td>\n",
       "    </tr>\n",
       "    <tr>\n",
       "      <th>1</th>\n",
       "      <td>0.993009</td>\n",
       "      <td>One of the best suppers I've ever eaten</td>\n",
       "    </tr>\n",
       "    <tr>\n",
       "      <th>2</th>\n",
       "      <td>0.168423</td>\n",
       "      <td>Totally disgusting dish. I think cook made this with his eyes closed</td>\n",
       "    </tr>\n",
       "  </tbody>\n",
       "</table>\n",
       "</div>"
      ],
      "text/plain": [
       "      score  \\\n",
       "0  0.906017   \n",
       "1  0.993009   \n",
       "2  0.168423   \n",
       "\n",
       "                                                                   text  \n",
       "0  We went there to eat dinner, and it was delicious                     \n",
       "1  One of the best suppers I've ever eaten                               \n",
       "2  Totally disgusting dish. I think cook made this with his eyes closed  "
      ]
     },
     "metadata": {},
     "output_type": "display_data"
    },
    {
     "data": {
      "text/markdown": [
       "#### Highest 5"
      ]
     },
     "metadata": {},
     "output_type": "display_data"
    },
    {
     "data": {
      "text/html": [
       "<div>\n",
       "<style scoped>\n",
       "    .dataframe tbody tr th:only-of-type {\n",
       "        vertical-align: middle;\n",
       "    }\n",
       "\n",
       "    .dataframe tbody tr th {\n",
       "        vertical-align: top;\n",
       "    }\n",
       "\n",
       "    .dataframe thead th {\n",
       "        text-align: right;\n",
       "    }\n",
       "</style>\n",
       "<table border=\"1\" class=\"dataframe\">\n",
       "  <thead>\n",
       "    <tr style=\"text-align: right;\">\n",
       "      <th></th>\n",
       "      <th>pred</th>\n",
       "      <th>prob</th>\n",
       "      <th>real</th>\n",
       "      <th>text</th>\n",
       "    </tr>\n",
       "  </thead>\n",
       "  <tbody>\n",
       "    <tr>\n",
       "      <th>1514</th>\n",
       "      <td>1.000000</td>\n",
       "      <td>0.999965</td>\n",
       "      <td>1</td>\n",
       "      <td>love this coffee, have recommended and shared with friends. good smooth, strong and delicious flavor at an excellent price. i ...</td>\n",
       "    </tr>\n",
       "    <tr>\n",
       "      <th>43</th>\n",
       "      <td>1.000000</td>\n",
       "      <td>0.999930</td>\n",
       "      <td>1</td>\n",
       "      <td>i have personally been on a mission to find my favorite jerky for a few years now.  this is by far my favorite jerky - just a ...</td>\n",
       "    </tr>\n",
       "    <tr>\n",
       "      <th>762</th>\n",
       "      <td>1.000000</td>\n",
       "      <td>0.999923</td>\n",
       "      <td>1</td>\n",
       "      <td>this was the perfect food for my finicky feline.  my vet tried all the fancy prescription \"skinny\" foods and while they worked...</td>\n",
       "    </tr>\n",
       "    <tr>\n",
       "      <th>1798</th>\n",
       "      <td>1.000000</td>\n",
       "      <td>0.999922</td>\n",
       "      <td>1</td>\n",
       "      <td>i love this company and i will use them time after time! my boyfriend and i adore these suckers and they taste amazing with go...</td>\n",
       "    </tr>\n",
       "    <tr>\n",
       "      <th>1870</th>\n",
       "      <td>1.000000</td>\n",
       "      <td>0.999914</td>\n",
       "      <td>1</td>\n",
       "      <td>my girlfriend loves european milk chocolate and i got this for her. she loves it, and i am a happy dude.&lt;br /&gt;&lt;br /&gt;its very s...</td>\n",
       "    </tr>\n",
       "  </tbody>\n",
       "</table>\n",
       "</div>"
      ],
      "text/plain": [
       "         pred     prob  real  \\\n",
       "1514 1.000000 0.999965     1   \n",
       "43   1.000000 0.999930     1   \n",
       "762  1.000000 0.999923     1   \n",
       "1798 1.000000 0.999922     1   \n",
       "1870 1.000000 0.999914     1   \n",
       "\n",
       "                                                                                                                                   text  \n",
       "1514  love this coffee, have recommended and shared with friends. good smooth, strong and delicious flavor at an excellent price. i ...  \n",
       "43    i have personally been on a mission to find my favorite jerky for a few years now.  this is by far my favorite jerky - just a ...  \n",
       "762   this was the perfect food for my finicky feline.  my vet tried all the fancy prescription \"skinny\" foods and while they worked...  \n",
       "1798  i love this company and i will use them time after time! my boyfriend and i adore these suckers and they taste amazing with go...  \n",
       "1870  my girlfriend loves european milk chocolate and i got this for her. she loves it, and i am a happy dude.<br /><br />its very s...  "
      ]
     },
     "metadata": {},
     "output_type": "display_data"
    },
    {
     "data": {
      "text/markdown": [
       "#### Lowest 5"
      ]
     },
     "metadata": {},
     "output_type": "display_data"
    },
    {
     "data": {
      "text/html": [
       "<div>\n",
       "<style scoped>\n",
       "    .dataframe tbody tr th:only-of-type {\n",
       "        vertical-align: middle;\n",
       "    }\n",
       "\n",
       "    .dataframe tbody tr th {\n",
       "        vertical-align: top;\n",
       "    }\n",
       "\n",
       "    .dataframe thead th {\n",
       "        text-align: right;\n",
       "    }\n",
       "</style>\n",
       "<table border=\"1\" class=\"dataframe\">\n",
       "  <thead>\n",
       "    <tr style=\"text-align: right;\">\n",
       "      <th></th>\n",
       "      <th>pred</th>\n",
       "      <th>prob</th>\n",
       "      <th>real</th>\n",
       "      <th>text</th>\n",
       "    </tr>\n",
       "  </thead>\n",
       "  <tbody>\n",
       "    <tr>\n",
       "      <th>1843</th>\n",
       "      <td>0.000000</td>\n",
       "      <td>0.004004</td>\n",
       "      <td>0</td>\n",
       "      <td>i was hoping for some bulk inexpensive quality peanuts to make pb. this was not the case. they come in really cheap packaging ...</td>\n",
       "    </tr>\n",
       "    <tr>\n",
       "      <th>470</th>\n",
       "      <td>0.000000</td>\n",
       "      <td>0.005553</td>\n",
       "      <td>0</td>\n",
       "      <td>this is my second time buying goji juice from this account. the 1st 2 bottles i bought were red, sweet, and tasted fruity. the...</td>\n",
       "    </tr>\n",
       "    <tr>\n",
       "      <th>1392</th>\n",
       "      <td>0.000000</td>\n",
       "      <td>0.007893</td>\n",
       "      <td>0</td>\n",
       "      <td>this should be called sad baby--it's awful. my baby absolutely hates it! i tasted a tiny bit&lt;br /&gt;and it was bland to the poin...</td>\n",
       "    </tr>\n",
       "    <tr>\n",
       "      <th>824</th>\n",
       "      <td>0.000000</td>\n",
       "      <td>0.010690</td>\n",
       "      <td>0</td>\n",
       "      <td>disappointed!!!!  not returnable, too bad.  packaging from amazon seemed great as usual.  and box was not crushed or battered ...</td>\n",
       "    </tr>\n",
       "    <tr>\n",
       "      <th>510</th>\n",
       "      <td>0.000000</td>\n",
       "      <td>0.010715</td>\n",
       "      <td>0</td>\n",
       "      <td>bought the teriyaki flavor .....totally gross,&lt;br /&gt;&lt;br /&gt;do not waste your money on this slimy stuff.... could barely finish ...</td>\n",
       "    </tr>\n",
       "  </tbody>\n",
       "</table>\n",
       "</div>"
      ],
      "text/plain": [
       "         pred     prob  real  \\\n",
       "1843 0.000000 0.004004     0   \n",
       "470  0.000000 0.005553     0   \n",
       "1392 0.000000 0.007893     0   \n",
       "824  0.000000 0.010690     0   \n",
       "510  0.000000 0.010715     0   \n",
       "\n",
       "                                                                                                                                   text  \n",
       "1843  i was hoping for some bulk inexpensive quality peanuts to make pb. this was not the case. they come in really cheap packaging ...  \n",
       "470   this is my second time buying goji juice from this account. the 1st 2 bottles i bought were red, sweet, and tasted fruity. the...  \n",
       "1392  this should be called sad baby--it's awful. my baby absolutely hates it! i tasted a tiny bit<br />and it was bland to the poin...  \n",
       "824   disappointed!!!!  not returnable, too bad.  packaging from amazon seemed great as usual.  and box was not crushed or battered ...  \n",
       "510   bought the teriyaki flavor .....totally gross,<br /><br />do not waste your money on this slimy stuff.... could barely finish ...  "
      ]
     },
     "metadata": {},
     "output_type": "display_data"
    },
    {
     "data": {
      "text/markdown": [
       "#### Highest 5 mispredicted"
      ]
     },
     "metadata": {},
     "output_type": "display_data"
    },
    {
     "data": {
      "text/html": [
       "<div>\n",
       "<style scoped>\n",
       "    .dataframe tbody tr th:only-of-type {\n",
       "        vertical-align: middle;\n",
       "    }\n",
       "\n",
       "    .dataframe tbody tr th {\n",
       "        vertical-align: top;\n",
       "    }\n",
       "\n",
       "    .dataframe thead th {\n",
       "        text-align: right;\n",
       "    }\n",
       "</style>\n",
       "<table border=\"1\" class=\"dataframe\">\n",
       "  <thead>\n",
       "    <tr style=\"text-align: right;\">\n",
       "      <th></th>\n",
       "      <th>pred</th>\n",
       "      <th>prob</th>\n",
       "      <th>real</th>\n",
       "      <th>text</th>\n",
       "    </tr>\n",
       "  </thead>\n",
       "  <tbody>\n",
       "    <tr>\n",
       "      <th>1714</th>\n",
       "      <td>1.000000</td>\n",
       "      <td>0.997805</td>\n",
       "      <td>0</td>\n",
       "      <td>not so great lemon flavor!&lt;br /&gt;it's very hard to find soy free!&lt;br /&gt;this is a great brand! i prefer the ginger much better t...</td>\n",
       "    </tr>\n",
       "    <tr>\n",
       "      <th>1894</th>\n",
       "      <td>1.000000</td>\n",
       "      <td>0.996422</td>\n",
       "      <td>0</td>\n",
       "      <td>my 10-month old loves these! they are helpful to teach him how to eat and relieve pain from teething, too. look around for a b...</td>\n",
       "    </tr>\n",
       "    <tr>\n",
       "      <th>440</th>\n",
       "      <td>1.000000</td>\n",
       "      <td>0.993576</td>\n",
       "      <td>0</td>\n",
       "      <td>these have a great crunch and it's great that it's low fat. however, it's way too salty. 280mg per serving is more than twice ...</td>\n",
       "    </tr>\n",
       "    <tr>\n",
       "      <th>998</th>\n",
       "      <td>1.000000</td>\n",
       "      <td>0.993002</td>\n",
       "      <td>0</td>\n",
       "      <td>wolfgang puck's \"breakfast in bed\" is a much more flavorful and robust medium roast than this one.</td>\n",
       "    </tr>\n",
       "    <tr>\n",
       "      <th>1500</th>\n",
       "      <td>1.000000</td>\n",
       "      <td>0.991314</td>\n",
       "      <td>0</td>\n",
       "      <td>i found no benefit in taking the kirkland energy shot where the 5 hour energy has me going in a few of minutes.&lt;br /&gt;&lt;br /&gt;in ...</td>\n",
       "    </tr>\n",
       "  </tbody>\n",
       "</table>\n",
       "</div>"
      ],
      "text/plain": [
       "         pred     prob  real  \\\n",
       "1714 1.000000 0.997805     0   \n",
       "1894 1.000000 0.996422     0   \n",
       "440  1.000000 0.993576     0   \n",
       "998  1.000000 0.993002     0   \n",
       "1500 1.000000 0.991314     0   \n",
       "\n",
       "                                                                                                                                   text  \n",
       "1714  not so great lemon flavor!<br />it's very hard to find soy free!<br />this is a great brand! i prefer the ginger much better t...  \n",
       "1894  my 10-month old loves these! they are helpful to teach him how to eat and relieve pain from teething, too. look around for a b...  \n",
       "440   these have a great crunch and it's great that it's low fat. however, it's way too salty. 280mg per serving is more than twice ...  \n",
       "998                                  wolfgang puck's \"breakfast in bed\" is a much more flavorful and robust medium roast than this one.  \n",
       "1500  i found no benefit in taking the kirkland energy shot where the 5 hour energy has me going in a few of minutes.<br /><br />in ...  "
      ]
     },
     "metadata": {},
     "output_type": "display_data"
    },
    {
     "data": {
      "text/markdown": [
       "#### Lowest 5 mispredicted"
      ]
     },
     "metadata": {},
     "output_type": "display_data"
    },
    {
     "data": {
      "text/html": [
       "<div>\n",
       "<style scoped>\n",
       "    .dataframe tbody tr th:only-of-type {\n",
       "        vertical-align: middle;\n",
       "    }\n",
       "\n",
       "    .dataframe tbody tr th {\n",
       "        vertical-align: top;\n",
       "    }\n",
       "\n",
       "    .dataframe thead th {\n",
       "        text-align: right;\n",
       "    }\n",
       "</style>\n",
       "<table border=\"1\" class=\"dataframe\">\n",
       "  <thead>\n",
       "    <tr style=\"text-align: right;\">\n",
       "      <th></th>\n",
       "      <th>pred</th>\n",
       "      <th>prob</th>\n",
       "      <th>real</th>\n",
       "      <th>text</th>\n",
       "    </tr>\n",
       "  </thead>\n",
       "  <tbody>\n",
       "    <tr>\n",
       "      <th>1181</th>\n",
       "      <td>0.000000</td>\n",
       "      <td>0.014745</td>\n",
       "      <td>1</td>\n",
       "      <td>one of the three packs was open before arriving.  the paste was oozing out the side.  i can't return it, and i am having a lot...</td>\n",
       "    </tr>\n",
       "    <tr>\n",
       "      <th>393</th>\n",
       "      <td>0.000000</td>\n",
       "      <td>0.065325</td>\n",
       "      <td>1</td>\n",
       "      <td>the popcorn is great.  unfortunately, the bags are defective and the buttery flavoring has seeped out thus making the outside ...</td>\n",
       "    </tr>\n",
       "    <tr>\n",
       "      <th>418</th>\n",
       "      <td>0.000000</td>\n",
       "      <td>0.117673</td>\n",
       "      <td>1</td>\n",
       "      <td>the soup itself is very good tasting, and i would not hesitate to order it again except this is not the first time (including ...</td>\n",
       "    </tr>\n",
       "    <tr>\n",
       "      <th>1939</th>\n",
       "      <td>0.000000</td>\n",
       "      <td>0.174862</td>\n",
       "      <td>1</td>\n",
       "      <td>i place an order on july 11, 2011 of 15 (12 pack e/a) of vita coco coconut water with this horrible company \"goshoptnt\" and i ...</td>\n",
       "    </tr>\n",
       "    <tr>\n",
       "      <th>402</th>\n",
       "      <td>0.000000</td>\n",
       "      <td>0.208973</td>\n",
       "      <td>1</td>\n",
       "      <td>these jelly beans are great for a party activity (think harry potter) or as a gag gift. there are 5-6 different colors of jell...</td>\n",
       "    </tr>\n",
       "  </tbody>\n",
       "</table>\n",
       "</div>"
      ],
      "text/plain": [
       "         pred     prob  real  \\\n",
       "1181 0.000000 0.014745     1   \n",
       "393  0.000000 0.065325     1   \n",
       "418  0.000000 0.117673     1   \n",
       "1939 0.000000 0.174862     1   \n",
       "402  0.000000 0.208973     1   \n",
       "\n",
       "                                                                                                                                   text  \n",
       "1181  one of the three packs was open before arriving.  the paste was oozing out the side.  i can't return it, and i am having a lot...  \n",
       "393   the popcorn is great.  unfortunately, the bags are defective and the buttery flavoring has seeped out thus making the outside ...  \n",
       "418   the soup itself is very good tasting, and i would not hesitate to order it again except this is not the first time (including ...  \n",
       "1939  i place an order on july 11, 2011 of 15 (12 pack e/a) of vita coco coconut water with this horrible company \"goshoptnt\" and i ...  \n",
       "402   these jelly beans are great for a party activity (think harry potter) or as a gag gift. there are 5-6 different colors of jell...  "
      ]
     },
     "metadata": {},
     "output_type": "display_data"
    },
    {
     "data": {
      "text/markdown": [
       "#### Classification report for keras"
      ]
     },
     "metadata": {},
     "output_type": "display_data"
    },
    {
     "name": "stdout",
     "output_type": "stream",
     "text": [
      "             precision    recall  f1-score   support\n",
      "\n",
      "   Negative       0.91      0.47      0.62       313\n",
      "   Positive       0.91      0.99      0.95      1687\n",
      "\n",
      "avg / total       0.91      0.91      0.90      2000\n",
      "\n"
     ]
    },
    {
     "data": {
      "image/png": "[encoded data removed]",
      "text/plain": [
       "<matplotlib.figure.Figure at 0x7f62b4b3a588>"
      ]
     },
     "metadata": {},
     "output_type": "display_data"
    }
   ],
   "source": [
    "from machine_learning.cache import get_preprocessed_data\n",
    "\n",
    "keras_model = models.KerasModel(\n",
    "    nlp, \n",
    "    dataset_id, \n",
    "    max_words_in_sentence=MAX_WORDS_IN_SENTENCE, \n",
    "    epochs=5)\n",
    "\n",
    "X_keras_preprocessed = get_preprocessed_data(keras_model, dataset_id, X_train)\n",
    "\n",
    "accuracy = train_model_and_display_results(keras_model, X_keras_preprocessed, preprocessed=True)\n",
    "\n",
    "if SAVE_IN_STORE:\n",
    "    store.add_model(keras_model, \"conv1d_food\", \"Food Reviews Conv1d\", metadata={\n",
    "        'Dataset': 'Amazon Fine Food Reviews',\n",
    "        'Training samples': len(X_train),\n",
    "        'Accuracy': accuracy,\n",
    "        'Description': \"1D Convolutional network defined using Keras and trained on a publicly-available dataset\"\n",
    "    })\n",
    "\n",
    "# we need memory for further processing\n",
    "del X_keras_preprocessed"
   ]
  },
  {
   "cell_type": "code",
   "execution_count": 6,
   "metadata": {
    "scrolled": true
   },
   "outputs": [
    {
     "name": "stdout",
     "output_type": "stream",
     "text": [
      "Loading cached data...\n",
      "Loaded data from 'sklearnmodel_food_text_all.h5'\n"
     ]
    }
   ],
   "source": [
    "from machine_learning.cache import get_preprocessed_data\n",
    "# preprocessed data for all sklearn-based models\n",
    "\n",
    "model = models.SklearnModel(nlp, dataset_id)\n",
    "X_sklearn_preprocessed = get_preprocessed_data(model, dataset_id, X_train)"
   ]
  },
  {
   "cell_type": "code",
   "execution_count": 10,
   "metadata": {
    "scrolled": false
   },
   "outputs": [
    {
     "data": {
      "text/markdown": [
       "## SVCModel"
      ]
     },
     "metadata": {},
     "output_type": "display_data"
    },
    {
     "data": {
      "text/markdown": [
       "#### Training"
      ]
     },
     "metadata": {},
     "output_type": "display_data"
    },
    {
     "name": "stdout",
     "output_type": "stream",
     "text": [
      "Loading model...\n",
      "Model 'svc_food_text_all_80e28a4f.pkl' loaded\n"
     ]
    },
    {
     "data": {
      "text/markdown": [
       "#### Overview of created model"
      ]
     },
     "metadata": {},
     "output_type": "display_data"
    },
    {
     "data": {
      "text/plain": [
       "SVC(C=0.025, cache_size=200, class_weight=None, coef0=0.0,\n",
       "  decision_function_shape='ovr', degree=3, gamma='auto', kernel='linear',\n",
       "  max_iter=-1, probability=True, random_state=None, shrinking=True,\n",
       "  tol=0.001, verbose=False)"
      ]
     },
     "metadata": {},
     "output_type": "display_data"
    },
    {
     "data": {
      "text/markdown": [
       "#### Model results"
      ]
     },
     "metadata": {},
     "output_type": "display_data"
    },
    {
     "data": {
      "text/markdown": [
       "#### Predicted scores"
      ]
     },
     "metadata": {},
     "output_type": "display_data"
    },
    {
     "data": {
      "text/html": [
       "<div>\n",
       "<style scoped>\n",
       "    .dataframe tbody tr th:only-of-type {\n",
       "        vertical-align: middle;\n",
       "    }\n",
       "\n",
       "    .dataframe tbody tr th {\n",
       "        vertical-align: top;\n",
       "    }\n",
       "\n",
       "    .dataframe thead th {\n",
       "        text-align: right;\n",
       "    }\n",
       "</style>\n",
       "<table border=\"1\" class=\"dataframe\">\n",
       "  <thead>\n",
       "    <tr style=\"text-align: right;\">\n",
       "      <th></th>\n",
       "      <th>score</th>\n",
       "      <th>text</th>\n",
       "    </tr>\n",
       "  </thead>\n",
       "  <tbody>\n",
       "    <tr>\n",
       "      <th>0</th>\n",
       "      <td>0.996552</td>\n",
       "      <td>We went there to eat dinner, and it was delicious</td>\n",
       "    </tr>\n",
       "    <tr>\n",
       "      <th>1</th>\n",
       "      <td>0.999998</td>\n",
       "      <td>One of the best suppers I've ever eaten</td>\n",
       "    </tr>\n",
       "    <tr>\n",
       "      <th>2</th>\n",
       "      <td>0.001790</td>\n",
       "      <td>Totally disgusting dish. I think cook made this with his eyes closed</td>\n",
       "    </tr>\n",
       "  </tbody>\n",
       "</table>\n",
       "</div>"
      ],
      "text/plain": [
       "      score  \\\n",
       "0  0.996552   \n",
       "1  0.999998   \n",
       "2  0.001790   \n",
       "\n",
       "                                                                   text  \n",
       "0  We went there to eat dinner, and it was delicious                     \n",
       "1  One of the best suppers I've ever eaten                               \n",
       "2  Totally disgusting dish. I think cook made this with his eyes closed  "
      ]
     },
     "metadata": {},
     "output_type": "display_data"
    },
    {
     "data": {
      "text/markdown": [
       "#### Highest 5"
      ]
     },
     "metadata": {},
     "output_type": "display_data"
    },
    {
     "data": {
      "text/html": [
       "<div>\n",
       "<style scoped>\n",
       "    .dataframe tbody tr th:only-of-type {\n",
       "        vertical-align: middle;\n",
       "    }\n",
       "\n",
       "    .dataframe tbody tr th {\n",
       "        vertical-align: top;\n",
       "    }\n",
       "\n",
       "    .dataframe thead th {\n",
       "        text-align: right;\n",
       "    }\n",
       "</style>\n",
       "<table border=\"1\" class=\"dataframe\">\n",
       "  <thead>\n",
       "    <tr style=\"text-align: right;\">\n",
       "      <th></th>\n",
       "      <th>pred</th>\n",
       "      <th>prob</th>\n",
       "      <th>real</th>\n",
       "      <th>text</th>\n",
       "    </tr>\n",
       "  </thead>\n",
       "  <tbody>\n",
       "    <tr>\n",
       "      <th>266</th>\n",
       "      <td>1.000000</td>\n",
       "      <td>1.000000</td>\n",
       "      <td>1</td>\n",
       "      <td>a refreshing cold beverage and a soothing, perfect, hot cup of tea. offers healthful benefits.</td>\n",
       "    </tr>\n",
       "    <tr>\n",
       "      <th>1810</th>\n",
       "      <td>1.000000</td>\n",
       "      <td>1.000000</td>\n",
       "      <td>1</td>\n",
       "      <td>a healthy choice for gum, great flavor.  customer service was excellent - fast and courteous.</td>\n",
       "    </tr>\n",
       "    <tr>\n",
       "      <th>630</th>\n",
       "      <td>1.000000</td>\n",
       "      <td>1.000000</td>\n",
       "      <td>1</td>\n",
       "      <td>great variety to keep on hand!  friends and family will enjoy sampling with you. tea, hot chocolate, and many coffees.  includ...</td>\n",
       "    </tr>\n",
       "    <tr>\n",
       "      <th>1514</th>\n",
       "      <td>1.000000</td>\n",
       "      <td>1.000000</td>\n",
       "      <td>1</td>\n",
       "      <td>love this coffee, have recommended and shared with friends. good smooth, strong and delicious flavor at an excellent price. i ...</td>\n",
       "    </tr>\n",
       "    <tr>\n",
       "      <th>155</th>\n",
       "      <td>1.000000</td>\n",
       "      <td>1.000000</td>\n",
       "      <td>1</td>\n",
       "      <td>the oatmeal is delicious! great breakfast meal that is quick and easy! it's organic too!</td>\n",
       "    </tr>\n",
       "  </tbody>\n",
       "</table>\n",
       "</div>"
      ],
      "text/plain": [
       "         pred     prob  real  \\\n",
       "266  1.000000 1.000000     1   \n",
       "1810 1.000000 1.000000     1   \n",
       "630  1.000000 1.000000     1   \n",
       "1514 1.000000 1.000000     1   \n",
       "155  1.000000 1.000000     1   \n",
       "\n",
       "                                                                                                                                   text  \n",
       "266                                      a refreshing cold beverage and a soothing, perfect, hot cup of tea. offers healthful benefits.  \n",
       "1810                                      a healthy choice for gum, great flavor.  customer service was excellent - fast and courteous.  \n",
       "630   great variety to keep on hand!  friends and family will enjoy sampling with you. tea, hot chocolate, and many coffees.  includ...  \n",
       "1514  love this coffee, have recommended and shared with friends. good smooth, strong and delicious flavor at an excellent price. i ...  \n",
       "155                                            the oatmeal is delicious! great breakfast meal that is quick and easy! it's organic too!  "
      ]
     },
     "metadata": {},
     "output_type": "display_data"
    },
    {
     "data": {
      "text/markdown": [
       "#### Lowest 5"
      ]
     },
     "metadata": {},
     "output_type": "display_data"
    },
    {
     "data": {
      "text/html": [
       "<div>\n",
       "<style scoped>\n",
       "    .dataframe tbody tr th:only-of-type {\n",
       "        vertical-align: middle;\n",
       "    }\n",
       "\n",
       "    .dataframe tbody tr th {\n",
       "        vertical-align: top;\n",
       "    }\n",
       "\n",
       "    .dataframe thead th {\n",
       "        text-align: right;\n",
       "    }\n",
       "</style>\n",
       "<table border=\"1\" class=\"dataframe\">\n",
       "  <thead>\n",
       "    <tr style=\"text-align: right;\">\n",
       "      <th></th>\n",
       "      <th>pred</th>\n",
       "      <th>prob</th>\n",
       "      <th>real</th>\n",
       "      <th>text</th>\n",
       "    </tr>\n",
       "  </thead>\n",
       "  <tbody>\n",
       "    <tr>\n",
       "      <th>824</th>\n",
       "      <td>0.000000</td>\n",
       "      <td>0.000083</td>\n",
       "      <td>0</td>\n",
       "      <td>disappointed!!!!  not returnable, too bad.  packaging from amazon seemed great as usual.  and box was not crushed or battered ...</td>\n",
       "    </tr>\n",
       "    <tr>\n",
       "      <th>1390</th>\n",
       "      <td>0.000000</td>\n",
       "      <td>0.000264</td>\n",
       "      <td>0</td>\n",
       "      <td>i received this item poorly packaged and contents were scuffed and jumbled. it was meant for a gift and looked like a returned...</td>\n",
       "    </tr>\n",
       "    <tr>\n",
       "      <th>510</th>\n",
       "      <td>0.000000</td>\n",
       "      <td>0.000643</td>\n",
       "      <td>0</td>\n",
       "      <td>bought the teriyaki flavor .....totally gross,&lt;br /&gt;&lt;br /&gt;do not waste your money on this slimy stuff.... could barely finish ...</td>\n",
       "    </tr>\n",
       "    <tr>\n",
       "      <th>1732</th>\n",
       "      <td>0.000000</td>\n",
       "      <td>0.000716</td>\n",
       "      <td>0</td>\n",
       "      <td>i should have known when the product told me to rinse it for several minutes to get rid of the putrid smell - smells like they...</td>\n",
       "    </tr>\n",
       "    <tr>\n",
       "      <th>850</th>\n",
       "      <td>0.000000</td>\n",
       "      <td>0.001358</td>\n",
       "      <td>0</td>\n",
       "      <td>the cote d'or dark 86% brut chocolate cocoa, 3.5-ounce bars (pack of 10) is close to the worst chocolate i have eaten, if not ...</td>\n",
       "    </tr>\n",
       "  </tbody>\n",
       "</table>\n",
       "</div>"
      ],
      "text/plain": [
       "         pred     prob  real  \\\n",
       "824  0.000000 0.000083     0   \n",
       "1390 0.000000 0.000264     0   \n",
       "510  0.000000 0.000643     0   \n",
       "1732 0.000000 0.000716     0   \n",
       "850  0.000000 0.001358     0   \n",
       "\n",
       "                                                                                                                                   text  \n",
       "824   disappointed!!!!  not returnable, too bad.  packaging from amazon seemed great as usual.  and box was not crushed or battered ...  \n",
       "1390  i received this item poorly packaged and contents were scuffed and jumbled. it was meant for a gift and looked like a returned...  \n",
       "510   bought the teriyaki flavor .....totally gross,<br /><br />do not waste your money on this slimy stuff.... could barely finish ...  \n",
       "1732  i should have known when the product told me to rinse it for several minutes to get rid of the putrid smell - smells like they...  \n",
       "850   the cote d'or dark 86% brut chocolate cocoa, 3.5-ounce bars (pack of 10) is close to the worst chocolate i have eaten, if not ...  "
      ]
     },
     "metadata": {},
     "output_type": "display_data"
    },
    {
     "data": {
      "text/markdown": [
       "#### Highest 5 mispredicted"
      ]
     },
     "metadata": {},
     "output_type": "display_data"
    },
    {
     "data": {
      "text/html": [
       "<div>\n",
       "<style scoped>\n",
       "    .dataframe tbody tr th:only-of-type {\n",
       "        vertical-align: middle;\n",
       "    }\n",
       "\n",
       "    .dataframe tbody tr th {\n",
       "        vertical-align: top;\n",
       "    }\n",
       "\n",
       "    .dataframe thead th {\n",
       "        text-align: right;\n",
       "    }\n",
       "</style>\n",
       "<table border=\"1\" class=\"dataframe\">\n",
       "  <thead>\n",
       "    <tr style=\"text-align: right;\">\n",
       "      <th></th>\n",
       "      <th>pred</th>\n",
       "      <th>prob</th>\n",
       "      <th>real</th>\n",
       "      <th>text</th>\n",
       "    </tr>\n",
       "  </thead>\n",
       "  <tbody>\n",
       "    <tr>\n",
       "      <th>998</th>\n",
       "      <td>1.000000</td>\n",
       "      <td>1.000000</td>\n",
       "      <td>0</td>\n",
       "      <td>wolfgang puck's \"breakfast in bed\" is a much more flavorful and robust medium roast than this one.</td>\n",
       "    </tr>\n",
       "    <tr>\n",
       "      <th>1714</th>\n",
       "      <td>1.000000</td>\n",
       "      <td>1.000000</td>\n",
       "      <td>0</td>\n",
       "      <td>not so great lemon flavor!&lt;br /&gt;it's very hard to find soy free!&lt;br /&gt;this is a great brand! i prefer the ginger much better t...</td>\n",
       "    </tr>\n",
       "    <tr>\n",
       "      <th>1894</th>\n",
       "      <td>1.000000</td>\n",
       "      <td>0.995672</td>\n",
       "      <td>0</td>\n",
       "      <td>my 10-month old loves these! they are helpful to teach him how to eat and relieve pain from teething, too. look around for a b...</td>\n",
       "    </tr>\n",
       "    <tr>\n",
       "      <th>1256</th>\n",
       "      <td>1.000000</td>\n",
       "      <td>0.994738</td>\n",
       "      <td>0</td>\n",
       "      <td>these crackers have no flavor what so ever and for 100 calories you get the same amount as the nabisco 100 calorie cookies. sa...</td>\n",
       "    </tr>\n",
       "    <tr>\n",
       "      <th>615</th>\n",
       "      <td>1.000000</td>\n",
       "      <td>0.994000</td>\n",
       "      <td>0</td>\n",
       "      <td>i would rather spend the time and effort for a better flavor. the pods are individually sealed, and easy to use. the flavor is...</td>\n",
       "    </tr>\n",
       "  </tbody>\n",
       "</table>\n",
       "</div>"
      ],
      "text/plain": [
       "         pred     prob  real  \\\n",
       "998  1.000000 1.000000     0   \n",
       "1714 1.000000 1.000000     0   \n",
       "1894 1.000000 0.995672     0   \n",
       "1256 1.000000 0.994738     0   \n",
       "615  1.000000 0.994000     0   \n",
       "\n",
       "                                                                                                                                   text  \n",
       "998                                  wolfgang puck's \"breakfast in bed\" is a much more flavorful and robust medium roast than this one.  \n",
       "1714  not so great lemon flavor!<br />it's very hard to find soy free!<br />this is a great brand! i prefer the ginger much better t...  \n",
       "1894  my 10-month old loves these! they are helpful to teach him how to eat and relieve pain from teething, too. look around for a b...  \n",
       "1256  these crackers have no flavor what so ever and for 100 calories you get the same amount as the nabisco 100 calorie cookies. sa...  \n",
       "615   i would rather spend the time and effort for a better flavor. the pods are individually sealed, and easy to use. the flavor is...  "
      ]
     },
     "metadata": {},
     "output_type": "display_data"
    },
    {
     "data": {
      "text/markdown": [
       "#### Lowest 5 mispredicted"
      ]
     },
     "metadata": {},
     "output_type": "display_data"
    },
    {
     "data": {
      "text/html": [
       "<div>\n",
       "<style scoped>\n",
       "    .dataframe tbody tr th:only-of-type {\n",
       "        vertical-align: middle;\n",
       "    }\n",
       "\n",
       "    .dataframe tbody tr th {\n",
       "        vertical-align: top;\n",
       "    }\n",
       "\n",
       "    .dataframe thead th {\n",
       "        text-align: right;\n",
       "    }\n",
       "</style>\n",
       "<table border=\"1\" class=\"dataframe\">\n",
       "  <thead>\n",
       "    <tr style=\"text-align: right;\">\n",
       "      <th></th>\n",
       "      <th>pred</th>\n",
       "      <th>prob</th>\n",
       "      <th>real</th>\n",
       "      <th>text</th>\n",
       "    </tr>\n",
       "  </thead>\n",
       "  <tbody>\n",
       "    <tr>\n",
       "      <th>811</th>\n",
       "      <td>0.000000</td>\n",
       "      <td>0.011772</td>\n",
       "      <td>1</td>\n",
       "      <td>i had mole problems and i killed the bugs.  i had killed the whole yard to replant and don't know if there were less bugs in t...</td>\n",
       "    </tr>\n",
       "    <tr>\n",
       "      <th>1524</th>\n",
       "      <td>0.000000</td>\n",
       "      <td>0.018908</td>\n",
       "      <td>1</td>\n",
       "      <td>wish there was a better mix of black/brown hooves. the box contained mostly black hooves. otherwise the order was as decribed</td>\n",
       "    </tr>\n",
       "    <tr>\n",
       "      <th>1712</th>\n",
       "      <td>0.000000</td>\n",
       "      <td>0.024831</td>\n",
       "      <td>1</td>\n",
       "      <td>what can i say, the deer and the antelop did not do anything to this coffee.  neither did the caribou.  it's ok, drinkable.</td>\n",
       "    </tr>\n",
       "    <tr>\n",
       "      <th>393</th>\n",
       "      <td>0.000000</td>\n",
       "      <td>0.029243</td>\n",
       "      <td>1</td>\n",
       "      <td>the popcorn is great.  unfortunately, the bags are defective and the buttery flavoring has seeped out thus making the outside ...</td>\n",
       "    </tr>\n",
       "    <tr>\n",
       "      <th>142</th>\n",
       "      <td>0.000000</td>\n",
       "      <td>0.032724</td>\n",
       "      <td>1</td>\n",
       "      <td>okay, i jumped the gun, because they were sending me the review information, before i received my chips, so i thought i would ...</td>\n",
       "    </tr>\n",
       "  </tbody>\n",
       "</table>\n",
       "</div>"
      ],
      "text/plain": [
       "         pred     prob  real  \\\n",
       "811  0.000000 0.011772     1   \n",
       "1524 0.000000 0.018908     1   \n",
       "1712 0.000000 0.024831     1   \n",
       "393  0.000000 0.029243     1   \n",
       "142  0.000000 0.032724     1   \n",
       "\n",
       "                                                                                                                                   text  \n",
       "811   i had mole problems and i killed the bugs.  i had killed the whole yard to replant and don't know if there were less bugs in t...  \n",
       "1524      wish there was a better mix of black/brown hooves. the box contained mostly black hooves. otherwise the order was as decribed  \n",
       "1712        what can i say, the deer and the antelop did not do anything to this coffee.  neither did the caribou.  it's ok, drinkable.  \n",
       "393   the popcorn is great.  unfortunately, the bags are defective and the buttery flavoring has seeped out thus making the outside ...  \n",
       "142   okay, i jumped the gun, because they were sending me the review information, before i received my chips, so i thought i would ...  "
      ]
     },
     "metadata": {},
     "output_type": "display_data"
    },
    {
     "data": {
      "text/markdown": [
       "#### Classification report for svc"
      ]
     },
     "metadata": {},
     "output_type": "display_data"
    },
    {
     "name": "stdout",
     "output_type": "stream",
     "text": [
      "             precision    recall  f1-score   support\n",
      "\n",
      "   Negative       0.68      0.55      0.61       313\n",
      "   Positive       0.92      0.95      0.94      1687\n",
      "\n",
      "avg / total       0.88      0.89      0.88      2000\n",
      "\n"
     ]
    },
    {
     "data": {
      "image/png": "[encoded data removed]",
      "text/plain": [
       "<matplotlib.figure.Figure at 0x7f6307903898>"
      ]
     },
     "metadata": {},
     "output_type": "display_data"
    }
   ],
   "source": [
    "# it's almost impossible to train SVC on full dataset due to time complexity\n",
    "svc_limit = min(20000, len(X_sklearn_preprocessed))\n",
    "svc_model = models.SVCModel(\n",
    "    nlp, dataset_id, \n",
    "    kernel=\"linear\", C=0.025,\n",
    "    probability=True)\n",
    "\n",
    "accuracy = train_model_and_display_results(\n",
    "    svc_model,\n",
    "    X_sklearn_preprocessed[:svc_limit], \n",
    "    y_train[:svc_limit], \n",
    "    preprocessed=True\n",
    ")\n",
    "\n",
    "if SAVE_IN_STORE:\n",
    "    store.add_model(svc_model, \"svc_food\", \"Food Reviews SVC\", metadata={\n",
    "        'Dataset': 'Amazon Fine Food Reviews',\n",
    "        'Training samples': svc_limit,\n",
    "        'Accuracy': accuracy,\n",
    "        'Description': \"SVM algorithm from Sklearn package. Trained on a reduced dataset due to O(n^2) time complexity\"\n",
    "    })\n"
   ]
  },
  {
   "cell_type": "code",
   "execution_count": 11,
   "metadata": {
    "scrolled": false
   },
   "outputs": [
    {
     "data": {
      "text/markdown": [
       "## DecisionTreeModel"
      ]
     },
     "metadata": {},
     "output_type": "display_data"
    },
    {
     "data": {
      "text/markdown": [
       "#### Training"
      ]
     },
     "metadata": {},
     "output_type": "display_data"
    },
    {
     "name": "stdout",
     "output_type": "stream",
     "text": [
      "Loading model...\n",
      "Model 'decisiontreeclassifier_food_text_all_5099b258.pkl' loaded\n"
     ]
    },
    {
     "data": {
      "text/markdown": [
       "#### Overview of created model"
      ]
     },
     "metadata": {},
     "output_type": "display_data"
    },
    {
     "data": {
      "text/plain": [
       "DecisionTreeClassifier(class_weight=None, criterion='gini', max_depth=6,\n",
       "            max_features=None, max_leaf_nodes=None,\n",
       "            min_impurity_decrease=0.0, min_impurity_split=None,\n",
       "            min_samples_leaf=1, min_samples_split=2,\n",
       "            min_weight_fraction_leaf=0.0, presort=False, random_state=None,\n",
       "            splitter='best')"
      ]
     },
     "metadata": {},
     "output_type": "display_data"
    },
    {
     "data": {
      "text/markdown": [
       "#### Model results"
      ]
     },
     "metadata": {},
     "output_type": "display_data"
    },
    {
     "data": {
      "text/markdown": [
       "#### Predicted scores"
      ]
     },
     "metadata": {},
     "output_type": "display_data"
    },
    {
     "data": {
      "text/html": [
       "<div>\n",
       "<style scoped>\n",
       "    .dataframe tbody tr th:only-of-type {\n",
       "        vertical-align: middle;\n",
       "    }\n",
       "\n",
       "    .dataframe tbody tr th {\n",
       "        vertical-align: top;\n",
       "    }\n",
       "\n",
       "    .dataframe thead th {\n",
       "        text-align: right;\n",
       "    }\n",
       "</style>\n",
       "<table border=\"1\" class=\"dataframe\">\n",
       "  <thead>\n",
       "    <tr style=\"text-align: right;\">\n",
       "      <th></th>\n",
       "      <th>score</th>\n",
       "      <th>text</th>\n",
       "    </tr>\n",
       "  </thead>\n",
       "  <tbody>\n",
       "    <tr>\n",
       "      <th>0</th>\n",
       "      <td>0.956890</td>\n",
       "      <td>We went there to eat dinner, and it was delicious</td>\n",
       "    </tr>\n",
       "    <tr>\n",
       "      <th>1</th>\n",
       "      <td>0.964365</td>\n",
       "      <td>One of the best suppers I've ever eaten</td>\n",
       "    </tr>\n",
       "    <tr>\n",
       "      <th>2</th>\n",
       "      <td>0.775551</td>\n",
       "      <td>Totally disgusting dish. I think cook made this with his eyes closed</td>\n",
       "    </tr>\n",
       "  </tbody>\n",
       "</table>\n",
       "</div>"
      ],
      "text/plain": [
       "      score  \\\n",
       "0  0.956890   \n",
       "1  0.964365   \n",
       "2  0.775551   \n",
       "\n",
       "                                                                   text  \n",
       "0  We went there to eat dinner, and it was delicious                     \n",
       "1  One of the best suppers I've ever eaten                               \n",
       "2  Totally disgusting dish. I think cook made this with his eyes closed  "
      ]
     },
     "metadata": {},
     "output_type": "display_data"
    },
    {
     "data": {
      "text/markdown": [
       "#### Highest 5"
      ]
     },
     "metadata": {},
     "output_type": "display_data"
    },
    {
     "data": {
      "text/html": [
       "<div>\n",
       "<style scoped>\n",
       "    .dataframe tbody tr th:only-of-type {\n",
       "        vertical-align: middle;\n",
       "    }\n",
       "\n",
       "    .dataframe tbody tr th {\n",
       "        vertical-align: top;\n",
       "    }\n",
       "\n",
       "    .dataframe thead th {\n",
       "        text-align: right;\n",
       "    }\n",
       "</style>\n",
       "<table border=\"1\" class=\"dataframe\">\n",
       "  <thead>\n",
       "    <tr style=\"text-align: right;\">\n",
       "      <th></th>\n",
       "      <th>pred</th>\n",
       "      <th>prob</th>\n",
       "      <th>real</th>\n",
       "      <th>text</th>\n",
       "    </tr>\n",
       "  </thead>\n",
       "  <tbody>\n",
       "    <tr>\n",
       "      <th>9</th>\n",
       "      <td>1.000000</td>\n",
       "      <td>0.987695</td>\n",
       "      <td>1</td>\n",
       "      <td>i purchased these to snack on after my workouts. now i find myself just snacking on them all the time!! they're really good an...</td>\n",
       "    </tr>\n",
       "    <tr>\n",
       "      <th>26</th>\n",
       "      <td>1.000000</td>\n",
       "      <td>0.987695</td>\n",
       "      <td>1</td>\n",
       "      <td>this tea kit is wonderful. it has wonderful tea that really does what it says. i love the heartburn tea. it helped when downin...</td>\n",
       "    </tr>\n",
       "    <tr>\n",
       "      <th>32</th>\n",
       "      <td>1.000000</td>\n",
       "      <td>0.987695</td>\n",
       "      <td>1</td>\n",
       "      <td>we love this mix!  we use the muffin recipe on back and make donuts with our electric donut maker~yum. all the recipes on back...</td>\n",
       "    </tr>\n",
       "    <tr>\n",
       "      <th>41</th>\n",
       "      <td>1.000000</td>\n",
       "      <td>0.987695</td>\n",
       "      <td>1</td>\n",
       "      <td>i love this product it makes great lemon pepper wings. my mother actually recommended it to me.</td>\n",
       "    </tr>\n",
       "    <tr>\n",
       "      <th>42</th>\n",
       "      <td>1.000000</td>\n",
       "      <td>0.987695</td>\n",
       "      <td>1</td>\n",
       "      <td>this is a great, yummy snack! it's healthy and easy to grab on the go and still tastes great. i would recommend it to anyone, ...</td>\n",
       "    </tr>\n",
       "  </tbody>\n",
       "</table>\n",
       "</div>"
      ],
      "text/plain": [
       "       pred     prob  real  \\\n",
       "9  1.000000 0.987695     1   \n",
       "26 1.000000 0.987695     1   \n",
       "32 1.000000 0.987695     1   \n",
       "41 1.000000 0.987695     1   \n",
       "42 1.000000 0.987695     1   \n",
       "\n",
       "                                                                                                                                 text  \n",
       "9   i purchased these to snack on after my workouts. now i find myself just snacking on them all the time!! they're really good an...  \n",
       "26  this tea kit is wonderful. it has wonderful tea that really does what it says. i love the heartburn tea. it helped when downin...  \n",
       "32  we love this mix!  we use the muffin recipe on back and make donuts with our electric donut maker~yum. all the recipes on back...  \n",
       "41                                    i love this product it makes great lemon pepper wings. my mother actually recommended it to me.  \n",
       "42  this is a great, yummy snack! it's healthy and easy to grab on the go and still tastes great. i would recommend it to anyone, ...  "
      ]
     },
     "metadata": {},
     "output_type": "display_data"
    },
    {
     "data": {
      "text/markdown": [
       "#### Lowest 5"
      ]
     },
     "metadata": {},
     "output_type": "display_data"
    },
    {
     "data": {
      "text/html": [
       "<div>\n",
       "<style scoped>\n",
       "    .dataframe tbody tr th:only-of-type {\n",
       "        vertical-align: middle;\n",
       "    }\n",
       "\n",
       "    .dataframe tbody tr th {\n",
       "        vertical-align: top;\n",
       "    }\n",
       "\n",
       "    .dataframe thead th {\n",
       "        text-align: right;\n",
       "    }\n",
       "</style>\n",
       "<table border=\"1\" class=\"dataframe\">\n",
       "  <thead>\n",
       "    <tr style=\"text-align: right;\">\n",
       "      <th></th>\n",
       "      <th>pred</th>\n",
       "      <th>prob</th>\n",
       "      <th>real</th>\n",
       "      <th>text</th>\n",
       "    </tr>\n",
       "  </thead>\n",
       "  <tbody>\n",
       "    <tr>\n",
       "      <th>74</th>\n",
       "      <td>0.000000</td>\n",
       "      <td>0.255414</td>\n",
       "      <td>1</td>\n",
       "      <td>i was of course wary of buying something as perishable as pine nuts over the internet whether from an amazon seller or not so ...</td>\n",
       "    </tr>\n",
       "    <tr>\n",
       "      <th>103</th>\n",
       "      <td>0.000000</td>\n",
       "      <td>0.255414</td>\n",
       "      <td>0</td>\n",
       "      <td>i wish i could give this stuff zero stars.  it's bad enough that the label is deceptive and obviously meant to mislead consume...</td>\n",
       "    </tr>\n",
       "    <tr>\n",
       "      <th>244</th>\n",
       "      <td>0.000000</td>\n",
       "      <td>0.255414</td>\n",
       "      <td>0</td>\n",
       "      <td>i should have heeded the other reviewers who noted that this product was stale on arrival. same thing happened to me. amazon w...</td>\n",
       "    </tr>\n",
       "    <tr>\n",
       "      <th>278</th>\n",
       "      <td>0.000000</td>\n",
       "      <td>0.255414</td>\n",
       "      <td>0</td>\n",
       "      <td>this candy was ok, but it had a different taste than the one we had previously bought at costco, even though it was supposed t...</td>\n",
       "    </tr>\n",
       "    <tr>\n",
       "      <th>290</th>\n",
       "      <td>0.000000</td>\n",
       "      <td>0.255414</td>\n",
       "      <td>0</td>\n",
       "      <td>these crackers have a strong licorice flavor which is quite offputting.  not at all what i expected.  would not purchase this ...</td>\n",
       "    </tr>\n",
       "  </tbody>\n",
       "</table>\n",
       "</div>"
      ],
      "text/plain": [
       "        pred     prob  real  \\\n",
       "74  0.000000 0.255414     1   \n",
       "103 0.000000 0.255414     0   \n",
       "244 0.000000 0.255414     0   \n",
       "278 0.000000 0.255414     0   \n",
       "290 0.000000 0.255414     0   \n",
       "\n",
       "                                                                                                                                  text  \n",
       "74   i was of course wary of buying something as perishable as pine nuts over the internet whether from an amazon seller or not so ...  \n",
       "103  i wish i could give this stuff zero stars.  it's bad enough that the label is deceptive and obviously meant to mislead consume...  \n",
       "244  i should have heeded the other reviewers who noted that this product was stale on arrival. same thing happened to me. amazon w...  \n",
       "278  this candy was ok, but it had a different taste than the one we had previously bought at costco, even though it was supposed t...  \n",
       "290  these crackers have a strong licorice flavor which is quite offputting.  not at all what i expected.  would not purchase this ...  "
      ]
     },
     "metadata": {},
     "output_type": "display_data"
    },
    {
     "data": {
      "text/markdown": [
       "#### Highest 5 mispredicted"
      ]
     },
     "metadata": {},
     "output_type": "display_data"
    },
    {
     "data": {
      "text/html": [
       "<div>\n",
       "<style scoped>\n",
       "    .dataframe tbody tr th:only-of-type {\n",
       "        vertical-align: middle;\n",
       "    }\n",
       "\n",
       "    .dataframe tbody tr th {\n",
       "        vertical-align: top;\n",
       "    }\n",
       "\n",
       "    .dataframe thead th {\n",
       "        text-align: right;\n",
       "    }\n",
       "</style>\n",
       "<table border=\"1\" class=\"dataframe\">\n",
       "  <thead>\n",
       "    <tr style=\"text-align: right;\">\n",
       "      <th></th>\n",
       "      <th>pred</th>\n",
       "      <th>prob</th>\n",
       "      <th>real</th>\n",
       "      <th>text</th>\n",
       "    </tr>\n",
       "  </thead>\n",
       "  <tbody>\n",
       "    <tr>\n",
       "      <th>1714</th>\n",
       "      <td>1.000000</td>\n",
       "      <td>0.987695</td>\n",
       "      <td>0</td>\n",
       "      <td>not so great lemon flavor!&lt;br /&gt;it's very hard to find soy free!&lt;br /&gt;this is a great brand! i prefer the ginger much better t...</td>\n",
       "    </tr>\n",
       "    <tr>\n",
       "      <th>1717</th>\n",
       "      <td>1.000000</td>\n",
       "      <td>0.987695</td>\n",
       "      <td>0</td>\n",
       "      <td>the first couple of bags were great. really fresh, smooth, great taste. i thought i'd found the perfect coffee bean!! the next...</td>\n",
       "    </tr>\n",
       "    <tr>\n",
       "      <th>1903</th>\n",
       "      <td>1.000000</td>\n",
       "      <td>0.987695</td>\n",
       "      <td>0</td>\n",
       "      <td>i was very unimpressed with these almonds.  they are very clovey and have a musty taste.  if you are expecting a sweet treat, ...</td>\n",
       "    </tr>\n",
       "    <tr>\n",
       "      <th>269</th>\n",
       "      <td>1.000000</td>\n",
       "      <td>0.965334</td>\n",
       "      <td>0</td>\n",
       "      <td>i was looking forward to this product, as my wife and i both like earl grey tea, and decaf lets us drink it at night.  we drin...</td>\n",
       "    </tr>\n",
       "    <tr>\n",
       "      <th>384</th>\n",
       "      <td>1.000000</td>\n",
       "      <td>0.965334</td>\n",
       "      <td>0</td>\n",
       "      <td>the new taste of 2011 is not as good and tasty as the old one ... now the chocolate is hard and the liquid coffe is not the sa...</td>\n",
       "    </tr>\n",
       "  </tbody>\n",
       "</table>\n",
       "</div>"
      ],
      "text/plain": [
       "         pred     prob  real  \\\n",
       "1714 1.000000 0.987695     0   \n",
       "1717 1.000000 0.987695     0   \n",
       "1903 1.000000 0.987695     0   \n",
       "269  1.000000 0.965334     0   \n",
       "384  1.000000 0.965334     0   \n",
       "\n",
       "                                                                                                                                   text  \n",
       "1714  not so great lemon flavor!<br />it's very hard to find soy free!<br />this is a great brand! i prefer the ginger much better t...  \n",
       "1717  the first couple of bags were great. really fresh, smooth, great taste. i thought i'd found the perfect coffee bean!! the next...  \n",
       "1903  i was very unimpressed with these almonds.  they are very clovey and have a musty taste.  if you are expecting a sweet treat, ...  \n",
       "269   i was looking forward to this product, as my wife and i both like earl grey tea, and decaf lets us drink it at night.  we drin...  \n",
       "384   the new taste of 2011 is not as good and tasty as the old one ... now the chocolate is hard and the liquid coffe is not the sa...  "
      ]
     },
     "metadata": {},
     "output_type": "display_data"
    },
    {
     "data": {
      "text/markdown": [
       "#### Lowest 5 mispredicted"
      ]
     },
     "metadata": {},
     "output_type": "display_data"
    },
    {
     "data": {
      "text/html": [
       "<div>\n",
       "<style scoped>\n",
       "    .dataframe tbody tr th:only-of-type {\n",
       "        vertical-align: middle;\n",
       "    }\n",
       "\n",
       "    .dataframe tbody tr th {\n",
       "        vertical-align: top;\n",
       "    }\n",
       "\n",
       "    .dataframe thead th {\n",
       "        text-align: right;\n",
       "    }\n",
       "</style>\n",
       "<table border=\"1\" class=\"dataframe\">\n",
       "  <thead>\n",
       "    <tr style=\"text-align: right;\">\n",
       "      <th></th>\n",
       "      <th>pred</th>\n",
       "      <th>prob</th>\n",
       "      <th>real</th>\n",
       "      <th>text</th>\n",
       "    </tr>\n",
       "  </thead>\n",
       "  <tbody>\n",
       "    <tr>\n",
       "      <th>74</th>\n",
       "      <td>0.000000</td>\n",
       "      <td>0.255414</td>\n",
       "      <td>1</td>\n",
       "      <td>i was of course wary of buying something as perishable as pine nuts over the internet whether from an amazon seller or not so ...</td>\n",
       "    </tr>\n",
       "    <tr>\n",
       "      <th>1246</th>\n",
       "      <td>0.000000</td>\n",
       "      <td>0.255414</td>\n",
       "      <td>1</td>\n",
       "      <td>the mushroom popcorn seemed to have about half pop nothing like the mushroom popcorn i've had before, it looks like regular po...</td>\n",
       "    </tr>\n",
       "    <tr>\n",
       "      <th>1257</th>\n",
       "      <td>0.000000</td>\n",
       "      <td>0.255414</td>\n",
       "      <td>1</td>\n",
       "      <td>can't find anything wrong with this product.  have used it twice already in baking and was pleased with the results.</td>\n",
       "    </tr>\n",
       "    <tr>\n",
       "      <th>1599</th>\n",
       "      <td>0.000000</td>\n",
       "      <td>0.255414</td>\n",
       "      <td>1</td>\n",
       "      <td>i shared these cookies with my family and we all enjoyed them.  as others have noted, they arrived in relatively poor conditio...</td>\n",
       "    </tr>\n",
       "    <tr>\n",
       "      <th>1623</th>\n",
       "      <td>0.000000</td>\n",
       "      <td>0.255414</td>\n",
       "      <td>1</td>\n",
       "      <td>this by far the tastiest popcorn we have ever had. had to buy it in bulk for as much as we eat it!</td>\n",
       "    </tr>\n",
       "  </tbody>\n",
       "</table>\n",
       "</div>"
      ],
      "text/plain": [
       "         pred     prob  real  \\\n",
       "74   0.000000 0.255414     1   \n",
       "1246 0.000000 0.255414     1   \n",
       "1257 0.000000 0.255414     1   \n",
       "1599 0.000000 0.255414     1   \n",
       "1623 0.000000 0.255414     1   \n",
       "\n",
       "                                                                                                                                   text  \n",
       "74    i was of course wary of buying something as perishable as pine nuts over the internet whether from an amazon seller or not so ...  \n",
       "1246  the mushroom popcorn seemed to have about half pop nothing like the mushroom popcorn i've had before, it looks like regular po...  \n",
       "1257               can't find anything wrong with this product.  have used it twice already in baking and was pleased with the results.  \n",
       "1599  i shared these cookies with my family and we all enjoyed them.  as others have noted, they arrived in relatively poor conditio...  \n",
       "1623                                 this by far the tastiest popcorn we have ever had. had to buy it in bulk for as much as we eat it!  "
      ]
     },
     "metadata": {},
     "output_type": "display_data"
    },
    {
     "data": {
      "text/markdown": [
       "#### Classification report for decisiontreeclassifier"
      ]
     },
     "metadata": {},
     "output_type": "display_data"
    },
    {
     "name": "stdout",
     "output_type": "stream",
     "text": [
      "             precision    recall  f1-score   support\n",
      "\n",
      "   Negative       0.63      0.21      0.32       313\n",
      "   Positive       0.87      0.98      0.92      1687\n",
      "\n",
      "avg / total       0.83      0.86      0.83      2000\n",
      "\n"
     ]
    },
    {
     "data": {
      "image/png": "[encoded data removed]",
      "text/plain": [
       "<matplotlib.figure.Figure at 0x7f6306386ef0>"
      ]
     },
     "metadata": {},
     "output_type": "display_data"
    }
   ],
   "source": [
    "decision_tree_model = models.DecisionTreeModel(\n",
    "    nlp, dataset_id, \n",
    "    max_depth=6)\n",
    "\n",
    "accuracy = train_model_and_display_results(\n",
    "    decision_tree_model, \n",
    "    X_sklearn_preprocessed, \n",
    "    preprocessed=True)\n",
    "\n",
    "if SAVE_IN_STORE:\n",
    "    store.add_model(decision_tree_model, \"decision_tree_food\", \"Food Reviews Decision Tree\", metadata={\n",
    "        'Dataset': 'Amazon Fine Food Reviews',\n",
    "        'Training samples': len(X_sklearn_preprocessed),\n",
    "        'Accuracy': accuracy,\n",
    "        'Description': \"Decision Tree algorithm from Sklearn package.\"\n",
    "    })"
   ]
  },
  {
   "cell_type": "code",
   "execution_count": 12,
   "metadata": {
    "scrolled": false
   },
   "outputs": [
    {
     "data": {
      "text/markdown": [
       "## MLPModel"
      ]
     },
     "metadata": {},
     "output_type": "display_data"
    },
    {
     "data": {
      "text/markdown": [
       "#### Training"
      ]
     },
     "metadata": {},
     "output_type": "display_data"
    },
    {
     "name": "stdout",
     "output_type": "stream",
     "text": [
      "Loading model...\n",
      "Unable to load model, training...\n"
     ]
    },
    {
     "name": "stderr",
     "output_type": "stream",
     "text": [
      "/usr/local/lib/python3.5/dist-packages/sklearn/neural_network/multilayer_perceptron.py:912: DataConversionWarning: A column-vector y was passed when a 1d array was expected. Please change the shape of y to (n_samples, ), for example using ravel().\n",
      "  y = column_or_1d(y, warn=True)\n"
     ]
    },
    {
     "name": "stdout",
     "output_type": "stream",
     "text": [
      "Iteration 1, loss = 0.24745023\n",
      "Iteration 2, loss = 0.22102110\n",
      "Iteration 3, loss = 0.21298544\n",
      "Iteration 4, loss = 0.20709167\n",
      "Iteration 5, loss = 0.20243005\n",
      "Iteration 6, loss = 0.19886755\n",
      "Iteration 7, loss = 0.19579828\n",
      "Iteration 8, loss = 0.19338245\n",
      "Iteration 9, loss = 0.19129471\n",
      "Iteration 10, loss = 0.18887748\n",
      "Iteration 11, loss = 0.18712594\n",
      "Iteration 12, loss = 0.18533866\n",
      "Iteration 13, loss = 0.18379040\n",
      "Iteration 14, loss = 0.18219675\n",
      "Iteration 15, loss = 0.18109041\n",
      "Iteration 16, loss = 0.17967764\n",
      "Iteration 17, loss = 0.17839963\n",
      "Iteration 18, loss = 0.17719049\n",
      "Iteration 19, loss = 0.17640426\n",
      "Iteration 20, loss = 0.17530165\n",
      "Iteration 21, loss = 0.17435165\n",
      "Iteration 22, loss = 0.17362427\n",
      "Iteration 23, loss = 0.17287728\n",
      "Iteration 24, loss = 0.17235299\n",
      "Iteration 25, loss = 0.17138773\n",
      "Iteration 26, loss = 0.17049657\n",
      "Iteration 27, loss = 0.16978134\n",
      "Iteration 28, loss = 0.16901679\n",
      "Iteration 29, loss = 0.16842731\n",
      "Iteration 30, loss = 0.16796811\n",
      "Iteration 31, loss = 0.16750243\n",
      "Iteration 32, loss = 0.16694148\n",
      "Iteration 33, loss = 0.16600944\n",
      "Iteration 34, loss = 0.16567918\n",
      "Iteration 35, loss = 0.16498678\n",
      "Iteration 36, loss = 0.16454852\n",
      "Iteration 37, loss = 0.16414313\n",
      "Iteration 38, loss = 0.16326184\n",
      "Iteration 39, loss = 0.16330742\n",
      "Iteration 40, loss = 0.16267891\n",
      "Iteration 41, loss = 0.16197662\n",
      "Iteration 42, loss = 0.16137001\n",
      "Iteration 43, loss = 0.16131363\n",
      "Iteration 44, loss = 0.16058211\n",
      "Iteration 45, loss = 0.16045262\n",
      "Iteration 46, loss = 0.15971745\n",
      "Iteration 47, loss = 0.15954846\n",
      "Iteration 48, loss = 0.15902022\n",
      "Iteration 49, loss = 0.15888963\n",
      "Iteration 50, loss = 0.15812633\n",
      "Model 'mlpclassifier_food_text_all_80b0dabd.pkl' saved\n"
     ]
    },
    {
     "name": "stderr",
     "output_type": "stream",
     "text": [
      "/usr/local/lib/python3.5/dist-packages/sklearn/neural_network/multilayer_perceptron.py:564: ConvergenceWarning: Stochastic Optimizer: Maximum iterations (50) reached and the optimization hasn't converged yet.\n",
      "  % self.max_iter, ConvergenceWarning)\n"
     ]
    },
    {
     "data": {
      "text/markdown": [
       "#### Overview of created model"
      ]
     },
     "metadata": {},
     "output_type": "display_data"
    },
    {
     "data": {
      "text/plain": [
       "MLPClassifier(activation='relu', alpha=0.0001, batch_size='auto', beta_1=0.9,\n",
       "       beta_2=0.999, early_stopping=False, epsilon=1e-08,\n",
       "       hidden_layer_sizes=(50, 50), learning_rate='constant',\n",
       "       learning_rate_init=0.001, max_iter=50, momentum=0.9,\n",
       "       nesterovs_momentum=True, power_t=0.5, random_state=None,\n",
       "       shuffle=True, solver='adam', tol=0.0001, validation_fraction=0.1,\n",
       "       verbose=True, warm_start=False)"
      ]
     },
     "metadata": {},
     "output_type": "display_data"
    },
    {
     "data": {
      "text/markdown": [
       "#### Model results"
      ]
     },
     "metadata": {},
     "output_type": "display_data"
    },
    {
     "data": {
      "text/markdown": [
       "#### Predicted scores"
      ]
     },
     "metadata": {},
     "output_type": "display_data"
    },
    {
     "data": {
      "text/html": [
       "<div>\n",
       "<style scoped>\n",
       "    .dataframe tbody tr th:only-of-type {\n",
       "        vertical-align: middle;\n",
       "    }\n",
       "\n",
       "    .dataframe tbody tr th {\n",
       "        vertical-align: top;\n",
       "    }\n",
       "\n",
       "    .dataframe thead th {\n",
       "        text-align: right;\n",
       "    }\n",
       "</style>\n",
       "<table border=\"1\" class=\"dataframe\">\n",
       "  <thead>\n",
       "    <tr style=\"text-align: right;\">\n",
       "      <th></th>\n",
       "      <th>score</th>\n",
       "      <th>text</th>\n",
       "    </tr>\n",
       "  </thead>\n",
       "  <tbody>\n",
       "    <tr>\n",
       "      <th>0</th>\n",
       "      <td>0.998713</td>\n",
       "      <td>We went there to eat dinner, and it was delicious</td>\n",
       "    </tr>\n",
       "    <tr>\n",
       "      <th>1</th>\n",
       "      <td>0.999991</td>\n",
       "      <td>One of the best suppers I've ever eaten</td>\n",
       "    </tr>\n",
       "    <tr>\n",
       "      <th>2</th>\n",
       "      <td>0.000086</td>\n",
       "      <td>Totally disgusting dish. I think cook made this with his eyes closed</td>\n",
       "    </tr>\n",
       "  </tbody>\n",
       "</table>\n",
       "</div>"
      ],
      "text/plain": [
       "      score  \\\n",
       "0  0.998713   \n",
       "1  0.999991   \n",
       "2  0.000086   \n",
       "\n",
       "                                                                   text  \n",
       "0  We went there to eat dinner, and it was delicious                     \n",
       "1  One of the best suppers I've ever eaten                               \n",
       "2  Totally disgusting dish. I think cook made this with his eyes closed  "
      ]
     },
     "metadata": {},
     "output_type": "display_data"
    },
    {
     "data": {
      "text/markdown": [
       "#### Highest 5"
      ]
     },
     "metadata": {},
     "output_type": "display_data"
    },
    {
     "data": {
      "text/html": [
       "<div>\n",
       "<style scoped>\n",
       "    .dataframe tbody tr th:only-of-type {\n",
       "        vertical-align: middle;\n",
       "    }\n",
       "\n",
       "    .dataframe tbody tr th {\n",
       "        vertical-align: top;\n",
       "    }\n",
       "\n",
       "    .dataframe thead th {\n",
       "        text-align: right;\n",
       "    }\n",
       "</style>\n",
       "<table border=\"1\" class=\"dataframe\">\n",
       "  <thead>\n",
       "    <tr style=\"text-align: right;\">\n",
       "      <th></th>\n",
       "      <th>pred</th>\n",
       "      <th>prob</th>\n",
       "      <th>real</th>\n",
       "      <th>text</th>\n",
       "    </tr>\n",
       "  </thead>\n",
       "  <tbody>\n",
       "    <tr>\n",
       "      <th>1905</th>\n",
       "      <td>1.000000</td>\n",
       "      <td>1.000000</td>\n",
       "      <td>1</td>\n",
       "      <td>this is the best tea in the world  brings back childhood memories</td>\n",
       "    </tr>\n",
       "    <tr>\n",
       "      <th>1383</th>\n",
       "      <td>1.000000</td>\n",
       "      <td>1.000000</td>\n",
       "      <td>1</td>\n",
       "      <td>these are great training &amp; reinforcement treats. my dogs love them and they are a good bargain. highly recommend them!</td>\n",
       "    </tr>\n",
       "    <tr>\n",
       "      <th>1865</th>\n",
       "      <td>1.000000</td>\n",
       "      <td>1.000000</td>\n",
       "      <td>1</td>\n",
       "      <td>simply frabjous and brillig!!&lt;br /&gt;&lt;br /&gt;great treat for anyone who loves great chocolate from belgium.</td>\n",
       "    </tr>\n",
       "    <tr>\n",
       "      <th>539</th>\n",
       "      <td>1.000000</td>\n",
       "      <td>1.000000</td>\n",
       "      <td>1</td>\n",
       "      <td>great natural treat for my cat, whose health i want to keep strong for many years. and he loves them!!!</td>\n",
       "    </tr>\n",
       "    <tr>\n",
       "      <th>354</th>\n",
       "      <td>1.000000</td>\n",
       "      <td>1.000000</td>\n",
       "      <td>1</td>\n",
       "      <td>we love this tray. it is very sturdy and holds just enough k cups. i would recommend this to everyone</td>\n",
       "    </tr>\n",
       "  </tbody>\n",
       "</table>\n",
       "</div>"
      ],
      "text/plain": [
       "         pred     prob  real  \\\n",
       "1905 1.000000 1.000000     1   \n",
       "1383 1.000000 1.000000     1   \n",
       "1865 1.000000 1.000000     1   \n",
       "539  1.000000 1.000000     1   \n",
       "354  1.000000 1.000000     1   \n",
       "\n",
       "                                                                                                                        text  \n",
       "1905                                                       this is the best tea in the world  brings back childhood memories  \n",
       "1383  these are great training & reinforcement treats. my dogs love them and they are a good bargain. highly recommend them!  \n",
       "1865                 simply frabjous and brillig!!<br /><br />great treat for anyone who loves great chocolate from belgium.  \n",
       "539                  great natural treat for my cat, whose health i want to keep strong for many years. and he loves them!!!  \n",
       "354                    we love this tray. it is very sturdy and holds just enough k cups. i would recommend this to everyone  "
      ]
     },
     "metadata": {},
     "output_type": "display_data"
    },
    {
     "data": {
      "text/markdown": [
       "#### Lowest 5"
      ]
     },
     "metadata": {},
     "output_type": "display_data"
    },
    {
     "data": {
      "text/html": [
       "<div>\n",
       "<style scoped>\n",
       "    .dataframe tbody tr th:only-of-type {\n",
       "        vertical-align: middle;\n",
       "    }\n",
       "\n",
       "    .dataframe tbody tr th {\n",
       "        vertical-align: top;\n",
       "    }\n",
       "\n",
       "    .dataframe thead th {\n",
       "        text-align: right;\n",
       "    }\n",
       "</style>\n",
       "<table border=\"1\" class=\"dataframe\">\n",
       "  <thead>\n",
       "    <tr style=\"text-align: right;\">\n",
       "      <th></th>\n",
       "      <th>pred</th>\n",
       "      <th>prob</th>\n",
       "      <th>real</th>\n",
       "      <th>text</th>\n",
       "    </tr>\n",
       "  </thead>\n",
       "  <tbody>\n",
       "    <tr>\n",
       "      <th>625</th>\n",
       "      <td>0.000000</td>\n",
       "      <td>0.000077</td>\n",
       "      <td>0</td>\n",
       "      <td>taste delicious but loaded with hydrogenated oil.hydrogenated oil is synthetically made trans fats  that has been molecularly ...</td>\n",
       "    </tr>\n",
       "    <tr>\n",
       "      <th>510</th>\n",
       "      <td>0.000000</td>\n",
       "      <td>0.000149</td>\n",
       "      <td>0</td>\n",
       "      <td>bought the teriyaki flavor .....totally gross,&lt;br /&gt;&lt;br /&gt;do not waste your money on this slimy stuff.... could barely finish ...</td>\n",
       "    </tr>\n",
       "    <tr>\n",
       "      <th>1939</th>\n",
       "      <td>0.000000</td>\n",
       "      <td>0.000159</td>\n",
       "      <td>1</td>\n",
       "      <td>i place an order on july 11, 2011 of 15 (12 pack e/a) of vita coco coconut water with this horrible company \"goshoptnt\" and i ...</td>\n",
       "    </tr>\n",
       "    <tr>\n",
       "      <th>850</th>\n",
       "      <td>0.000000</td>\n",
       "      <td>0.000163</td>\n",
       "      <td>0</td>\n",
       "      <td>the cote d'or dark 86% brut chocolate cocoa, 3.5-ounce bars (pack of 10) is close to the worst chocolate i have eaten, if not ...</td>\n",
       "    </tr>\n",
       "    <tr>\n",
       "      <th>1570</th>\n",
       "      <td>0.000000</td>\n",
       "      <td>0.000224</td>\n",
       "      <td>0</td>\n",
       "      <td>these were not good at all... too spicy. too \"limey\"... the crunch factor was really awful... felt like my teeth were going to...</td>\n",
       "    </tr>\n",
       "  </tbody>\n",
       "</table>\n",
       "</div>"
      ],
      "text/plain": [
       "         pred     prob  real  \\\n",
       "625  0.000000 0.000077     0   \n",
       "510  0.000000 0.000149     0   \n",
       "1939 0.000000 0.000159     1   \n",
       "850  0.000000 0.000163     0   \n",
       "1570 0.000000 0.000224     0   \n",
       "\n",
       "                                                                                                                                   text  \n",
       "625   taste delicious but loaded with hydrogenated oil.hydrogenated oil is synthetically made trans fats  that has been molecularly ...  \n",
       "510   bought the teriyaki flavor .....totally gross,<br /><br />do not waste your money on this slimy stuff.... could barely finish ...  \n",
       "1939  i place an order on july 11, 2011 of 15 (12 pack e/a) of vita coco coconut water with this horrible company \"goshoptnt\" and i ...  \n",
       "850   the cote d'or dark 86% brut chocolate cocoa, 3.5-ounce bars (pack of 10) is close to the worst chocolate i have eaten, if not ...  \n",
       "1570  these were not good at all... too spicy. too \"limey\"... the crunch factor was really awful... felt like my teeth were going to...  "
      ]
     },
     "metadata": {},
     "output_type": "display_data"
    },
    {
     "data": {
      "text/markdown": [
       "#### Highest 5 mispredicted"
      ]
     },
     "metadata": {},
     "output_type": "display_data"
    },
    {
     "data": {
      "text/html": [
       "<div>\n",
       "<style scoped>\n",
       "    .dataframe tbody tr th:only-of-type {\n",
       "        vertical-align: middle;\n",
       "    }\n",
       "\n",
       "    .dataframe tbody tr th {\n",
       "        vertical-align: top;\n",
       "    }\n",
       "\n",
       "    .dataframe thead th {\n",
       "        text-align: right;\n",
       "    }\n",
       "</style>\n",
       "<table border=\"1\" class=\"dataframe\">\n",
       "  <thead>\n",
       "    <tr style=\"text-align: right;\">\n",
       "      <th></th>\n",
       "      <th>pred</th>\n",
       "      <th>prob</th>\n",
       "      <th>real</th>\n",
       "      <th>text</th>\n",
       "    </tr>\n",
       "  </thead>\n",
       "  <tbody>\n",
       "    <tr>\n",
       "      <th>1714</th>\n",
       "      <td>1.000000</td>\n",
       "      <td>0.999050</td>\n",
       "      <td>0</td>\n",
       "      <td>not so great lemon flavor!&lt;br /&gt;it's very hard to find soy free!&lt;br /&gt;this is a great brand! i prefer the ginger much better t...</td>\n",
       "    </tr>\n",
       "    <tr>\n",
       "      <th>1894</th>\n",
       "      <td>1.000000</td>\n",
       "      <td>0.996103</td>\n",
       "      <td>0</td>\n",
       "      <td>my 10-month old loves these! they are helpful to teach him how to eat and relieve pain from teething, too. look around for a b...</td>\n",
       "    </tr>\n",
       "    <tr>\n",
       "      <th>885</th>\n",
       "      <td>1.000000</td>\n",
       "      <td>0.995986</td>\n",
       "      <td>0</td>\n",
       "      <td>i usually make my own ginger-lemon tea, most often to keep colds at bay (as per the recommendation of kimberly snyder in &lt;a hr...</td>\n",
       "    </tr>\n",
       "    <tr>\n",
       "      <th>1261</th>\n",
       "      <td>1.000000</td>\n",
       "      <td>0.986047</td>\n",
       "      <td>0</td>\n",
       "      <td>these granola bars taste good, but they aren't kidding when they say that they're crunchy.&lt;br /&gt;&lt;br /&gt;i'm a little worried tha...</td>\n",
       "    </tr>\n",
       "    <tr>\n",
       "      <th>1640</th>\n",
       "      <td>1.000000</td>\n",
       "      <td>0.981178</td>\n",
       "      <td>0</td>\n",
       "      <td>thank you, amazon for carrying this! it's the only beverage aside from water that my husband will drink.&lt;br /&gt;&lt;br /&gt;going back...</td>\n",
       "    </tr>\n",
       "  </tbody>\n",
       "</table>\n",
       "</div>"
      ],
      "text/plain": [
       "         pred     prob  real  \\\n",
       "1714 1.000000 0.999050     0   \n",
       "1894 1.000000 0.996103     0   \n",
       "885  1.000000 0.995986     0   \n",
       "1261 1.000000 0.986047     0   \n",
       "1640 1.000000 0.981178     0   \n",
       "\n",
       "                                                                                                                                   text  \n",
       "1714  not so great lemon flavor!<br />it's very hard to find soy free!<br />this is a great brand! i prefer the ginger much better t...  \n",
       "1894  my 10-month old loves these! they are helpful to teach him how to eat and relieve pain from teething, too. look around for a b...  \n",
       "885   i usually make my own ginger-lemon tea, most often to keep colds at bay (as per the recommendation of kimberly snyder in <a hr...  \n",
       "1261  these granola bars taste good, but they aren't kidding when they say that they're crunchy.<br /><br />i'm a little worried tha...  \n",
       "1640  thank you, amazon for carrying this! it's the only beverage aside from water that my husband will drink.<br /><br />going back...  "
      ]
     },
     "metadata": {},
     "output_type": "display_data"
    },
    {
     "data": {
      "text/markdown": [
       "#### Lowest 5 mispredicted"
      ]
     },
     "metadata": {},
     "output_type": "display_data"
    },
    {
     "data": {
      "text/html": [
       "<div>\n",
       "<style scoped>\n",
       "    .dataframe tbody tr th:only-of-type {\n",
       "        vertical-align: middle;\n",
       "    }\n",
       "\n",
       "    .dataframe tbody tr th {\n",
       "        vertical-align: top;\n",
       "    }\n",
       "\n",
       "    .dataframe thead th {\n",
       "        text-align: right;\n",
       "    }\n",
       "</style>\n",
       "<table border=\"1\" class=\"dataframe\">\n",
       "  <thead>\n",
       "    <tr style=\"text-align: right;\">\n",
       "      <th></th>\n",
       "      <th>pred</th>\n",
       "      <th>prob</th>\n",
       "      <th>real</th>\n",
       "      <th>text</th>\n",
       "    </tr>\n",
       "  </thead>\n",
       "  <tbody>\n",
       "    <tr>\n",
       "      <th>1939</th>\n",
       "      <td>0.000000</td>\n",
       "      <td>0.000159</td>\n",
       "      <td>1</td>\n",
       "      <td>i place an order on july 11, 2011 of 15 (12 pack e/a) of vita coco coconut water with this horrible company \"goshoptnt\" and i ...</td>\n",
       "    </tr>\n",
       "    <tr>\n",
       "      <th>556</th>\n",
       "      <td>0.000000</td>\n",
       "      <td>0.001230</td>\n",
       "      <td>1</td>\n",
       "      <td>okay when i go to the beach i have to scrape barnacles off the side of my dad's boat- slimy, sticky, smelly barnacles.  please...</td>\n",
       "    </tr>\n",
       "    <tr>\n",
       "      <th>1801</th>\n",
       "      <td>0.000000</td>\n",
       "      <td>0.008434</td>\n",
       "      <td>1</td>\n",
       "      <td>as a diabetic it is constantly difficult to access saccaran products with all the phoney nutrasweet products being shelved ins...</td>\n",
       "    </tr>\n",
       "    <tr>\n",
       "      <th>723</th>\n",
       "      <td>0.000000</td>\n",
       "      <td>0.008979</td>\n",
       "      <td>1</td>\n",
       "      <td>these peppers are indeed very hot.  when i first opened the package and took one of the peppers out to try i nibbled on just a...</td>\n",
       "    </tr>\n",
       "    <tr>\n",
       "      <th>74</th>\n",
       "      <td>0.000000</td>\n",
       "      <td>0.011913</td>\n",
       "      <td>1</td>\n",
       "      <td>i was of course wary of buying something as perishable as pine nuts over the internet whether from an amazon seller or not so ...</td>\n",
       "    </tr>\n",
       "  </tbody>\n",
       "</table>\n",
       "</div>"
      ],
      "text/plain": [
       "         pred     prob  real  \\\n",
       "1939 0.000000 0.000159     1   \n",
       "556  0.000000 0.001230     1   \n",
       "1801 0.000000 0.008434     1   \n",
       "723  0.000000 0.008979     1   \n",
       "74   0.000000 0.011913     1   \n",
       "\n",
       "                                                                                                                                   text  \n",
       "1939  i place an order on july 11, 2011 of 15 (12 pack e/a) of vita coco coconut water with this horrible company \"goshoptnt\" and i ...  \n",
       "556   okay when i go to the beach i have to scrape barnacles off the side of my dad's boat- slimy, sticky, smelly barnacles.  please...  \n",
       "1801  as a diabetic it is constantly difficult to access saccaran products with all the phoney nutrasweet products being shelved ins...  \n",
       "723   these peppers are indeed very hot.  when i first opened the package and took one of the peppers out to try i nibbled on just a...  \n",
       "74    i was of course wary of buying something as perishable as pine nuts over the internet whether from an amazon seller or not so ...  "
      ]
     },
     "metadata": {},
     "output_type": "display_data"
    },
    {
     "data": {
      "text/markdown": [
       "#### Classification report for mlpclassifier"
      ]
     },
     "metadata": {},
     "output_type": "display_data"
    },
    {
     "name": "stdout",
     "output_type": "stream",
     "text": [
      "             precision    recall  f1-score   support\n",
      "\n",
      "   Negative       0.81      0.76      0.78       313\n",
      "   Positive       0.96      0.97      0.96      1687\n",
      "\n",
      "avg / total       0.93      0.93      0.93      2000\n",
      "\n"
     ]
    },
    {
     "data": {
      "image/png": "[encoded data removed]",
      "text/plain": [
       "<matplotlib.figure.Figure at 0x7f6306584208>"
      ]
     },
     "metadata": {},
     "output_type": "display_data"
    }
   ],
   "source": [
    "mlp_model = models.MLPModel(\n",
    "    nlp, dataset_id,\n",
    "    hidden_layer_sizes=(50, 50), \n",
    "    max_iter=50, \n",
    "    verbose=True)\n",
    "\n",
    "accuracy = train_model_and_display_results(\n",
    "    mlp_model,\n",
    "    X_sklearn_preprocessed, \n",
    "    preprocessed=True\n",
    ")\n",
    "\n",
    "if SAVE_IN_STORE:\n",
    "    store.add_model(mlp_model, \"mlp_food\", \"Food Reviews Multi-Layer Perceptron\", metadata={\n",
    "        'Dataset': 'Amazon Fine Food Reviews',\n",
    "        'Training samples': len(X_sklearn_preprocessed),\n",
    "        'Accuracy': accuracy,\n",
    "        'Description': \"MLP algorithm from Sklearn package, with 50x50 hidden layers sizes\"\n",
    "    })"
   ]
  },
  {
   "cell_type": "code",
   "execution_count": 13,
   "metadata": {
    "scrolled": false
   },
   "outputs": [
    {
     "data": {
      "text/markdown": [
       "## GaussianNBModel"
      ]
     },
     "metadata": {},
     "output_type": "display_data"
    },
    {
     "data": {
      "text/markdown": [
       "#### Training"
      ]
     },
     "metadata": {},
     "output_type": "display_data"
    },
    {
     "name": "stdout",
     "output_type": "stream",
     "text": [
      "Loading model...\n",
      "Model 'gaussiannb_food_text_all_d41d8cd9.pkl' loaded\n"
     ]
    },
    {
     "data": {
      "text/markdown": [
       "#### Overview of created model"
      ]
     },
     "metadata": {},
     "output_type": "display_data"
    },
    {
     "data": {
      "text/plain": [
       "GaussianNB(priors=None)"
      ]
     },
     "metadata": {},
     "output_type": "display_data"
    },
    {
     "data": {
      "text/markdown": [
       "#### Model results"
      ]
     },
     "metadata": {},
     "output_type": "display_data"
    },
    {
     "data": {
      "text/markdown": [
       "#### Predicted scores"
      ]
     },
     "metadata": {},
     "output_type": "display_data"
    },
    {
     "data": {
      "text/html": [
       "<div>\n",
       "<style scoped>\n",
       "    .dataframe tbody tr th:only-of-type {\n",
       "        vertical-align: middle;\n",
       "    }\n",
       "\n",
       "    .dataframe tbody tr th {\n",
       "        vertical-align: top;\n",
       "    }\n",
       "\n",
       "    .dataframe thead th {\n",
       "        text-align: right;\n",
       "    }\n",
       "</style>\n",
       "<table border=\"1\" class=\"dataframe\">\n",
       "  <thead>\n",
       "    <tr style=\"text-align: right;\">\n",
       "      <th></th>\n",
       "      <th>score</th>\n",
       "      <th>text</th>\n",
       "    </tr>\n",
       "  </thead>\n",
       "  <tbody>\n",
       "    <tr>\n",
       "      <th>0</th>\n",
       "      <td>1.000000</td>\n",
       "      <td>We went there to eat dinner, and it was delicious</td>\n",
       "    </tr>\n",
       "    <tr>\n",
       "      <th>1</th>\n",
       "      <td>1.000000</td>\n",
       "      <td>One of the best suppers I've ever eaten</td>\n",
       "    </tr>\n",
       "    <tr>\n",
       "      <th>2</th>\n",
       "      <td>0.999999</td>\n",
       "      <td>Totally disgusting dish. I think cook made this with his eyes closed</td>\n",
       "    </tr>\n",
       "  </tbody>\n",
       "</table>\n",
       "</div>"
      ],
      "text/plain": [
       "      score  \\\n",
       "0  1.000000   \n",
       "1  1.000000   \n",
       "2  0.999999   \n",
       "\n",
       "                                                                   text  \n",
       "0  We went there to eat dinner, and it was delicious                     \n",
       "1  One of the best suppers I've ever eaten                               \n",
       "2  Totally disgusting dish. I think cook made this with his eyes closed  "
      ]
     },
     "metadata": {},
     "output_type": "display_data"
    },
    {
     "data": {
      "text/markdown": [
       "#### Highest 5"
      ]
     },
     "metadata": {},
     "output_type": "display_data"
    },
    {
     "data": {
      "text/html": [
       "<div>\n",
       "<style scoped>\n",
       "    .dataframe tbody tr th:only-of-type {\n",
       "        vertical-align: middle;\n",
       "    }\n",
       "\n",
       "    .dataframe tbody tr th {\n",
       "        vertical-align: top;\n",
       "    }\n",
       "\n",
       "    .dataframe thead th {\n",
       "        text-align: right;\n",
       "    }\n",
       "</style>\n",
       "<table border=\"1\" class=\"dataframe\">\n",
       "  <thead>\n",
       "    <tr style=\"text-align: right;\">\n",
       "      <th></th>\n",
       "      <th>pred</th>\n",
       "      <th>prob</th>\n",
       "      <th>real</th>\n",
       "      <th>text</th>\n",
       "    </tr>\n",
       "  </thead>\n",
       "  <tbody>\n",
       "    <tr>\n",
       "      <th>7</th>\n",
       "      <td>1.000000</td>\n",
       "      <td>1.000000</td>\n",
       "      <td>1</td>\n",
       "      <td>i love mott's healthy harvest applesauce cups. it is only fruit-no added sugar. these are blueberry, but in stores you can als...</td>\n",
       "    </tr>\n",
       "    <tr>\n",
       "      <th>19</th>\n",
       "      <td>1.000000</td>\n",
       "      <td>1.000000</td>\n",
       "      <td>1</td>\n",
       "      <td>this is the best red rooibos tea i have found!! recommend it to all my friends...</td>\n",
       "    </tr>\n",
       "    <tr>\n",
       "      <th>23</th>\n",
       "      <td>1.000000</td>\n",
       "      <td>1.000000</td>\n",
       "      <td>1</td>\n",
       "      <td>these are a favorite candy treat but, for some reason, unavailable in local stores.  delivery was in good time.</td>\n",
       "    </tr>\n",
       "    <tr>\n",
       "      <th>32</th>\n",
       "      <td>1.000000</td>\n",
       "      <td>1.000000</td>\n",
       "      <td>1</td>\n",
       "      <td>we love this mix!  we use the muffin recipe on back and make donuts with our electric donut maker~yum. all the recipes on back...</td>\n",
       "    </tr>\n",
       "    <tr>\n",
       "      <th>33</th>\n",
       "      <td>1.000000</td>\n",
       "      <td>1.000000</td>\n",
       "      <td>1</td>\n",
       "      <td>the best horseradish cheese i've ever tasted, i'm addicted. it's spicy and creamy. if you love horseradish this is a product y...</td>\n",
       "    </tr>\n",
       "  </tbody>\n",
       "</table>\n",
       "</div>"
      ],
      "text/plain": [
       "       pred     prob  real  \\\n",
       "7  1.000000 1.000000     1   \n",
       "19 1.000000 1.000000     1   \n",
       "23 1.000000 1.000000     1   \n",
       "32 1.000000 1.000000     1   \n",
       "33 1.000000 1.000000     1   \n",
       "\n",
       "                                                                                                                                 text  \n",
       "7   i love mott's healthy harvest applesauce cups. it is only fruit-no added sugar. these are blueberry, but in stores you can als...  \n",
       "19                                                  this is the best red rooibos tea i have found!! recommend it to all my friends...  \n",
       "23                    these are a favorite candy treat but, for some reason, unavailable in local stores.  delivery was in good time.  \n",
       "32  we love this mix!  we use the muffin recipe on back and make donuts with our electric donut maker~yum. all the recipes on back...  \n",
       "33  the best horseradish cheese i've ever tasted, i'm addicted. it's spicy and creamy. if you love horseradish this is a product y...  "
      ]
     },
     "metadata": {},
     "output_type": "display_data"
    },
    {
     "data": {
      "text/markdown": [
       "#### Lowest 5"
      ]
     },
     "metadata": {},
     "output_type": "display_data"
    },
    {
     "data": {
      "text/html": [
       "<div>\n",
       "<style scoped>\n",
       "    .dataframe tbody tr th:only-of-type {\n",
       "        vertical-align: middle;\n",
       "    }\n",
       "\n",
       "    .dataframe tbody tr th {\n",
       "        vertical-align: top;\n",
       "    }\n",
       "\n",
       "    .dataframe thead th {\n",
       "        text-align: right;\n",
       "    }\n",
       "</style>\n",
       "<table border=\"1\" class=\"dataframe\">\n",
       "  <thead>\n",
       "    <tr style=\"text-align: right;\">\n",
       "      <th></th>\n",
       "      <th>pred</th>\n",
       "      <th>prob</th>\n",
       "      <th>real</th>\n",
       "      <th>text</th>\n",
       "    </tr>\n",
       "  </thead>\n",
       "  <tbody>\n",
       "    <tr>\n",
       "      <th>544</th>\n",
       "      <td>0.000000</td>\n",
       "      <td>0.000000</td>\n",
       "      <td>0</td>\n",
       "      <td>i really hesitate to leave a negative review since we love the chips, but both of the last 2 shipments were destroyed.  both b...</td>\n",
       "    </tr>\n",
       "    <tr>\n",
       "      <th>811</th>\n",
       "      <td>0.000000</td>\n",
       "      <td>0.000000</td>\n",
       "      <td>1</td>\n",
       "      <td>i had mole problems and i killed the bugs.  i had killed the whole yard to replant and don't know if there were less bugs in t...</td>\n",
       "    </tr>\n",
       "    <tr>\n",
       "      <th>1462</th>\n",
       "      <td>0.000000</td>\n",
       "      <td>0.000000</td>\n",
       "      <td>0</td>\n",
       "      <td>i hope someone in charge of this sale reads this, because of all the cans in the two cases of soup i ordered, easily 75% of th...</td>\n",
       "    </tr>\n",
       "    <tr>\n",
       "      <th>1367</th>\n",
       "      <td>0.000000</td>\n",
       "      <td>0.000000</td>\n",
       "      <td>0</td>\n",
       "      <td>i have bought three bottles of this product. i have not felt any better; most of the time, i have felt much worse. i was under...</td>\n",
       "    </tr>\n",
       "    <tr>\n",
       "      <th>1834</th>\n",
       "      <td>0.000000</td>\n",
       "      <td>0.000000</td>\n",
       "      <td>0</td>\n",
       "      <td>i got the case of beans in the mail yesterday.  today when i got a chance to open the box, every single can was dented.  the s...</td>\n",
       "    </tr>\n",
       "  </tbody>\n",
       "</table>\n",
       "</div>"
      ],
      "text/plain": [
       "         pred     prob  real  \\\n",
       "544  0.000000 0.000000     0   \n",
       "811  0.000000 0.000000     1   \n",
       "1462 0.000000 0.000000     0   \n",
       "1367 0.000000 0.000000     0   \n",
       "1834 0.000000 0.000000     0   \n",
       "\n",
       "                                                                                                                                   text  \n",
       "544   i really hesitate to leave a negative review since we love the chips, but both of the last 2 shipments were destroyed.  both b...  \n",
       "811   i had mole problems and i killed the bugs.  i had killed the whole yard to replant and don't know if there were less bugs in t...  \n",
       "1462  i hope someone in charge of this sale reads this, because of all the cans in the two cases of soup i ordered, easily 75% of th...  \n",
       "1367  i have bought three bottles of this product. i have not felt any better; most of the time, i have felt much worse. i was under...  \n",
       "1834  i got the case of beans in the mail yesterday.  today when i got a chance to open the box, every single can was dented.  the s...  "
      ]
     },
     "metadata": {},
     "output_type": "display_data"
    },
    {
     "data": {
      "text/markdown": [
       "#### Highest 5 mispredicted"
      ]
     },
     "metadata": {},
     "output_type": "display_data"
    },
    {
     "data": {
      "text/html": [
       "<div>\n",
       "<style scoped>\n",
       "    .dataframe tbody tr th:only-of-type {\n",
       "        vertical-align: middle;\n",
       "    }\n",
       "\n",
       "    .dataframe tbody tr th {\n",
       "        vertical-align: top;\n",
       "    }\n",
       "\n",
       "    .dataframe thead th {\n",
       "        text-align: right;\n",
       "    }\n",
       "</style>\n",
       "<table border=\"1\" class=\"dataframe\">\n",
       "  <thead>\n",
       "    <tr style=\"text-align: right;\">\n",
       "      <th></th>\n",
       "      <th>pred</th>\n",
       "      <th>prob</th>\n",
       "      <th>real</th>\n",
       "      <th>text</th>\n",
       "    </tr>\n",
       "  </thead>\n",
       "  <tbody>\n",
       "    <tr>\n",
       "      <th>364</th>\n",
       "      <td>1.000000</td>\n",
       "      <td>1.000000</td>\n",
       "      <td>0</td>\n",
       "      <td>this chai latte mix is weak and not creamy.  for starbucks like taste, try the big train canister.</td>\n",
       "    </tr>\n",
       "    <tr>\n",
       "      <th>440</th>\n",
       "      <td>1.000000</td>\n",
       "      <td>1.000000</td>\n",
       "      <td>0</td>\n",
       "      <td>these have a great crunch and it's great that it's low fat. however, it's way too salty. 280mg per serving is more than twice ...</td>\n",
       "    </tr>\n",
       "    <tr>\n",
       "      <th>998</th>\n",
       "      <td>1.000000</td>\n",
       "      <td>1.000000</td>\n",
       "      <td>0</td>\n",
       "      <td>wolfgang puck's \"breakfast in bed\" is a much more flavorful and robust medium roast than this one.</td>\n",
       "    </tr>\n",
       "    <tr>\n",
       "      <th>1137</th>\n",
       "      <td>1.000000</td>\n",
       "      <td>1.000000</td>\n",
       "      <td>0</td>\n",
       "      <td>dry, tasteless. no carrot flavor. no spice flavor. go raw has some awesome cookies. this is not one of them. stay with the lem...</td>\n",
       "    </tr>\n",
       "    <tr>\n",
       "      <th>1256</th>\n",
       "      <td>1.000000</td>\n",
       "      <td>1.000000</td>\n",
       "      <td>0</td>\n",
       "      <td>these crackers have no flavor what so ever and for 100 calories you get the same amount as the nabisco 100 calorie cookies. sa...</td>\n",
       "    </tr>\n",
       "  </tbody>\n",
       "</table>\n",
       "</div>"
      ],
      "text/plain": [
       "         pred     prob  real  \\\n",
       "364  1.000000 1.000000     0   \n",
       "440  1.000000 1.000000     0   \n",
       "998  1.000000 1.000000     0   \n",
       "1137 1.000000 1.000000     0   \n",
       "1256 1.000000 1.000000     0   \n",
       "\n",
       "                                                                                                                                   text  \n",
       "364                                  this chai latte mix is weak and not creamy.  for starbucks like taste, try the big train canister.  \n",
       "440   these have a great crunch and it's great that it's low fat. however, it's way too salty. 280mg per serving is more than twice ...  \n",
       "998                                  wolfgang puck's \"breakfast in bed\" is a much more flavorful and robust medium roast than this one.  \n",
       "1137  dry, tasteless. no carrot flavor. no spice flavor. go raw has some awesome cookies. this is not one of them. stay with the lem...  \n",
       "1256  these crackers have no flavor what so ever and for 100 calories you get the same amount as the nabisco 100 calorie cookies. sa...  "
      ]
     },
     "metadata": {},
     "output_type": "display_data"
    },
    {
     "data": {
      "text/markdown": [
       "#### Lowest 5 mispredicted"
      ]
     },
     "metadata": {},
     "output_type": "display_data"
    },
    {
     "data": {
      "text/html": [
       "<div>\n",
       "<style scoped>\n",
       "    .dataframe tbody tr th:only-of-type {\n",
       "        vertical-align: middle;\n",
       "    }\n",
       "\n",
       "    .dataframe tbody tr th {\n",
       "        vertical-align: top;\n",
       "    }\n",
       "\n",
       "    .dataframe thead th {\n",
       "        text-align: right;\n",
       "    }\n",
       "</style>\n",
       "<table border=\"1\" class=\"dataframe\">\n",
       "  <thead>\n",
       "    <tr style=\"text-align: right;\">\n",
       "      <th></th>\n",
       "      <th>pred</th>\n",
       "      <th>prob</th>\n",
       "      <th>real</th>\n",
       "      <th>text</th>\n",
       "    </tr>\n",
       "  </thead>\n",
       "  <tbody>\n",
       "    <tr>\n",
       "      <th>811</th>\n",
       "      <td>0.000000</td>\n",
       "      <td>0.000000</td>\n",
       "      <td>1</td>\n",
       "      <td>i had mole problems and i killed the bugs.  i had killed the whole yard to replant and don't know if there were less bugs in t...</td>\n",
       "    </tr>\n",
       "    <tr>\n",
       "      <th>142</th>\n",
       "      <td>0.000000</td>\n",
       "      <td>0.000000</td>\n",
       "      <td>1</td>\n",
       "      <td>okay, i jumped the gun, because they were sending me the review information, before i received my chips, so i thought i would ...</td>\n",
       "    </tr>\n",
       "    <tr>\n",
       "      <th>902</th>\n",
       "      <td>0.000000</td>\n",
       "      <td>0.000000</td>\n",
       "      <td>1</td>\n",
       "      <td>i bought a 'jar' because its sweetened with xylitol. i was skeptical after my first piece. yes the intense peppermint rush see...</td>\n",
       "    </tr>\n",
       "    <tr>\n",
       "      <th>1631</th>\n",
       "      <td>0.000000</td>\n",
       "      <td>0.000000</td>\n",
       "      <td>1</td>\n",
       "      <td>product arrived as promised.  i thought the shipping was extremely high and had i realized it was that high, i would not have ...</td>\n",
       "    </tr>\n",
       "    <tr>\n",
       "      <th>314</th>\n",
       "      <td>0.000000</td>\n",
       "      <td>0.000000</td>\n",
       "      <td>1</td>\n",
       "      <td>i've been using these bags for only three weeks now, and so far no complaints. they seal easily, haven't leaked yet, quality f...</td>\n",
       "    </tr>\n",
       "  </tbody>\n",
       "</table>\n",
       "</div>"
      ],
      "text/plain": [
       "         pred     prob  real  \\\n",
       "811  0.000000 0.000000     1   \n",
       "142  0.000000 0.000000     1   \n",
       "902  0.000000 0.000000     1   \n",
       "1631 0.000000 0.000000     1   \n",
       "314  0.000000 0.000000     1   \n",
       "\n",
       "                                                                                                                                   text  \n",
       "811   i had mole problems and i killed the bugs.  i had killed the whole yard to replant and don't know if there were less bugs in t...  \n",
       "142   okay, i jumped the gun, because they were sending me the review information, before i received my chips, so i thought i would ...  \n",
       "902   i bought a 'jar' because its sweetened with xylitol. i was skeptical after my first piece. yes the intense peppermint rush see...  \n",
       "1631  product arrived as promised.  i thought the shipping was extremely high and had i realized it was that high, i would not have ...  \n",
       "314   i've been using these bags for only three weeks now, and so far no complaints. they seal easily, haven't leaked yet, quality f...  "
      ]
     },
     "metadata": {},
     "output_type": "display_data"
    },
    {
     "data": {
      "text/markdown": [
       "#### Classification report for gaussiannb"
      ]
     },
     "metadata": {},
     "output_type": "display_data"
    },
    {
     "name": "stdout",
     "output_type": "stream",
     "text": [
      "             precision    recall  f1-score   support\n",
      "\n",
      "   Negative       0.29      0.76      0.42       313\n",
      "   Positive       0.94      0.66      0.78      1687\n",
      "\n",
      "avg / total       0.84      0.68      0.72      2000\n",
      "\n"
     ]
    },
    {
     "data": {
      "image/png": "[encoded data removed]",
      "text/plain": [
       "<matplotlib.figure.Figure at 0x7f63074ac940>"
      ]
     },
     "metadata": {},
     "output_type": "display_data"
    }
   ],
   "source": [
    "gaussian_nb_model = models.GaussianNBModel(\n",
    "    nlp, dataset_id\n",
    ")\n",
    "\n",
    "accuracy = train_model_and_display_results(\n",
    "    gaussian_nb_model,\n",
    "    X_sklearn_preprocessed, \n",
    "    preprocessed=True\n",
    ")\n",
    "\n",
    "\n",
    "if SAVE_IN_STORE:\n",
    "    store.add_model(gaussian_nb_model, \"gnb_food\", \"Food Reviews Gaussian Naive Bayes\", metadata={\n",
    "        'Dataset': 'Amazon Fine Food Reviews',\n",
    "        'Training samples': len(X_sklearn_preprocessed),\n",
    "        'Accuracy': accuracy,\n",
    "        'Description': \"GaussianNB algorithm from Sklearn package, default options\"\n",
    "    })"
   ]
  },
  {
   "cell_type": "code",
   "execution_count": 16,
   "metadata": {
    "scrolled": false
   },
   "outputs": [
    {
     "data": {
      "text/markdown": [
       "## AdaBoostModel"
      ]
     },
     "metadata": {},
     "output_type": "display_data"
    },
    {
     "data": {
      "text/markdown": [
       "#### Training"
      ]
     },
     "metadata": {},
     "output_type": "display_data"
    },
    {
     "name": "stdout",
     "output_type": "stream",
     "text": [
      "Loading model...\n",
      "Model 'adaboostclassifier_food_text_all_d41d8cd9.pkl' loaded\n"
     ]
    },
    {
     "data": {
      "text/markdown": [
       "#### Overview of created model"
      ]
     },
     "metadata": {},
     "output_type": "display_data"
    },
    {
     "data": {
      "text/plain": [
       "AdaBoostClassifier(algorithm='SAMME.R', base_estimator=None,\n",
       "          learning_rate=1.0, n_estimators=50, random_state=None)"
      ]
     },
     "metadata": {},
     "output_type": "display_data"
    },
    {
     "data": {
      "text/markdown": [
       "#### Model results"
      ]
     },
     "metadata": {},
     "output_type": "display_data"
    },
    {
     "data": {
      "text/markdown": [
       "#### Predicted scores"
      ]
     },
     "metadata": {},
     "output_type": "display_data"
    },
    {
     "data": {
      "text/html": [
       "<div>\n",
       "<style scoped>\n",
       "    .dataframe tbody tr th:only-of-type {\n",
       "        vertical-align: middle;\n",
       "    }\n",
       "\n",
       "    .dataframe tbody tr th {\n",
       "        vertical-align: top;\n",
       "    }\n",
       "\n",
       "    .dataframe thead th {\n",
       "        text-align: right;\n",
       "    }\n",
       "</style>\n",
       "<table border=\"1\" class=\"dataframe\">\n",
       "  <thead>\n",
       "    <tr style=\"text-align: right;\">\n",
       "      <th></th>\n",
       "      <th>score</th>\n",
       "      <th>text</th>\n",
       "    </tr>\n",
       "  </thead>\n",
       "  <tbody>\n",
       "    <tr>\n",
       "      <th>0</th>\n",
       "      <td>0.517725</td>\n",
       "      <td>We went there to eat dinner, and it was delicious</td>\n",
       "    </tr>\n",
       "    <tr>\n",
       "      <th>1</th>\n",
       "      <td>0.523714</td>\n",
       "      <td>One of the best suppers I've ever eaten</td>\n",
       "    </tr>\n",
       "    <tr>\n",
       "      <th>2</th>\n",
       "      <td>0.497010</td>\n",
       "      <td>Totally disgusting dish. I think cook made this with his eyes closed</td>\n",
       "    </tr>\n",
       "  </tbody>\n",
       "</table>\n",
       "</div>"
      ],
      "text/plain": [
       "      score  \\\n",
       "0  0.517725   \n",
       "1  0.523714   \n",
       "2  0.497010   \n",
       "\n",
       "                                                                   text  \n",
       "0  We went there to eat dinner, and it was delicious                     \n",
       "1  One of the best suppers I've ever eaten                               \n",
       "2  Totally disgusting dish. I think cook made this with his eyes closed  "
      ]
     },
     "metadata": {},
     "output_type": "display_data"
    },
    {
     "data": {
      "text/markdown": [
       "#### Highest 5"
      ]
     },
     "metadata": {},
     "output_type": "display_data"
    },
    {
     "data": {
      "text/html": [
       "<div>\n",
       "<style scoped>\n",
       "    .dataframe tbody tr th:only-of-type {\n",
       "        vertical-align: middle;\n",
       "    }\n",
       "\n",
       "    .dataframe tbody tr th {\n",
       "        vertical-align: top;\n",
       "    }\n",
       "\n",
       "    .dataframe thead th {\n",
       "        text-align: right;\n",
       "    }\n",
       "</style>\n",
       "<table border=\"1\" class=\"dataframe\">\n",
       "  <thead>\n",
       "    <tr style=\"text-align: right;\">\n",
       "      <th></th>\n",
       "      <th>pred</th>\n",
       "      <th>prob</th>\n",
       "      <th>real</th>\n",
       "      <th>text</th>\n",
       "    </tr>\n",
       "  </thead>\n",
       "  <tbody>\n",
       "    <tr>\n",
       "      <th>1550</th>\n",
       "      <td>1.000000</td>\n",
       "      <td>0.543648</td>\n",
       "      <td>1</td>\n",
       "      <td>what great cup of coffee!  i recommend it to any coffee drinker who enjoys sitting back and enjoying what coffee is all about....</td>\n",
       "    </tr>\n",
       "    <tr>\n",
       "      <th>115</th>\n",
       "      <td>1.000000</td>\n",
       "      <td>0.543614</td>\n",
       "      <td>1</td>\n",
       "      <td>jack link's beef jerky is a quick and great tasting way to get extra protein into your diet.  a great snack.  i really like th...</td>\n",
       "    </tr>\n",
       "    <tr>\n",
       "      <th>345</th>\n",
       "      <td>1.000000</td>\n",
       "      <td>0.542702</td>\n",
       "      <td>1</td>\n",
       "      <td>this is a healthy and good snack for my dog.  it is a great training produst too.  when you take into account that a couple ar...</td>\n",
       "    </tr>\n",
       "    <tr>\n",
       "      <th>42</th>\n",
       "      <td>1.000000</td>\n",
       "      <td>0.541621</td>\n",
       "      <td>1</td>\n",
       "      <td>this is a great, yummy snack! it's healthy and easy to grab on the go and still tastes great. i would recommend it to anyone, ...</td>\n",
       "    </tr>\n",
       "    <tr>\n",
       "      <th>266</th>\n",
       "      <td>1.000000</td>\n",
       "      <td>0.541147</td>\n",
       "      <td>1</td>\n",
       "      <td>a refreshing cold beverage and a soothing, perfect, hot cup of tea. offers healthful benefits.</td>\n",
       "    </tr>\n",
       "  </tbody>\n",
       "</table>\n",
       "</div>"
      ],
      "text/plain": [
       "         pred     prob  real  \\\n",
       "1550 1.000000 0.543648     1   \n",
       "115  1.000000 0.543614     1   \n",
       "345  1.000000 0.542702     1   \n",
       "42   1.000000 0.541621     1   \n",
       "266  1.000000 0.541147     1   \n",
       "\n",
       "                                                                                                                                   text  \n",
       "1550  what great cup of coffee!  i recommend it to any coffee drinker who enjoys sitting back and enjoying what coffee is all about....  \n",
       "115   jack link's beef jerky is a quick and great tasting way to get extra protein into your diet.  a great snack.  i really like th...  \n",
       "345   this is a healthy and good snack for my dog.  it is a great training produst too.  when you take into account that a couple ar...  \n",
       "42    this is a great, yummy snack! it's healthy and easy to grab on the go and still tastes great. i would recommend it to anyone, ...  \n",
       "266                                      a refreshing cold beverage and a soothing, perfect, hot cup of tea. offers healthful benefits.  "
      ]
     },
     "metadata": {},
     "output_type": "display_data"
    },
    {
     "data": {
      "text/markdown": [
       "#### Lowest 5"
      ]
     },
     "metadata": {},
     "output_type": "display_data"
    },
    {
     "data": {
      "text/html": [
       "<div>\n",
       "<style scoped>\n",
       "    .dataframe tbody tr th:only-of-type {\n",
       "        vertical-align: middle;\n",
       "    }\n",
       "\n",
       "    .dataframe tbody tr th {\n",
       "        vertical-align: top;\n",
       "    }\n",
       "\n",
       "    .dataframe thead th {\n",
       "        text-align: right;\n",
       "    }\n",
       "</style>\n",
       "<table border=\"1\" class=\"dataframe\">\n",
       "  <thead>\n",
       "    <tr style=\"text-align: right;\">\n",
       "      <th></th>\n",
       "      <th>pred</th>\n",
       "      <th>prob</th>\n",
       "      <th>real</th>\n",
       "      <th>text</th>\n",
       "    </tr>\n",
       "  </thead>\n",
       "  <tbody>\n",
       "    <tr>\n",
       "      <th>850</th>\n",
       "      <td>0.000000</td>\n",
       "      <td>0.477236</td>\n",
       "      <td>0</td>\n",
       "      <td>the cote d'or dark 86% brut chocolate cocoa, 3.5-ounce bars (pack of 10) is close to the worst chocolate i have eaten, if not ...</td>\n",
       "    </tr>\n",
       "    <tr>\n",
       "      <th>1811</th>\n",
       "      <td>0.000000</td>\n",
       "      <td>0.477525</td>\n",
       "      <td>0</td>\n",
       "      <td>at first i thoughts it tasted like soy flour was used as it had a similar smell; however, it is garbanzo bean flour???????????...</td>\n",
       "    </tr>\n",
       "    <tr>\n",
       "      <th>510</th>\n",
       "      <td>0.000000</td>\n",
       "      <td>0.479744</td>\n",
       "      <td>0</td>\n",
       "      <td>bought the teriyaki flavor .....totally gross,&lt;br /&gt;&lt;br /&gt;do not waste your money on this slimy stuff.... could barely finish ...</td>\n",
       "    </tr>\n",
       "    <tr>\n",
       "      <th>1732</th>\n",
       "      <td>0.000000</td>\n",
       "      <td>0.482792</td>\n",
       "      <td>0</td>\n",
       "      <td>i should have known when the product told me to rinse it for several minutes to get rid of the putrid smell - smells like they...</td>\n",
       "    </tr>\n",
       "    <tr>\n",
       "      <th>303</th>\n",
       "      <td>0.000000</td>\n",
       "      <td>0.483845</td>\n",
       "      <td>0</td>\n",
       "      <td>simply terrible.  awful.  i've never tasted a worse espresso in my life.&lt;br /&gt;&lt;br /&gt;ecc espressivo vs. nespresso roma vs. nesp...</td>\n",
       "    </tr>\n",
       "  </tbody>\n",
       "</table>\n",
       "</div>"
      ],
      "text/plain": [
       "         pred     prob  real  \\\n",
       "850  0.000000 0.477236     0   \n",
       "1811 0.000000 0.477525     0   \n",
       "510  0.000000 0.479744     0   \n",
       "1732 0.000000 0.482792     0   \n",
       "303  0.000000 0.483845     0   \n",
       "\n",
       "                                                                                                                                   text  \n",
       "850   the cote d'or dark 86% brut chocolate cocoa, 3.5-ounce bars (pack of 10) is close to the worst chocolate i have eaten, if not ...  \n",
       "1811  at first i thoughts it tasted like soy flour was used as it had a similar smell; however, it is garbanzo bean flour???????????...  \n",
       "510   bought the teriyaki flavor .....totally gross,<br /><br />do not waste your money on this slimy stuff.... could barely finish ...  \n",
       "1732  i should have known when the product told me to rinse it for several minutes to get rid of the putrid smell - smells like they...  \n",
       "303   simply terrible.  awful.  i've never tasted a worse espresso in my life.<br /><br />ecc espressivo vs. nespresso roma vs. nesp...  "
      ]
     },
     "metadata": {},
     "output_type": "display_data"
    },
    {
     "data": {
      "text/markdown": [
       "#### Highest 5 mispredicted"
      ]
     },
     "metadata": {},
     "output_type": "display_data"
    },
    {
     "data": {
      "text/html": [
       "<div>\n",
       "<style scoped>\n",
       "    .dataframe tbody tr th:only-of-type {\n",
       "        vertical-align: middle;\n",
       "    }\n",
       "\n",
       "    .dataframe tbody tr th {\n",
       "        vertical-align: top;\n",
       "    }\n",
       "\n",
       "    .dataframe thead th {\n",
       "        text-align: right;\n",
       "    }\n",
       "</style>\n",
       "<table border=\"1\" class=\"dataframe\">\n",
       "  <thead>\n",
       "    <tr style=\"text-align: right;\">\n",
       "      <th></th>\n",
       "      <th>pred</th>\n",
       "      <th>prob</th>\n",
       "      <th>real</th>\n",
       "      <th>text</th>\n",
       "    </tr>\n",
       "  </thead>\n",
       "  <tbody>\n",
       "    <tr>\n",
       "      <th>1894</th>\n",
       "      <td>1.000000</td>\n",
       "      <td>0.530793</td>\n",
       "      <td>0</td>\n",
       "      <td>my 10-month old loves these! they are helpful to teach him how to eat and relieve pain from teething, too. look around for a b...</td>\n",
       "    </tr>\n",
       "    <tr>\n",
       "      <th>998</th>\n",
       "      <td>1.000000</td>\n",
       "      <td>0.525232</td>\n",
       "      <td>0</td>\n",
       "      <td>wolfgang puck's \"breakfast in bed\" is a much more flavorful and robust medium roast than this one.</td>\n",
       "    </tr>\n",
       "    <tr>\n",
       "      <th>1714</th>\n",
       "      <td>1.000000</td>\n",
       "      <td>0.524620</td>\n",
       "      <td>0</td>\n",
       "      <td>not so great lemon flavor!&lt;br /&gt;it's very hard to find soy free!&lt;br /&gt;this is a great brand! i prefer the ginger much better t...</td>\n",
       "    </tr>\n",
       "    <tr>\n",
       "      <th>1170</th>\n",
       "      <td>1.000000</td>\n",
       "      <td>0.521695</td>\n",
       "      <td>0</td>\n",
       "      <td>you get what you pay for with this product.  i drink matcha tea daily and absolutely love it.  when i saw the price and review...</td>\n",
       "    </tr>\n",
       "    <tr>\n",
       "      <th>1002</th>\n",
       "      <td>1.000000</td>\n",
       "      <td>0.520980</td>\n",
       "      <td>0</td>\n",
       "      <td>i was looking for miso soup and just bought  this bowl in supermarket for comparison with instant miso soup in packages.  i do...</td>\n",
       "    </tr>\n",
       "  </tbody>\n",
       "</table>\n",
       "</div>"
      ],
      "text/plain": [
       "         pred     prob  real  \\\n",
       "1894 1.000000 0.530793     0   \n",
       "998  1.000000 0.525232     0   \n",
       "1714 1.000000 0.524620     0   \n",
       "1170 1.000000 0.521695     0   \n",
       "1002 1.000000 0.520980     0   \n",
       "\n",
       "                                                                                                                                   text  \n",
       "1894  my 10-month old loves these! they are helpful to teach him how to eat and relieve pain from teething, too. look around for a b...  \n",
       "998                                  wolfgang puck's \"breakfast in bed\" is a much more flavorful and robust medium roast than this one.  \n",
       "1714  not so great lemon flavor!<br />it's very hard to find soy free!<br />this is a great brand! i prefer the ginger much better t...  \n",
       "1170  you get what you pay for with this product.  i drink matcha tea daily and absolutely love it.  when i saw the price and review...  \n",
       "1002  i was looking for miso soup and just bought  this bowl in supermarket for comparison with instant miso soup in packages.  i do...  "
      ]
     },
     "metadata": {},
     "output_type": "display_data"
    },
    {
     "data": {
      "text/markdown": [
       "#### Lowest 5 mispredicted"
      ]
     },
     "metadata": {},
     "output_type": "display_data"
    },
    {
     "data": {
      "text/html": [
       "<div>\n",
       "<style scoped>\n",
       "    .dataframe tbody tr th:only-of-type {\n",
       "        vertical-align: middle;\n",
       "    }\n",
       "\n",
       "    .dataframe tbody tr th {\n",
       "        vertical-align: top;\n",
       "    }\n",
       "\n",
       "    .dataframe thead th {\n",
       "        text-align: right;\n",
       "    }\n",
       "</style>\n",
       "<table border=\"1\" class=\"dataframe\">\n",
       "  <thead>\n",
       "    <tr style=\"text-align: right;\">\n",
       "      <th></th>\n",
       "      <th>pred</th>\n",
       "      <th>prob</th>\n",
       "      <th>real</th>\n",
       "      <th>text</th>\n",
       "    </tr>\n",
       "  </thead>\n",
       "  <tbody>\n",
       "    <tr>\n",
       "      <th>1792</th>\n",
       "      <td>0.000000</td>\n",
       "      <td>0.488149</td>\n",
       "      <td>1</td>\n",
       "      <td>i haven't had any problems with this tea so i am a notch above indifferent.  i don't regret buying it.</td>\n",
       "    </tr>\n",
       "    <tr>\n",
       "      <th>1149</th>\n",
       "      <td>0.000000</td>\n",
       "      <td>0.489645</td>\n",
       "      <td>1</td>\n",
       "      <td>good stuff. i despise the taste of processed sweetners and i was hesitant about what they would taste like, but i was not disa...</td>\n",
       "    </tr>\n",
       "    <tr>\n",
       "      <th>811</th>\n",
       "      <td>0.000000</td>\n",
       "      <td>0.490724</td>\n",
       "      <td>1</td>\n",
       "      <td>i had mole problems and i killed the bugs.  i had killed the whole yard to replant and don't know if there were less bugs in t...</td>\n",
       "    </tr>\n",
       "    <tr>\n",
       "      <th>1181</th>\n",
       "      <td>0.000000</td>\n",
       "      <td>0.490780</td>\n",
       "      <td>1</td>\n",
       "      <td>one of the three packs was open before arriving.  the paste was oozing out the side.  i can't return it, and i am having a lot...</td>\n",
       "    </tr>\n",
       "    <tr>\n",
       "      <th>1164</th>\n",
       "      <td>0.000000</td>\n",
       "      <td>0.490866</td>\n",
       "      <td>1</td>\n",
       "      <td>we had to use this formula b/c my son ended up with serious gi issues, and this was the only thing he tolerated. he was (is) s...</td>\n",
       "    </tr>\n",
       "  </tbody>\n",
       "</table>\n",
       "</div>"
      ],
      "text/plain": [
       "         pred     prob  real  \\\n",
       "1792 0.000000 0.488149     1   \n",
       "1149 0.000000 0.489645     1   \n",
       "811  0.000000 0.490724     1   \n",
       "1181 0.000000 0.490780     1   \n",
       "1164 0.000000 0.490866     1   \n",
       "\n",
       "                                                                                                                                   text  \n",
       "1792                             i haven't had any problems with this tea so i am a notch above indifferent.  i don't regret buying it.  \n",
       "1149  good stuff. i despise the taste of processed sweetners and i was hesitant about what they would taste like, but i was not disa...  \n",
       "811   i had mole problems and i killed the bugs.  i had killed the whole yard to replant and don't know if there were less bugs in t...  \n",
       "1181  one of the three packs was open before arriving.  the paste was oozing out the side.  i can't return it, and i am having a lot...  \n",
       "1164  we had to use this formula b/c my son ended up with serious gi issues, and this was the only thing he tolerated. he was (is) s...  "
      ]
     },
     "metadata": {},
     "output_type": "display_data"
    },
    {
     "data": {
      "text/markdown": [
       "#### Classification report for adaboostclassifier"
      ]
     },
     "metadata": {},
     "output_type": "display_data"
    },
    {
     "name": "stdout",
     "output_type": "stream",
     "text": [
      "             precision    recall  f1-score   support\n",
      "\n",
      "   Negative       0.64      0.40      0.50       313\n",
      "   Positive       0.90      0.96      0.93      1687\n",
      "\n",
      "avg / total       0.86      0.87      0.86      2000\n",
      "\n"
     ]
    },
    {
     "data": {
      "image/png": "[encoded data removed]",
      "text/plain": [
       "<matplotlib.figure.Figure at 0x7f62880ae6d8>"
      ]
     },
     "metadata": {},
     "output_type": "display_data"
    }
   ],
   "source": [
    "ada_boost_model = models.AdaBoostModel(\n",
    "    nlp, dataset_id\n",
    ")\n",
    "\n",
    "accuracy = train_model_and_display_results(\n",
    "    ada_boost_model,\n",
    "    X_sklearn_preprocessed, \n",
    "    preprocessed=True\n",
    ")\n",
    "\n",
    "if SAVE_IN_STORE:\n",
    "    store.add_model(ada_boost_model, \"ada_food\", \"Food Reviews Ada Boost\", metadata={\n",
    "        'Dataset': 'Amazon Fine Food Reviews',\n",
    "        'Training samples': len(X_sklearn_preprocessed),\n",
    "        'Accuracy': accuracy,\n",
    "        'Description': \"Ada Boost algorithm from Sklearn package, default options\"\n",
    "    })"
   ]
  },
  {
   "cell_type": "code",
   "execution_count": 15,
   "metadata": {
    "scrolled": false
   },
   "outputs": [
    {
     "data": {
      "text/markdown": [
       "## QuadraticDiscriminantAnalysisModel"
      ]
     },
     "metadata": {},
     "output_type": "display_data"
    },
    {
     "data": {
      "text/markdown": [
       "#### Training"
      ]
     },
     "metadata": {},
     "output_type": "display_data"
    },
    {
     "name": "stdout",
     "output_type": "stream",
     "text": [
      "Loading model...\n",
      "Unable to load model, training...\n"
     ]
    },
    {
     "name": "stderr",
     "output_type": "stream",
     "text": [
      "/usr/local/lib/python3.5/dist-packages/sklearn/utils/validation.py:578: DataConversionWarning: A column-vector y was passed when a 1d array was expected. Please change the shape of y to (n_samples, ), for example using ravel().\n",
      "  y = column_or_1d(y, warn=True)\n"
     ]
    },
    {
     "name": "stdout",
     "output_type": "stream",
     "text": [
      "Model 'quadraticdiscriminantanalysis_food_text_all_d41d8cd9.pkl' saved\n"
     ]
    },
    {
     "data": {
      "text/markdown": [
       "#### Overview of created model"
      ]
     },
     "metadata": {},
     "output_type": "display_data"
    },
    {
     "data": {
      "text/plain": [
       "QuadraticDiscriminantAnalysis(priors=None, reg_param=0.0,\n",
       "               store_covariance=False, store_covariances=None, tol=0.0001)"
      ]
     },
     "metadata": {},
     "output_type": "display_data"
    },
    {
     "data": {
      "text/markdown": [
       "#### Model results"
      ]
     },
     "metadata": {},
     "output_type": "display_data"
    },
    {
     "data": {
      "text/markdown": [
       "#### Predicted scores"
      ]
     },
     "metadata": {},
     "output_type": "display_data"
    },
    {
     "data": {
      "text/html": [
       "<div>\n",
       "<style scoped>\n",
       "    .dataframe tbody tr th:only-of-type {\n",
       "        vertical-align: middle;\n",
       "    }\n",
       "\n",
       "    .dataframe tbody tr th {\n",
       "        vertical-align: top;\n",
       "    }\n",
       "\n",
       "    .dataframe thead th {\n",
       "        text-align: right;\n",
       "    }\n",
       "</style>\n",
       "<table border=\"1\" class=\"dataframe\">\n",
       "  <thead>\n",
       "    <tr style=\"text-align: right;\">\n",
       "      <th></th>\n",
       "      <th>score</th>\n",
       "      <th>text</th>\n",
       "    </tr>\n",
       "  </thead>\n",
       "  <tbody>\n",
       "    <tr>\n",
       "      <th>0</th>\n",
       "      <td>1.000000</td>\n",
       "      <td>We went there to eat dinner, and it was delicious</td>\n",
       "    </tr>\n",
       "    <tr>\n",
       "      <th>1</th>\n",
       "      <td>1.000000</td>\n",
       "      <td>One of the best suppers I've ever eaten</td>\n",
       "    </tr>\n",
       "    <tr>\n",
       "      <th>2</th>\n",
       "      <td>0.999884</td>\n",
       "      <td>Totally disgusting dish. I think cook made this with his eyes closed</td>\n",
       "    </tr>\n",
       "  </tbody>\n",
       "</table>\n",
       "</div>"
      ],
      "text/plain": [
       "      score  \\\n",
       "0  1.000000   \n",
       "1  1.000000   \n",
       "2  0.999884   \n",
       "\n",
       "                                                                   text  \n",
       "0  We went there to eat dinner, and it was delicious                     \n",
       "1  One of the best suppers I've ever eaten                               \n",
       "2  Totally disgusting dish. I think cook made this with his eyes closed  "
      ]
     },
     "metadata": {},
     "output_type": "display_data"
    },
    {
     "data": {
      "text/markdown": [
       "#### Highest 5"
      ]
     },
     "metadata": {},
     "output_type": "display_data"
    },
    {
     "data": {
      "text/html": [
       "<div>\n",
       "<style scoped>\n",
       "    .dataframe tbody tr th:only-of-type {\n",
       "        vertical-align: middle;\n",
       "    }\n",
       "\n",
       "    .dataframe tbody tr th {\n",
       "        vertical-align: top;\n",
       "    }\n",
       "\n",
       "    .dataframe thead th {\n",
       "        text-align: right;\n",
       "    }\n",
       "</style>\n",
       "<table border=\"1\" class=\"dataframe\">\n",
       "  <thead>\n",
       "    <tr style=\"text-align: right;\">\n",
       "      <th></th>\n",
       "      <th>pred</th>\n",
       "      <th>prob</th>\n",
       "      <th>real</th>\n",
       "      <th>text</th>\n",
       "    </tr>\n",
       "  </thead>\n",
       "  <tbody>\n",
       "    <tr>\n",
       "      <th>3</th>\n",
       "      <td>1.000000</td>\n",
       "      <td>1.000000</td>\n",
       "      <td>1</td>\n",
       "      <td>i just found pb2 and pb2 with chocolate and i am thrilled.  i love sugary goodies but i'm not a fan of calories and i don't li...</td>\n",
       "    </tr>\n",
       "    <tr>\n",
       "      <th>5</th>\n",
       "      <td>1.000000</td>\n",
       "      <td>1.000000</td>\n",
       "      <td>1</td>\n",
       "      <td>i bought this mix for my father after a recommendation from a friend, and my father loves it so much, i had to order more for ...</td>\n",
       "    </tr>\n",
       "    <tr>\n",
       "      <th>19</th>\n",
       "      <td>1.000000</td>\n",
       "      <td>1.000000</td>\n",
       "      <td>1</td>\n",
       "      <td>this is the best red rooibos tea i have found!! recommend it to all my friends...</td>\n",
       "    </tr>\n",
       "    <tr>\n",
       "      <th>20</th>\n",
       "      <td>1.000000</td>\n",
       "      <td>1.000000</td>\n",
       "      <td>0</td>\n",
       "      <td>i'm sticking with what used to be carnation, now nestles malt. this stuff tastes like powdered milk with a hint of soy.</td>\n",
       "    </tr>\n",
       "    <tr>\n",
       "      <th>23</th>\n",
       "      <td>1.000000</td>\n",
       "      <td>1.000000</td>\n",
       "      <td>1</td>\n",
       "      <td>these are a favorite candy treat but, for some reason, unavailable in local stores.  delivery was in good time.</td>\n",
       "    </tr>\n",
       "  </tbody>\n",
       "</table>\n",
       "</div>"
      ],
      "text/plain": [
       "       pred     prob  real  \\\n",
       "3  1.000000 1.000000     1   \n",
       "5  1.000000 1.000000     1   \n",
       "19 1.000000 1.000000     1   \n",
       "20 1.000000 1.000000     0   \n",
       "23 1.000000 1.000000     1   \n",
       "\n",
       "                                                                                                                                 text  \n",
       "3   i just found pb2 and pb2 with chocolate and i am thrilled.  i love sugary goodies but i'm not a fan of calories and i don't li...  \n",
       "5   i bought this mix for my father after a recommendation from a friend, and my father loves it so much, i had to order more for ...  \n",
       "19                                                  this is the best red rooibos tea i have found!! recommend it to all my friends...  \n",
       "20            i'm sticking with what used to be carnation, now nestles malt. this stuff tastes like powdered milk with a hint of soy.  \n",
       "23                    these are a favorite candy treat but, for some reason, unavailable in local stores.  delivery was in good time.  "
      ]
     },
     "metadata": {},
     "output_type": "display_data"
    },
    {
     "data": {
      "text/markdown": [
       "#### Lowest 5"
      ]
     },
     "metadata": {},
     "output_type": "display_data"
    },
    {
     "data": {
      "text/html": [
       "<div>\n",
       "<style scoped>\n",
       "    .dataframe tbody tr th:only-of-type {\n",
       "        vertical-align: middle;\n",
       "    }\n",
       "\n",
       "    .dataframe tbody tr th {\n",
       "        vertical-align: top;\n",
       "    }\n",
       "\n",
       "    .dataframe thead th {\n",
       "        text-align: right;\n",
       "    }\n",
       "</style>\n",
       "<table border=\"1\" class=\"dataframe\">\n",
       "  <thead>\n",
       "    <tr style=\"text-align: right;\">\n",
       "      <th></th>\n",
       "      <th>pred</th>\n",
       "      <th>prob</th>\n",
       "      <th>real</th>\n",
       "      <th>text</th>\n",
       "    </tr>\n",
       "  </thead>\n",
       "  <tbody>\n",
       "    <tr>\n",
       "      <th>1811</th>\n",
       "      <td>0.000000</td>\n",
       "      <td>0.000000</td>\n",
       "      <td>0</td>\n",
       "      <td>at first i thoughts it tasted like soy flour was used as it had a similar smell; however, it is garbanzo bean flour???????????...</td>\n",
       "    </tr>\n",
       "    <tr>\n",
       "      <th>631</th>\n",
       "      <td>0.000000</td>\n",
       "      <td>0.000000</td>\n",
       "      <td>0</td>\n",
       "      <td>i puchase regular soda because i am allergic to artificial sweeteners. why is there artificial sweetener in a regular soda syrup?</td>\n",
       "    </tr>\n",
       "    <tr>\n",
       "      <th>625</th>\n",
       "      <td>0.000000</td>\n",
       "      <td>0.000000</td>\n",
       "      <td>0</td>\n",
       "      <td>taste delicious but loaded with hydrogenated oil.hydrogenated oil is synthetically made trans fats  that has been molecularly ...</td>\n",
       "    </tr>\n",
       "    <tr>\n",
       "      <th>894</th>\n",
       "      <td>0.000000</td>\n",
       "      <td>0.000000</td>\n",
       "      <td>0</td>\n",
       "      <td>it has a weird sickly sweet aftertaste. plus, it has edta in it, which is on the fda's toxicity watchlist</td>\n",
       "    </tr>\n",
       "    <tr>\n",
       "      <th>510</th>\n",
       "      <td>0.000000</td>\n",
       "      <td>0.000000</td>\n",
       "      <td>0</td>\n",
       "      <td>bought the teriyaki flavor .....totally gross,&lt;br /&gt;&lt;br /&gt;do not waste your money on this slimy stuff.... could barely finish ...</td>\n",
       "    </tr>\n",
       "  </tbody>\n",
       "</table>\n",
       "</div>"
      ],
      "text/plain": [
       "         pred     prob  real  \\\n",
       "1811 0.000000 0.000000     0   \n",
       "631  0.000000 0.000000     0   \n",
       "625  0.000000 0.000000     0   \n",
       "894  0.000000 0.000000     0   \n",
       "510  0.000000 0.000000     0   \n",
       "\n",
       "                                                                                                                                   text  \n",
       "1811  at first i thoughts it tasted like soy flour was used as it had a similar smell; however, it is garbanzo bean flour???????????...  \n",
       "631   i puchase regular soda because i am allergic to artificial sweeteners. why is there artificial sweetener in a regular soda syrup?  \n",
       "625   taste delicious but loaded with hydrogenated oil.hydrogenated oil is synthetically made trans fats  that has been molecularly ...  \n",
       "894                           it has a weird sickly sweet aftertaste. plus, it has edta in it, which is on the fda's toxicity watchlist  \n",
       "510   bought the teriyaki flavor .....totally gross,<br /><br />do not waste your money on this slimy stuff.... could barely finish ...  "
      ]
     },
     "metadata": {},
     "output_type": "display_data"
    },
    {
     "data": {
      "text/markdown": [
       "#### Highest 5 mispredicted"
      ]
     },
     "metadata": {},
     "output_type": "display_data"
    },
    {
     "data": {
      "text/html": [
       "<div>\n",
       "<style scoped>\n",
       "    .dataframe tbody tr th:only-of-type {\n",
       "        vertical-align: middle;\n",
       "    }\n",
       "\n",
       "    .dataframe tbody tr th {\n",
       "        vertical-align: top;\n",
       "    }\n",
       "\n",
       "    .dataframe thead th {\n",
       "        text-align: right;\n",
       "    }\n",
       "</style>\n",
       "<table border=\"1\" class=\"dataframe\">\n",
       "  <thead>\n",
       "    <tr style=\"text-align: right;\">\n",
       "      <th></th>\n",
       "      <th>pred</th>\n",
       "      <th>prob</th>\n",
       "      <th>real</th>\n",
       "      <th>text</th>\n",
       "    </tr>\n",
       "  </thead>\n",
       "  <tbody>\n",
       "    <tr>\n",
       "      <th>20</th>\n",
       "      <td>1.000000</td>\n",
       "      <td>1.000000</td>\n",
       "      <td>0</td>\n",
       "      <td>i'm sticking with what used to be carnation, now nestles malt. this stuff tastes like powdered milk with a hint of soy.</td>\n",
       "    </tr>\n",
       "    <tr>\n",
       "      <th>1714</th>\n",
       "      <td>1.000000</td>\n",
       "      <td>1.000000</td>\n",
       "      <td>0</td>\n",
       "      <td>not so great lemon flavor!&lt;br /&gt;it's very hard to find soy free!&lt;br /&gt;this is a great brand! i prefer the ginger much better t...</td>\n",
       "    </tr>\n",
       "    <tr>\n",
       "      <th>364</th>\n",
       "      <td>1.000000</td>\n",
       "      <td>1.000000</td>\n",
       "      <td>0</td>\n",
       "      <td>this chai latte mix is weak and not creamy.  for starbucks like taste, try the big train canister.</td>\n",
       "    </tr>\n",
       "    <tr>\n",
       "      <th>224</th>\n",
       "      <td>1.000000</td>\n",
       "      <td>1.000000</td>\n",
       "      <td>0</td>\n",
       "      <td>disappointed with the red lentils because they cook down to a mush.  no discernable shapes of lentils are present when finishe...</td>\n",
       "    </tr>\n",
       "    <tr>\n",
       "      <th>1256</th>\n",
       "      <td>1.000000</td>\n",
       "      <td>1.000000</td>\n",
       "      <td>0</td>\n",
       "      <td>these crackers have no flavor what so ever and for 100 calories you get the same amount as the nabisco 100 calorie cookies. sa...</td>\n",
       "    </tr>\n",
       "  </tbody>\n",
       "</table>\n",
       "</div>"
      ],
      "text/plain": [
       "         pred     prob  real  \\\n",
       "20   1.000000 1.000000     0   \n",
       "1714 1.000000 1.000000     0   \n",
       "364  1.000000 1.000000     0   \n",
       "224  1.000000 1.000000     0   \n",
       "1256 1.000000 1.000000     0   \n",
       "\n",
       "                                                                                                                                   text  \n",
       "20              i'm sticking with what used to be carnation, now nestles malt. this stuff tastes like powdered milk with a hint of soy.  \n",
       "1714  not so great lemon flavor!<br />it's very hard to find soy free!<br />this is a great brand! i prefer the ginger much better t...  \n",
       "364                                  this chai latte mix is weak and not creamy.  for starbucks like taste, try the big train canister.  \n",
       "224   disappointed with the red lentils because they cook down to a mush.  no discernable shapes of lentils are present when finishe...  \n",
       "1256  these crackers have no flavor what so ever and for 100 calories you get the same amount as the nabisco 100 calorie cookies. sa...  "
      ]
     },
     "metadata": {},
     "output_type": "display_data"
    },
    {
     "data": {
      "text/markdown": [
       "#### Lowest 5 mispredicted"
      ]
     },
     "metadata": {},
     "output_type": "display_data"
    },
    {
     "data": {
      "text/html": [
       "<div>\n",
       "<style scoped>\n",
       "    .dataframe tbody tr th:only-of-type {\n",
       "        vertical-align: middle;\n",
       "    }\n",
       "\n",
       "    .dataframe tbody tr th {\n",
       "        vertical-align: top;\n",
       "    }\n",
       "\n",
       "    .dataframe thead th {\n",
       "        text-align: right;\n",
       "    }\n",
       "</style>\n",
       "<table border=\"1\" class=\"dataframe\">\n",
       "  <thead>\n",
       "    <tr style=\"text-align: right;\">\n",
       "      <th></th>\n",
       "      <th>pred</th>\n",
       "      <th>prob</th>\n",
       "      <th>real</th>\n",
       "      <th>text</th>\n",
       "    </tr>\n",
       "  </thead>\n",
       "  <tbody>\n",
       "    <tr>\n",
       "      <th>811</th>\n",
       "      <td>0.000000</td>\n",
       "      <td>0.000000</td>\n",
       "      <td>1</td>\n",
       "      <td>i had mole problems and i killed the bugs.  i had killed the whole yard to replant and don't know if there were less bugs in t...</td>\n",
       "    </tr>\n",
       "    <tr>\n",
       "      <th>1939</th>\n",
       "      <td>0.000000</td>\n",
       "      <td>0.000000</td>\n",
       "      <td>1</td>\n",
       "      <td>i place an order on july 11, 2011 of 15 (12 pack e/a) of vita coco coconut water with this horrible company \"goshoptnt\" and i ...</td>\n",
       "    </tr>\n",
       "    <tr>\n",
       "      <th>610</th>\n",
       "      <td>0.000000</td>\n",
       "      <td>0.000000</td>\n",
       "      <td>1</td>\n",
       "      <td>the product is very good and i like it but what i don't like and i must know before i make my order the product date, i discov...</td>\n",
       "    </tr>\n",
       "    <tr>\n",
       "      <th>1573</th>\n",
       "      <td>0.000000</td>\n",
       "      <td>0.000000</td>\n",
       "      <td>1</td>\n",
       "      <td>boxes contain 45 packs, hence the 90 bars so don't be surprised, comes out to about .47 a pack and at work they are .70 so it'...</td>\n",
       "    </tr>\n",
       "    <tr>\n",
       "      <th>1765</th>\n",
       "      <td>0.000000</td>\n",
       "      <td>0.000000</td>\n",
       "      <td>1</td>\n",
       "      <td>edit!&lt;br /&gt;kudos to the seller for correcting the picture.&lt;br /&gt;&lt;br /&gt;old review - no longer valid:&lt;br /&gt;they should not put a...</td>\n",
       "    </tr>\n",
       "  </tbody>\n",
       "</table>\n",
       "</div>"
      ],
      "text/plain": [
       "         pred     prob  real  \\\n",
       "811  0.000000 0.000000     1   \n",
       "1939 0.000000 0.000000     1   \n",
       "610  0.000000 0.000000     1   \n",
       "1573 0.000000 0.000000     1   \n",
       "1765 0.000000 0.000000     1   \n",
       "\n",
       "                                                                                                                                   text  \n",
       "811   i had mole problems and i killed the bugs.  i had killed the whole yard to replant and don't know if there were less bugs in t...  \n",
       "1939  i place an order on july 11, 2011 of 15 (12 pack e/a) of vita coco coconut water with this horrible company \"goshoptnt\" and i ...  \n",
       "610   the product is very good and i like it but what i don't like and i must know before i make my order the product date, i discov...  \n",
       "1573  boxes contain 45 packs, hence the 90 bars so don't be surprised, comes out to about .47 a pack and at work they are .70 so it'...  \n",
       "1765  edit!<br />kudos to the seller for correcting the picture.<br /><br />old review - no longer valid:<br />they should not put a...  "
      ]
     },
     "metadata": {},
     "output_type": "display_data"
    },
    {
     "data": {
      "text/markdown": [
       "#### Classification report for quadraticdiscriminantanalysis"
      ]
     },
     "metadata": {},
     "output_type": "display_data"
    },
    {
     "name": "stdout",
     "output_type": "stream",
     "text": [
      "             precision    recall  f1-score   support\n",
      "\n",
      "   Negative       0.41      0.82      0.55       313\n",
      "   Positive       0.96      0.78      0.86      1687\n",
      "\n",
      "avg / total       0.87      0.79      0.81      2000\n",
      "\n"
     ]
    },
    {
     "data": {
      "image/png": "[encoded data removed]",
      "text/plain": [
       "<matplotlib.figure.Figure at 0x7f0f3f25cda0>"
      ]
     },
     "metadata": {},
     "output_type": "display_data"
    }
   ],
   "source": [
    "# Due to memory problems lowered amount of samples\n",
    "qda_limit = min(200000, len(X_sklearn_preprocessed))\n",
    "qda_model = models.QuadraticDiscriminantAnalysisModel(\n",
    "    nlp, dataset_id\n",
    ")\n",
    "\n",
    "accuracy = train_model_and_display_results(\n",
    "    qda_model,\n",
    "    X_sklearn_preprocessed[:qda_limit], \n",
    "    y_train[:qda_limit],\n",
    "    preprocessed=True\n",
    ")\n",
    "\n",
    "if SAVE_IN_STORE:\n",
    "    store.add_model(qda_model, \"qda_food\", \"Food Reviews Quadratic Discriminant Analysis\", metadata={\n",
    "        'Dataset': 'Amazon Fine Food Reviews',\n",
    "        'Training samples': qda_limit,\n",
    "        'Accuracy': accuracy,\n",
    "        'Description': \"Quadratic Discriminant Analysis algorithm from Sklearn package, default options\"\n",
    "    })"
   ]
  },
  {
   "cell_type": "code",
   "execution_count": 8,
   "metadata": {
    "scrolled": false
   },
   "outputs": [
    {
     "data": {
      "text/markdown": [
       "## LogisticRegressionModel"
      ]
     },
     "metadata": {},
     "output_type": "display_data"
    },
    {
     "data": {
      "text/markdown": [
       "#### Training"
      ]
     },
     "metadata": {},
     "output_type": "display_data"
    },
    {
     "name": "stdout",
     "output_type": "stream",
     "text": [
      "Loading model...\n",
      "Unable to load model, training...\n"
     ]
    },
    {
     "name": "stderr",
     "output_type": "stream",
     "text": [
      "/usr/local/lib/python3.5/dist-packages/sklearn/utils/validation.py:578: DataConversionWarning: A column-vector y was passed when a 1d array was expected. Please change the shape of y to (n_samples, ), for example using ravel().\n",
      "  y = column_or_1d(y, warn=True)\n"
     ]
    },
    {
     "name": "stdout",
     "output_type": "stream",
     "text": [
      "Model 'logisticregression_food_text_all_90795899.pkl' saved\n"
     ]
    },
    {
     "data": {
      "text/markdown": [
       "#### Overview of created model"
      ]
     },
     "metadata": {},
     "output_type": "display_data"
    },
    {
     "data": {
      "text/plain": [
       "LogisticRegression(C=100000.0, class_weight=None, dual=False,\n",
       "          fit_intercept=True, intercept_scaling=1, max_iter=100,\n",
       "          multi_class='ovr', n_jobs=1, penalty='l2', random_state=None,\n",
       "          solver='liblinear', tol=0.0001, verbose=0, warm_start=False)"
      ]
     },
     "metadata": {},
     "output_type": "display_data"
    },
    {
     "data": {
      "text/markdown": [
       "#### Model results"
      ]
     },
     "metadata": {},
     "output_type": "display_data"
    },
    {
     "data": {
      "text/markdown": [
       "#### Predicted scores"
      ]
     },
     "metadata": {},
     "output_type": "display_data"
    },
    {
     "data": {
      "text/html": [
       "<div>\n",
       "<style scoped>\n",
       "    .dataframe tbody tr th:only-of-type {\n",
       "        vertical-align: middle;\n",
       "    }\n",
       "\n",
       "    .dataframe tbody tr th {\n",
       "        vertical-align: top;\n",
       "    }\n",
       "\n",
       "    .dataframe thead th {\n",
       "        text-align: right;\n",
       "    }\n",
       "</style>\n",
       "<table border=\"1\" class=\"dataframe\">\n",
       "  <thead>\n",
       "    <tr style=\"text-align: right;\">\n",
       "      <th></th>\n",
       "      <th>score</th>\n",
       "      <th>text</th>\n",
       "    </tr>\n",
       "  </thead>\n",
       "  <tbody>\n",
       "    <tr>\n",
       "      <th>0</th>\n",
       "      <td>0.994977</td>\n",
       "      <td>We went there to eat dinner, and it was delicious</td>\n",
       "    </tr>\n",
       "    <tr>\n",
       "      <th>1</th>\n",
       "      <td>0.999998</td>\n",
       "      <td>One of the best suppers I've ever eaten</td>\n",
       "    </tr>\n",
       "    <tr>\n",
       "      <th>2</th>\n",
       "      <td>0.000945</td>\n",
       "      <td>Totally disgusting dish. I think cook made this with his eyes closed</td>\n",
       "    </tr>\n",
       "  </tbody>\n",
       "</table>\n",
       "</div>"
      ],
      "text/plain": [
       "      score  \\\n",
       "0  0.994977   \n",
       "1  0.999998   \n",
       "2  0.000945   \n",
       "\n",
       "                                                                   text  \n",
       "0  We went there to eat dinner, and it was delicious                     \n",
       "1  One of the best suppers I've ever eaten                               \n",
       "2  Totally disgusting dish. I think cook made this with his eyes closed  "
      ]
     },
     "metadata": {},
     "output_type": "display_data"
    },
    {
     "data": {
      "text/markdown": [
       "#### Highest 5"
      ]
     },
     "metadata": {},
     "output_type": "display_data"
    },
    {
     "data": {
      "text/html": [
       "<div>\n",
       "<style scoped>\n",
       "    .dataframe tbody tr th:only-of-type {\n",
       "        vertical-align: middle;\n",
       "    }\n",
       "\n",
       "    .dataframe tbody tr th {\n",
       "        vertical-align: top;\n",
       "    }\n",
       "\n",
       "    .dataframe thead th {\n",
       "        text-align: right;\n",
       "    }\n",
       "</style>\n",
       "<table border=\"1\" class=\"dataframe\">\n",
       "  <thead>\n",
       "    <tr style=\"text-align: right;\">\n",
       "      <th></th>\n",
       "      <th>pred</th>\n",
       "      <th>prob</th>\n",
       "      <th>real</th>\n",
       "      <th>text</th>\n",
       "    </tr>\n",
       "  </thead>\n",
       "  <tbody>\n",
       "    <tr>\n",
       "      <th>1810</th>\n",
       "      <td>1.000000</td>\n",
       "      <td>1.000000</td>\n",
       "      <td>1</td>\n",
       "      <td>a healthy choice for gum, great flavor.  customer service was excellent - fast and courteous.</td>\n",
       "    </tr>\n",
       "    <tr>\n",
       "      <th>266</th>\n",
       "      <td>1.000000</td>\n",
       "      <td>1.000000</td>\n",
       "      <td>1</td>\n",
       "      <td>a refreshing cold beverage and a soothing, perfect, hot cup of tea. offers healthful benefits.</td>\n",
       "    </tr>\n",
       "    <tr>\n",
       "      <th>1383</th>\n",
       "      <td>1.000000</td>\n",
       "      <td>0.999999</td>\n",
       "      <td>1</td>\n",
       "      <td>these are great training &amp; reinforcement treats. my dogs love them and they are a good bargain. highly recommend them!</td>\n",
       "    </tr>\n",
       "    <tr>\n",
       "      <th>155</th>\n",
       "      <td>1.000000</td>\n",
       "      <td>0.999999</td>\n",
       "      <td>1</td>\n",
       "      <td>the oatmeal is delicious! great breakfast meal that is quick and easy! it's organic too!</td>\n",
       "    </tr>\n",
       "    <tr>\n",
       "      <th>1651</th>\n",
       "      <td>1.000000</td>\n",
       "      <td>0.999998</td>\n",
       "      <td>1</td>\n",
       "      <td>love everything about these 8.25-ounce cartons:  they are shelf stable and very portable.  highly recommend.</td>\n",
       "    </tr>\n",
       "  </tbody>\n",
       "</table>\n",
       "</div>"
      ],
      "text/plain": [
       "         pred     prob  real  \\\n",
       "1810 1.000000 1.000000     1   \n",
       "266  1.000000 1.000000     1   \n",
       "1383 1.000000 0.999999     1   \n",
       "155  1.000000 0.999999     1   \n",
       "1651 1.000000 0.999998     1   \n",
       "\n",
       "                                                                                                                        text  \n",
       "1810                           a healthy choice for gum, great flavor.  customer service was excellent - fast and courteous.  \n",
       "266                           a refreshing cold beverage and a soothing, perfect, hot cup of tea. offers healthful benefits.  \n",
       "1383  these are great training & reinforcement treats. my dogs love them and they are a good bargain. highly recommend them!  \n",
       "155                                 the oatmeal is delicious! great breakfast meal that is quick and easy! it's organic too!  \n",
       "1651            love everything about these 8.25-ounce cartons:  they are shelf stable and very portable.  highly recommend.  "
      ]
     },
     "metadata": {},
     "output_type": "display_data"
    },
    {
     "data": {
      "text/markdown": [
       "#### Lowest 5"
      ]
     },
     "metadata": {},
     "output_type": "display_data"
    },
    {
     "data": {
      "text/html": [
       "<div>\n",
       "<style scoped>\n",
       "    .dataframe tbody tr th:only-of-type {\n",
       "        vertical-align: middle;\n",
       "    }\n",
       "\n",
       "    .dataframe tbody tr th {\n",
       "        vertical-align: top;\n",
       "    }\n",
       "\n",
       "    .dataframe thead th {\n",
       "        text-align: right;\n",
       "    }\n",
       "</style>\n",
       "<table border=\"1\" class=\"dataframe\">\n",
       "  <thead>\n",
       "    <tr style=\"text-align: right;\">\n",
       "      <th></th>\n",
       "      <th>pred</th>\n",
       "      <th>prob</th>\n",
       "      <th>real</th>\n",
       "      <th>text</th>\n",
       "    </tr>\n",
       "  </thead>\n",
       "  <tbody>\n",
       "    <tr>\n",
       "      <th>1811</th>\n",
       "      <td>0.000000</td>\n",
       "      <td>0.000453</td>\n",
       "      <td>0</td>\n",
       "      <td>at first i thoughts it tasted like soy flour was used as it had a similar smell; however, it is garbanzo bean flour???????????...</td>\n",
       "    </tr>\n",
       "    <tr>\n",
       "      <th>510</th>\n",
       "      <td>0.000000</td>\n",
       "      <td>0.000989</td>\n",
       "      <td>0</td>\n",
       "      <td>bought the teriyaki flavor .....totally gross,&lt;br /&gt;&lt;br /&gt;do not waste your money on this slimy stuff.... could barely finish ...</td>\n",
       "    </tr>\n",
       "    <tr>\n",
       "      <th>1390</th>\n",
       "      <td>0.000000</td>\n",
       "      <td>0.001584</td>\n",
       "      <td>0</td>\n",
       "      <td>i received this item poorly packaged and contents were scuffed and jumbled. it was meant for a gift and looked like a returned...</td>\n",
       "    </tr>\n",
       "    <tr>\n",
       "      <th>1732</th>\n",
       "      <td>0.000000</td>\n",
       "      <td>0.002072</td>\n",
       "      <td>0</td>\n",
       "      <td>i should have known when the product told me to rinse it for several minutes to get rid of the putrid smell - smells like they...</td>\n",
       "    </tr>\n",
       "    <tr>\n",
       "      <th>850</th>\n",
       "      <td>0.000000</td>\n",
       "      <td>0.002553</td>\n",
       "      <td>0</td>\n",
       "      <td>the cote d'or dark 86% brut chocolate cocoa, 3.5-ounce bars (pack of 10) is close to the worst chocolate i have eaten, if not ...</td>\n",
       "    </tr>\n",
       "  </tbody>\n",
       "</table>\n",
       "</div>"
      ],
      "text/plain": [
       "         pred     prob  real  \\\n",
       "1811 0.000000 0.000453     0   \n",
       "510  0.000000 0.000989     0   \n",
       "1390 0.000000 0.001584     0   \n",
       "1732 0.000000 0.002072     0   \n",
       "850  0.000000 0.002553     0   \n",
       "\n",
       "                                                                                                                                   text  \n",
       "1811  at first i thoughts it tasted like soy flour was used as it had a similar smell; however, it is garbanzo bean flour???????????...  \n",
       "510   bought the teriyaki flavor .....totally gross,<br /><br />do not waste your money on this slimy stuff.... could barely finish ...  \n",
       "1390  i received this item poorly packaged and contents were scuffed and jumbled. it was meant for a gift and looked like a returned...  \n",
       "1732  i should have known when the product told me to rinse it for several minutes to get rid of the putrid smell - smells like they...  \n",
       "850   the cote d'or dark 86% brut chocolate cocoa, 3.5-ounce bars (pack of 10) is close to the worst chocolate i have eaten, if not ...  "
      ]
     },
     "metadata": {},
     "output_type": "display_data"
    },
    {
     "data": {
      "text/markdown": [
       "#### Highest 5 mispredicted"
      ]
     },
     "metadata": {},
     "output_type": "display_data"
    },
    {
     "data": {
      "text/html": [
       "<div>\n",
       "<style scoped>\n",
       "    .dataframe tbody tr th:only-of-type {\n",
       "        vertical-align: middle;\n",
       "    }\n",
       "\n",
       "    .dataframe tbody tr th {\n",
       "        vertical-align: top;\n",
       "    }\n",
       "\n",
       "    .dataframe thead th {\n",
       "        text-align: right;\n",
       "    }\n",
       "</style>\n",
       "<table border=\"1\" class=\"dataframe\">\n",
       "  <thead>\n",
       "    <tr style=\"text-align: right;\">\n",
       "      <th></th>\n",
       "      <th>pred</th>\n",
       "      <th>prob</th>\n",
       "      <th>real</th>\n",
       "      <th>text</th>\n",
       "    </tr>\n",
       "  </thead>\n",
       "  <tbody>\n",
       "    <tr>\n",
       "      <th>1714</th>\n",
       "      <td>1.000000</td>\n",
       "      <td>0.999407</td>\n",
       "      <td>0</td>\n",
       "      <td>not so great lemon flavor!&lt;br /&gt;it's very hard to find soy free!&lt;br /&gt;this is a great brand! i prefer the ginger much better t...</td>\n",
       "    </tr>\n",
       "    <tr>\n",
       "      <th>998</th>\n",
       "      <td>1.000000</td>\n",
       "      <td>0.997935</td>\n",
       "      <td>0</td>\n",
       "      <td>wolfgang puck's \"breakfast in bed\" is a much more flavorful and robust medium roast than this one.</td>\n",
       "    </tr>\n",
       "    <tr>\n",
       "      <th>1894</th>\n",
       "      <td>1.000000</td>\n",
       "      <td>0.994159</td>\n",
       "      <td>0</td>\n",
       "      <td>my 10-month old loves these! they are helpful to teach him how to eat and relieve pain from teething, too. look around for a b...</td>\n",
       "    </tr>\n",
       "    <tr>\n",
       "      <th>615</th>\n",
       "      <td>1.000000</td>\n",
       "      <td>0.986067</td>\n",
       "      <td>0</td>\n",
       "      <td>i would rather spend the time and effort for a better flavor. the pods are individually sealed, and easy to use. the flavor is...</td>\n",
       "    </tr>\n",
       "    <tr>\n",
       "      <th>440</th>\n",
       "      <td>1.000000</td>\n",
       "      <td>0.985454</td>\n",
       "      <td>0</td>\n",
       "      <td>these have a great crunch and it's great that it's low fat. however, it's way too salty. 280mg per serving is more than twice ...</td>\n",
       "    </tr>\n",
       "  </tbody>\n",
       "</table>\n",
       "</div>"
      ],
      "text/plain": [
       "         pred     prob  real  \\\n",
       "1714 1.000000 0.999407     0   \n",
       "998  1.000000 0.997935     0   \n",
       "1894 1.000000 0.994159     0   \n",
       "615  1.000000 0.986067     0   \n",
       "440  1.000000 0.985454     0   \n",
       "\n",
       "                                                                                                                                   text  \n",
       "1714  not so great lemon flavor!<br />it's very hard to find soy free!<br />this is a great brand! i prefer the ginger much better t...  \n",
       "998                                  wolfgang puck's \"breakfast in bed\" is a much more flavorful and robust medium roast than this one.  \n",
       "1894  my 10-month old loves these! they are helpful to teach him how to eat and relieve pain from teething, too. look around for a b...  \n",
       "615   i would rather spend the time and effort for a better flavor. the pods are individually sealed, and easy to use. the flavor is...  \n",
       "440   these have a great crunch and it's great that it's low fat. however, it's way too salty. 280mg per serving is more than twice ...  "
      ]
     },
     "metadata": {},
     "output_type": "display_data"
    },
    {
     "data": {
      "text/markdown": [
       "#### Lowest 5 mispredicted"
      ]
     },
     "metadata": {},
     "output_type": "display_data"
    },
    {
     "data": {
      "text/html": [
       "<div>\n",
       "<style scoped>\n",
       "    .dataframe tbody tr th:only-of-type {\n",
       "        vertical-align: middle;\n",
       "    }\n",
       "\n",
       "    .dataframe tbody tr th {\n",
       "        vertical-align: top;\n",
       "    }\n",
       "\n",
       "    .dataframe thead th {\n",
       "        text-align: right;\n",
       "    }\n",
       "</style>\n",
       "<table border=\"1\" class=\"dataframe\">\n",
       "  <thead>\n",
       "    <tr style=\"text-align: right;\">\n",
       "      <th></th>\n",
       "      <th>pred</th>\n",
       "      <th>prob</th>\n",
       "      <th>real</th>\n",
       "      <th>text</th>\n",
       "    </tr>\n",
       "  </thead>\n",
       "  <tbody>\n",
       "    <tr>\n",
       "      <th>1712</th>\n",
       "      <td>0.000000</td>\n",
       "      <td>0.022688</td>\n",
       "      <td>1</td>\n",
       "      <td>what can i say, the deer and the antelop did not do anything to this coffee.  neither did the caribou.  it's ok, drinkable.</td>\n",
       "    </tr>\n",
       "    <tr>\n",
       "      <th>1792</th>\n",
       "      <td>0.000000</td>\n",
       "      <td>0.057498</td>\n",
       "      <td>1</td>\n",
       "      <td>i haven't had any problems with this tea so i am a notch above indifferent.  i don't regret buying it.</td>\n",
       "    </tr>\n",
       "    <tr>\n",
       "      <th>1252</th>\n",
       "      <td>0.000000</td>\n",
       "      <td>0.066406</td>\n",
       "      <td>1</td>\n",
       "      <td>the tower was what i wanted for family gifts.  didn't get to view the contents but i am sure they were ok</td>\n",
       "    </tr>\n",
       "    <tr>\n",
       "      <th>393</th>\n",
       "      <td>0.000000</td>\n",
       "      <td>0.070670</td>\n",
       "      <td>1</td>\n",
       "      <td>the popcorn is great.  unfortunately, the bags are defective and the buttery flavoring has seeped out thus making the outside ...</td>\n",
       "    </tr>\n",
       "    <tr>\n",
       "      <th>811</th>\n",
       "      <td>0.000000</td>\n",
       "      <td>0.074863</td>\n",
       "      <td>1</td>\n",
       "      <td>i had mole problems and i killed the bugs.  i had killed the whole yard to replant and don't know if there were less bugs in t...</td>\n",
       "    </tr>\n",
       "  </tbody>\n",
       "</table>\n",
       "</div>"
      ],
      "text/plain": [
       "         pred     prob  real  \\\n",
       "1712 0.000000 0.022688     1   \n",
       "1792 0.000000 0.057498     1   \n",
       "1252 0.000000 0.066406     1   \n",
       "393  0.000000 0.070670     1   \n",
       "811  0.000000 0.074863     1   \n",
       "\n",
       "                                                                                                                                   text  \n",
       "1712        what can i say, the deer and the antelop did not do anything to this coffee.  neither did the caribou.  it's ok, drinkable.  \n",
       "1792                             i haven't had any problems with this tea so i am a notch above indifferent.  i don't regret buying it.  \n",
       "1252                          the tower was what i wanted for family gifts.  didn't get to view the contents but i am sure they were ok  \n",
       "393   the popcorn is great.  unfortunately, the bags are defective and the buttery flavoring has seeped out thus making the outside ...  \n",
       "811   i had mole problems and i killed the bugs.  i had killed the whole yard to replant and don't know if there were less bugs in t...  "
      ]
     },
     "metadata": {},
     "output_type": "display_data"
    },
    {
     "data": {
      "text/markdown": [
       "#### Classification report for logisticregression"
      ]
     },
     "metadata": {},
     "output_type": "display_data"
    },
    {
     "name": "stdout",
     "output_type": "stream",
     "text": [
      "             precision    recall  f1-score   support\n",
      "\n",
      "   Negative       0.76      0.53      0.62       313\n",
      "   Positive       0.92      0.97      0.94      1687\n",
      "\n",
      "avg / total       0.89      0.90      0.89      2000\n",
      "\n"
     ]
    },
    {
     "data": {
      "image/png": "[encoded data removed]",
      "text/plain": [
       "<matplotlib.figure.Figure at 0x7f12c4d83e48>"
      ]
     },
     "metadata": {},
     "output_type": "display_data"
    }
   ],
   "source": [
    "logistic_regression_limit = min(100000, len(X_sklearn_preprocessed))\n",
    "\n",
    "logistic_regression = models.LogisticRegressionModel(\n",
    "    nlp, dataset_id,\n",
    "    C=1e5\n",
    ")\n",
    "\n",
    "accuracy = train_model_and_display_results(\n",
    "    logistic_regression,\n",
    "    X_sklearn_preprocessed[:logistic_regression_limit],\n",
    "    y_train[:logistic_regression_limit],\n",
    "    preprocessed=True\n",
    ")\n",
    "\n",
    "if SAVE_IN_STORE:\n",
    "    store.add_model(logistic_regression, \"logistic_reg_food\", \"Food Reviews Logistic Regression\", metadata={\n",
    "        'Dataset': 'Amazon Fine Food Reviews',\n",
    "        'Training samples': logistic_regression_limit,\n",
    "        'Accuracy': accuracy,\n",
    "        'Description': \"Logistic Regression Analysis algorithm from Sklearn package, default options except C=1e5\"\n",
    "    })"
   ]
  },
  {
   "cell_type": "code",
   "execution_count": 7,
   "metadata": {
    "scrolled": false
   },
   "outputs": [
    {
     "data": {
      "text/markdown": [
       "## GradientBoostingModel"
      ]
     },
     "metadata": {},
     "output_type": "display_data"
    },
    {
     "data": {
      "text/markdown": [
       "#### Training"
      ]
     },
     "metadata": {},
     "output_type": "display_data"
    },
    {
     "name": "stdout",
     "output_type": "stream",
     "text": [
      "Loading model...\n",
      "Unable to load model, training...\n"
     ]
    },
    {
     "name": "stderr",
     "output_type": "stream",
     "text": [
      "/usr/local/lib/python3.5/dist-packages/sklearn/utils/validation.py:578: DataConversionWarning: A column-vector y was passed when a 1d array was expected. Please change the shape of y to (n_samples, ), for example using ravel().\n",
      "  y = column_or_1d(y, warn=True)\n"
     ]
    },
    {
     "name": "stdout",
     "output_type": "stream",
     "text": [
      "      Iter       Train Loss   Remaining Time \n",
      "         1           0.8472           13.32m\n",
      "         2           0.8325           13.38m\n",
      "         3           0.8199           13.03m\n",
      "         4           0.8089           12.75m\n",
      "         5           0.7986           12.53m\n",
      "         6           0.7895           12.22m\n",
      "         7           0.7811           11.94m\n",
      "         8           0.7729           11.65m\n",
      "         9           0.7656           11.33m\n",
      "        10           0.7582           11.03m\n",
      "        11           0.7520           10.77m\n",
      "        12           0.7461           10.51m\n",
      "        13           0.7402           10.26m\n",
      "        14           0.7348            9.98m\n",
      "        15           0.7293            9.71m\n",
      "        16           0.7243            9.45m\n",
      "        17           0.7193            9.20m\n",
      "        18           0.7153            8.90m\n",
      "        19           0.7115            8.62m\n",
      "        20           0.7075            8.35m\n",
      "        21           0.7039            8.07m\n",
      "        22           0.6999            7.78m\n",
      "        23           0.6960            7.51m\n",
      "        24           0.6926            7.23m\n",
      "        25           0.6891            6.94m\n",
      "        26           0.6857            6.65m\n",
      "        27           0.6828            6.38m\n",
      "        28           0.6799            6.09m\n",
      "        29           0.6771            5.81m\n",
      "        30           0.6747            5.52m\n",
      "        31           0.6726            5.23m\n",
      "        32           0.6700            4.95m\n",
      "        33           0.6674            4.67m\n",
      "        34           0.6647            4.39m\n",
      "        35           0.6624            4.11m\n",
      "        36           0.6602            3.84m\n",
      "        37           0.6577            3.56m\n",
      "        38           0.6555            3.29m\n",
      "        39           0.6534            3.01m\n",
      "        40           0.6513            2.74m\n",
      "        41           0.6494            2.46m\n",
      "        42           0.6474            2.19m\n",
      "        43           0.6454            1.92m\n",
      "        44           0.6435            1.64m\n",
      "        45           0.6417            1.37m\n",
      "        46           0.6400            1.09m\n",
      "        47           0.6383           49.26s\n",
      "        48           0.6365           32.85s\n",
      "        49           0.6349           16.44s\n",
      "        50           0.6335            0.00s\n",
      "Model 'gradientboostingclassifier_food_text_all_c002d57a.pkl' saved\n"
     ]
    },
    {
     "data": {
      "text/markdown": [
       "#### Overview of created model"
      ]
     },
     "metadata": {},
     "output_type": "display_data"
    },
    {
     "data": {
      "text/plain": [
       "GradientBoostingClassifier(criterion='friedman_mse', init=None,\n",
       "              learning_rate=0.1, loss='deviance', max_depth=2,\n",
       "              max_features=None, max_leaf_nodes=None,\n",
       "              min_impurity_decrease=0.0, min_impurity_split=None,\n",
       "              min_samples_leaf=1, min_samples_split=2,\n",
       "              min_weight_fraction_leaf=0.0, n_estimators=50,\n",
       "              presort='auto', random_state=None, subsample=1.0, verbose=2,\n",
       "              warm_start=False)"
      ]
     },
     "metadata": {},
     "output_type": "display_data"
    },
    {
     "data": {
      "text/markdown": [
       "#### Model results"
      ]
     },
     "metadata": {},
     "output_type": "display_data"
    },
    {
     "data": {
      "text/markdown": [
       "#### Predicted scores"
      ]
     },
     "metadata": {},
     "output_type": "display_data"
    },
    {
     "data": {
      "text/html": [
       "<div>\n",
       "<style scoped>\n",
       "    .dataframe tbody tr th:only-of-type {\n",
       "        vertical-align: middle;\n",
       "    }\n",
       "\n",
       "    .dataframe tbody tr th {\n",
       "        vertical-align: top;\n",
       "    }\n",
       "\n",
       "    .dataframe thead th {\n",
       "        text-align: right;\n",
       "    }\n",
       "</style>\n",
       "<table border=\"1\" class=\"dataframe\">\n",
       "  <thead>\n",
       "    <tr style=\"text-align: right;\">\n",
       "      <th></th>\n",
       "      <th>score</th>\n",
       "      <th>text</th>\n",
       "    </tr>\n",
       "  </thead>\n",
       "  <tbody>\n",
       "    <tr>\n",
       "      <th>0</th>\n",
       "      <td>0.928286</td>\n",
       "      <td>We went there to eat dinner, and it was delicious</td>\n",
       "    </tr>\n",
       "    <tr>\n",
       "      <th>1</th>\n",
       "      <td>0.946490</td>\n",
       "      <td>One of the best suppers I've ever eaten</td>\n",
       "    </tr>\n",
       "    <tr>\n",
       "      <th>2</th>\n",
       "      <td>0.766118</td>\n",
       "      <td>Totally disgusting dish. I think cook made this with his eyes closed</td>\n",
       "    </tr>\n",
       "  </tbody>\n",
       "</table>\n",
       "</div>"
      ],
      "text/plain": [
       "      score  \\\n",
       "0  0.928286   \n",
       "1  0.946490   \n",
       "2  0.766118   \n",
       "\n",
       "                                                                   text  \n",
       "0  We went there to eat dinner, and it was delicious                     \n",
       "1  One of the best suppers I've ever eaten                               \n",
       "2  Totally disgusting dish. I think cook made this with his eyes closed  "
      ]
     },
     "metadata": {},
     "output_type": "display_data"
    },
    {
     "data": {
      "text/markdown": [
       "#### Highest 5"
      ]
     },
     "metadata": {},
     "output_type": "display_data"
    },
    {
     "data": {
      "text/html": [
       "<div>\n",
       "<style scoped>\n",
       "    .dataframe tbody tr th:only-of-type {\n",
       "        vertical-align: middle;\n",
       "    }\n",
       "\n",
       "    .dataframe tbody tr th {\n",
       "        vertical-align: top;\n",
       "    }\n",
       "\n",
       "    .dataframe thead th {\n",
       "        text-align: right;\n",
       "    }\n",
       "</style>\n",
       "<table border=\"1\" class=\"dataframe\">\n",
       "  <thead>\n",
       "    <tr style=\"text-align: right;\">\n",
       "      <th></th>\n",
       "      <th>pred</th>\n",
       "      <th>prob</th>\n",
       "      <th>real</th>\n",
       "      <th>text</th>\n",
       "    </tr>\n",
       "  </thead>\n",
       "  <tbody>\n",
       "    <tr>\n",
       "      <th>1514</th>\n",
       "      <td>1.000000</td>\n",
       "      <td>0.980749</td>\n",
       "      <td>1</td>\n",
       "      <td>love this coffee, have recommended and shared with friends. good smooth, strong and delicious flavor at an excellent price. i ...</td>\n",
       "    </tr>\n",
       "    <tr>\n",
       "      <th>266</th>\n",
       "      <td>1.000000</td>\n",
       "      <td>0.980010</td>\n",
       "      <td>1</td>\n",
       "      <td>a refreshing cold beverage and a soothing, perfect, hot cup of tea. offers healthful benefits.</td>\n",
       "    </tr>\n",
       "    <tr>\n",
       "      <th>1550</th>\n",
       "      <td>1.000000</td>\n",
       "      <td>0.978740</td>\n",
       "      <td>1</td>\n",
       "      <td>what great cup of coffee!  i recommend it to any coffee drinker who enjoys sitting back and enjoying what coffee is all about....</td>\n",
       "    </tr>\n",
       "    <tr>\n",
       "      <th>1072</th>\n",
       "      <td>1.000000</td>\n",
       "      <td>0.977439</td>\n",
       "      <td>1</td>\n",
       "      <td>it is chocolate, what can i say.  great variety of everything our family loves.  with a family of six it goes fast here.  perf...</td>\n",
       "    </tr>\n",
       "    <tr>\n",
       "      <th>1056</th>\n",
       "      <td>1.000000</td>\n",
       "      <td>0.977383</td>\n",
       "      <td>1</td>\n",
       "      <td>i have been searching for a great midday snack that is gluten free and i have finally found it. the almond and apricot kind ba...</td>\n",
       "    </tr>\n",
       "  </tbody>\n",
       "</table>\n",
       "</div>"
      ],
      "text/plain": [
       "         pred     prob  real  \\\n",
       "1514 1.000000 0.980749     1   \n",
       "266  1.000000 0.980010     1   \n",
       "1550 1.000000 0.978740     1   \n",
       "1072 1.000000 0.977439     1   \n",
       "1056 1.000000 0.977383     1   \n",
       "\n",
       "                                                                                                                                   text  \n",
       "1514  love this coffee, have recommended and shared with friends. good smooth, strong and delicious flavor at an excellent price. i ...  \n",
       "266                                      a refreshing cold beverage and a soothing, perfect, hot cup of tea. offers healthful benefits.  \n",
       "1550  what great cup of coffee!  i recommend it to any coffee drinker who enjoys sitting back and enjoying what coffee is all about....  \n",
       "1072  it is chocolate, what can i say.  great variety of everything our family loves.  with a family of six it goes fast here.  perf...  \n",
       "1056  i have been searching for a great midday snack that is gluten free and i have finally found it. the almond and apricot kind ba...  "
      ]
     },
     "metadata": {},
     "output_type": "display_data"
    },
    {
     "data": {
      "text/markdown": [
       "#### Lowest 5"
      ]
     },
     "metadata": {},
     "output_type": "display_data"
    },
    {
     "data": {
      "text/html": [
       "<div>\n",
       "<style scoped>\n",
       "    .dataframe tbody tr th:only-of-type {\n",
       "        vertical-align: middle;\n",
       "    }\n",
       "\n",
       "    .dataframe tbody tr th {\n",
       "        vertical-align: top;\n",
       "    }\n",
       "\n",
       "    .dataframe thead th {\n",
       "        text-align: right;\n",
       "    }\n",
       "</style>\n",
       "<table border=\"1\" class=\"dataframe\">\n",
       "  <thead>\n",
       "    <tr style=\"text-align: right;\">\n",
       "      <th></th>\n",
       "      <th>pred</th>\n",
       "      <th>prob</th>\n",
       "      <th>real</th>\n",
       "      <th>text</th>\n",
       "    </tr>\n",
       "  </thead>\n",
       "  <tbody>\n",
       "    <tr>\n",
       "      <th>850</th>\n",
       "      <td>0.000000</td>\n",
       "      <td>0.180858</td>\n",
       "      <td>0</td>\n",
       "      <td>the cote d'or dark 86% brut chocolate cocoa, 3.5-ounce bars (pack of 10) is close to the worst chocolate i have eaten, if not ...</td>\n",
       "    </tr>\n",
       "    <tr>\n",
       "      <th>544</th>\n",
       "      <td>0.000000</td>\n",
       "      <td>0.215153</td>\n",
       "      <td>0</td>\n",
       "      <td>i really hesitate to leave a negative review since we love the chips, but both of the last 2 shipments were destroyed.  both b...</td>\n",
       "    </tr>\n",
       "    <tr>\n",
       "      <th>510</th>\n",
       "      <td>0.000000</td>\n",
       "      <td>0.215427</td>\n",
       "      <td>0</td>\n",
       "      <td>bought the teriyaki flavor .....totally gross,&lt;br /&gt;&lt;br /&gt;do not waste your money on this slimy stuff.... could barely finish ...</td>\n",
       "    </tr>\n",
       "    <tr>\n",
       "      <th>1834</th>\n",
       "      <td>0.000000</td>\n",
       "      <td>0.235895</td>\n",
       "      <td>0</td>\n",
       "      <td>i got the case of beans in the mail yesterday.  today when i got a chance to open the box, every single can was dented.  the s...</td>\n",
       "    </tr>\n",
       "    <tr>\n",
       "      <th>1462</th>\n",
       "      <td>0.000000</td>\n",
       "      <td>0.235977</td>\n",
       "      <td>0</td>\n",
       "      <td>i hope someone in charge of this sale reads this, because of all the cans in the two cases of soup i ordered, easily 75% of th...</td>\n",
       "    </tr>\n",
       "  </tbody>\n",
       "</table>\n",
       "</div>"
      ],
      "text/plain": [
       "         pred     prob  real  \\\n",
       "850  0.000000 0.180858     0   \n",
       "544  0.000000 0.215153     0   \n",
       "510  0.000000 0.215427     0   \n",
       "1834 0.000000 0.235895     0   \n",
       "1462 0.000000 0.235977     0   \n",
       "\n",
       "                                                                                                                                   text  \n",
       "850   the cote d'or dark 86% brut chocolate cocoa, 3.5-ounce bars (pack of 10) is close to the worst chocolate i have eaten, if not ...  \n",
       "544   i really hesitate to leave a negative review since we love the chips, but both of the last 2 shipments were destroyed.  both b...  \n",
       "510   bought the teriyaki flavor .....totally gross,<br /><br />do not waste your money on this slimy stuff.... could barely finish ...  \n",
       "1834  i got the case of beans in the mail yesterday.  today when i got a chance to open the box, every single can was dented.  the s...  \n",
       "1462  i hope someone in charge of this sale reads this, because of all the cans in the two cases of soup i ordered, easily 75% of th...  "
      ]
     },
     "metadata": {},
     "output_type": "display_data"
    },
    {
     "data": {
      "text/markdown": [
       "#### Highest 5 mispredicted"
      ]
     },
     "metadata": {},
     "output_type": "display_data"
    },
    {
     "data": {
      "text/html": [
       "<div>\n",
       "<style scoped>\n",
       "    .dataframe tbody tr th:only-of-type {\n",
       "        vertical-align: middle;\n",
       "    }\n",
       "\n",
       "    .dataframe tbody tr th {\n",
       "        vertical-align: top;\n",
       "    }\n",
       "\n",
       "    .dataframe thead th {\n",
       "        text-align: right;\n",
       "    }\n",
       "</style>\n",
       "<table border=\"1\" class=\"dataframe\">\n",
       "  <thead>\n",
       "    <tr style=\"text-align: right;\">\n",
       "      <th></th>\n",
       "      <th>pred</th>\n",
       "      <th>prob</th>\n",
       "      <th>real</th>\n",
       "      <th>text</th>\n",
       "    </tr>\n",
       "  </thead>\n",
       "  <tbody>\n",
       "    <tr>\n",
       "      <th>1714</th>\n",
       "      <td>1.000000</td>\n",
       "      <td>0.957823</td>\n",
       "      <td>0</td>\n",
       "      <td>not so great lemon flavor!&lt;br /&gt;it's very hard to find soy free!&lt;br /&gt;this is a great brand! i prefer the ginger much better t...</td>\n",
       "    </tr>\n",
       "    <tr>\n",
       "      <th>1894</th>\n",
       "      <td>1.000000</td>\n",
       "      <td>0.957432</td>\n",
       "      <td>0</td>\n",
       "      <td>my 10-month old loves these! they are helpful to teach him how to eat and relieve pain from teething, too. look around for a b...</td>\n",
       "    </tr>\n",
       "    <tr>\n",
       "      <th>998</th>\n",
       "      <td>1.000000</td>\n",
       "      <td>0.955181</td>\n",
       "      <td>0</td>\n",
       "      <td>wolfgang puck's \"breakfast in bed\" is a much more flavorful and robust medium roast than this one.</td>\n",
       "    </tr>\n",
       "    <tr>\n",
       "      <th>1237</th>\n",
       "      <td>1.000000</td>\n",
       "      <td>0.945899</td>\n",
       "      <td>0</td>\n",
       "      <td>i gave oregon chai a try when my local grocery store didn't have tazo. big mistake! it's somehow watery tasting and too sweet ...</td>\n",
       "    </tr>\n",
       "    <tr>\n",
       "      <th>1180</th>\n",
       "      <td>1.000000</td>\n",
       "      <td>0.942984</td>\n",
       "      <td>0</td>\n",
       "      <td>we love clif kid z bars.  i decided to try these based on all of the great reviews.  we bought the strawberry and no one in th...</td>\n",
       "    </tr>\n",
       "  </tbody>\n",
       "</table>\n",
       "</div>"
      ],
      "text/plain": [
       "         pred     prob  real  \\\n",
       "1714 1.000000 0.957823     0   \n",
       "1894 1.000000 0.957432     0   \n",
       "998  1.000000 0.955181     0   \n",
       "1237 1.000000 0.945899     0   \n",
       "1180 1.000000 0.942984     0   \n",
       "\n",
       "                                                                                                                                   text  \n",
       "1714  not so great lemon flavor!<br />it's very hard to find soy free!<br />this is a great brand! i prefer the ginger much better t...  \n",
       "1894  my 10-month old loves these! they are helpful to teach him how to eat and relieve pain from teething, too. look around for a b...  \n",
       "998                                  wolfgang puck's \"breakfast in bed\" is a much more flavorful and robust medium roast than this one.  \n",
       "1237  i gave oregon chai a try when my local grocery store didn't have tazo. big mistake! it's somehow watery tasting and too sweet ...  \n",
       "1180  we love clif kid z bars.  i decided to try these based on all of the great reviews.  we bought the strawberry and no one in th...  "
      ]
     },
     "metadata": {},
     "output_type": "display_data"
    },
    {
     "data": {
      "text/markdown": [
       "#### Lowest 5 mispredicted"
      ]
     },
     "metadata": {},
     "output_type": "display_data"
    },
    {
     "data": {
      "text/html": [
       "<div>\n",
       "<style scoped>\n",
       "    .dataframe tbody tr th:only-of-type {\n",
       "        vertical-align: middle;\n",
       "    }\n",
       "\n",
       "    .dataframe tbody tr th {\n",
       "        vertical-align: top;\n",
       "    }\n",
       "\n",
       "    .dataframe thead th {\n",
       "        text-align: right;\n",
       "    }\n",
       "</style>\n",
       "<table border=\"1\" class=\"dataframe\">\n",
       "  <thead>\n",
       "    <tr style=\"text-align: right;\">\n",
       "      <th></th>\n",
       "      <th>pred</th>\n",
       "      <th>prob</th>\n",
       "      <th>real</th>\n",
       "      <th>text</th>\n",
       "    </tr>\n",
       "  </thead>\n",
       "  <tbody>\n",
       "    <tr>\n",
       "      <th>811</th>\n",
       "      <td>0.000000</td>\n",
       "      <td>0.292569</td>\n",
       "      <td>1</td>\n",
       "      <td>i had mole problems and i killed the bugs.  i had killed the whole yard to replant and don't know if there were less bugs in t...</td>\n",
       "    </tr>\n",
       "    <tr>\n",
       "      <th>1257</th>\n",
       "      <td>0.000000</td>\n",
       "      <td>0.360199</td>\n",
       "      <td>1</td>\n",
       "      <td>can't find anything wrong with this product.  have used it twice already in baking and was pleased with the results.</td>\n",
       "    </tr>\n",
       "    <tr>\n",
       "      <th>1712</th>\n",
       "      <td>0.000000</td>\n",
       "      <td>0.368628</td>\n",
       "      <td>1</td>\n",
       "      <td>what can i say, the deer and the antelop did not do anything to this coffee.  neither did the caribou.  it's ok, drinkable.</td>\n",
       "    </tr>\n",
       "    <tr>\n",
       "      <th>1792</th>\n",
       "      <td>0.000000</td>\n",
       "      <td>0.370531</td>\n",
       "      <td>1</td>\n",
       "      <td>i haven't had any problems with this tea so i am a notch above indifferent.  i don't regret buying it.</td>\n",
       "    </tr>\n",
       "    <tr>\n",
       "      <th>1181</th>\n",
       "      <td>0.000000</td>\n",
       "      <td>0.381822</td>\n",
       "      <td>1</td>\n",
       "      <td>one of the three packs was open before arriving.  the paste was oozing out the side.  i can't return it, and i am having a lot...</td>\n",
       "    </tr>\n",
       "  </tbody>\n",
       "</table>\n",
       "</div>"
      ],
      "text/plain": [
       "         pred     prob  real  \\\n",
       "811  0.000000 0.292569     1   \n",
       "1257 0.000000 0.360199     1   \n",
       "1712 0.000000 0.368628     1   \n",
       "1792 0.000000 0.370531     1   \n",
       "1181 0.000000 0.381822     1   \n",
       "\n",
       "                                                                                                                                   text  \n",
       "811   i had mole problems and i killed the bugs.  i had killed the whole yard to replant and don't know if there were less bugs in t...  \n",
       "1257               can't find anything wrong with this product.  have used it twice already in baking and was pleased with the results.  \n",
       "1712        what can i say, the deer and the antelop did not do anything to this coffee.  neither did the caribou.  it's ok, drinkable.  \n",
       "1792                             i haven't had any problems with this tea so i am a notch above indifferent.  i don't regret buying it.  \n",
       "1181  one of the three packs was open before arriving.  the paste was oozing out the side.  i can't return it, and i am having a lot...  "
      ]
     },
     "metadata": {},
     "output_type": "display_data"
    },
    {
     "data": {
      "text/markdown": [
       "#### Classification report for gradientboostingclassifier"
      ]
     },
     "metadata": {},
     "output_type": "display_data"
    },
    {
     "name": "stdout",
     "output_type": "stream",
     "text": [
      "             precision    recall  f1-score   support\n",
      "\n",
      "   Negative       0.81      0.19      0.31       313\n",
      "   Positive       0.87      0.99      0.93      1687\n",
      "\n",
      "avg / total       0.86      0.87      0.83      2000\n",
      "\n"
     ]
    },
    {
     "data": {
      "image/png": "[encoded data removed]",
      "text/plain": [
       "<matplotlib.figure.Figure at 0x7f44a9a4f2b0>"
      ]
     },
     "metadata": {},
     "output_type": "display_data"
    }
   ],
   "source": [
    "gradient_boosting_model = models.GradientBoostingModel(\n",
    "    nlp, dataset_id,\n",
    "    n_estimators=50, \n",
    "    max_depth=2,\n",
    "    verbose=2\n",
    ")\n",
    "\n",
    "accuracy = train_model_and_display_results(\n",
    "    gradient_boosting_model,\n",
    "    X_sklearn_preprocessed, \n",
    "    preprocessed=True\n",
    ")\n",
    "\n",
    "if SAVE_IN_STORE:\n",
    "    store.add_model(gradient_boosting_model, \"gradient_boost_food\", \"Food Reviews Gradient Boosting\", metadata={\n",
    "        'Dataset': 'Amazon Fine Food Reviews',\n",
    "        'Training samples': len(X_sklearn_preprocessed),\n",
    "        'Accuracy': accuracy,\n",
    "        'Description': \"Gradient Boosting algorithm from Sklearn package, n_estimators=50, max_depth=2\"\n",
    "    })"
   ]
  },
  {
   "cell_type": "code",
   "execution_count": null,
   "metadata": {},
   "outputs": [],
   "source": []
  }
 ],
 "metadata": {
  "kernelspec": {
   "display_name": "Python 3",
   "language": "python",
   "name": "python3"
  },
  "language_info": {
   "codemirror_mode": {
    "name": "ipython",
    "version": 3
   },
   "file_extension": ".py",
   "mimetype": "text/x-python",
   "name": "python",
   "nbconvert_exporter": "python",
   "pygments_lexer": "ipython3",
   "version": "3.5.2"
  }
 },
 "nbformat": 4,
 "nbformat_minor": 2
}
