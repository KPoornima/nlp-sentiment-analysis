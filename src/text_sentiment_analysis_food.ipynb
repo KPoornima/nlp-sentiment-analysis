{
 "cells": [
  {
   "cell_type": "code",
   "execution_count": 6,
   "metadata": {},
   "outputs": [],
   "source": [
    "%load_ext autoreload\n",
    "%autoreload 2"
   ]
  },
  {
   "cell_type": "code",
   "execution_count": 7,
   "metadata": {},
   "outputs": [],
   "source": [
    "import numpy as np\n",
    "\n",
    "from shared.data import load_fine_food_reviews\n",
    "from IPython.display import display_markdown"
   ]
  },
  {
   "cell_type": "code",
   "execution_count": 8,
   "metadata": {},
   "outputs": [],
   "source": [
    "import en_vectors_web_lg\n",
    "nlp = en_vectors_web_lg.load()"
   ]
  },
  {
   "cell_type": "code",
   "execution_count": 9,
   "metadata": {},
   "outputs": [],
   "source": [
    "MAX_WORDS_IN_SENTENCE = 200\n",
    "TEXT_COLUMN = \"Text\"\n",
    "LIMIT = -1\n",
    "dataset_id = 'food_{}_{}'.format(TEXT_COLUMN.lower(), LIMIT if LIMIT > 0 else 'all')"
   ]
  },
  {
   "cell_type": "code",
   "execution_count": 10,
   "metadata": {},
   "outputs": [],
   "source": [
    "from sklearn.model_selection import train_test_split\n",
    "\n",
    "X, y = load_fine_food_reviews(limit=LIMIT, text_column=TEXT_COLUMN)\n",
    "indices = np.arange(len(X))\n",
    "\n",
    "# we're limiting test count to 2000 due to memory problems with higher values\n",
    "test_count = min(2000, int(0.25 * len(X)))\n",
    "idx_train, idx_test = train_test_split(indices, test_size=test_count, random_state=42)"
   ]
  },
  {
   "cell_type": "code",
   "execution_count": 11,
   "metadata": {
    "scrolled": false
   },
   "outputs": [
    {
     "data": {
      "text/markdown": [
       "### Data sample"
      ]
     },
     "metadata": {},
     "output_type": "display_data"
    },
    {
     "data": {
      "text/html": [
       "<div>\n",
       "<style scoped>\n",
       "    .dataframe tbody tr th:only-of-type {\n",
       "        vertical-align: middle;\n",
       "    }\n",
       "\n",
       "    .dataframe tbody tr th {\n",
       "        vertical-align: top;\n",
       "    }\n",
       "\n",
       "    .dataframe thead th {\n",
       "        text-align: right;\n",
       "    }\n",
       "</style>\n",
       "<table border=\"1\" class=\"dataframe\">\n",
       "  <thead>\n",
       "    <tr style=\"text-align: right;\">\n",
       "      <th></th>\n",
       "      <th>X</th>\n",
       "      <th>y</th>\n",
       "    </tr>\n",
       "  </thead>\n",
       "  <tbody>\n",
       "    <tr>\n",
       "      <th>0</th>\n",
       "      <td>i have bought several of the vitality canned d...</td>\n",
       "      <td>1</td>\n",
       "    </tr>\n",
       "    <tr>\n",
       "      <th>1</th>\n",
       "      <td>product arrived labeled as jumbo salted peanut...</td>\n",
       "      <td>0</td>\n",
       "    </tr>\n",
       "    <tr>\n",
       "      <th>2</th>\n",
       "      <td>this is a confection that has been around a fe...</td>\n",
       "      <td>1</td>\n",
       "    </tr>\n",
       "    <tr>\n",
       "      <th>3</th>\n",
       "      <td>if you are looking for the secret ingredient i...</td>\n",
       "      <td>0</td>\n",
       "    </tr>\n",
       "    <tr>\n",
       "      <th>4</th>\n",
       "      <td>great taffy at a great price.  there was a wid...</td>\n",
       "      <td>1</td>\n",
       "    </tr>\n",
       "    <tr>\n",
       "      <th>5</th>\n",
       "      <td>i got a wild hair for taffy and ordered this f...</td>\n",
       "      <td>1</td>\n",
       "    </tr>\n",
       "    <tr>\n",
       "      <th>6</th>\n",
       "      <td>this saltwater taffy had great flavors and was...</td>\n",
       "      <td>1</td>\n",
       "    </tr>\n",
       "    <tr>\n",
       "      <th>7</th>\n",
       "      <td>this taffy is so good.  it is very soft and ch...</td>\n",
       "      <td>1</td>\n",
       "    </tr>\n",
       "    <tr>\n",
       "      <th>8</th>\n",
       "      <td>right now i'm mostly just sprouting this so my...</td>\n",
       "      <td>1</td>\n",
       "    </tr>\n",
       "    <tr>\n",
       "      <th>9</th>\n",
       "      <td>this is a very healthy dog food. good for thei...</td>\n",
       "      <td>1</td>\n",
       "    </tr>\n",
       "  </tbody>\n",
       "</table>\n",
       "</div>"
      ],
      "text/plain": [
       "                                                   X  y\n",
       "0  i have bought several of the vitality canned d...  1\n",
       "1  product arrived labeled as jumbo salted peanut...  0\n",
       "2  this is a confection that has been around a fe...  1\n",
       "3  if you are looking for the secret ingredient i...  0\n",
       "4  great taffy at a great price.  there was a wid...  1\n",
       "5  i got a wild hair for taffy and ordered this f...  1\n",
       "6  this saltwater taffy had great flavors and was...  1\n",
       "7  this taffy is so good.  it is very soft and ch...  1\n",
       "8  right now i'm mostly just sprouting this so my...  1\n",
       "9  this is a very healthy dog food. good for thei...  1"
      ]
     },
     "metadata": {},
     "output_type": "display_data"
    },
    {
     "data": {
      "text/markdown": [
       "#### Text stats"
      ]
     },
     "metadata": {},
     "output_type": "display_data"
    },
    {
     "data": {
      "text/plain": [
       "count                                                525814\n",
       "unique                                               363827\n",
       "top       this review will make me sound really stupid, ...\n",
       "freq                                                    199\n",
       "Name: X, dtype: object"
      ]
     },
     "metadata": {},
     "output_type": "display_data"
    },
    {
     "data": {
      "text/markdown": [
       "#### Words length stats"
      ]
     },
     "metadata": {},
     "output_type": "display_data"
    },
    {
     "data": {
      "text/plain": [
       "count    525814.000000\n",
       "mean         79.016667\n",
       "std          78.447587\n",
       "min           3.000000\n",
       "25%          33.000000\n",
       "50%          55.000000\n",
       "75%          96.000000\n",
       "max        2520.000000\n",
       "Name: X, dtype: float64"
      ]
     },
     "metadata": {},
     "output_type": "display_data"
    },
    {
     "data": {
      "text/markdown": [
       "#### Labels stats"
      ]
     },
     "metadata": {},
     "output_type": "display_data"
    },
    {
     "data": {
      "text/plain": [
       "count    525814.000000\n",
       "mean          0.843981\n",
       "std           0.362874\n",
       "min           0.000000\n",
       "25%           1.000000\n",
       "50%           1.000000\n",
       "75%           1.000000\n",
       "max           1.000000\n",
       "Name: y, dtype: float64"
      ]
     },
     "metadata": {},
     "output_type": "display_data"
    },
    {
     "data": {
      "text/markdown": [
       "#### Labels counts"
      ]
     },
     "metadata": {},
     "output_type": "display_data"
    },
    {
     "data": {
      "text/plain": [
       "1    443777\n",
       "0     82037\n",
       "Name: y, dtype: int64"
      ]
     },
     "metadata": {},
     "output_type": "display_data"
    },
    {
     "data": {
      "text/plain": [
       "1    0.843981\n",
       "0    0.156019\n",
       "Name: y, dtype: float64"
      ]
     },
     "metadata": {},
     "output_type": "display_data"
    },
    {
     "data": {
      "text/markdown": [
       "### Train count: 523814"
      ]
     },
     "metadata": {},
     "output_type": "display_data"
    },
    {
     "data": {
      "text/markdown": [
       "### Test count:  2000"
      ]
     },
     "metadata": {},
     "output_type": "display_data"
    }
   ],
   "source": [
    "import pandas as pd\n",
    "data = pd.DataFrame({'X': pd.Series(X), 'y': pd.Series(y[:, 0])})\n",
    "\n",
    "display_markdown(\"### Data sample\", raw=True)\n",
    "display(data.head(10))\n",
    "\n",
    "display_markdown('#### Text stats', raw=True)\n",
    "display(data.X.describe())\n",
    "\n",
    "display_markdown('#### Words length stats', raw=True)\n",
    "display(data.X.apply(lambda w: len(w.split())).describe())\n",
    "\n",
    "display_markdown('#### Labels stats', raw=True)\n",
    "display(data.y.describe())\n",
    "\n",
    "display_markdown('#### Labels counts', raw=True)\n",
    "display(data.y.value_counts())\n",
    "display(data.y.value_counts(normalize=True))\n",
    "\n",
    "display_markdown('### Train count: {}'.format(len(idx_train)), raw=True)\n",
    "display_markdown('### Test count:  {}'.format(len(idx_test)), raw=True)\n",
    "\n",
    "# it's no longer needed, just for presentational purposes\n",
    "del data"
   ]
  },
  {
   "cell_type": "code",
   "execution_count": 12,
   "metadata": {},
   "outputs": [
    {
     "data": {
      "text/markdown": [
       "#### Training or loading model"
      ]
     },
     "metadata": {},
     "output_type": "display_data"
    },
    {
     "name": "stdout",
     "output_type": "stream",
     "text": [
      "Loading model...\n",
      "Model 'keras_food_text_all_b3f214f0.h5' loaded\n"
     ]
    }
   ],
   "source": [
    "from shared.models import KerasModel\n",
    "from machine_learning.plot_helpers import plot_training\n",
    "\n",
    "display_markdown('#### Training or loading model', raw=True)\n",
    "\n",
    "model = KerasModel(\n",
    "    nlp, dataset_id, \n",
    "    max_words_in_sentence=MAX_WORDS_IN_SENTENCE, \n",
    "    epochs=5)\n",
    "\n",
    "try:\n",
    "    print(\"Loading model...\")\n",
    "    model.load()\n",
    "    print(\"Model '{}' loaded\".format(model.filename))\n",
    "except IOError:\n",
    "    print(\"Unable to load model, training...\")\n",
    "    history = model.train(X, y, idx_train, idx_test)\n",
    "    model.save()\n",
    "    print(\"Model '{}' saved\".format(model.filename))\n",
    "    plot_training(history)"
   ]
  },
  {
   "cell_type": "code",
   "execution_count": 13,
   "metadata": {},
   "outputs": [
    {
     "data": {
      "text/plain": [
       "array([[ 0.27826458,  0.72173542],\n",
       "       [ 0.64885449,  0.35114554],\n",
       "       [ 0.31527561,  0.68472439],\n",
       "       [ 0.31725574,  0.68274426],\n",
       "       [ 0.29618645,  0.70381355]], dtype=float32)"
      ]
     },
     "execution_count": 13,
     "metadata": {},
     "output_type": "execute_result"
    }
   ],
   "source": [
    "import numpy as np\n",
    "\n",
    "model.predict_proba(np.array([\n",
    "    \"it was very good\",\n",
    "    \"Dinner was awful! impossible to eat. Never visit\",\n",
    "    \"expectations met\",\n",
    "    \"expectations not met\",\n",
    "    \"tasty\",\n",
    "], dtype='object'))"
   ]
  },
  {
   "cell_type": "code",
   "execution_count": 1,
   "metadata": {},
   "outputs": [],
   "source": [
    "from machine_learning.plot_helpers import plot_confusion_matrix\n",
    "from sklearn.metrics import confusion_matrix, classification_report\n",
    "\n",
    "\n",
    "def check_model(X_test, y_test, model):   \n",
    "    y_pred = model.predict(X_test)\n",
    "    classes = ['Negative', 'Positive']\n",
    "    print(\"Classification report for {}\\n\".format(model.NAME))\n",
    "    print(classification_report(y_test, y_pred, target_names=classes))\n",
    "    plot_confusion_matrix(confusion_matrix(y_test, y_pred), classes)"
   ]
  },
  {
   "cell_type": "code",
   "execution_count": 2,
   "metadata": {},
   "outputs": [
    {
     "ename": "NameError",
     "evalue": "name 'X' is not defined",
     "output_type": "error",
     "traceback": [
      "\u001b[0;31m---------------------------------------------------------------------------\u001b[0m",
      "\u001b[0;31mNameError\u001b[0m                                 Traceback (most recent call last)",
      "\u001b[0;32m<ipython-input-2-ae49a863c2ff>\u001b[0m in \u001b[0;36m<module>\u001b[0;34m()\u001b[0m\n\u001b[0;32m----> 1\u001b[0;31m \u001b[0mcheck_model\u001b[0m\u001b[0;34m(\u001b[0m\u001b[0mX\u001b[0m\u001b[0;34m[\u001b[0m\u001b[0midx_test\u001b[0m\u001b[0;34m]\u001b[0m\u001b[0;34m,\u001b[0m \u001b[0my\u001b[0m\u001b[0;34m[\u001b[0m\u001b[0midx_test\u001b[0m\u001b[0;34m]\u001b[0m\u001b[0;34m,\u001b[0m \u001b[0mmodel\u001b[0m\u001b[0;34m)\u001b[0m\u001b[0;34m\u001b[0m\u001b[0m\n\u001b[0m",
      "\u001b[0;31mNameError\u001b[0m: name 'X' is not defined"
     ]
    }
   ],
   "source": [
    "check_model(X[idx_test], y[idx_test], model)"
   ]
  },
  {
   "cell_type": "code",
   "execution_count": null,
   "metadata": {},
   "outputs": [],
   "source": []
  }
 ],
 "metadata": {
  "kernelspec": {
   "display_name": "Python 3",
   "language": "python",
   "name": "python3"
  },
  "language_info": {
   "codemirror_mode": {
    "name": "ipython",
    "version": 3
   },
   "file_extension": ".py",
   "mimetype": "text/x-python",
   "name": "python",
   "nbconvert_exporter": "python",
   "pygments_lexer": "ipython3",
   "version": "3.5.2"
  }
 },
 "nbformat": 4,
 "nbformat_minor": 2
}
