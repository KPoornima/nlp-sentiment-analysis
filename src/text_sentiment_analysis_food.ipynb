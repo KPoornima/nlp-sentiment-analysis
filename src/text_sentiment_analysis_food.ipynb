{
 "cells": [
  {
   "cell_type": "code",
   "execution_count": 1,
   "metadata": {},
   "outputs": [],
   "source": [
    "%reload_ext autoreload\n",
    "%autoreload 2\n",
    "\n",
    "import numpy as np\n",
    "from IPython.display import display_markdown"
   ]
  },
  {
   "cell_type": "code",
   "execution_count": 2,
   "metadata": {},
   "outputs": [],
   "source": [
    "import en_vectors_web_lg\n",
    "nlp = en_vectors_web_lg.load()"
   ]
  },
  {
   "cell_type": "code",
   "execution_count": 3,
   "metadata": {},
   "outputs": [],
   "source": [
    "MAX_WORDS_IN_SENTENCE = 200\n",
    "TEXT_COLUMN = \"Text\"\n",
    "LIMIT = -1\n",
    "dataset_id = 'food_{}_{}'.format(TEXT_COLUMN.lower(), LIMIT if LIMIT > 0 else 'all')"
   ]
  },
  {
   "cell_type": "markdown",
   "metadata": {},
   "source": [
    "## Data loading and preview"
   ]
  },
  {
   "cell_type": "markdown",
   "metadata": {},
   "source": [
    "### Loading"
   ]
  },
  {
   "cell_type": "code",
   "execution_count": 4,
   "metadata": {},
   "outputs": [],
   "source": [
    "from sklearn.model_selection import train_test_split\n",
    "from shared.data import load_fine_food_reviews\n",
    "\n",
    "X, y = load_fine_food_reviews(limit=LIMIT, text_column=TEXT_COLUMN)\n",
    "\n",
    "test_count = min(2000, int(0.25 * len(X)))\n",
    "X_train, X_test, y_train, y_test = train_test_split(X, y, test_size=test_count, random_state=42)"
   ]
  },
  {
   "cell_type": "markdown",
   "metadata": {},
   "source": [
    "### Preview"
   ]
  },
  {
   "cell_type": "code",
   "execution_count": 5,
   "metadata": {
    "scrolled": false
   },
   "outputs": [
    {
     "data": {
      "text/markdown": [
       "### Data sample"
      ]
     },
     "metadata": {},
     "output_type": "display_data"
    },
    {
     "data": {
      "text/html": [
       "<div>\n",
       "<style scoped>\n",
       "    .dataframe tbody tr th:only-of-type {\n",
       "        vertical-align: middle;\n",
       "    }\n",
       "\n",
       "    .dataframe tbody tr th {\n",
       "        vertical-align: top;\n",
       "    }\n",
       "\n",
       "    .dataframe thead th {\n",
       "        text-align: right;\n",
       "    }\n",
       "</style>\n",
       "<table border=\"1\" class=\"dataframe\">\n",
       "  <thead>\n",
       "    <tr style=\"text-align: right;\">\n",
       "      <th></th>\n",
       "      <th>X</th>\n",
       "      <th>y</th>\n",
       "    </tr>\n",
       "  </thead>\n",
       "  <tbody>\n",
       "    <tr>\n",
       "      <th>0</th>\n",
       "      <td>i have bought several of the vitality canned d...</td>\n",
       "      <td>1</td>\n",
       "    </tr>\n",
       "    <tr>\n",
       "      <th>1</th>\n",
       "      <td>product arrived labeled as jumbo salted peanut...</td>\n",
       "      <td>0</td>\n",
       "    </tr>\n",
       "    <tr>\n",
       "      <th>2</th>\n",
       "      <td>this is a confection that has been around a fe...</td>\n",
       "      <td>1</td>\n",
       "    </tr>\n",
       "    <tr>\n",
       "      <th>3</th>\n",
       "      <td>if you are looking for the secret ingredient i...</td>\n",
       "      <td>0</td>\n",
       "    </tr>\n",
       "    <tr>\n",
       "      <th>4</th>\n",
       "      <td>great taffy at a great price.  there was a wid...</td>\n",
       "      <td>1</td>\n",
       "    </tr>\n",
       "    <tr>\n",
       "      <th>5</th>\n",
       "      <td>i got a wild hair for taffy and ordered this f...</td>\n",
       "      <td>1</td>\n",
       "    </tr>\n",
       "    <tr>\n",
       "      <th>6</th>\n",
       "      <td>this saltwater taffy had great flavors and was...</td>\n",
       "      <td>1</td>\n",
       "    </tr>\n",
       "    <tr>\n",
       "      <th>7</th>\n",
       "      <td>this taffy is so good.  it is very soft and ch...</td>\n",
       "      <td>1</td>\n",
       "    </tr>\n",
       "    <tr>\n",
       "      <th>8</th>\n",
       "      <td>right now i'm mostly just sprouting this so my...</td>\n",
       "      <td>1</td>\n",
       "    </tr>\n",
       "    <tr>\n",
       "      <th>9</th>\n",
       "      <td>this is a very healthy dog food. good for thei...</td>\n",
       "      <td>1</td>\n",
       "    </tr>\n",
       "  </tbody>\n",
       "</table>\n",
       "</div>"
      ],
      "text/plain": [
       "                                                   X  y\n",
       "0  i have bought several of the vitality canned d...  1\n",
       "1  product arrived labeled as jumbo salted peanut...  0\n",
       "2  this is a confection that has been around a fe...  1\n",
       "3  if you are looking for the secret ingredient i...  0\n",
       "4  great taffy at a great price.  there was a wid...  1\n",
       "5  i got a wild hair for taffy and ordered this f...  1\n",
       "6  this saltwater taffy had great flavors and was...  1\n",
       "7  this taffy is so good.  it is very soft and ch...  1\n",
       "8  right now i'm mostly just sprouting this so my...  1\n",
       "9  this is a very healthy dog food. good for thei...  1"
      ]
     },
     "metadata": {},
     "output_type": "display_data"
    },
    {
     "data": {
      "text/markdown": [
       "#### Text stats"
      ]
     },
     "metadata": {},
     "output_type": "display_data"
    },
    {
     "data": {
      "text/plain": [
       "count                                                525814\n",
       "unique                                               363827\n",
       "top       this review will make me sound really stupid, ...\n",
       "freq                                                    199\n",
       "Name: X, dtype: object"
      ]
     },
     "metadata": {},
     "output_type": "display_data"
    },
    {
     "data": {
      "text/markdown": [
       "#### Words length stats"
      ]
     },
     "metadata": {},
     "output_type": "display_data"
    },
    {
     "data": {
      "text/plain": [
       "count    525814.000000\n",
       "mean         79.016667\n",
       "std          78.447587\n",
       "min           3.000000\n",
       "25%          33.000000\n",
       "50%          55.000000\n",
       "75%          96.000000\n",
       "max        2520.000000\n",
       "Name: X, dtype: float64"
      ]
     },
     "metadata": {},
     "output_type": "display_data"
    },
    {
     "data": {
      "text/markdown": [
       "#### Labels stats"
      ]
     },
     "metadata": {},
     "output_type": "display_data"
    },
    {
     "data": {
      "text/plain": [
       "count    525814.000000\n",
       "mean          0.843981\n",
       "std           0.362874\n",
       "min           0.000000\n",
       "25%           1.000000\n",
       "50%           1.000000\n",
       "75%           1.000000\n",
       "max           1.000000\n",
       "Name: y, dtype: float64"
      ]
     },
     "metadata": {},
     "output_type": "display_data"
    },
    {
     "data": {
      "text/markdown": [
       "#### Labels counts"
      ]
     },
     "metadata": {},
     "output_type": "display_data"
    },
    {
     "data": {
      "text/plain": [
       "1    443777\n",
       "0     82037\n",
       "Name: y, dtype: int64"
      ]
     },
     "metadata": {},
     "output_type": "display_data"
    },
    {
     "data": {
      "text/plain": [
       "1    0.843981\n",
       "0    0.156019\n",
       "Name: y, dtype: float64"
      ]
     },
     "metadata": {},
     "output_type": "display_data"
    },
    {
     "data": {
      "text/markdown": [
       "### Train count: 523814"
      ]
     },
     "metadata": {},
     "output_type": "display_data"
    },
    {
     "data": {
      "text/markdown": [
       "### Test count:  2000"
      ]
     },
     "metadata": {},
     "output_type": "display_data"
    }
   ],
   "source": [
    "from machine_learning.plot_helpers import describe_data\n",
    "\n",
    "describe_data(X, y)\n",
    "\n",
    "display_markdown('### Train count: {}'.format(len(X_train)), raw=True)\n",
    "display_markdown('### Test count:  {}'.format(len(X_test)), raw=True)"
   ]
  },
  {
   "cell_type": "markdown",
   "metadata": {},
   "source": [
    "## Models"
   ]
  },
  {
   "cell_type": "code",
   "execution_count": 5,
   "metadata": {},
   "outputs": [],
   "source": [
    "input_samples = [\n",
    "    \"We went there to eat dinner, and it was delicious\",\n",
    "    \"One of the best suppers I've ever eaten\",\n",
    "    \"Totally disgusting dish. I think cook made this with his eyes closed\"\n",
    "]"
   ]
  },
  {
   "cell_type": "code",
   "execution_count": 6,
   "metadata": {
    "scrolled": false
   },
   "outputs": [
    {
     "name": "stderr",
     "output_type": "stream",
     "text": [
      "Using TensorFlow backend.\n"
     ]
    }
   ],
   "source": [
    "from shared import models\n",
    "from machine_learning.plot_helpers import display_example_predictions\n",
    "from machine_learning.evaluation import evaluate_and_report\n",
    "\n",
    "\n",
    "def train_model_and_display_results(model, X=X_train, y=y_train, **train_params):\n",
    "    display_markdown('## {}'.format(model.__class__.__name__), raw=True)\n",
    "    display_markdown('#### Training', raw=True)\n",
    "    model.load_or_train(X, y, **train_params)\n",
    "\n",
    "    display_markdown(\"#### Overview of created model\", raw=True)\n",
    "    display(model.summary())\n",
    "\n",
    "    display_markdown('#### Model results', raw=True)\n",
    "    display_example_predictions(model, input_samples)\n",
    "    evaluate_and_report(model, X_test, y_test)"
   ]
  },
  {
   "cell_type": "code",
   "execution_count": 8,
   "metadata": {
    "scrolled": false
   },
   "outputs": [
    {
     "name": "stdout",
     "output_type": "stream",
     "text": [
      "Loading cached data...\n",
      "Unable to load data, preprocessing...\n",
      "Preprocessed and saved to 'kerasmodel_food_text_all.h5'\n"
     ]
    },
    {
     "data": {
      "text/markdown": [
       "## KerasModel"
      ]
     },
     "metadata": {},
     "output_type": "display_data"
    },
    {
     "data": {
      "text/markdown": [
       "#### Training"
      ]
     },
     "metadata": {},
     "output_type": "display_data"
    },
    {
     "name": "stdout",
     "output_type": "stream",
     "text": [
      "Loading model...\n",
      "Unable to load model, training...\n",
      "Epoch 1/5\n",
      "4093/4093 [==============================] - 145s 35ms/step - loss: 0.1145 - acc: 0.8968\n",
      "Epoch 2/5\n",
      "4093/4093 [==============================] - 143s 35ms/step - loss: 0.0739 - acc: 0.9224\n",
      "Epoch 3/5\n",
      "4093/4093 [==============================] - 143s 35ms/step - loss: 0.0711 - acc: 0.9237\n",
      "Epoch 4/5\n",
      "4093/4093 [==============================] - 144s 35ms/step - loss: 0.0693 - acc: 0.9247\n",
      "Epoch 5/5\n",
      "4093/4093 [==============================] - 144s 35ms/step - loss: 0.0689 - acc: 0.9248\n",
      "Model 'keras_food_text_all_b3f214f0.h5' saved\n"
     ]
    },
    {
     "data": {
      "text/markdown": [
       "#### Overview of created model"
      ]
     },
     "metadata": {},
     "output_type": "display_data"
    },
    {
     "name": "stdout",
     "output_type": "stream",
     "text": [
      "_________________________________________________________________\n",
      "Layer (type)                 Output Shape              Param #   \n",
      "=================================================================\n",
      "conv1d_1 (Conv1D)            (None, 196, 32)           48032     \n",
      "_________________________________________________________________\n",
      "max_pooling1d_1 (MaxPooling1 (None, 39, 32)            0         \n",
      "_________________________________________________________________\n",
      "batch_normalization_1 (Batch (None, 39, 32)            128       \n",
      "_________________________________________________________________\n",
      "conv1d_2 (Conv1D)            (None, 35, 64)            10304     \n",
      "_________________________________________________________________\n",
      "global_max_pooling1d_1 (Glob (None, 64)                0         \n",
      "_________________________________________________________________\n",
      "batch_normalization_2 (Batch (None, 64)                256       \n",
      "_________________________________________________________________\n",
      "dropout_1 (Dropout)          (None, 64)                0         \n",
      "_________________________________________________________________\n",
      "dense_1 (Dense)              (None, 1)                 65        \n",
      "=================================================================\n",
      "Total params: 58,785\n",
      "Trainable params: 58,593\n",
      "Non-trainable params: 192\n",
      "_________________________________________________________________\n"
     ]
    },
    {
     "data": {
      "text/plain": [
       "None"
      ]
     },
     "metadata": {},
     "output_type": "display_data"
    },
    {
     "data": {
      "text/markdown": [
       "#### Model results"
      ]
     },
     "metadata": {},
     "output_type": "display_data"
    },
    {
     "data": {
      "text/markdown": [
       "#### Predicted scores"
      ]
     },
     "metadata": {},
     "output_type": "display_data"
    },
    {
     "data": {
      "text/html": [
       "<div>\n",
       "<style scoped>\n",
       "    .dataframe tbody tr th:only-of-type {\n",
       "        vertical-align: middle;\n",
       "    }\n",
       "\n",
       "    .dataframe tbody tr th {\n",
       "        vertical-align: top;\n",
       "    }\n",
       "\n",
       "    .dataframe thead th {\n",
       "        text-align: right;\n",
       "    }\n",
       "</style>\n",
       "<table border=\"1\" class=\"dataframe\">\n",
       "  <thead>\n",
       "    <tr style=\"text-align: right;\">\n",
       "      <th></th>\n",
       "      <th>score</th>\n",
       "      <th>text</th>\n",
       "    </tr>\n",
       "  </thead>\n",
       "  <tbody>\n",
       "    <tr>\n",
       "      <th>0</th>\n",
       "      <td>0.906017</td>\n",
       "      <td>We went there to eat dinner, and it was delicious</td>\n",
       "    </tr>\n",
       "    <tr>\n",
       "      <th>1</th>\n",
       "      <td>0.993009</td>\n",
       "      <td>One of the best suppers I've ever eaten</td>\n",
       "    </tr>\n",
       "    <tr>\n",
       "      <th>2</th>\n",
       "      <td>0.168423</td>\n",
       "      <td>Totally disgusting dish. I think cook made this with his eyes closed</td>\n",
       "    </tr>\n",
       "  </tbody>\n",
       "</table>\n",
       "</div>"
      ],
      "text/plain": [
       "      score  \\\n",
       "0  0.906017   \n",
       "1  0.993009   \n",
       "2  0.168423   \n",
       "\n",
       "                                                                   text  \n",
       "0  We went there to eat dinner, and it was delicious                     \n",
       "1  One of the best suppers I've ever eaten                               \n",
       "2  Totally disgusting dish. I think cook made this with his eyes closed  "
      ]
     },
     "metadata": {},
     "output_type": "display_data"
    },
    {
     "data": {
      "text/markdown": [
       "#### Highest 5"
      ]
     },
     "metadata": {},
     "output_type": "display_data"
    },
    {
     "data": {
      "text/html": [
       "<div>\n",
       "<style scoped>\n",
       "    .dataframe tbody tr th:only-of-type {\n",
       "        vertical-align: middle;\n",
       "    }\n",
       "\n",
       "    .dataframe tbody tr th {\n",
       "        vertical-align: top;\n",
       "    }\n",
       "\n",
       "    .dataframe thead th {\n",
       "        text-align: right;\n",
       "    }\n",
       "</style>\n",
       "<table border=\"1\" class=\"dataframe\">\n",
       "  <thead>\n",
       "    <tr style=\"text-align: right;\">\n",
       "      <th></th>\n",
       "      <th>pred</th>\n",
       "      <th>prob</th>\n",
       "      <th>real</th>\n",
       "      <th>text</th>\n",
       "    </tr>\n",
       "  </thead>\n",
       "  <tbody>\n",
       "    <tr>\n",
       "      <th>1514</th>\n",
       "      <td>1.000000</td>\n",
       "      <td>0.999965</td>\n",
       "      <td>1</td>\n",
       "      <td>love this coffee, have recommended and shared with friends. good smooth, strong and delicious flavor at an excellent price. i ...</td>\n",
       "    </tr>\n",
       "    <tr>\n",
       "      <th>43</th>\n",
       "      <td>1.000000</td>\n",
       "      <td>0.999930</td>\n",
       "      <td>1</td>\n",
       "      <td>i have personally been on a mission to find my favorite jerky for a few years now.  this is by far my favorite jerky - just a ...</td>\n",
       "    </tr>\n",
       "    <tr>\n",
       "      <th>762</th>\n",
       "      <td>1.000000</td>\n",
       "      <td>0.999923</td>\n",
       "      <td>1</td>\n",
       "      <td>this was the perfect food for my finicky feline.  my vet tried all the fancy prescription \"skinny\" foods and while they worked...</td>\n",
       "    </tr>\n",
       "    <tr>\n",
       "      <th>1798</th>\n",
       "      <td>1.000000</td>\n",
       "      <td>0.999922</td>\n",
       "      <td>1</td>\n",
       "      <td>i love this company and i will use them time after time! my boyfriend and i adore these suckers and they taste amazing with go...</td>\n",
       "    </tr>\n",
       "    <tr>\n",
       "      <th>1870</th>\n",
       "      <td>1.000000</td>\n",
       "      <td>0.999914</td>\n",
       "      <td>1</td>\n",
       "      <td>my girlfriend loves european milk chocolate and i got this for her. she loves it, and i am a happy dude.&lt;br /&gt;&lt;br /&gt;its very s...</td>\n",
       "    </tr>\n",
       "  </tbody>\n",
       "</table>\n",
       "</div>"
      ],
      "text/plain": [
       "         pred     prob  real  \\\n",
       "1514 1.000000 0.999965     1   \n",
       "43   1.000000 0.999930     1   \n",
       "762  1.000000 0.999923     1   \n",
       "1798 1.000000 0.999922     1   \n",
       "1870 1.000000 0.999914     1   \n",
       "\n",
       "                                                                                                                                   text  \n",
       "1514  love this coffee, have recommended and shared with friends. good smooth, strong and delicious flavor at an excellent price. i ...  \n",
       "43    i have personally been on a mission to find my favorite jerky for a few years now.  this is by far my favorite jerky - just a ...  \n",
       "762   this was the perfect food for my finicky feline.  my vet tried all the fancy prescription \"skinny\" foods and while they worked...  \n",
       "1798  i love this company and i will use them time after time! my boyfriend and i adore these suckers and they taste amazing with go...  \n",
       "1870  my girlfriend loves european milk chocolate and i got this for her. she loves it, and i am a happy dude.<br /><br />its very s...  "
      ]
     },
     "metadata": {},
     "output_type": "display_data"
    },
    {
     "data": {
      "text/markdown": [
       "#### Lowest 5"
      ]
     },
     "metadata": {},
     "output_type": "display_data"
    },
    {
     "data": {
      "text/html": [
       "<div>\n",
       "<style scoped>\n",
       "    .dataframe tbody tr th:only-of-type {\n",
       "        vertical-align: middle;\n",
       "    }\n",
       "\n",
       "    .dataframe tbody tr th {\n",
       "        vertical-align: top;\n",
       "    }\n",
       "\n",
       "    .dataframe thead th {\n",
       "        text-align: right;\n",
       "    }\n",
       "</style>\n",
       "<table border=\"1\" class=\"dataframe\">\n",
       "  <thead>\n",
       "    <tr style=\"text-align: right;\">\n",
       "      <th></th>\n",
       "      <th>pred</th>\n",
       "      <th>prob</th>\n",
       "      <th>real</th>\n",
       "      <th>text</th>\n",
       "    </tr>\n",
       "  </thead>\n",
       "  <tbody>\n",
       "    <tr>\n",
       "      <th>1843</th>\n",
       "      <td>0.000000</td>\n",
       "      <td>0.004004</td>\n",
       "      <td>0</td>\n",
       "      <td>i was hoping for some bulk inexpensive quality peanuts to make pb. this was not the case. they come in really cheap packaging ...</td>\n",
       "    </tr>\n",
       "    <tr>\n",
       "      <th>470</th>\n",
       "      <td>0.000000</td>\n",
       "      <td>0.005553</td>\n",
       "      <td>0</td>\n",
       "      <td>this is my second time buying goji juice from this account. the 1st 2 bottles i bought were red, sweet, and tasted fruity. the...</td>\n",
       "    </tr>\n",
       "    <tr>\n",
       "      <th>1392</th>\n",
       "      <td>0.000000</td>\n",
       "      <td>0.007893</td>\n",
       "      <td>0</td>\n",
       "      <td>this should be called sad baby--it's awful. my baby absolutely hates it! i tasted a tiny bit&lt;br /&gt;and it was bland to the poin...</td>\n",
       "    </tr>\n",
       "    <tr>\n",
       "      <th>824</th>\n",
       "      <td>0.000000</td>\n",
       "      <td>0.010690</td>\n",
       "      <td>0</td>\n",
       "      <td>disappointed!!!!  not returnable, too bad.  packaging from amazon seemed great as usual.  and box was not crushed or battered ...</td>\n",
       "    </tr>\n",
       "    <tr>\n",
       "      <th>510</th>\n",
       "      <td>0.000000</td>\n",
       "      <td>0.010715</td>\n",
       "      <td>0</td>\n",
       "      <td>bought the teriyaki flavor .....totally gross,&lt;br /&gt;&lt;br /&gt;do not waste your money on this slimy stuff.... could barely finish ...</td>\n",
       "    </tr>\n",
       "  </tbody>\n",
       "</table>\n",
       "</div>"
      ],
      "text/plain": [
       "         pred     prob  real  \\\n",
       "1843 0.000000 0.004004     0   \n",
       "470  0.000000 0.005553     0   \n",
       "1392 0.000000 0.007893     0   \n",
       "824  0.000000 0.010690     0   \n",
       "510  0.000000 0.010715     0   \n",
       "\n",
       "                                                                                                                                   text  \n",
       "1843  i was hoping for some bulk inexpensive quality peanuts to make pb. this was not the case. they come in really cheap packaging ...  \n",
       "470   this is my second time buying goji juice from this account. the 1st 2 bottles i bought were red, sweet, and tasted fruity. the...  \n",
       "1392  this should be called sad baby--it's awful. my baby absolutely hates it! i tasted a tiny bit<br />and it was bland to the poin...  \n",
       "824   disappointed!!!!  not returnable, too bad.  packaging from amazon seemed great as usual.  and box was not crushed or battered ...  \n",
       "510   bought the teriyaki flavor .....totally gross,<br /><br />do not waste your money on this slimy stuff.... could barely finish ...  "
      ]
     },
     "metadata": {},
     "output_type": "display_data"
    },
    {
     "data": {
      "text/markdown": [
       "#### Highest 5 mispredicted"
      ]
     },
     "metadata": {},
     "output_type": "display_data"
    },
    {
     "data": {
      "text/html": [
       "<div>\n",
       "<style scoped>\n",
       "    .dataframe tbody tr th:only-of-type {\n",
       "        vertical-align: middle;\n",
       "    }\n",
       "\n",
       "    .dataframe tbody tr th {\n",
       "        vertical-align: top;\n",
       "    }\n",
       "\n",
       "    .dataframe thead th {\n",
       "        text-align: right;\n",
       "    }\n",
       "</style>\n",
       "<table border=\"1\" class=\"dataframe\">\n",
       "  <thead>\n",
       "    <tr style=\"text-align: right;\">\n",
       "      <th></th>\n",
       "      <th>pred</th>\n",
       "      <th>prob</th>\n",
       "      <th>real</th>\n",
       "      <th>text</th>\n",
       "    </tr>\n",
       "  </thead>\n",
       "  <tbody>\n",
       "    <tr>\n",
       "      <th>1714</th>\n",
       "      <td>1.000000</td>\n",
       "      <td>0.997805</td>\n",
       "      <td>0</td>\n",
       "      <td>not so great lemon flavor!&lt;br /&gt;it's very hard to find soy free!&lt;br /&gt;this is a great brand! i prefer the ginger much better t...</td>\n",
       "    </tr>\n",
       "    <tr>\n",
       "      <th>1894</th>\n",
       "      <td>1.000000</td>\n",
       "      <td>0.996422</td>\n",
       "      <td>0</td>\n",
       "      <td>my 10-month old loves these! they are helpful to teach him how to eat and relieve pain from teething, too. look around for a b...</td>\n",
       "    </tr>\n",
       "    <tr>\n",
       "      <th>440</th>\n",
       "      <td>1.000000</td>\n",
       "      <td>0.993576</td>\n",
       "      <td>0</td>\n",
       "      <td>these have a great crunch and it's great that it's low fat. however, it's way too salty. 280mg per serving is more than twice ...</td>\n",
       "    </tr>\n",
       "    <tr>\n",
       "      <th>998</th>\n",
       "      <td>1.000000</td>\n",
       "      <td>0.993002</td>\n",
       "      <td>0</td>\n",
       "      <td>wolfgang puck's \"breakfast in bed\" is a much more flavorful and robust medium roast than this one.</td>\n",
       "    </tr>\n",
       "    <tr>\n",
       "      <th>1500</th>\n",
       "      <td>1.000000</td>\n",
       "      <td>0.991314</td>\n",
       "      <td>0</td>\n",
       "      <td>i found no benefit in taking the kirkland energy shot where the 5 hour energy has me going in a few of minutes.&lt;br /&gt;&lt;br /&gt;in ...</td>\n",
       "    </tr>\n",
       "  </tbody>\n",
       "</table>\n",
       "</div>"
      ],
      "text/plain": [
       "         pred     prob  real  \\\n",
       "1714 1.000000 0.997805     0   \n",
       "1894 1.000000 0.996422     0   \n",
       "440  1.000000 0.993576     0   \n",
       "998  1.000000 0.993002     0   \n",
       "1500 1.000000 0.991314     0   \n",
       "\n",
       "                                                                                                                                   text  \n",
       "1714  not so great lemon flavor!<br />it's very hard to find soy free!<br />this is a great brand! i prefer the ginger much better t...  \n",
       "1894  my 10-month old loves these! they are helpful to teach him how to eat and relieve pain from teething, too. look around for a b...  \n",
       "440   these have a great crunch and it's great that it's low fat. however, it's way too salty. 280mg per serving is more than twice ...  \n",
       "998                                  wolfgang puck's \"breakfast in bed\" is a much more flavorful and robust medium roast than this one.  \n",
       "1500  i found no benefit in taking the kirkland energy shot where the 5 hour energy has me going in a few of minutes.<br /><br />in ...  "
      ]
     },
     "metadata": {},
     "output_type": "display_data"
    },
    {
     "data": {
      "text/markdown": [
       "#### Lowest 5 mispredicted"
      ]
     },
     "metadata": {},
     "output_type": "display_data"
    },
    {
     "data": {
      "text/html": [
       "<div>\n",
       "<style scoped>\n",
       "    .dataframe tbody tr th:only-of-type {\n",
       "        vertical-align: middle;\n",
       "    }\n",
       "\n",
       "    .dataframe tbody tr th {\n",
       "        vertical-align: top;\n",
       "    }\n",
       "\n",
       "    .dataframe thead th {\n",
       "        text-align: right;\n",
       "    }\n",
       "</style>\n",
       "<table border=\"1\" class=\"dataframe\">\n",
       "  <thead>\n",
       "    <tr style=\"text-align: right;\">\n",
       "      <th></th>\n",
       "      <th>pred</th>\n",
       "      <th>prob</th>\n",
       "      <th>real</th>\n",
       "      <th>text</th>\n",
       "    </tr>\n",
       "  </thead>\n",
       "  <tbody>\n",
       "    <tr>\n",
       "      <th>1181</th>\n",
       "      <td>0.000000</td>\n",
       "      <td>0.014745</td>\n",
       "      <td>1</td>\n",
       "      <td>one of the three packs was open before arriving.  the paste was oozing out the side.  i can't return it, and i am having a lot...</td>\n",
       "    </tr>\n",
       "    <tr>\n",
       "      <th>393</th>\n",
       "      <td>0.000000</td>\n",
       "      <td>0.065325</td>\n",
       "      <td>1</td>\n",
       "      <td>the popcorn is great.  unfortunately, the bags are defective and the buttery flavoring has seeped out thus making the outside ...</td>\n",
       "    </tr>\n",
       "    <tr>\n",
       "      <th>418</th>\n",
       "      <td>0.000000</td>\n",
       "      <td>0.117673</td>\n",
       "      <td>1</td>\n",
       "      <td>the soup itself is very good tasting, and i would not hesitate to order it again except this is not the first time (including ...</td>\n",
       "    </tr>\n",
       "    <tr>\n",
       "      <th>1939</th>\n",
       "      <td>0.000000</td>\n",
       "      <td>0.174862</td>\n",
       "      <td>1</td>\n",
       "      <td>i place an order on july 11, 2011 of 15 (12 pack e/a) of vita coco coconut water with this horrible company \"goshoptnt\" and i ...</td>\n",
       "    </tr>\n",
       "    <tr>\n",
       "      <th>402</th>\n",
       "      <td>0.000000</td>\n",
       "      <td>0.208973</td>\n",
       "      <td>1</td>\n",
       "      <td>these jelly beans are great for a party activity (think harry potter) or as a gag gift. there are 5-6 different colors of jell...</td>\n",
       "    </tr>\n",
       "  </tbody>\n",
       "</table>\n",
       "</div>"
      ],
      "text/plain": [
       "         pred     prob  real  \\\n",
       "1181 0.000000 0.014745     1   \n",
       "393  0.000000 0.065325     1   \n",
       "418  0.000000 0.117673     1   \n",
       "1939 0.000000 0.174862     1   \n",
       "402  0.000000 0.208973     1   \n",
       "\n",
       "                                                                                                                                   text  \n",
       "1181  one of the three packs was open before arriving.  the paste was oozing out the side.  i can't return it, and i am having a lot...  \n",
       "393   the popcorn is great.  unfortunately, the bags are defective and the buttery flavoring has seeped out thus making the outside ...  \n",
       "418   the soup itself is very good tasting, and i would not hesitate to order it again except this is not the first time (including ...  \n",
       "1939  i place an order on july 11, 2011 of 15 (12 pack e/a) of vita coco coconut water with this horrible company \"goshoptnt\" and i ...  \n",
       "402   these jelly beans are great for a party activity (think harry potter) or as a gag gift. there are 5-6 different colors of jell...  "
      ]
     },
     "metadata": {},
     "output_type": "display_data"
    },
    {
     "data": {
      "text/markdown": [
       "#### Classification report for keras"
      ]
     },
     "metadata": {},
     "output_type": "display_data"
    },
    {
     "name": "stdout",
     "output_type": "stream",
     "text": [
      "             precision    recall  f1-score   support\n",
      "\n",
      "   Negative       0.91      0.47      0.62       313\n",
      "   Positive       0.91      0.99      0.95      1687\n",
      "\n",
      "avg / total       0.91      0.91      0.90      2000\n",
      "\n"
     ]
    },
    {
     "data": {
      "image/png": "[encoded data removed]",
      "text/plain": [
       "<matplotlib.figure.Figure at 0x7f08dd4f4cf8>"
      ]
     },
     "metadata": {},
     "output_type": "display_data"
    }
   ],
   "source": [
    "from machine_learning.cache import get_preprocessed_data\n",
    "\n",
    "keras_model = models.KerasModel(\n",
    "    nlp, \n",
    "    dataset_id, \n",
    "    max_words_in_sentence=MAX_WORDS_IN_SENTENCE, \n",
    "    epochs=5)\n",
    "\n",
    "X_keras_preprocessed = get_preprocessed_data(keras_model, dataset_id, X_train)\n",
    "\n",
    "train_model_and_display_results(keras_model, X_keras_preprocessed, preprocessed=True)\n",
    "\n",
    "# we need memory for further processing\n",
    "del X_keras_preprocessed"
   ]
  },
  {
   "cell_type": "code",
   "execution_count": 8,
   "metadata": {
    "scrolled": true
   },
   "outputs": [
    {
     "name": "stdout",
     "output_type": "stream",
     "text": [
      "Loading cached data...\n",
      "Loaded data from 'sklearnmodel_food_text_all.h5'\n"
     ]
    }
   ],
   "source": [
    "from machine_learning.cache import get_preprocessed_data\n",
    "# preprocessed data for all sklearn-based models\n",
    "\n",
    "model = models.SklearnModel(nlp, dataset_id)\n",
    "X_sklearn_preprocessed = get_preprocessed_data(model, dataset_id, X_train)"
   ]
  },
  {
   "cell_type": "code",
   "execution_count": 9,
   "metadata": {
    "scrolled": false
   },
   "outputs": [
    {
     "data": {
      "text/markdown": [
       "## SpacySVCModel"
      ]
     },
     "metadata": {},
     "output_type": "display_data"
    },
    {
     "data": {
      "text/markdown": [
       "#### Training"
      ]
     },
     "metadata": {},
     "output_type": "display_data"
    },
    {
     "name": "stdout",
     "output_type": "stream",
     "text": [
      "Loading model...\n",
      "Unable to load model, training...\n"
     ]
    },
    {
     "name": "stderr",
     "output_type": "stream",
     "text": [
      "/usr/local/lib/python3.5/dist-packages/sklearn/utils/validation.py:578: DataConversionWarning: A column-vector y was passed when a 1d array was expected. Please change the shape of y to (n_samples, ), for example using ravel().\n",
      "  y = column_or_1d(y, warn=True)\n"
     ]
    },
    {
     "name": "stdout",
     "output_type": "stream",
     "text": [
      "Model 'svc_food_text_all_80e28a4f.pkl' saved\n"
     ]
    },
    {
     "data": {
      "text/markdown": [
       "#### Overview of created model"
      ]
     },
     "metadata": {},
     "output_type": "display_data"
    },
    {
     "data": {
      "text/plain": [
       "SVC(C=0.025, cache_size=200, class_weight=None, coef0=0.0,\n",
       "  decision_function_shape='ovr', degree=3, gamma='auto', kernel='linear',\n",
       "  max_iter=-1, probability=True, random_state=None, shrinking=True,\n",
       "  tol=0.001, verbose=False)"
      ]
     },
     "metadata": {},
     "output_type": "display_data"
    },
    {
     "data": {
      "text/markdown": [
       "#### Model results"
      ]
     },
     "metadata": {},
     "output_type": "display_data"
    },
    {
     "data": {
      "text/markdown": [
       "#### Predicted scores"
      ]
     },
     "metadata": {},
     "output_type": "display_data"
    },
    {
     "data": {
      "text/html": [
       "<div>\n",
       "<style scoped>\n",
       "    .dataframe tbody tr th:only-of-type {\n",
       "        vertical-align: middle;\n",
       "    }\n",
       "\n",
       "    .dataframe tbody tr th {\n",
       "        vertical-align: top;\n",
       "    }\n",
       "\n",
       "    .dataframe thead th {\n",
       "        text-align: right;\n",
       "    }\n",
       "</style>\n",
       "<table border=\"1\" class=\"dataframe\">\n",
       "  <thead>\n",
       "    <tr style=\"text-align: right;\">\n",
       "      <th></th>\n",
       "      <th>score</th>\n",
       "      <th>text</th>\n",
       "    </tr>\n",
       "  </thead>\n",
       "  <tbody>\n",
       "    <tr>\n",
       "      <th>0</th>\n",
       "      <td>0.996552</td>\n",
       "      <td>We went there to eat dinner, and it was delicious</td>\n",
       "    </tr>\n",
       "    <tr>\n",
       "      <th>1</th>\n",
       "      <td>0.999998</td>\n",
       "      <td>One of the best suppers I've ever eaten</td>\n",
       "    </tr>\n",
       "    <tr>\n",
       "      <th>2</th>\n",
       "      <td>0.001790</td>\n",
       "      <td>Totally disgusting dish. I think cook made this with his eyes closed</td>\n",
       "    </tr>\n",
       "  </tbody>\n",
       "</table>\n",
       "</div>"
      ],
      "text/plain": [
       "      score  \\\n",
       "0  0.996552   \n",
       "1  0.999998   \n",
       "2  0.001790   \n",
       "\n",
       "                                                                   text  \n",
       "0  We went there to eat dinner, and it was delicious                     \n",
       "1  One of the best suppers I've ever eaten                               \n",
       "2  Totally disgusting dish. I think cook made this with his eyes closed  "
      ]
     },
     "metadata": {},
     "output_type": "display_data"
    },
    {
     "data": {
      "text/markdown": [
       "#### Highest 5"
      ]
     },
     "metadata": {},
     "output_type": "display_data"
    },
    {
     "data": {
      "text/html": [
       "<div>\n",
       "<style scoped>\n",
       "    .dataframe tbody tr th:only-of-type {\n",
       "        vertical-align: middle;\n",
       "    }\n",
       "\n",
       "    .dataframe tbody tr th {\n",
       "        vertical-align: top;\n",
       "    }\n",
       "\n",
       "    .dataframe thead th {\n",
       "        text-align: right;\n",
       "    }\n",
       "</style>\n",
       "<table border=\"1\" class=\"dataframe\">\n",
       "  <thead>\n",
       "    <tr style=\"text-align: right;\">\n",
       "      <th></th>\n",
       "      <th>pred</th>\n",
       "      <th>prob</th>\n",
       "      <th>real</th>\n",
       "      <th>text</th>\n",
       "    </tr>\n",
       "  </thead>\n",
       "  <tbody>\n",
       "    <tr>\n",
       "      <th>266</th>\n",
       "      <td>1.000000</td>\n",
       "      <td>1.000000</td>\n",
       "      <td>1</td>\n",
       "      <td>a refreshing cold beverage and a soothing, perfect, hot cup of tea. offers healthful benefits.</td>\n",
       "    </tr>\n",
       "    <tr>\n",
       "      <th>1810</th>\n",
       "      <td>1.000000</td>\n",
       "      <td>1.000000</td>\n",
       "      <td>1</td>\n",
       "      <td>a healthy choice for gum, great flavor.  customer service was excellent - fast and courteous.</td>\n",
       "    </tr>\n",
       "    <tr>\n",
       "      <th>630</th>\n",
       "      <td>1.000000</td>\n",
       "      <td>1.000000</td>\n",
       "      <td>1</td>\n",
       "      <td>great variety to keep on hand!  friends and family will enjoy sampling with you. tea, hot chocolate, and many coffees.  includ...</td>\n",
       "    </tr>\n",
       "    <tr>\n",
       "      <th>1514</th>\n",
       "      <td>1.000000</td>\n",
       "      <td>1.000000</td>\n",
       "      <td>1</td>\n",
       "      <td>love this coffee, have recommended and shared with friends. good smooth, strong and delicious flavor at an excellent price. i ...</td>\n",
       "    </tr>\n",
       "    <tr>\n",
       "      <th>155</th>\n",
       "      <td>1.000000</td>\n",
       "      <td>1.000000</td>\n",
       "      <td>1</td>\n",
       "      <td>the oatmeal is delicious! great breakfast meal that is quick and easy! it's organic too!</td>\n",
       "    </tr>\n",
       "  </tbody>\n",
       "</table>\n",
       "</div>"
      ],
      "text/plain": [
       "         pred     prob  real  \\\n",
       "266  1.000000 1.000000     1   \n",
       "1810 1.000000 1.000000     1   \n",
       "630  1.000000 1.000000     1   \n",
       "1514 1.000000 1.000000     1   \n",
       "155  1.000000 1.000000     1   \n",
       "\n",
       "                                                                                                                                   text  \n",
       "266                                      a refreshing cold beverage and a soothing, perfect, hot cup of tea. offers healthful benefits.  \n",
       "1810                                      a healthy choice for gum, great flavor.  customer service was excellent - fast and courteous.  \n",
       "630   great variety to keep on hand!  friends and family will enjoy sampling with you. tea, hot chocolate, and many coffees.  includ...  \n",
       "1514  love this coffee, have recommended and shared with friends. good smooth, strong and delicious flavor at an excellent price. i ...  \n",
       "155                                            the oatmeal is delicious! great breakfast meal that is quick and easy! it's organic too!  "
      ]
     },
     "metadata": {},
     "output_type": "display_data"
    },
    {
     "data": {
      "text/markdown": [
       "#### Lowest 5"
      ]
     },
     "metadata": {},
     "output_type": "display_data"
    },
    {
     "data": {
      "text/html": [
       "<div>\n",
       "<style scoped>\n",
       "    .dataframe tbody tr th:only-of-type {\n",
       "        vertical-align: middle;\n",
       "    }\n",
       "\n",
       "    .dataframe tbody tr th {\n",
       "        vertical-align: top;\n",
       "    }\n",
       "\n",
       "    .dataframe thead th {\n",
       "        text-align: right;\n",
       "    }\n",
       "</style>\n",
       "<table border=\"1\" class=\"dataframe\">\n",
       "  <thead>\n",
       "    <tr style=\"text-align: right;\">\n",
       "      <th></th>\n",
       "      <th>pred</th>\n",
       "      <th>prob</th>\n",
       "      <th>real</th>\n",
       "      <th>text</th>\n",
       "    </tr>\n",
       "  </thead>\n",
       "  <tbody>\n",
       "    <tr>\n",
       "      <th>824</th>\n",
       "      <td>0.000000</td>\n",
       "      <td>0.000083</td>\n",
       "      <td>0</td>\n",
       "      <td>disappointed!!!!  not returnable, too bad.  packaging from amazon seemed great as usual.  and box was not crushed or battered ...</td>\n",
       "    </tr>\n",
       "    <tr>\n",
       "      <th>1390</th>\n",
       "      <td>0.000000</td>\n",
       "      <td>0.000264</td>\n",
       "      <td>0</td>\n",
       "      <td>i received this item poorly packaged and contents were scuffed and jumbled. it was meant for a gift and looked like a returned...</td>\n",
       "    </tr>\n",
       "    <tr>\n",
       "      <th>510</th>\n",
       "      <td>0.000000</td>\n",
       "      <td>0.000643</td>\n",
       "      <td>0</td>\n",
       "      <td>bought the teriyaki flavor .....totally gross,&lt;br /&gt;&lt;br /&gt;do not waste your money on this slimy stuff.... could barely finish ...</td>\n",
       "    </tr>\n",
       "    <tr>\n",
       "      <th>1732</th>\n",
       "      <td>0.000000</td>\n",
       "      <td>0.000716</td>\n",
       "      <td>0</td>\n",
       "      <td>i should have known when the product told me to rinse it for several minutes to get rid of the putrid smell - smells like they...</td>\n",
       "    </tr>\n",
       "    <tr>\n",
       "      <th>850</th>\n",
       "      <td>0.000000</td>\n",
       "      <td>0.001358</td>\n",
       "      <td>0</td>\n",
       "      <td>the cote d'or dark 86% brut chocolate cocoa, 3.5-ounce bars (pack of 10) is close to the worst chocolate i have eaten, if not ...</td>\n",
       "    </tr>\n",
       "  </tbody>\n",
       "</table>\n",
       "</div>"
      ],
      "text/plain": [
       "         pred     prob  real  \\\n",
       "824  0.000000 0.000083     0   \n",
       "1390 0.000000 0.000264     0   \n",
       "510  0.000000 0.000643     0   \n",
       "1732 0.000000 0.000716     0   \n",
       "850  0.000000 0.001358     0   \n",
       "\n",
       "                                                                                                                                   text  \n",
       "824   disappointed!!!!  not returnable, too bad.  packaging from amazon seemed great as usual.  and box was not crushed or battered ...  \n",
       "1390  i received this item poorly packaged and contents were scuffed and jumbled. it was meant for a gift and looked like a returned...  \n",
       "510   bought the teriyaki flavor .....totally gross,<br /><br />do not waste your money on this slimy stuff.... could barely finish ...  \n",
       "1732  i should have known when the product told me to rinse it for several minutes to get rid of the putrid smell - smells like they...  \n",
       "850   the cote d'or dark 86% brut chocolate cocoa, 3.5-ounce bars (pack of 10) is close to the worst chocolate i have eaten, if not ...  "
      ]
     },
     "metadata": {},
     "output_type": "display_data"
    },
    {
     "data": {
      "text/markdown": [
       "#### Highest 5 mispredicted"
      ]
     },
     "metadata": {},
     "output_type": "display_data"
    },
    {
     "data": {
      "text/html": [
       "<div>\n",
       "<style scoped>\n",
       "    .dataframe tbody tr th:only-of-type {\n",
       "        vertical-align: middle;\n",
       "    }\n",
       "\n",
       "    .dataframe tbody tr th {\n",
       "        vertical-align: top;\n",
       "    }\n",
       "\n",
       "    .dataframe thead th {\n",
       "        text-align: right;\n",
       "    }\n",
       "</style>\n",
       "<table border=\"1\" class=\"dataframe\">\n",
       "  <thead>\n",
       "    <tr style=\"text-align: right;\">\n",
       "      <th></th>\n",
       "      <th>pred</th>\n",
       "      <th>prob</th>\n",
       "      <th>real</th>\n",
       "      <th>text</th>\n",
       "    </tr>\n",
       "  </thead>\n",
       "  <tbody>\n",
       "    <tr>\n",
       "      <th>998</th>\n",
       "      <td>1.000000</td>\n",
       "      <td>1.000000</td>\n",
       "      <td>0</td>\n",
       "      <td>wolfgang puck's \"breakfast in bed\" is a much more flavorful and robust medium roast than this one.</td>\n",
       "    </tr>\n",
       "    <tr>\n",
       "      <th>1714</th>\n",
       "      <td>1.000000</td>\n",
       "      <td>1.000000</td>\n",
       "      <td>0</td>\n",
       "      <td>not so great lemon flavor!&lt;br /&gt;it's very hard to find soy free!&lt;br /&gt;this is a great brand! i prefer the ginger much better t...</td>\n",
       "    </tr>\n",
       "    <tr>\n",
       "      <th>1894</th>\n",
       "      <td>1.000000</td>\n",
       "      <td>0.995672</td>\n",
       "      <td>0</td>\n",
       "      <td>my 10-month old loves these! they are helpful to teach him how to eat and relieve pain from teething, too. look around for a b...</td>\n",
       "    </tr>\n",
       "    <tr>\n",
       "      <th>1256</th>\n",
       "      <td>1.000000</td>\n",
       "      <td>0.994738</td>\n",
       "      <td>0</td>\n",
       "      <td>these crackers have no flavor what so ever and for 100 calories you get the same amount as the nabisco 100 calorie cookies. sa...</td>\n",
       "    </tr>\n",
       "    <tr>\n",
       "      <th>615</th>\n",
       "      <td>1.000000</td>\n",
       "      <td>0.994000</td>\n",
       "      <td>0</td>\n",
       "      <td>i would rather spend the time and effort for a better flavor. the pods are individually sealed, and easy to use. the flavor is...</td>\n",
       "    </tr>\n",
       "  </tbody>\n",
       "</table>\n",
       "</div>"
      ],
      "text/plain": [
       "         pred     prob  real  \\\n",
       "998  1.000000 1.000000     0   \n",
       "1714 1.000000 1.000000     0   \n",
       "1894 1.000000 0.995672     0   \n",
       "1256 1.000000 0.994738     0   \n",
       "615  1.000000 0.994000     0   \n",
       "\n",
       "                                                                                                                                   text  \n",
       "998                                  wolfgang puck's \"breakfast in bed\" is a much more flavorful and robust medium roast than this one.  \n",
       "1714  not so great lemon flavor!<br />it's very hard to find soy free!<br />this is a great brand! i prefer the ginger much better t...  \n",
       "1894  my 10-month old loves these! they are helpful to teach him how to eat and relieve pain from teething, too. look around for a b...  \n",
       "1256  these crackers have no flavor what so ever and for 100 calories you get the same amount as the nabisco 100 calorie cookies. sa...  \n",
       "615   i would rather spend the time and effort for a better flavor. the pods are individually sealed, and easy to use. the flavor is...  "
      ]
     },
     "metadata": {},
     "output_type": "display_data"
    },
    {
     "data": {
      "text/markdown": [
       "#### Lowest 5 mispredicted"
      ]
     },
     "metadata": {},
     "output_type": "display_data"
    },
    {
     "data": {
      "text/html": [
       "<div>\n",
       "<style scoped>\n",
       "    .dataframe tbody tr th:only-of-type {\n",
       "        vertical-align: middle;\n",
       "    }\n",
       "\n",
       "    .dataframe tbody tr th {\n",
       "        vertical-align: top;\n",
       "    }\n",
       "\n",
       "    .dataframe thead th {\n",
       "        text-align: right;\n",
       "    }\n",
       "</style>\n",
       "<table border=\"1\" class=\"dataframe\">\n",
       "  <thead>\n",
       "    <tr style=\"text-align: right;\">\n",
       "      <th></th>\n",
       "      <th>pred</th>\n",
       "      <th>prob</th>\n",
       "      <th>real</th>\n",
       "      <th>text</th>\n",
       "    </tr>\n",
       "  </thead>\n",
       "  <tbody>\n",
       "    <tr>\n",
       "      <th>811</th>\n",
       "      <td>0.000000</td>\n",
       "      <td>0.011772</td>\n",
       "      <td>1</td>\n",
       "      <td>i had mole problems and i killed the bugs.  i had killed the whole yard to replant and don't know if there were less bugs in t...</td>\n",
       "    </tr>\n",
       "    <tr>\n",
       "      <th>1524</th>\n",
       "      <td>0.000000</td>\n",
       "      <td>0.018908</td>\n",
       "      <td>1</td>\n",
       "      <td>wish there was a better mix of black/brown hooves. the box contained mostly black hooves. otherwise the order was as decribed</td>\n",
       "    </tr>\n",
       "    <tr>\n",
       "      <th>1712</th>\n",
       "      <td>0.000000</td>\n",
       "      <td>0.024831</td>\n",
       "      <td>1</td>\n",
       "      <td>what can i say, the deer and the antelop did not do anything to this coffee.  neither did the caribou.  it's ok, drinkable.</td>\n",
       "    </tr>\n",
       "    <tr>\n",
       "      <th>393</th>\n",
       "      <td>0.000000</td>\n",
       "      <td>0.029243</td>\n",
       "      <td>1</td>\n",
       "      <td>the popcorn is great.  unfortunately, the bags are defective and the buttery flavoring has seeped out thus making the outside ...</td>\n",
       "    </tr>\n",
       "    <tr>\n",
       "      <th>142</th>\n",
       "      <td>0.000000</td>\n",
       "      <td>0.032724</td>\n",
       "      <td>1</td>\n",
       "      <td>okay, i jumped the gun, because they were sending me the review information, before i received my chips, so i thought i would ...</td>\n",
       "    </tr>\n",
       "  </tbody>\n",
       "</table>\n",
       "</div>"
      ],
      "text/plain": [
       "         pred     prob  real  \\\n",
       "811  0.000000 0.011772     1   \n",
       "1524 0.000000 0.018908     1   \n",
       "1712 0.000000 0.024831     1   \n",
       "393  0.000000 0.029243     1   \n",
       "142  0.000000 0.032724     1   \n",
       "\n",
       "                                                                                                                                   text  \n",
       "811   i had mole problems and i killed the bugs.  i had killed the whole yard to replant and don't know if there were less bugs in t...  \n",
       "1524      wish there was a better mix of black/brown hooves. the box contained mostly black hooves. otherwise the order was as decribed  \n",
       "1712        what can i say, the deer and the antelop did not do anything to this coffee.  neither did the caribou.  it's ok, drinkable.  \n",
       "393   the popcorn is great.  unfortunately, the bags are defective and the buttery flavoring has seeped out thus making the outside ...  \n",
       "142   okay, i jumped the gun, because they were sending me the review information, before i received my chips, so i thought i would ...  "
      ]
     },
     "metadata": {},
     "output_type": "display_data"
    },
    {
     "data": {
      "text/markdown": [
       "#### Classification report for svc"
      ]
     },
     "metadata": {},
     "output_type": "display_data"
    },
    {
     "name": "stdout",
     "output_type": "stream",
     "text": [
      "             precision    recall  f1-score   support\n",
      "\n",
      "   Negative       0.68      0.55      0.61       313\n",
      "   Positive       0.92      0.95      0.94      1687\n",
      "\n",
      "avg / total       0.88      0.89      0.88      2000\n",
      "\n"
     ]
    },
    {
     "data": {
      "image/png": "[encoded data removed]",
      "text/plain": [
       "<matplotlib.figure.Figure at 0x7fe89c3dbcf8>"
      ]
     },
     "metadata": {},
     "output_type": "display_data"
    }
   ],
   "source": [
    "# it's almost impossible to train SVC on full dataset due to time complexity\n",
    "svc_limit = min(20000, len(X_sklearn_preprocessed))\n",
    "\n",
    "train_model_and_display_results(\n",
    "    models.SVCModel(\n",
    "        nlp, dataset_id, \n",
    "        kernel=\"linear\", C=0.025,\n",
    "        probability=True),\n",
    "    X_sklearn_preprocessed[:svc_limit], y_train[:svc_limit], preprocessed=True\n",
    ")"
   ]
  },
  {
   "cell_type": "code",
   "execution_count": 11,
   "metadata": {
    "scrolled": false
   },
   "outputs": [
    {
     "data": {
      "text/markdown": [
       "## SpacyDecisionTreeClassifierModel"
      ]
     },
     "metadata": {},
     "output_type": "display_data"
    },
    {
     "data": {
      "text/markdown": [
       "#### Training"
      ]
     },
     "metadata": {},
     "output_type": "display_data"
    },
    {
     "name": "stdout",
     "output_type": "stream",
     "text": [
      "Loading model...\n",
      "Unable to load model, training...\n",
      "Model 'decisiontreeclassifier_food_text_all_18268fab.pkl' saved\n"
     ]
    },
    {
     "data": {
      "text/markdown": [
       "#### Overview of created model"
      ]
     },
     "metadata": {},
     "output_type": "display_data"
    },
    {
     "data": {
      "text/plain": [
       "DecisionTreeClassifier(class_weight=None, criterion='gini', max_depth=5,\n",
       "            max_features=None, max_leaf_nodes=None,\n",
       "            min_impurity_decrease=0.0, min_impurity_split=None,\n",
       "            min_samples_leaf=1, min_samples_split=2,\n",
       "            min_weight_fraction_leaf=0.0, presort=False, random_state=None,\n",
       "            splitter='best')"
      ]
     },
     "metadata": {},
     "output_type": "display_data"
    },
    {
     "data": {
      "text/markdown": [
       "#### Model results"
      ]
     },
     "metadata": {},
     "output_type": "display_data"
    },
    {
     "data": {
      "text/markdown": [
       "#### Predicted scores"
      ]
     },
     "metadata": {},
     "output_type": "display_data"
    },
    {
     "data": {
      "text/html": [
       "<div>\n",
       "<style scoped>\n",
       "    .dataframe tbody tr th:only-of-type {\n",
       "        vertical-align: middle;\n",
       "    }\n",
       "\n",
       "    .dataframe tbody tr th {\n",
       "        vertical-align: top;\n",
       "    }\n",
       "\n",
       "    .dataframe thead th {\n",
       "        text-align: right;\n",
       "    }\n",
       "</style>\n",
       "<table border=\"1\" class=\"dataframe\">\n",
       "  <thead>\n",
       "    <tr style=\"text-align: right;\">\n",
       "      <th></th>\n",
       "      <th>score</th>\n",
       "      <th>text</th>\n",
       "    </tr>\n",
       "  </thead>\n",
       "  <tbody>\n",
       "    <tr>\n",
       "      <th>0</th>\n",
       "      <td>0.937974</td>\n",
       "      <td>We went there to eat dinner, and it was delicious</td>\n",
       "    </tr>\n",
       "    <tr>\n",
       "      <th>1</th>\n",
       "      <td>0.976629</td>\n",
       "      <td>One of the best suppers I've ever eaten</td>\n",
       "    </tr>\n",
       "    <tr>\n",
       "      <th>2</th>\n",
       "      <td>0.680393</td>\n",
       "      <td>Totally disgusting dish. I think cook made this with his eyes closed</td>\n",
       "    </tr>\n",
       "  </tbody>\n",
       "</table>\n",
       "</div>"
      ],
      "text/plain": [
       "      score  \\\n",
       "0  0.937974   \n",
       "1  0.976629   \n",
       "2  0.680393   \n",
       "\n",
       "                                                                   text  \n",
       "0  We went there to eat dinner, and it was delicious                     \n",
       "1  One of the best suppers I've ever eaten                               \n",
       "2  Totally disgusting dish. I think cook made this with his eyes closed  "
      ]
     },
     "metadata": {},
     "output_type": "display_data"
    },
    {
     "data": {
      "text/markdown": [
       "#### Highest 5"
      ]
     },
     "metadata": {},
     "output_type": "display_data"
    },
    {
     "data": {
      "text/html": [
       "<div>\n",
       "<style scoped>\n",
       "    .dataframe tbody tr th:only-of-type {\n",
       "        vertical-align: middle;\n",
       "    }\n",
       "\n",
       "    .dataframe tbody tr th {\n",
       "        vertical-align: top;\n",
       "    }\n",
       "\n",
       "    .dataframe thead th {\n",
       "        text-align: right;\n",
       "    }\n",
       "</style>\n",
       "<table border=\"1\" class=\"dataframe\">\n",
       "  <thead>\n",
       "    <tr style=\"text-align: right;\">\n",
       "      <th></th>\n",
       "      <th>pred</th>\n",
       "      <th>prob</th>\n",
       "      <th>real</th>\n",
       "      <th>text</th>\n",
       "    </tr>\n",
       "  </thead>\n",
       "  <tbody>\n",
       "    <tr>\n",
       "      <th>9</th>\n",
       "      <td>1.000000</td>\n",
       "      <td>0.976629</td>\n",
       "      <td>1</td>\n",
       "      <td>i purchased these to snack on after my workouts. now i find myself just snacking on them all the time!! they're really good an...</td>\n",
       "    </tr>\n",
       "    <tr>\n",
       "      <th>19</th>\n",
       "      <td>1.000000</td>\n",
       "      <td>0.976629</td>\n",
       "      <td>1</td>\n",
       "      <td>this is the best red rooibos tea i have found!! recommend it to all my friends...</td>\n",
       "    </tr>\n",
       "    <tr>\n",
       "      <th>26</th>\n",
       "      <td>1.000000</td>\n",
       "      <td>0.976629</td>\n",
       "      <td>1</td>\n",
       "      <td>this tea kit is wonderful. it has wonderful tea that really does what it says. i love the heartburn tea. it helped when downin...</td>\n",
       "    </tr>\n",
       "    <tr>\n",
       "      <th>27</th>\n",
       "      <td>1.000000</td>\n",
       "      <td>0.976629</td>\n",
       "      <td>1</td>\n",
       "      <td>this herbal tea is well balanced and pleasant.  it tastes to me like good real lemon, but not acidic.  the ginger seems just e...</td>\n",
       "    </tr>\n",
       "    <tr>\n",
       "      <th>31</th>\n",
       "      <td>1.000000</td>\n",
       "      <td>0.976629</td>\n",
       "      <td>1</td>\n",
       "      <td>i got this and i also got the small dog salmon zukes, i have a little chihuahua, he immediately loved the salmon ones, but not...</td>\n",
       "    </tr>\n",
       "  </tbody>\n",
       "</table>\n",
       "</div>"
      ],
      "text/plain": [
       "       pred     prob  real  \\\n",
       "9  1.000000 0.976629     1   \n",
       "19 1.000000 0.976629     1   \n",
       "26 1.000000 0.976629     1   \n",
       "27 1.000000 0.976629     1   \n",
       "31 1.000000 0.976629     1   \n",
       "\n",
       "                                                                                                                                 text  \n",
       "9   i purchased these to snack on after my workouts. now i find myself just snacking on them all the time!! they're really good an...  \n",
       "19                                                  this is the best red rooibos tea i have found!! recommend it to all my friends...  \n",
       "26  this tea kit is wonderful. it has wonderful tea that really does what it says. i love the heartburn tea. it helped when downin...  \n",
       "27  this herbal tea is well balanced and pleasant.  it tastes to me like good real lemon, but not acidic.  the ginger seems just e...  \n",
       "31  i got this and i also got the small dog salmon zukes, i have a little chihuahua, he immediately loved the salmon ones, but not...  "
      ]
     },
     "metadata": {},
     "output_type": "display_data"
    },
    {
     "data": {
      "text/markdown": [
       "#### Lowest 5"
      ]
     },
     "metadata": {},
     "output_type": "display_data"
    },
    {
     "data": {
      "text/html": [
       "<div>\n",
       "<style scoped>\n",
       "    .dataframe tbody tr th:only-of-type {\n",
       "        vertical-align: middle;\n",
       "    }\n",
       "\n",
       "    .dataframe tbody tr th {\n",
       "        vertical-align: top;\n",
       "    }\n",
       "\n",
       "    .dataframe thead th {\n",
       "        text-align: right;\n",
       "    }\n",
       "</style>\n",
       "<table border=\"1\" class=\"dataframe\">\n",
       "  <thead>\n",
       "    <tr style=\"text-align: right;\">\n",
       "      <th></th>\n",
       "      <th>pred</th>\n",
       "      <th>prob</th>\n",
       "      <th>real</th>\n",
       "      <th>text</th>\n",
       "    </tr>\n",
       "  </thead>\n",
       "  <tbody>\n",
       "    <tr>\n",
       "      <th>68</th>\n",
       "      <td>0.000000</td>\n",
       "      <td>0.321455</td>\n",
       "      <td>0</td>\n",
       "      <td>i'm not sure if this box of this product was kept on the shelf too long, or if it went through a drastic temperature change wh...</td>\n",
       "    </tr>\n",
       "    <tr>\n",
       "      <th>74</th>\n",
       "      <td>0.000000</td>\n",
       "      <td>0.321455</td>\n",
       "      <td>1</td>\n",
       "      <td>i was of course wary of buying something as perishable as pine nuts over the internet whether from an amazon seller or not so ...</td>\n",
       "    </tr>\n",
       "    <tr>\n",
       "      <th>103</th>\n",
       "      <td>0.000000</td>\n",
       "      <td>0.321455</td>\n",
       "      <td>0</td>\n",
       "      <td>i wish i could give this stuff zero stars.  it's bad enough that the label is deceptive and obviously meant to mislead consume...</td>\n",
       "    </tr>\n",
       "    <tr>\n",
       "      <th>129</th>\n",
       "      <td>0.000000</td>\n",
       "      <td>0.321455</td>\n",
       "      <td>0</td>\n",
       "      <td>after reading the add copy i was expecting a much higher quality&lt;br /&gt;(read this as better tasting) cinnamon oil.&lt;br /&gt;the fla...</td>\n",
       "    </tr>\n",
       "    <tr>\n",
       "      <th>209</th>\n",
       "      <td>0.000000</td>\n",
       "      <td>0.321455</td>\n",
       "      <td>0</td>\n",
       "      <td>this jerkey is possibly the worst i have ever eaten....the texture is very thready and dry...i tried giving some to my dog and...</td>\n",
       "    </tr>\n",
       "  </tbody>\n",
       "</table>\n",
       "</div>"
      ],
      "text/plain": [
       "        pred     prob  real  \\\n",
       "68  0.000000 0.321455     0   \n",
       "74  0.000000 0.321455     1   \n",
       "103 0.000000 0.321455     0   \n",
       "129 0.000000 0.321455     0   \n",
       "209 0.000000 0.321455     0   \n",
       "\n",
       "                                                                                                                                  text  \n",
       "68   i'm not sure if this box of this product was kept on the shelf too long, or if it went through a drastic temperature change wh...  \n",
       "74   i was of course wary of buying something as perishable as pine nuts over the internet whether from an amazon seller or not so ...  \n",
       "103  i wish i could give this stuff zero stars.  it's bad enough that the label is deceptive and obviously meant to mislead consume...  \n",
       "129  after reading the add copy i was expecting a much higher quality<br />(read this as better tasting) cinnamon oil.<br />the fla...  \n",
       "209  this jerkey is possibly the worst i have ever eaten....the texture is very thready and dry...i tried giving some to my dog and...  "
      ]
     },
     "metadata": {},
     "output_type": "display_data"
    },
    {
     "data": {
      "text/markdown": [
       "#### Highest 5 mispredicted"
      ]
     },
     "metadata": {},
     "output_type": "display_data"
    },
    {
     "data": {
      "text/html": [
       "<div>\n",
       "<style scoped>\n",
       "    .dataframe tbody tr th:only-of-type {\n",
       "        vertical-align: middle;\n",
       "    }\n",
       "\n",
       "    .dataframe tbody tr th {\n",
       "        vertical-align: top;\n",
       "    }\n",
       "\n",
       "    .dataframe thead th {\n",
       "        text-align: right;\n",
       "    }\n",
       "</style>\n",
       "<table border=\"1\" class=\"dataframe\">\n",
       "  <thead>\n",
       "    <tr style=\"text-align: right;\">\n",
       "      <th></th>\n",
       "      <th>pred</th>\n",
       "      <th>prob</th>\n",
       "      <th>real</th>\n",
       "      <th>text</th>\n",
       "    </tr>\n",
       "  </thead>\n",
       "  <tbody>\n",
       "    <tr>\n",
       "      <th>99</th>\n",
       "      <td>1.000000</td>\n",
       "      <td>0.976629</td>\n",
       "      <td>0</td>\n",
       "      <td>the flavor is \"o.k.\"  won't buy again!  very thin, and very tough!  can get any generic brand with this texture!  expected thi...</td>\n",
       "    </tr>\n",
       "    <tr>\n",
       "      <th>361</th>\n",
       "      <td>1.000000</td>\n",
       "      <td>0.976629</td>\n",
       "      <td>0</td>\n",
       "      <td>terrible texture, despite several trials of cooking lengths and with/without salted water.  always turns out mushy, sticks to ...</td>\n",
       "    </tr>\n",
       "    <tr>\n",
       "      <th>364</th>\n",
       "      <td>1.000000</td>\n",
       "      <td>0.976629</td>\n",
       "      <td>0</td>\n",
       "      <td>this chai latte mix is weak and not creamy.  for starbucks like taste, try the big train canister.</td>\n",
       "    </tr>\n",
       "    <tr>\n",
       "      <th>467</th>\n",
       "      <td>1.000000</td>\n",
       "      <td>0.976629</td>\n",
       "      <td>0</td>\n",
       "      <td>these pop chips are satisfying and good for a snack, but not what i expected.  they do not taste as good, crisp or as light as...</td>\n",
       "    </tr>\n",
       "    <tr>\n",
       "      <th>663</th>\n",
       "      <td>1.000000</td>\n",
       "      <td>0.976629</td>\n",
       "      <td>0</td>\n",
       "      <td>i received a 12 pack of mrs fields from amazon (fulfilled by lakewood candies, llc), slightly open at the front.  suspicious, ...</td>\n",
       "    </tr>\n",
       "  </tbody>\n",
       "</table>\n",
       "</div>"
      ],
      "text/plain": [
       "        pred     prob  real  \\\n",
       "99  1.000000 0.976629     0   \n",
       "361 1.000000 0.976629     0   \n",
       "364 1.000000 0.976629     0   \n",
       "467 1.000000 0.976629     0   \n",
       "663 1.000000 0.976629     0   \n",
       "\n",
       "                                                                                                                                  text  \n",
       "99   the flavor is \"o.k.\"  won't buy again!  very thin, and very tough!  can get any generic brand with this texture!  expected thi...  \n",
       "361  terrible texture, despite several trials of cooking lengths and with/without salted water.  always turns out mushy, sticks to ...  \n",
       "364                                 this chai latte mix is weak and not creamy.  for starbucks like taste, try the big train canister.  \n",
       "467  these pop chips are satisfying and good for a snack, but not what i expected.  they do not taste as good, crisp or as light as...  \n",
       "663  i received a 12 pack of mrs fields from amazon (fulfilled by lakewood candies, llc), slightly open at the front.  suspicious, ...  "
      ]
     },
     "metadata": {},
     "output_type": "display_data"
    },
    {
     "data": {
      "text/markdown": [
       "#### Lowest 5 mispredicted"
      ]
     },
     "metadata": {},
     "output_type": "display_data"
    },
    {
     "data": {
      "text/html": [
       "<div>\n",
       "<style scoped>\n",
       "    .dataframe tbody tr th:only-of-type {\n",
       "        vertical-align: middle;\n",
       "    }\n",
       "\n",
       "    .dataframe tbody tr th {\n",
       "        vertical-align: top;\n",
       "    }\n",
       "\n",
       "    .dataframe thead th {\n",
       "        text-align: right;\n",
       "    }\n",
       "</style>\n",
       "<table border=\"1\" class=\"dataframe\">\n",
       "  <thead>\n",
       "    <tr style=\"text-align: right;\">\n",
       "      <th></th>\n",
       "      <th>pred</th>\n",
       "      <th>prob</th>\n",
       "      <th>real</th>\n",
       "      <th>text</th>\n",
       "    </tr>\n",
       "  </thead>\n",
       "  <tbody>\n",
       "    <tr>\n",
       "      <th>74</th>\n",
       "      <td>0.000000</td>\n",
       "      <td>0.321455</td>\n",
       "      <td>1</td>\n",
       "      <td>i was of course wary of buying something as perishable as pine nuts over the internet whether from an amazon seller or not so ...</td>\n",
       "    </tr>\n",
       "    <tr>\n",
       "      <th>327</th>\n",
       "      <td>0.000000</td>\n",
       "      <td>0.321455</td>\n",
       "      <td>1</td>\n",
       "      <td>i used sugartwin for years prior to the introduction of aspartame, and had been quite happy with it.  when the almost constant...</td>\n",
       "    </tr>\n",
       "    <tr>\n",
       "      <th>528</th>\n",
       "      <td>0.000000</td>\n",
       "      <td>0.321455</td>\n",
       "      <td>1</td>\n",
       "      <td>my husband complained that split peas didn't have any taste anymore.  he really likes these and said they taste like split pea...</td>\n",
       "    </tr>\n",
       "    <tr>\n",
       "      <th>602</th>\n",
       "      <td>0.000000</td>\n",
       "      <td>0.321455</td>\n",
       "      <td>1</td>\n",
       "      <td>i was a bit skeptical given lipton's reputation for bastardizing and oversweetening some of its products, but its flavored \"gr...</td>\n",
       "    </tr>\n",
       "    <tr>\n",
       "      <th>724</th>\n",
       "      <td>0.000000</td>\n",
       "      <td>0.321455</td>\n",
       "      <td>1</td>\n",
       "      <td>i've only tried one of the brownies. the one that i ate definitely had no raspberry flavor. the brownie is absolutely deliciou...</td>\n",
       "    </tr>\n",
       "  </tbody>\n",
       "</table>\n",
       "</div>"
      ],
      "text/plain": [
       "        pred     prob  real  \\\n",
       "74  0.000000 0.321455     1   \n",
       "327 0.000000 0.321455     1   \n",
       "528 0.000000 0.321455     1   \n",
       "602 0.000000 0.321455     1   \n",
       "724 0.000000 0.321455     1   \n",
       "\n",
       "                                                                                                                                  text  \n",
       "74   i was of course wary of buying something as perishable as pine nuts over the internet whether from an amazon seller or not so ...  \n",
       "327  i used sugartwin for years prior to the introduction of aspartame, and had been quite happy with it.  when the almost constant...  \n",
       "528  my husband complained that split peas didn't have any taste anymore.  he really likes these and said they taste like split pea...  \n",
       "602  i was a bit skeptical given lipton's reputation for bastardizing and oversweetening some of its products, but its flavored \"gr...  \n",
       "724  i've only tried one of the brownies. the one that i ate definitely had no raspberry flavor. the brownie is absolutely deliciou...  "
      ]
     },
     "metadata": {},
     "output_type": "display_data"
    },
    {
     "data": {
      "text/markdown": [
       "#### Classification report for decisiontreeclassifier"
      ]
     },
     "metadata": {},
     "output_type": "display_data"
    },
    {
     "name": "stdout",
     "output_type": "stream",
     "text": [
      "             precision    recall  f1-score   support\n",
      "\n",
      "   Negative       0.59      0.24      0.34       313\n",
      "   Positive       0.87      0.97      0.92      1687\n",
      "\n",
      "avg / total       0.83      0.85      0.83      2000\n",
      "\n"
     ]
    },
    {
     "data": {
      "image/png": "[encoded data removed]",
      "text/plain": [
       "<matplotlib.figure.Figure at 0x7f4e12c42da0>"
      ]
     },
     "metadata": {},
     "output_type": "display_data"
    }
   ],
   "source": [
    "train_model_and_display_results(\n",
    "    models.DecisionTreeModel(nlp, dataset_id, max_depth=5),\n",
    "    X_sklearn_preprocessed, preprocessed=True\n",
    ")"
   ]
  },
  {
   "cell_type": "code",
   "execution_count": 13,
   "metadata": {
    "scrolled": false
   },
   "outputs": [
    {
     "data": {
      "text/markdown": [
       "## SpacyMLPClassifierModel"
      ]
     },
     "metadata": {},
     "output_type": "display_data"
    },
    {
     "data": {
      "text/markdown": [
       "#### Training"
      ]
     },
     "metadata": {},
     "output_type": "display_data"
    },
    {
     "name": "stdout",
     "output_type": "stream",
     "text": [
      "Loading model...\n",
      "Unable to load model, training...\n"
     ]
    },
    {
     "name": "stderr",
     "output_type": "stream",
     "text": [
      "/usr/local/lib/python3.5/dist-packages/sklearn/neural_network/multilayer_perceptron.py:912: DataConversionWarning: A column-vector y was passed when a 1d array was expected. Please change the shape of y to (n_samples, ), for example using ravel().\n",
      "  y = column_or_1d(y, warn=True)\n"
     ]
    },
    {
     "name": "stdout",
     "output_type": "stream",
     "text": [
      "Iteration 1, loss = 0.24752875\n",
      "Iteration 2, loss = 0.22185068\n",
      "Iteration 3, loss = 0.21471430\n",
      "Iteration 4, loss = 0.20945847\n",
      "Iteration 5, loss = 0.20458964\n",
      "Iteration 6, loss = 0.20096828\n",
      "Iteration 7, loss = 0.19821968\n",
      "Iteration 8, loss = 0.19552550\n",
      "Iteration 9, loss = 0.19300199\n",
      "Iteration 10, loss = 0.19085455\n",
      "Model 'mlpclassifier_food_text_all_6a1a2e6a.pkl' saved\n"
     ]
    },
    {
     "name": "stderr",
     "output_type": "stream",
     "text": [
      "/usr/local/lib/python3.5/dist-packages/sklearn/neural_network/multilayer_perceptron.py:564: ConvergenceWarning: Stochastic Optimizer: Maximum iterations (10) reached and the optimization hasn't converged yet.\n",
      "  % self.max_iter, ConvergenceWarning)\n"
     ]
    },
    {
     "data": {
      "text/markdown": [
       "#### Overview of created model"
      ]
     },
     "metadata": {},
     "output_type": "display_data"
    },
    {
     "data": {
      "text/plain": [
       "MLPClassifier(activation='relu', alpha=0.0001, batch_size='auto', beta_1=0.9,\n",
       "       beta_2=0.999, early_stopping=False, epsilon=1e-08,\n",
       "       hidden_layer_sizes=(50, 50), learning_rate='constant',\n",
       "       learning_rate_init=0.001, max_iter=10, momentum=0.9,\n",
       "       nesterovs_momentum=True, power_t=0.5, random_state=None,\n",
       "       shuffle=True, solver='adam', tol=0.0001, validation_fraction=0.1,\n",
       "       verbose=True, warm_start=False)"
      ]
     },
     "metadata": {},
     "output_type": "display_data"
    },
    {
     "data": {
      "text/markdown": [
       "#### Model results"
      ]
     },
     "metadata": {},
     "output_type": "display_data"
    },
    {
     "data": {
      "text/markdown": [
       "#### Predicted scores"
      ]
     },
     "metadata": {},
     "output_type": "display_data"
    },
    {
     "data": {
      "text/html": [
       "<div>\n",
       "<style scoped>\n",
       "    .dataframe tbody tr th:only-of-type {\n",
       "        vertical-align: middle;\n",
       "    }\n",
       "\n",
       "    .dataframe tbody tr th {\n",
       "        vertical-align: top;\n",
       "    }\n",
       "\n",
       "    .dataframe thead th {\n",
       "        text-align: right;\n",
       "    }\n",
       "</style>\n",
       "<table border=\"1\" class=\"dataframe\">\n",
       "  <thead>\n",
       "    <tr style=\"text-align: right;\">\n",
       "      <th></th>\n",
       "      <th>score</th>\n",
       "      <th>text</th>\n",
       "    </tr>\n",
       "  </thead>\n",
       "  <tbody>\n",
       "    <tr>\n",
       "      <th>0</th>\n",
       "      <td>0.999220</td>\n",
       "      <td>We went there to eat dinner, and it was delicious</td>\n",
       "    </tr>\n",
       "    <tr>\n",
       "      <th>1</th>\n",
       "      <td>0.999992</td>\n",
       "      <td>One of the best suppers I've ever eaten</td>\n",
       "    </tr>\n",
       "    <tr>\n",
       "      <th>2</th>\n",
       "      <td>0.000728</td>\n",
       "      <td>Totally disgusting dish. I think cook made this with his eyes closed</td>\n",
       "    </tr>\n",
       "  </tbody>\n",
       "</table>\n",
       "</div>"
      ],
      "text/plain": [
       "      score  \\\n",
       "0  0.999220   \n",
       "1  0.999992   \n",
       "2  0.000728   \n",
       "\n",
       "                                                                   text  \n",
       "0  We went there to eat dinner, and it was delicious                     \n",
       "1  One of the best suppers I've ever eaten                               \n",
       "2  Totally disgusting dish. I think cook made this with his eyes closed  "
      ]
     },
     "metadata": {},
     "output_type": "display_data"
    },
    {
     "data": {
      "text/markdown": [
       "#### Highest 5"
      ]
     },
     "metadata": {},
     "output_type": "display_data"
    },
    {
     "data": {
      "text/html": [
       "<div>\n",
       "<style scoped>\n",
       "    .dataframe tbody tr th:only-of-type {\n",
       "        vertical-align: middle;\n",
       "    }\n",
       "\n",
       "    .dataframe tbody tr th {\n",
       "        vertical-align: top;\n",
       "    }\n",
       "\n",
       "    .dataframe thead th {\n",
       "        text-align: right;\n",
       "    }\n",
       "</style>\n",
       "<table border=\"1\" class=\"dataframe\">\n",
       "  <thead>\n",
       "    <tr style=\"text-align: right;\">\n",
       "      <th></th>\n",
       "      <th>pred</th>\n",
       "      <th>prob</th>\n",
       "      <th>real</th>\n",
       "      <th>text</th>\n",
       "    </tr>\n",
       "  </thead>\n",
       "  <tbody>\n",
       "    <tr>\n",
       "      <th>266</th>\n",
       "      <td>1.000000</td>\n",
       "      <td>1.000000</td>\n",
       "      <td>1</td>\n",
       "      <td>a refreshing cold beverage and a soothing, perfect, hot cup of tea. offers healthful benefits.</td>\n",
       "    </tr>\n",
       "    <tr>\n",
       "      <th>1810</th>\n",
       "      <td>1.000000</td>\n",
       "      <td>1.000000</td>\n",
       "      <td>1</td>\n",
       "      <td>a healthy choice for gum, great flavor.  customer service was excellent - fast and courteous.</td>\n",
       "    </tr>\n",
       "    <tr>\n",
       "      <th>972</th>\n",
       "      <td>1.000000</td>\n",
       "      <td>1.000000</td>\n",
       "      <td>1</td>\n",
       "      <td>great service!  arrived in great time, and things were perfect!  look forward to ordering from you again.</td>\n",
       "    </tr>\n",
       "    <tr>\n",
       "      <th>454</th>\n",
       "      <td>1.000000</td>\n",
       "      <td>1.000000</td>\n",
       "      <td>1</td>\n",
       "      <td>these are currently my favorite snack!  they are very healthy and taste delicious.  yummy unique mix of flavors.  definitely a...</td>\n",
       "    </tr>\n",
       "    <tr>\n",
       "      <th>692</th>\n",
       "      <td>1.000000</td>\n",
       "      <td>1.000000</td>\n",
       "      <td>1</td>\n",
       "      <td>easy to start, easy to use and maintain and the natural leavening is very potent. by the way the baked goods are delicious!!!!</td>\n",
       "    </tr>\n",
       "  </tbody>\n",
       "</table>\n",
       "</div>"
      ],
      "text/plain": [
       "         pred     prob  real  \\\n",
       "266  1.000000 1.000000     1   \n",
       "1810 1.000000 1.000000     1   \n",
       "972  1.000000 1.000000     1   \n",
       "454  1.000000 1.000000     1   \n",
       "692  1.000000 1.000000     1   \n",
       "\n",
       "                                                                                                                                   text  \n",
       "266                                      a refreshing cold beverage and a soothing, perfect, hot cup of tea. offers healthful benefits.  \n",
       "1810                                      a healthy choice for gum, great flavor.  customer service was excellent - fast and courteous.  \n",
       "972                           great service!  arrived in great time, and things were perfect!  look forward to ordering from you again.  \n",
       "454   these are currently my favorite snack!  they are very healthy and taste delicious.  yummy unique mix of flavors.  definitely a...  \n",
       "692      easy to start, easy to use and maintain and the natural leavening is very potent. by the way the baked goods are delicious!!!!  "
      ]
     },
     "metadata": {},
     "output_type": "display_data"
    },
    {
     "data": {
      "text/markdown": [
       "#### Lowest 5"
      ]
     },
     "metadata": {},
     "output_type": "display_data"
    },
    {
     "data": {
      "text/html": [
       "<div>\n",
       "<style scoped>\n",
       "    .dataframe tbody tr th:only-of-type {\n",
       "        vertical-align: middle;\n",
       "    }\n",
       "\n",
       "    .dataframe tbody tr th {\n",
       "        vertical-align: top;\n",
       "    }\n",
       "\n",
       "    .dataframe thead th {\n",
       "        text-align: right;\n",
       "    }\n",
       "</style>\n",
       "<table border=\"1\" class=\"dataframe\">\n",
       "  <thead>\n",
       "    <tr style=\"text-align: right;\">\n",
       "      <th></th>\n",
       "      <th>pred</th>\n",
       "      <th>prob</th>\n",
       "      <th>real</th>\n",
       "      <th>text</th>\n",
       "    </tr>\n",
       "  </thead>\n",
       "  <tbody>\n",
       "    <tr>\n",
       "      <th>1388</th>\n",
       "      <td>0.000000</td>\n",
       "      <td>0.000795</td>\n",
       "      <td>0</td>\n",
       "      <td>i had such high hopes for this apple cider but it was a huge disappointment...terribly sweet and an awful artificial flavor.</td>\n",
       "    </tr>\n",
       "    <tr>\n",
       "      <th>1493</th>\n",
       "      <td>0.000000</td>\n",
       "      <td>0.002232</td>\n",
       "      <td>0</td>\n",
       "      <td>i purchased these pepperidge farm cookies for a family member that is sick in the hospital. the cookies had an expiration date...</td>\n",
       "    </tr>\n",
       "    <tr>\n",
       "      <th>956</th>\n",
       "      <td>0.000000</td>\n",
       "      <td>0.002320</td>\n",
       "      <td>0</td>\n",
       "      <td>i have purchased these in the past, but this order tasted a little stale. i have purchased food many times, but this was the f...</td>\n",
       "    </tr>\n",
       "    <tr>\n",
       "      <th>17</th>\n",
       "      <td>0.000000</td>\n",
       "      <td>0.003111</td>\n",
       "      <td>0</td>\n",
       "      <td>this coffee smells and tastes absolutely disgusting.  it smells like sugared rubbing alcohol.  it tastes like vomit.  i have n...</td>\n",
       "    </tr>\n",
       "    <tr>\n",
       "      <th>510</th>\n",
       "      <td>0.000000</td>\n",
       "      <td>0.003276</td>\n",
       "      <td>0</td>\n",
       "      <td>bought the teriyaki flavor .....totally gross,&lt;br /&gt;&lt;br /&gt;do not waste your money on this slimy stuff.... could barely finish ...</td>\n",
       "    </tr>\n",
       "  </tbody>\n",
       "</table>\n",
       "</div>"
      ],
      "text/plain": [
       "         pred     prob  real  \\\n",
       "1388 0.000000 0.000795     0   \n",
       "1493 0.000000 0.002232     0   \n",
       "956  0.000000 0.002320     0   \n",
       "17   0.000000 0.003111     0   \n",
       "510  0.000000 0.003276     0   \n",
       "\n",
       "                                                                                                                                   text  \n",
       "1388       i had such high hopes for this apple cider but it was a huge disappointment...terribly sweet and an awful artificial flavor.  \n",
       "1493  i purchased these pepperidge farm cookies for a family member that is sick in the hospital. the cookies had an expiration date...  \n",
       "956   i have purchased these in the past, but this order tasted a little stale. i have purchased food many times, but this was the f...  \n",
       "17    this coffee smells and tastes absolutely disgusting.  it smells like sugared rubbing alcohol.  it tastes like vomit.  i have n...  \n",
       "510   bought the teriyaki flavor .....totally gross,<br /><br />do not waste your money on this slimy stuff.... could barely finish ...  "
      ]
     },
     "metadata": {},
     "output_type": "display_data"
    },
    {
     "data": {
      "text/markdown": [
       "#### Highest 5 mispredicted"
      ]
     },
     "metadata": {},
     "output_type": "display_data"
    },
    {
     "data": {
      "text/html": [
       "<div>\n",
       "<style scoped>\n",
       "    .dataframe tbody tr th:only-of-type {\n",
       "        vertical-align: middle;\n",
       "    }\n",
       "\n",
       "    .dataframe tbody tr th {\n",
       "        vertical-align: top;\n",
       "    }\n",
       "\n",
       "    .dataframe thead th {\n",
       "        text-align: right;\n",
       "    }\n",
       "</style>\n",
       "<table border=\"1\" class=\"dataframe\">\n",
       "  <thead>\n",
       "    <tr style=\"text-align: right;\">\n",
       "      <th></th>\n",
       "      <th>pred</th>\n",
       "      <th>prob</th>\n",
       "      <th>real</th>\n",
       "      <th>text</th>\n",
       "    </tr>\n",
       "  </thead>\n",
       "  <tbody>\n",
       "    <tr>\n",
       "      <th>1714</th>\n",
       "      <td>1.000000</td>\n",
       "      <td>0.999411</td>\n",
       "      <td>0</td>\n",
       "      <td>not so great lemon flavor!&lt;br /&gt;it's very hard to find soy free!&lt;br /&gt;this is a great brand! i prefer the ginger much better t...</td>\n",
       "    </tr>\n",
       "    <tr>\n",
       "      <th>1894</th>\n",
       "      <td>1.000000</td>\n",
       "      <td>0.997015</td>\n",
       "      <td>0</td>\n",
       "      <td>my 10-month old loves these! they are helpful to teach him how to eat and relieve pain from teething, too. look around for a b...</td>\n",
       "    </tr>\n",
       "    <tr>\n",
       "      <th>220</th>\n",
       "      <td>1.000000</td>\n",
       "      <td>0.991419</td>\n",
       "      <td>0</td>\n",
       "      <td>i've been giving my daughter gerber fruits, veggies, and meat as everyday-meals since she was 6 months old, thinking that she'...</td>\n",
       "    </tr>\n",
       "    <tr>\n",
       "      <th>276</th>\n",
       "      <td>1.000000</td>\n",
       "      <td>0.981055</td>\n",
       "      <td>0</td>\n",
       "      <td>like too many gf products these are drowning in salt to drown out the bland rice flour flavor. i discovered glutino crackers o...</td>\n",
       "    </tr>\n",
       "    <tr>\n",
       "      <th>822</th>\n",
       "      <td>1.000000</td>\n",
       "      <td>0.980474</td>\n",
       "      <td>0</td>\n",
       "      <td>i have a two and a half year old female boxer that has allergies to most commercial dog foods, so i keep her on a diet free of...</td>\n",
       "    </tr>\n",
       "  </tbody>\n",
       "</table>\n",
       "</div>"
      ],
      "text/plain": [
       "         pred     prob  real  \\\n",
       "1714 1.000000 0.999411     0   \n",
       "1894 1.000000 0.997015     0   \n",
       "220  1.000000 0.991419     0   \n",
       "276  1.000000 0.981055     0   \n",
       "822  1.000000 0.980474     0   \n",
       "\n",
       "                                                                                                                                   text  \n",
       "1714  not so great lemon flavor!<br />it's very hard to find soy free!<br />this is a great brand! i prefer the ginger much better t...  \n",
       "1894  my 10-month old loves these! they are helpful to teach him how to eat and relieve pain from teething, too. look around for a b...  \n",
       "220   i've been giving my daughter gerber fruits, veggies, and meat as everyday-meals since she was 6 months old, thinking that she'...  \n",
       "276   like too many gf products these are drowning in salt to drown out the bland rice flour flavor. i discovered glutino crackers o...  \n",
       "822   i have a two and a half year old female boxer that has allergies to most commercial dog foods, so i keep her on a diet free of...  "
      ]
     },
     "metadata": {},
     "output_type": "display_data"
    },
    {
     "data": {
      "text/markdown": [
       "#### Lowest 5 mispredicted"
      ]
     },
     "metadata": {},
     "output_type": "display_data"
    },
    {
     "data": {
      "text/html": [
       "<div>\n",
       "<style scoped>\n",
       "    .dataframe tbody tr th:only-of-type {\n",
       "        vertical-align: middle;\n",
       "    }\n",
       "\n",
       "    .dataframe tbody tr th {\n",
       "        vertical-align: top;\n",
       "    }\n",
       "\n",
       "    .dataframe thead th {\n",
       "        text-align: right;\n",
       "    }\n",
       "</style>\n",
       "<table border=\"1\" class=\"dataframe\">\n",
       "  <thead>\n",
       "    <tr style=\"text-align: right;\">\n",
       "      <th></th>\n",
       "      <th>pred</th>\n",
       "      <th>prob</th>\n",
       "      <th>real</th>\n",
       "      <th>text</th>\n",
       "    </tr>\n",
       "  </thead>\n",
       "  <tbody>\n",
       "    <tr>\n",
       "      <th>1939</th>\n",
       "      <td>0.000000</td>\n",
       "      <td>0.014732</td>\n",
       "      <td>1</td>\n",
       "      <td>i place an order on july 11, 2011 of 15 (12 pack e/a) of vita coco coconut water with this horrible company \"goshoptnt\" and i ...</td>\n",
       "    </tr>\n",
       "    <tr>\n",
       "      <th>556</th>\n",
       "      <td>0.000000</td>\n",
       "      <td>0.036900</td>\n",
       "      <td>1</td>\n",
       "      <td>okay when i go to the beach i have to scrape barnacles off the side of my dad's boat- slimy, sticky, smelly barnacles.  please...</td>\n",
       "    </tr>\n",
       "    <tr>\n",
       "      <th>1181</th>\n",
       "      <td>0.000000</td>\n",
       "      <td>0.058100</td>\n",
       "      <td>1</td>\n",
       "      <td>one of the three packs was open before arriving.  the paste was oozing out the side.  i can't return it, and i am having a lot...</td>\n",
       "    </tr>\n",
       "    <tr>\n",
       "      <th>723</th>\n",
       "      <td>0.000000</td>\n",
       "      <td>0.068222</td>\n",
       "      <td>1</td>\n",
       "      <td>these peppers are indeed very hot.  when i first opened the package and took one of the peppers out to try i nibbled on just a...</td>\n",
       "    </tr>\n",
       "    <tr>\n",
       "      <th>969</th>\n",
       "      <td>0.000000</td>\n",
       "      <td>0.095819</td>\n",
       "      <td>1</td>\n",
       "      <td>it didn't cause any stomach upset, but was pretty good. it's not as robust as one might like, and the aroma was not very stron...</td>\n",
       "    </tr>\n",
       "  </tbody>\n",
       "</table>\n",
       "</div>"
      ],
      "text/plain": [
       "         pred     prob  real  \\\n",
       "1939 0.000000 0.014732     1   \n",
       "556  0.000000 0.036900     1   \n",
       "1181 0.000000 0.058100     1   \n",
       "723  0.000000 0.068222     1   \n",
       "969  0.000000 0.095819     1   \n",
       "\n",
       "                                                                                                                                   text  \n",
       "1939  i place an order on july 11, 2011 of 15 (12 pack e/a) of vita coco coconut water with this horrible company \"goshoptnt\" and i ...  \n",
       "556   okay when i go to the beach i have to scrape barnacles off the side of my dad's boat- slimy, sticky, smelly barnacles.  please...  \n",
       "1181  one of the three packs was open before arriving.  the paste was oozing out the side.  i can't return it, and i am having a lot...  \n",
       "723   these peppers are indeed very hot.  when i first opened the package and took one of the peppers out to try i nibbled on just a...  \n",
       "969   it didn't cause any stomach upset, but was pretty good. it's not as robust as one might like, and the aroma was not very stron...  "
      ]
     },
     "metadata": {},
     "output_type": "display_data"
    },
    {
     "data": {
      "text/markdown": [
       "#### Classification report for mlpclassifier"
      ]
     },
     "metadata": {},
     "output_type": "display_data"
    },
    {
     "name": "stdout",
     "output_type": "stream",
     "text": [
      "             precision    recall  f1-score   support\n",
      "\n",
      "   Negative       0.78      0.69      0.73       313\n",
      "   Positive       0.94      0.96      0.95      1687\n",
      "\n",
      "avg / total       0.92      0.92      0.92      2000\n",
      "\n"
     ]
    },
    {
     "data": {
      "image/png": "[encoded data removed]",
      "text/plain": [
       "<matplotlib.figure.Figure at 0x7f4e11c0b550>"
      ]
     },
     "metadata": {},
     "output_type": "display_data"
    }
   ],
   "source": [
    "train_model_and_display_results(\n",
    "    models.MLPModel(\n",
    "        nlp, dataset_id,\n",
    "        hidden_layer_sizes=(50, 50), max_iter=10, verbose=True),\n",
    "    X_sklearn_preprocessed, preprocessed=True\n",
    ")"
   ]
  },
  {
   "cell_type": "code",
   "execution_count": 15,
   "metadata": {
    "scrolled": false
   },
   "outputs": [
    {
     "data": {
      "text/markdown": [
       "## SpacyGaussianNBModel"
      ]
     },
     "metadata": {},
     "output_type": "display_data"
    },
    {
     "data": {
      "text/markdown": [
       "#### Training"
      ]
     },
     "metadata": {},
     "output_type": "display_data"
    },
    {
     "name": "stdout",
     "output_type": "stream",
     "text": [
      "Loading model...\n",
      "Unable to load model, training...\n"
     ]
    },
    {
     "name": "stderr",
     "output_type": "stream",
     "text": [
      "/usr/local/lib/python3.5/dist-packages/sklearn/utils/validation.py:578: DataConversionWarning: A column-vector y was passed when a 1d array was expected. Please change the shape of y to (n_samples, ), for example using ravel().\n",
      "  y = column_or_1d(y, warn=True)\n"
     ]
    },
    {
     "name": "stdout",
     "output_type": "stream",
     "text": [
      "Model 'gaussiannb_food_text_all_d41d8cd9.pkl' saved\n"
     ]
    },
    {
     "data": {
      "text/markdown": [
       "#### Overview of created model"
      ]
     },
     "metadata": {},
     "output_type": "display_data"
    },
    {
     "data": {
      "text/plain": [
       "GaussianNB(priors=None)"
      ]
     },
     "metadata": {},
     "output_type": "display_data"
    },
    {
     "data": {
      "text/markdown": [
       "#### Model results"
      ]
     },
     "metadata": {},
     "output_type": "display_data"
    },
    {
     "data": {
      "text/markdown": [
       "#### Predicted scores"
      ]
     },
     "metadata": {},
     "output_type": "display_data"
    },
    {
     "data": {
      "text/html": [
       "<div>\n",
       "<style scoped>\n",
       "    .dataframe tbody tr th:only-of-type {\n",
       "        vertical-align: middle;\n",
       "    }\n",
       "\n",
       "    .dataframe tbody tr th {\n",
       "        vertical-align: top;\n",
       "    }\n",
       "\n",
       "    .dataframe thead th {\n",
       "        text-align: right;\n",
       "    }\n",
       "</style>\n",
       "<table border=\"1\" class=\"dataframe\">\n",
       "  <thead>\n",
       "    <tr style=\"text-align: right;\">\n",
       "      <th></th>\n",
       "      <th>score</th>\n",
       "      <th>text</th>\n",
       "    </tr>\n",
       "  </thead>\n",
       "  <tbody>\n",
       "    <tr>\n",
       "      <th>0</th>\n",
       "      <td>1.000000</td>\n",
       "      <td>We went there to eat dinner, and it was delicious</td>\n",
       "    </tr>\n",
       "    <tr>\n",
       "      <th>1</th>\n",
       "      <td>1.000000</td>\n",
       "      <td>One of the best suppers I've ever eaten</td>\n",
       "    </tr>\n",
       "    <tr>\n",
       "      <th>2</th>\n",
       "      <td>0.999999</td>\n",
       "      <td>Totally disgusting dish. I think cook made this with his eyes closed</td>\n",
       "    </tr>\n",
       "  </tbody>\n",
       "</table>\n",
       "</div>"
      ],
      "text/plain": [
       "      score  \\\n",
       "0  1.000000   \n",
       "1  1.000000   \n",
       "2  0.999999   \n",
       "\n",
       "                                                                   text  \n",
       "0  We went there to eat dinner, and it was delicious                     \n",
       "1  One of the best suppers I've ever eaten                               \n",
       "2  Totally disgusting dish. I think cook made this with his eyes closed  "
      ]
     },
     "metadata": {},
     "output_type": "display_data"
    },
    {
     "data": {
      "text/markdown": [
       "#### Highest 5"
      ]
     },
     "metadata": {},
     "output_type": "display_data"
    },
    {
     "data": {
      "text/html": [
       "<div>\n",
       "<style scoped>\n",
       "    .dataframe tbody tr th:only-of-type {\n",
       "        vertical-align: middle;\n",
       "    }\n",
       "\n",
       "    .dataframe tbody tr th {\n",
       "        vertical-align: top;\n",
       "    }\n",
       "\n",
       "    .dataframe thead th {\n",
       "        text-align: right;\n",
       "    }\n",
       "</style>\n",
       "<table border=\"1\" class=\"dataframe\">\n",
       "  <thead>\n",
       "    <tr style=\"text-align: right;\">\n",
       "      <th></th>\n",
       "      <th>pred</th>\n",
       "      <th>prob</th>\n",
       "      <th>real</th>\n",
       "      <th>text</th>\n",
       "    </tr>\n",
       "  </thead>\n",
       "  <tbody>\n",
       "    <tr>\n",
       "      <th>7</th>\n",
       "      <td>1.000000</td>\n",
       "      <td>1.000000</td>\n",
       "      <td>1</td>\n",
       "      <td>i love mott's healthy harvest applesauce cups. it is only fruit-no added sugar. these are blueberry, but in stores you can als...</td>\n",
       "    </tr>\n",
       "    <tr>\n",
       "      <th>19</th>\n",
       "      <td>1.000000</td>\n",
       "      <td>1.000000</td>\n",
       "      <td>1</td>\n",
       "      <td>this is the best red rooibos tea i have found!! recommend it to all my friends...</td>\n",
       "    </tr>\n",
       "    <tr>\n",
       "      <th>23</th>\n",
       "      <td>1.000000</td>\n",
       "      <td>1.000000</td>\n",
       "      <td>1</td>\n",
       "      <td>these are a favorite candy treat but, for some reason, unavailable in local stores.  delivery was in good time.</td>\n",
       "    </tr>\n",
       "    <tr>\n",
       "      <th>32</th>\n",
       "      <td>1.000000</td>\n",
       "      <td>1.000000</td>\n",
       "      <td>1</td>\n",
       "      <td>we love this mix!  we use the muffin recipe on back and make donuts with our electric donut maker~yum. all the recipes on back...</td>\n",
       "    </tr>\n",
       "    <tr>\n",
       "      <th>33</th>\n",
       "      <td>1.000000</td>\n",
       "      <td>1.000000</td>\n",
       "      <td>1</td>\n",
       "      <td>the best horseradish cheese i've ever tasted, i'm addicted. it's spicy and creamy. if you love horseradish this is a product y...</td>\n",
       "    </tr>\n",
       "  </tbody>\n",
       "</table>\n",
       "</div>"
      ],
      "text/plain": [
       "       pred     prob  real  \\\n",
       "7  1.000000 1.000000     1   \n",
       "19 1.000000 1.000000     1   \n",
       "23 1.000000 1.000000     1   \n",
       "32 1.000000 1.000000     1   \n",
       "33 1.000000 1.000000     1   \n",
       "\n",
       "                                                                                                                                 text  \n",
       "7   i love mott's healthy harvest applesauce cups. it is only fruit-no added sugar. these are blueberry, but in stores you can als...  \n",
       "19                                                  this is the best red rooibos tea i have found!! recommend it to all my friends...  \n",
       "23                    these are a favorite candy treat but, for some reason, unavailable in local stores.  delivery was in good time.  \n",
       "32  we love this mix!  we use the muffin recipe on back and make donuts with our electric donut maker~yum. all the recipes on back...  \n",
       "33  the best horseradish cheese i've ever tasted, i'm addicted. it's spicy and creamy. if you love horseradish this is a product y...  "
      ]
     },
     "metadata": {},
     "output_type": "display_data"
    },
    {
     "data": {
      "text/markdown": [
       "#### Lowest 5"
      ]
     },
     "metadata": {},
     "output_type": "display_data"
    },
    {
     "data": {
      "text/html": [
       "<div>\n",
       "<style scoped>\n",
       "    .dataframe tbody tr th:only-of-type {\n",
       "        vertical-align: middle;\n",
       "    }\n",
       "\n",
       "    .dataframe tbody tr th {\n",
       "        vertical-align: top;\n",
       "    }\n",
       "\n",
       "    .dataframe thead th {\n",
       "        text-align: right;\n",
       "    }\n",
       "</style>\n",
       "<table border=\"1\" class=\"dataframe\">\n",
       "  <thead>\n",
       "    <tr style=\"text-align: right;\">\n",
       "      <th></th>\n",
       "      <th>pred</th>\n",
       "      <th>prob</th>\n",
       "      <th>real</th>\n",
       "      <th>text</th>\n",
       "    </tr>\n",
       "  </thead>\n",
       "  <tbody>\n",
       "    <tr>\n",
       "      <th>544</th>\n",
       "      <td>0.000000</td>\n",
       "      <td>0.000000</td>\n",
       "      <td>0</td>\n",
       "      <td>i really hesitate to leave a negative review since we love the chips, but both of the last 2 shipments were destroyed.  both b...</td>\n",
       "    </tr>\n",
       "    <tr>\n",
       "      <th>811</th>\n",
       "      <td>0.000000</td>\n",
       "      <td>0.000000</td>\n",
       "      <td>1</td>\n",
       "      <td>i had mole problems and i killed the bugs.  i had killed the whole yard to replant and don't know if there were less bugs in t...</td>\n",
       "    </tr>\n",
       "    <tr>\n",
       "      <th>1462</th>\n",
       "      <td>0.000000</td>\n",
       "      <td>0.000000</td>\n",
       "      <td>0</td>\n",
       "      <td>i hope someone in charge of this sale reads this, because of all the cans in the two cases of soup i ordered, easily 75% of th...</td>\n",
       "    </tr>\n",
       "    <tr>\n",
       "      <th>1367</th>\n",
       "      <td>0.000000</td>\n",
       "      <td>0.000000</td>\n",
       "      <td>0</td>\n",
       "      <td>i have bought three bottles of this product. i have not felt any better; most of the time, i have felt much worse. i was under...</td>\n",
       "    </tr>\n",
       "    <tr>\n",
       "      <th>1834</th>\n",
       "      <td>0.000000</td>\n",
       "      <td>0.000000</td>\n",
       "      <td>0</td>\n",
       "      <td>i got the case of beans in the mail yesterday.  today when i got a chance to open the box, every single can was dented.  the s...</td>\n",
       "    </tr>\n",
       "  </tbody>\n",
       "</table>\n",
       "</div>"
      ],
      "text/plain": [
       "         pred     prob  real  \\\n",
       "544  0.000000 0.000000     0   \n",
       "811  0.000000 0.000000     1   \n",
       "1462 0.000000 0.000000     0   \n",
       "1367 0.000000 0.000000     0   \n",
       "1834 0.000000 0.000000     0   \n",
       "\n",
       "                                                                                                                                   text  \n",
       "544   i really hesitate to leave a negative review since we love the chips, but both of the last 2 shipments were destroyed.  both b...  \n",
       "811   i had mole problems and i killed the bugs.  i had killed the whole yard to replant and don't know if there were less bugs in t...  \n",
       "1462  i hope someone in charge of this sale reads this, because of all the cans in the two cases of soup i ordered, easily 75% of th...  \n",
       "1367  i have bought three bottles of this product. i have not felt any better; most of the time, i have felt much worse. i was under...  \n",
       "1834  i got the case of beans in the mail yesterday.  today when i got a chance to open the box, every single can was dented.  the s...  "
      ]
     },
     "metadata": {},
     "output_type": "display_data"
    },
    {
     "data": {
      "text/markdown": [
       "#### Highest 5 mispredicted"
      ]
     },
     "metadata": {},
     "output_type": "display_data"
    },
    {
     "data": {
      "text/html": [
       "<div>\n",
       "<style scoped>\n",
       "    .dataframe tbody tr th:only-of-type {\n",
       "        vertical-align: middle;\n",
       "    }\n",
       "\n",
       "    .dataframe tbody tr th {\n",
       "        vertical-align: top;\n",
       "    }\n",
       "\n",
       "    .dataframe thead th {\n",
       "        text-align: right;\n",
       "    }\n",
       "</style>\n",
       "<table border=\"1\" class=\"dataframe\">\n",
       "  <thead>\n",
       "    <tr style=\"text-align: right;\">\n",
       "      <th></th>\n",
       "      <th>pred</th>\n",
       "      <th>prob</th>\n",
       "      <th>real</th>\n",
       "      <th>text</th>\n",
       "    </tr>\n",
       "  </thead>\n",
       "  <tbody>\n",
       "    <tr>\n",
       "      <th>364</th>\n",
       "      <td>1.000000</td>\n",
       "      <td>1.000000</td>\n",
       "      <td>0</td>\n",
       "      <td>this chai latte mix is weak and not creamy.  for starbucks like taste, try the big train canister.</td>\n",
       "    </tr>\n",
       "    <tr>\n",
       "      <th>440</th>\n",
       "      <td>1.000000</td>\n",
       "      <td>1.000000</td>\n",
       "      <td>0</td>\n",
       "      <td>these have a great crunch and it's great that it's low fat. however, it's way too salty. 280mg per serving is more than twice ...</td>\n",
       "    </tr>\n",
       "    <tr>\n",
       "      <th>998</th>\n",
       "      <td>1.000000</td>\n",
       "      <td>1.000000</td>\n",
       "      <td>0</td>\n",
       "      <td>wolfgang puck's \"breakfast in bed\" is a much more flavorful and robust medium roast than this one.</td>\n",
       "    </tr>\n",
       "    <tr>\n",
       "      <th>1137</th>\n",
       "      <td>1.000000</td>\n",
       "      <td>1.000000</td>\n",
       "      <td>0</td>\n",
       "      <td>dry, tasteless. no carrot flavor. no spice flavor. go raw has some awesome cookies. this is not one of them. stay with the lem...</td>\n",
       "    </tr>\n",
       "    <tr>\n",
       "      <th>1256</th>\n",
       "      <td>1.000000</td>\n",
       "      <td>1.000000</td>\n",
       "      <td>0</td>\n",
       "      <td>these crackers have no flavor what so ever and for 100 calories you get the same amount as the nabisco 100 calorie cookies. sa...</td>\n",
       "    </tr>\n",
       "  </tbody>\n",
       "</table>\n",
       "</div>"
      ],
      "text/plain": [
       "         pred     prob  real  \\\n",
       "364  1.000000 1.000000     0   \n",
       "440  1.000000 1.000000     0   \n",
       "998  1.000000 1.000000     0   \n",
       "1137 1.000000 1.000000     0   \n",
       "1256 1.000000 1.000000     0   \n",
       "\n",
       "                                                                                                                                   text  \n",
       "364                                  this chai latte mix is weak and not creamy.  for starbucks like taste, try the big train canister.  \n",
       "440   these have a great crunch and it's great that it's low fat. however, it's way too salty. 280mg per serving is more than twice ...  \n",
       "998                                  wolfgang puck's \"breakfast in bed\" is a much more flavorful and robust medium roast than this one.  \n",
       "1137  dry, tasteless. no carrot flavor. no spice flavor. go raw has some awesome cookies. this is not one of them. stay with the lem...  \n",
       "1256  these crackers have no flavor what so ever and for 100 calories you get the same amount as the nabisco 100 calorie cookies. sa...  "
      ]
     },
     "metadata": {},
     "output_type": "display_data"
    },
    {
     "data": {
      "text/markdown": [
       "#### Lowest 5 mispredicted"
      ]
     },
     "metadata": {},
     "output_type": "display_data"
    },
    {
     "data": {
      "text/html": [
       "<div>\n",
       "<style scoped>\n",
       "    .dataframe tbody tr th:only-of-type {\n",
       "        vertical-align: middle;\n",
       "    }\n",
       "\n",
       "    .dataframe tbody tr th {\n",
       "        vertical-align: top;\n",
       "    }\n",
       "\n",
       "    .dataframe thead th {\n",
       "        text-align: right;\n",
       "    }\n",
       "</style>\n",
       "<table border=\"1\" class=\"dataframe\">\n",
       "  <thead>\n",
       "    <tr style=\"text-align: right;\">\n",
       "      <th></th>\n",
       "      <th>pred</th>\n",
       "      <th>prob</th>\n",
       "      <th>real</th>\n",
       "      <th>text</th>\n",
       "    </tr>\n",
       "  </thead>\n",
       "  <tbody>\n",
       "    <tr>\n",
       "      <th>811</th>\n",
       "      <td>0.000000</td>\n",
       "      <td>0.000000</td>\n",
       "      <td>1</td>\n",
       "      <td>i had mole problems and i killed the bugs.  i had killed the whole yard to replant and don't know if there were less bugs in t...</td>\n",
       "    </tr>\n",
       "    <tr>\n",
       "      <th>142</th>\n",
       "      <td>0.000000</td>\n",
       "      <td>0.000000</td>\n",
       "      <td>1</td>\n",
       "      <td>okay, i jumped the gun, because they were sending me the review information, before i received my chips, so i thought i would ...</td>\n",
       "    </tr>\n",
       "    <tr>\n",
       "      <th>902</th>\n",
       "      <td>0.000000</td>\n",
       "      <td>0.000000</td>\n",
       "      <td>1</td>\n",
       "      <td>i bought a 'jar' because its sweetened with xylitol. i was skeptical after my first piece. yes the intense peppermint rush see...</td>\n",
       "    </tr>\n",
       "    <tr>\n",
       "      <th>1631</th>\n",
       "      <td>0.000000</td>\n",
       "      <td>0.000000</td>\n",
       "      <td>1</td>\n",
       "      <td>product arrived as promised.  i thought the shipping was extremely high and had i realized it was that high, i would not have ...</td>\n",
       "    </tr>\n",
       "    <tr>\n",
       "      <th>314</th>\n",
       "      <td>0.000000</td>\n",
       "      <td>0.000000</td>\n",
       "      <td>1</td>\n",
       "      <td>i've been using these bags for only three weeks now, and so far no complaints. they seal easily, haven't leaked yet, quality f...</td>\n",
       "    </tr>\n",
       "  </tbody>\n",
       "</table>\n",
       "</div>"
      ],
      "text/plain": [
       "         pred     prob  real  \\\n",
       "811  0.000000 0.000000     1   \n",
       "142  0.000000 0.000000     1   \n",
       "902  0.000000 0.000000     1   \n",
       "1631 0.000000 0.000000     1   \n",
       "314  0.000000 0.000000     1   \n",
       "\n",
       "                                                                                                                                   text  \n",
       "811   i had mole problems and i killed the bugs.  i had killed the whole yard to replant and don't know if there were less bugs in t...  \n",
       "142   okay, i jumped the gun, because they were sending me the review information, before i received my chips, so i thought i would ...  \n",
       "902   i bought a 'jar' because its sweetened with xylitol. i was skeptical after my first piece. yes the intense peppermint rush see...  \n",
       "1631  product arrived as promised.  i thought the shipping was extremely high and had i realized it was that high, i would not have ...  \n",
       "314   i've been using these bags for only three weeks now, and so far no complaints. they seal easily, haven't leaked yet, quality f...  "
      ]
     },
     "metadata": {},
     "output_type": "display_data"
    },
    {
     "data": {
      "text/markdown": [
       "#### Classification report for gaussiannb"
      ]
     },
     "metadata": {},
     "output_type": "display_data"
    },
    {
     "name": "stdout",
     "output_type": "stream",
     "text": [
      "             precision    recall  f1-score   support\n",
      "\n",
      "   Negative       0.29      0.76      0.42       313\n",
      "   Positive       0.94      0.66      0.78      1687\n",
      "\n",
      "avg / total       0.84      0.68      0.72      2000\n",
      "\n"
     ]
    },
    {
     "data": {
      "image/png": "[encoded data removed]",
      "text/plain": [
       "<matplotlib.figure.Figure at 0x7f4e13a3b6a0>"
      ]
     },
     "metadata": {},
     "output_type": "display_data"
    }
   ],
   "source": [
    "train_model_and_display_results(\n",
    "    models.GaussianNBModel(\n",
    "        nlp, dataset_id\n",
    "    ),\n",
    "    X_sklearn_preprocessed, preprocessed=True\n",
    ")"
   ]
  },
  {
   "cell_type": "code",
   "execution_count": null,
   "metadata": {
    "scrolled": false
   },
   "outputs": [
    {
     "data": {
      "text/markdown": [
       "## SpacyAdaBoostClassifierModel"
      ]
     },
     "metadata": {},
     "output_type": "display_data"
    },
    {
     "data": {
      "text/markdown": [
       "#### Training"
      ]
     },
     "metadata": {},
     "output_type": "display_data"
    },
    {
     "name": "stdout",
     "output_type": "stream",
     "text": [
      "Loading model...\n",
      "Unable to load model, training...\n"
     ]
    },
    {
     "name": "stderr",
     "output_type": "stream",
     "text": [
      "/usr/local/lib/python3.5/dist-packages/sklearn/utils/validation.py:578: DataConversionWarning: A column-vector y was passed when a 1d array was expected. Please change the shape of y to (n_samples, ), for example using ravel().\n",
      "  y = column_or_1d(y, warn=True)\n"
     ]
    }
   ],
   "source": [
    "train_model_and_display_results(\n",
    "    models.AdaBoostModel(\n",
    "        nlp, dataset_id\n",
    "    ),\n",
    "    X_sklearn_preprocessed, preprocessed=True\n",
    ")"
   ]
  },
  {
   "cell_type": "code",
   "execution_count": null,
   "metadata": {
    "scrolled": false
   },
   "outputs": [],
   "source": [
    "train_model_and_display_results(\n",
    "    models.QuadraticDiscriminantAnalysisModel(\n",
    "        nlp, dataset_id\n",
    "    ),\n",
    "    X_sklearn_preprocessed, preprocessed=True\n",
    ")"
   ]
  },
  {
   "cell_type": "code",
   "execution_count": null,
   "metadata": {
    "scrolled": false
   },
   "outputs": [],
   "source": [
    "train_model_and_display_results(\n",
    "    models.LogisticRegressionModel(\n",
    "        nlp, dataset_id,\n",
    "        C=1e5\n",
    "    ),\n",
    "    X_sklearn_preprocessed, preprocessed=True\n",
    ")"
   ]
  },
  {
   "cell_type": "code",
   "execution_count": null,
   "metadata": {
    "scrolled": false
   },
   "outputs": [],
   "source": [
    "train_model_and_display_results(models.GradientBoostingModel(\n",
    "        nlp, dataset_id,\n",
    "        n_estimators=500, max_depth=2\n",
    "    ),\n",
    "    X_sklearn_preprocessed, preprocessed=True\n",
    ")"
   ]
  }
 ],
 "metadata": {
  "kernelspec": {
   "display_name": "Python 3",
   "language": "python",
   "name": "python3"
  },
  "language_info": {
   "codemirror_mode": {
    "name": "ipython",
    "version": 3
   },
   "file_extension": ".py",
   "mimetype": "text/x-python",
   "name": "python",
   "nbconvert_exporter": "python",
   "pygments_lexer": "ipython3",
   "version": "3.5.2"
  }
 },
 "nbformat": 4,
 "nbformat_minor": 2
}
