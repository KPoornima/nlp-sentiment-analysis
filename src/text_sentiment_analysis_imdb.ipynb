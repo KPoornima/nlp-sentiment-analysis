{
 "cells": [
  {
   "cell_type": "code",
   "execution_count": 1,
   "metadata": {},
   "outputs": [],
   "source": [
    "%load_ext autoreload\n",
    "%autoreload 2"
   ]
  },
  {
   "cell_type": "code",
   "execution_count": 2,
   "metadata": {},
   "outputs": [],
   "source": [
    "from shared.data import load_imdb\n",
    "from IPython.display import display_markdown"
   ]
  },
  {
   "cell_type": "code",
   "execution_count": 3,
   "metadata": {},
   "outputs": [],
   "source": [
    "import en_vectors_web_lg\n",
    "nlp = en_vectors_web_lg.load()"
   ]
  },
  {
   "cell_type": "code",
   "execution_count": 4,
   "metadata": {},
   "outputs": [],
   "source": [
    "MAX_WORDS_IN_SENTENCE = 300\n",
    "LIMIT = -1\n",
    "dataset_id = 'imdb_{}'.format(LIMIT if LIMIT > 0 else 'all')"
   ]
  },
  {
   "cell_type": "code",
   "execution_count": 12,
   "metadata": {},
   "outputs": [
    {
     "name": "stdout",
     "output_type": "stream",
     "text": [
      "Loading training data...\n",
      "Loading test data...\n"
     ]
    }
   ],
   "source": [
    "from sklearn.model_selection import train_test_split\n",
    "\n",
    "print(\"Loading training data...\")\n",
    "X_train, y_train = load_imdb('../data/aclImdb/train', limit=LIMIT)\n",
    "\n",
    "print(\"Loading test data...\")\n",
    "# lower text count, because of memory problems when trying to load all\n",
    "test_limit = LIMIT if 0 <= LIMIT <= 1000 else 1000\n",
    "X_test, y_test = load_imdb('../data/aclImdb/test', limit=test_limit)"
   ]
  },
  {
   "cell_type": "code",
   "execution_count": 13,
   "metadata": {},
   "outputs": [
    {
     "data": {
      "text/markdown": [
       "### Data sample"
      ]
     },
     "metadata": {},
     "output_type": "display_data"
    },
    {
     "data": {
      "text/html": [
       "<div>\n",
       "<style scoped>\n",
       "    .dataframe tbody tr th:only-of-type {\n",
       "        vertical-align: middle;\n",
       "    }\n",
       "\n",
       "    .dataframe tbody tr th {\n",
       "        vertical-align: top;\n",
       "    }\n",
       "\n",
       "    .dataframe thead th {\n",
       "        text-align: right;\n",
       "    }\n",
       "</style>\n",
       "<table border=\"1\" class=\"dataframe\">\n",
       "  <thead>\n",
       "    <tr style=\"text-align: right;\">\n",
       "      <th></th>\n",
       "      <th>X</th>\n",
       "      <th>y</th>\n",
       "    </tr>\n",
       "  </thead>\n",
       "  <tbody>\n",
       "    <tr>\n",
       "      <th>0</th>\n",
       "      <td>b\"Dan Katzir has produced a wonderful film tha...</td>\n",
       "      <td>1</td>\n",
       "    </tr>\n",
       "    <tr>\n",
       "      <th>1</th>\n",
       "      <td>b'If you want Scream or anything like the big-...</td>\n",
       "      <td>1</td>\n",
       "    </tr>\n",
       "    <tr>\n",
       "      <th>2</th>\n",
       "      <td>b\"Outlandish premise that rates low on plausib...</td>\n",
       "      <td>0</td>\n",
       "    </tr>\n",
       "    <tr>\n",
       "      <th>3</th>\n",
       "      <td>b'Let\\'s face it-- if you rented a STDVD seque...</td>\n",
       "      <td>0</td>\n",
       "    </tr>\n",
       "    <tr>\n",
       "      <th>4</th>\n",
       "      <td>b'Bizarre Tobe Hooper exercise regarding an un...</td>\n",
       "      <td>0</td>\n",
       "    </tr>\n",
       "    <tr>\n",
       "      <th>5</th>\n",
       "      <td>b'Well, maybe the PC version of this game was ...</td>\n",
       "      <td>0</td>\n",
       "    </tr>\n",
       "    <tr>\n",
       "      <th>6</th>\n",
       "      <td>b'Watching \"Kroko\" I would have liked to leave...</td>\n",
       "      <td>0</td>\n",
       "    </tr>\n",
       "    <tr>\n",
       "      <th>7</th>\n",
       "      <td>b\"First of all, I have to start this comment b...</td>\n",
       "      <td>1</td>\n",
       "    </tr>\n",
       "    <tr>\n",
       "      <th>8</th>\n",
       "      <td>b\"Very much a film from the times -- extremely...</td>\n",
       "      <td>0</td>\n",
       "    </tr>\n",
       "    <tr>\n",
       "      <th>9</th>\n",
       "      <td>b'\"The Invisible Ray\" is part science fiction ...</td>\n",
       "      <td>1</td>\n",
       "    </tr>\n",
       "  </tbody>\n",
       "</table>\n",
       "</div>"
      ],
      "text/plain": [
       "                                                   X  y\n",
       "0  b\"Dan Katzir has produced a wonderful film tha...  1\n",
       "1  b'If you want Scream or anything like the big-...  1\n",
       "2  b\"Outlandish premise that rates low on plausib...  0\n",
       "3  b'Let\\'s face it-- if you rented a STDVD seque...  0\n",
       "4  b'Bizarre Tobe Hooper exercise regarding an un...  0\n",
       "5  b'Well, maybe the PC version of this game was ...  0\n",
       "6  b'Watching \"Kroko\" I would have liked to leave...  0\n",
       "7  b\"First of all, I have to start this comment b...  1\n",
       "8  b\"Very much a film from the times -- extremely...  0\n",
       "9  b'\"The Invisible Ray\" is part science fiction ...  1"
      ]
     },
     "metadata": {},
     "output_type": "display_data"
    },
    {
     "data": {
      "text/markdown": [
       "#### Text stats"
      ]
     },
     "metadata": {},
     "output_type": "display_data"
    },
    {
     "data": {
      "text/plain": [
       "count                                                 25000\n",
       "unique                                                24904\n",
       "top       b\"This show comes up with interesting location...\n",
       "freq                                                      3\n",
       "Name: X, dtype: object"
      ]
     },
     "metadata": {},
     "output_type": "display_data"
    },
    {
     "data": {
      "text/markdown": [
       "#### Words length stats"
      ]
     },
     "metadata": {},
     "output_type": "display_data"
    },
    {
     "data": {
      "text/plain": [
       "count    25000.000000\n",
       "mean       233.776720\n",
       "std        173.715418\n",
       "min         10.000000\n",
       "25%        127.000000\n",
       "50%        174.000000\n",
       "75%        284.000000\n",
       "max       2470.000000\n",
       "Name: X, dtype: float64"
      ]
     },
     "metadata": {},
     "output_type": "display_data"
    },
    {
     "data": {
      "text/markdown": [
       "#### Labels stats"
      ]
     },
     "metadata": {},
     "output_type": "display_data"
    },
    {
     "data": {
      "text/plain": [
       "count    25000.00000\n",
       "mean         0.50000\n",
       "std          0.50001\n",
       "min          0.00000\n",
       "25%          0.00000\n",
       "50%          0.50000\n",
       "75%          1.00000\n",
       "max          1.00000\n",
       "Name: y, dtype: float64"
      ]
     },
     "metadata": {},
     "output_type": "display_data"
    },
    {
     "data": {
      "text/markdown": [
       "#### Labels counts"
      ]
     },
     "metadata": {},
     "output_type": "display_data"
    },
    {
     "data": {
      "text/plain": [
       "1    12500\n",
       "0    12500\n",
       "Name: y, dtype: int64"
      ]
     },
     "metadata": {},
     "output_type": "display_data"
    },
    {
     "data": {
      "text/plain": [
       "1    0.5\n",
       "0    0.5\n",
       "Name: y, dtype: float64"
      ]
     },
     "metadata": {},
     "output_type": "display_data"
    },
    {
     "data": {
      "text/markdown": [
       "### Train count: 25000"
      ]
     },
     "metadata": {},
     "output_type": "display_data"
    },
    {
     "data": {
      "text/markdown": [
       "### Test count:  1000"
      ]
     },
     "metadata": {},
     "output_type": "display_data"
    }
   ],
   "source": [
    "import pandas as pd\n",
    "data = pd.DataFrame({'X': pd.Series(X_train), 'y': pd.Series(y_train[:, 0])})\n",
    "\n",
    "display_markdown(\"### Data sample\", raw=True)\n",
    "display(data.head(10))\n",
    "\n",
    "display_markdown('#### Text stats', raw=True)\n",
    "display(data.X.describe())\n",
    "\n",
    "display_markdown('#### Words length stats', raw=True)\n",
    "display(data.X.apply(lambda w: len(w.split())).describe())\n",
    "\n",
    "display_markdown('#### Labels stats', raw=True)\n",
    "display(data.y.describe())\n",
    "\n",
    "display_markdown('#### Labels counts', raw=True)\n",
    "display(data.y.value_counts())\n",
    "display(data.y.value_counts(normalize=True))\n",
    "\n",
    "display_markdown('### Train count: {}'.format(len(X_train)), raw=True)\n",
    "display_markdown('### Test count:  {}'.format(len(X_test)), raw=True)\n",
    "\n",
    "# it's no longer needed, just for presentational purposes\n",
    "del data"
   ]
  },
  {
   "cell_type": "code",
   "execution_count": 7,
   "metadata": {
    "scrolled": false
   },
   "outputs": [
    {
     "name": "stderr",
     "output_type": "stream",
     "text": [
      "Using TensorFlow backend.\n"
     ]
    },
    {
     "data": {
      "text/markdown": [
       "#### Training or loading model"
      ]
     },
     "metadata": {},
     "output_type": "display_data"
    },
    {
     "name": "stdout",
     "output_type": "stream",
     "text": [
      "Loading model...\n",
      "Unable to load model, training...\n",
      "Epoch 1/50\n",
      "196/196 [==============================] - 22s 112ms/step - loss: 0.3000 - acc: 0.7361\n",
      "Epoch 2/50\n",
      "196/196 [==============================] - 20s 103ms/step - loss: 0.2125 - acc: 0.84251s - loss: 0.2132 - a\n",
      "Epoch 3/50\n",
      "196/196 [==============================] - 22s 112ms/step - loss: 0.1832 - acc: 0.8663\n",
      "Epoch 4/50\n",
      "196/196 [==============================] - 22s 111ms/step - loss: 0.1615 - acc: 0.8789\n",
      "Epoch 5/50\n",
      "196/196 [==============================] - 22s 112ms/step - loss: 0.1445 - acc: 0.8919\n",
      "Epoch 6/50\n",
      "196/196 [==============================] - 22s 111ms/step - loss: 0.1319 - acc: 0.8986\n",
      "Epoch 7/50\n",
      "196/196 [==============================] - 22s 111ms/step - loss: 0.1241 - acc: 0.9027\n",
      "Epoch 8/50\n",
      "196/196 [==============================] - 22s 111ms/step - loss: 0.1163 - acc: 0.9079\n",
      "Epoch 9/50\n",
      "196/196 [==============================] - 22s 112ms/step - loss: 0.1106 - acc: 0.9122\n",
      "Epoch 10/50\n",
      "196/196 [==============================] - 22s 111ms/step - loss: 0.1057 - acc: 0.9176\n",
      "Epoch 11/50\n",
      "196/196 [==============================] - 22s 111ms/step - loss: 0.1035 - acc: 0.9212\n",
      "Epoch 12/50\n",
      "196/196 [==============================] - 21s 105ms/step - loss: 0.0993 - acc: 0.9261\n",
      "Epoch 13/50\n",
      "196/196 [==============================] - 21s 105ms/step - loss: 0.0993 - acc: 0.9253\n",
      "Epoch 14/50\n",
      "196/196 [==============================] - 21s 105ms/step - loss: 0.0961 - acc: 0.9309\n",
      "Epoch 15/50\n",
      "196/196 [==============================] - 21s 105ms/step - loss: 0.0941 - acc: 0.9336\n",
      "Epoch 16/50\n",
      "196/196 [==============================] - 20s 105ms/step - loss: 0.0947 - acc: 0.9339\n",
      "Epoch 17/50\n",
      "196/196 [==============================] - 20s 105ms/step - loss: 0.0917 - acc: 0.9375\n",
      "Epoch 18/50\n",
      "196/196 [==============================] - 20s 105ms/step - loss: 0.0901 - acc: 0.9392\n",
      "Epoch 19/50\n",
      "196/196 [==============================] - 21s 105ms/step - loss: 0.0906 - acc: 0.9410\n",
      "Epoch 20/50\n",
      "196/196 [==============================] - 21s 105ms/step - loss: 0.0901 - acc: 0.9413\n",
      "Epoch 21/50\n",
      "196/196 [==============================] - 21s 105ms/step - loss: 0.0916 - acc: 0.9394\n",
      "Epoch 22/50\n",
      "196/196 [==============================] - 21s 105ms/step - loss: 0.0893 - acc: 0.9432\n",
      "Epoch 23/50\n",
      "196/196 [==============================] - 21s 105ms/step - loss: 0.0872 - acc: 0.9444\n",
      "Epoch 24/50\n",
      "196/196 [==============================] - 20s 104ms/step - loss: 0.0874 - acc: 0.9447\n",
      "Epoch 25/50\n",
      "196/196 [==============================] - 18s 92ms/step - loss: 0.0867 - acc: 0.9461\n",
      "Epoch 26/50\n",
      "196/196 [==============================] - 12s 62ms/step - loss: 0.0863 - acc: 0.9451\n",
      "Epoch 27/50\n",
      "196/196 [==============================] - 12s 62ms/step - loss: 0.0844 - acc: 0.9484\n",
      "Epoch 28/50\n",
      "196/196 [==============================] - 12s 62ms/step - loss: 0.0856 - acc: 0.9488\n",
      "Epoch 29/50\n",
      "196/196 [==============================] - 12s 62ms/step - loss: 0.0852 - acc: 0.9483\n",
      "Epoch 30/50\n",
      "196/196 [==============================] - 12s 62ms/step - loss: 0.0851 - acc: 0.9475\n",
      "Epoch 31/50\n",
      "196/196 [==============================] - 12s 62ms/step - loss: 0.0836 - acc: 0.9507\n",
      "Epoch 32/50\n",
      "196/196 [==============================] - 12s 62ms/step - loss: 0.0835 - acc: 0.9499\n",
      "Epoch 33/50\n",
      "196/196 [==============================] - 12s 62ms/step - loss: 0.0828 - acc: 0.9514\n",
      "Epoch 34/50\n",
      "196/196 [==============================] - 12s 62ms/step - loss: 0.0824 - acc: 0.9515\n",
      "Epoch 35/50\n",
      "196/196 [==============================] - 12s 63ms/step - loss: 0.0825 - acc: 0.9510\n",
      "Epoch 36/50\n",
      "196/196 [==============================] - 13s 66ms/step - loss: 0.0824 - acc: 0.9515\n",
      "Epoch 37/50\n",
      "196/196 [==============================] - 13s 66ms/step - loss: 0.0824 - acc: 0.9513\n",
      "Epoch 38/50\n",
      "196/196 [==============================] - 13s 64ms/step - loss: 0.0816 - acc: 0.9514\n",
      "Epoch 39/50\n",
      "196/196 [==============================] - 13s 64ms/step - loss: 0.0807 - acc: 0.9523\n",
      "Epoch 40/50\n",
      "196/196 [==============================] - 13s 64ms/step - loss: 0.0810 - acc: 0.9544\n",
      "Epoch 41/50\n",
      "196/196 [==============================] - 13s 64ms/step - loss: 0.0786 - acc: 0.9561\n",
      "Epoch 42/50\n",
      "196/196 [==============================] - 12s 64ms/step - loss: 0.0793 - acc: 0.9536\n",
      "Epoch 43/50\n",
      "196/196 [==============================] - 13s 64ms/step - loss: 0.0789 - acc: 0.9549\n",
      "Epoch 44/50\n",
      "196/196 [==============================] - 13s 66ms/step - loss: 0.0788 - acc: 0.9553\n",
      "Epoch 45/50\n",
      "196/196 [==============================] - 13s 64ms/step - loss: 0.0782 - acc: 0.9555\n",
      "Epoch 46/50\n",
      "196/196 [==============================] - 13s 64ms/step - loss: 0.0774 - acc: 0.9563\n",
      "Epoch 47/50\n",
      "196/196 [==============================] - 13s 64ms/step - loss: 0.0777 - acc: 0.9561\n",
      "Epoch 48/50\n",
      "196/196 [==============================] - 13s 64ms/step - loss: 0.0770 - acc: 0.9563\n",
      "Epoch 49/50\n",
      "196/196 [==============================] - 12s 63ms/step - loss: 0.0778 - acc: 0.9559\n",
      "Epoch 50/50\n",
      "196/196 [==============================] - 12s 64ms/step - loss: 0.0770 - acc: 0.9560\n",
      "Model 'keras_imdb_all_999bd479.h5' saved\n"
     ]
    }
   ],
   "source": [
    "from shared.models import KerasModel\n",
    "from machine_learning.plot_helpers import plot_training\n",
    "\n",
    "display_markdown('#### Training or loading model', raw=True)\n",
    "\n",
    "model = KerasModel(\n",
    "    nlp, dataset_id, max_words_in_sentence=MAX_WORDS_IN_SENTENCE, \n",
    "    epochs=50)\n",
    "\n",
    "try:\n",
    "    print(\"Loading model...\")\n",
    "    model.load()\n",
    "    print(\"Model '{}' loaded\".format(model.filename))\n",
    "except IOError:\n",
    "    print(\"Unable to load model, training...\")\n",
    "    history = model.train(X_train, y_train)\n",
    "    model.save()\n",
    "    print(\"Model '{}' saved\".format(model.filename))\n",
    "    plot_training(history)"
   ]
  },
  {
   "cell_type": "code",
   "execution_count": 49,
   "metadata": {
    "scrolled": false
   },
   "outputs": [
    {
     "data": {
      "text/markdown": [
       "#### Overview of created convolutional network architecture"
      ]
     },
     "metadata": {},
     "output_type": "display_data"
    },
    {
     "name": "stdout",
     "output_type": "stream",
     "text": [
      "_________________________________________________________________\n",
      "Layer (type)                 Output Shape              Param #   \n",
      "=================================================================\n",
      "conv1d_1 (Conv1D)            (None, 296, 32)           48032     \n",
      "_________________________________________________________________\n",
      "max_pooling1d_1 (MaxPooling1 (None, 59, 32)            0         \n",
      "_________________________________________________________________\n",
      "batch_normalization_1 (Batch (None, 59, 32)            128       \n",
      "_________________________________________________________________\n",
      "conv1d_2 (Conv1D)            (None, 55, 64)            10304     \n",
      "_________________________________________________________________\n",
      "global_max_pooling1d_1 (Glob (None, 64)                0         \n",
      "_________________________________________________________________\n",
      "batch_normalization_2 (Batch (None, 64)                256       \n",
      "_________________________________________________________________\n",
      "dropout_1 (Dropout)          (None, 64)                0         \n",
      "_________________________________________________________________\n",
      "dense_1 (Dense)              (None, 1)                 65        \n",
      "=================================================================\n",
      "Total params: 58,785\n",
      "Trainable params: 58,593\n",
      "Non-trainable params: 192\n",
      "_________________________________________________________________\n"
     ]
    },
    {
     "data": {
      "text/plain": [
       "None"
      ]
     },
     "metadata": {},
     "output_type": "display_data"
    }
   ],
   "source": [
    "display_markdown(\"#### Overview of created convolutional network architecture\", raw=True)\n",
    "\n",
    "display(model.summary())"
   ]
  },
  {
   "cell_type": "code",
   "execution_count": 43,
   "metadata": {
    "scrolled": false
   },
   "outputs": [
    {
     "data": {
      "text/markdown": [
       "#### Raw text"
      ]
     },
     "metadata": {},
     "output_type": "display_data"
    },
    {
     "data": {
      "text/plain": [
       "'This movie is, in my opinion, very worth watching!'"
      ]
     },
     "metadata": {},
     "output_type": "display_data"
    },
    {
     "data": {
      "text/plain": [
       "\"I kinda liked that movie. Maybe it's not as good as other, but still watchable\""
      ]
     },
     "metadata": {},
     "output_type": "display_data"
    },
    {
     "data": {
      "text/plain": [
       "\"I have to warn everybody, this movie is really bad. Actors don't know how to play. It su!*!\""
      ]
     },
     "metadata": {},
     "output_type": "display_data"
    },
    {
     "data": {
      "text/markdown": [
       "#### Cleaned text"
      ]
     },
     "metadata": {},
     "output_type": "display_data"
    },
    {
     "data": {
      "text/plain": [
       "'this movie is in my opinion very worth watching!'"
      ]
     },
     "metadata": {},
     "output_type": "display_data"
    },
    {
     "data": {
      "text/plain": [
       "\"i kinda liked that movie maybe it's not as good as other but still watchable\""
      ]
     },
     "metadata": {},
     "output_type": "display_data"
    },
    {
     "data": {
      "text/plain": [
       "\"i have to warn everybody this movie is really bad actors don't know how to play it su! !\""
      ]
     },
     "metadata": {},
     "output_type": "display_data"
    },
    {
     "data": {
      "text/markdown": [
       "#### Predicted scores"
      ]
     },
     "metadata": {},
     "output_type": "display_data"
    },
    {
     "data": {
      "text/html": [
       "<div>\n",
       "<style scoped>\n",
       "    .dataframe tbody tr th:only-of-type {\n",
       "        vertical-align: middle;\n",
       "    }\n",
       "\n",
       "    .dataframe tbody tr th {\n",
       "        vertical-align: top;\n",
       "    }\n",
       "\n",
       "    .dataframe thead th {\n",
       "        text-align: right;\n",
       "    }\n",
       "</style>\n",
       "<table border=\"1\" class=\"dataframe\">\n",
       "  <thead>\n",
       "    <tr style=\"text-align: right;\">\n",
       "      <th></th>\n",
       "      <th>score</th>\n",
       "      <th>text</th>\n",
       "    </tr>\n",
       "  </thead>\n",
       "  <tbody>\n",
       "    <tr>\n",
       "      <th>0</th>\n",
       "      <td>0.957330</td>\n",
       "      <td>This movie is, in my opinion, very worth watching!</td>\n",
       "    </tr>\n",
       "    <tr>\n",
       "      <th>1</th>\n",
       "      <td>0.718341</td>\n",
       "      <td>I kinda liked that movie. Maybe it's not as good as other, but still watchable</td>\n",
       "    </tr>\n",
       "    <tr>\n",
       "      <th>2</th>\n",
       "      <td>0.000038</td>\n",
       "      <td>I have to warn everybody, this movie is really bad. Actors don't know how to play. It su!*!</td>\n",
       "    </tr>\n",
       "  </tbody>\n",
       "</table>\n",
       "</div>"
      ],
      "text/plain": [
       "      score  \\\n",
       "0  0.957330   \n",
       "1  0.718341   \n",
       "2  0.000038   \n",
       "\n",
       "                                                                                          text  \n",
       "0  This movie is, in my opinion, very worth watching!                                           \n",
       "1  I kinda liked that movie. Maybe it's not as good as other, but still watchable               \n",
       "2  I have to warn everybody, this movie is really bad. Actors don't know how to play. It su!*!  "
      ]
     },
     "metadata": {},
     "output_type": "display_data"
    }
   ],
   "source": [
    "import numpy as np\n",
    "\n",
    "from sklearn import pipeline\n",
    "from shared import transformers\n",
    "\n",
    "raw_samples = np.array([\n",
    "    \"This movie is, in my opinion, very worth watching!\",\n",
    "    \"I kinda liked that movie. Maybe it's not as good as other, but still watchable\",\n",
    "    \"I have to warn everybody, this movie is really bad. Actors don't know how to play. It su!*!\",\n",
    "], dtype='object')\n",
    "\n",
    "display_markdown(\"#### Raw text\", raw=True)\n",
    "\n",
    "for text in raw_samples:\n",
    "    display(text)\n",
    "\n",
    "display_markdown(\"#### Cleaned text\", raw=True)\n",
    "\n",
    "clear_pipeline = pipeline.Pipeline([\n",
    "    ('clear', transformers.ClearTextTransformer()),\n",
    "])\n",
    "\n",
    "for text in clear_pipeline.transform(raw_samples):\n",
    "    display(text)\n",
    "\n",
    "display_markdown(\"#### Predicted scores\", raw=True)\n",
    "with pd.option_context(\"display.max_colwidth\", -1):\n",
    "    display(pd.DataFrame({\n",
    "        \"text\": pd.Series(raw_samples),\n",
    "        \"score\": pd.Series(model.predict_proba(raw_samples)[:, 1].reshape(len(raw_samples))),\n",
    "    }))\n"
   ]
  },
  {
   "cell_type": "code",
   "execution_count": 23,
   "metadata": {},
   "outputs": [],
   "source": [
    "from machine_learning.plot_helpers import plot_confusion_matrix, pandas_settings\n",
    "from sklearn.metrics import confusion_matrix, classification_report\n",
    "from sklearn.preprocessing import binarize\n",
    "\n",
    "\n",
    "# if you want to see whole review, change max_coldwith setting to -1\n",
    "@pandas_settings(display__max_colwidth=130, display__float_format = '{:.6f}'.format)\n",
    "def check_model(X_test, y_test, model, show_top_n=5):   \n",
    "    y_pred_proba = model.predict_proba(X_test)[:, 1]\n",
    "    y_pred = binarize(y_pred_proba.reshape(len(y_pred_proba), 1), 0.5)\n",
    "    \n",
    "    dt = pd.DataFrame({\n",
    "        'text': pd.Series(X_test), \n",
    "        'prob': pd.Series(y_pred_proba),\n",
    "        'pred': pd.Series(y_pred.reshape(len(y_pred))),\n",
    "        'real': pd.Series(y_test.reshape(len(y_test)))\n",
    "    })\n",
    "    \n",
    "    display_markdown(\"#### Highest {}\".format(show_top_n), raw=True)\n",
    "    display(dt.nlargest(show_top_n, 'prob'))\n",
    "    \n",
    "    display_markdown(\"#### Lowest {}\".format(show_top_n), raw=True)\n",
    "    display(dt.nsmallest(show_top_n, 'prob'))    \n",
    "    \n",
    "    display_markdown(\"#### Highest {} mispredicted\".format(show_top_n), raw=True)\n",
    "    display(dt[dt.pred != dt.real].nlargest(show_top_n, 'prob'))\n",
    "    \n",
    "    display_markdown(\"#### Lowest {} mispredicted\".format(show_top_n), raw=True)\n",
    "    display(dt[dt.pred != dt.real].nsmallest(show_top_n, 'prob'))    \n",
    "    \n",
    "    display_markdown(\"#### Classification report for {}\".format(model.NAME), raw=True)\n",
    "    classes = ['Negative', 'Positive']    \n",
    "    print(classification_report(y_test, y_pred, target_names=classes))\n",
    "    plot_confusion_matrix(confusion_matrix(y_test, y_pred), classes)"
   ]
  },
  {
   "cell_type": "code",
   "execution_count": 24,
   "metadata": {
    "scrolled": false
   },
   "outputs": [
    {
     "data": {
      "text/markdown": [
       "#### Lowest 5"
      ]
     },
     "metadata": {},
     "output_type": "display_data"
    },
    {
     "data": {
      "text/html": [
       "<div>\n",
       "<style scoped>\n",
       "    .dataframe tbody tr th:only-of-type {\n",
       "        vertical-align: middle;\n",
       "    }\n",
       "\n",
       "    .dataframe tbody tr th {\n",
       "        vertical-align: top;\n",
       "    }\n",
       "\n",
       "    .dataframe thead th {\n",
       "        text-align: right;\n",
       "    }\n",
       "</style>\n",
       "<table border=\"1\" class=\"dataframe\">\n",
       "  <thead>\n",
       "    <tr style=\"text-align: right;\">\n",
       "      <th></th>\n",
       "      <th>pred</th>\n",
       "      <th>prob</th>\n",
       "      <th>real</th>\n",
       "      <th>text</th>\n",
       "    </tr>\n",
       "  </thead>\n",
       "  <tbody>\n",
       "    <tr>\n",
       "      <th>474</th>\n",
       "      <td>0.000000</td>\n",
       "      <td>0.000000</td>\n",
       "      <td>0</td>\n",
       "      <td>b'As I write this user-comment, Tim Burton\\'s interpretation of the Sweeney Todd tale is making big money at the box office an...</td>\n",
       "    </tr>\n",
       "    <tr>\n",
       "      <th>720</th>\n",
       "      <td>0.000000</td>\n",
       "      <td>0.000000</td>\n",
       "      <td>0</td>\n",
       "      <td>b'To soccer fans every where -- stay away from this movie. It was so baaaaddd! Lame acting, lame script, lame soccer and no di...</td>\n",
       "    </tr>\n",
       "    <tr>\n",
       "      <th>303</th>\n",
       "      <td>0.000000</td>\n",
       "      <td>0.000000</td>\n",
       "      <td>0</td>\n",
       "      <td>b\"I suppose you could say this film has a grain of potential, but nothing more, because boy did the filmmakers botch it. The p...</td>\n",
       "    </tr>\n",
       "    <tr>\n",
       "      <th>44</th>\n",
       "      <td>0.000000</td>\n",
       "      <td>0.000000</td>\n",
       "      <td>0</td>\n",
       "      <td>b\"I just don't know how this stupid, crap, junk, garbage &amp; good for nothing film is a blockbuster. It was so boring with a ver...</td>\n",
       "    </tr>\n",
       "    <tr>\n",
       "      <th>679</th>\n",
       "      <td>0.000000</td>\n",
       "      <td>0.000000</td>\n",
       "      <td>0</td>\n",
       "      <td>b'\"Beowulf\" is like a very bad game : no characters, no story, no real dialogues, bad fights ... It\\'s probably the worst movi...</td>\n",
       "    </tr>\n",
       "  </tbody>\n",
       "</table>\n",
       "</div>"
      ],
      "text/plain": [
       "        pred     prob  real  \\\n",
       "474 0.000000 0.000000     0   \n",
       "720 0.000000 0.000000     0   \n",
       "303 0.000000 0.000000     0   \n",
       "44  0.000000 0.000000     0   \n",
       "679 0.000000 0.000000     0   \n",
       "\n",
       "                                                                                                                                  text  \n",
       "474  b'As I write this user-comment, Tim Burton\\'s interpretation of the Sweeney Todd tale is making big money at the box office an...  \n",
       "720  b'To soccer fans every where -- stay away from this movie. It was so baaaaddd! Lame acting, lame script, lame soccer and no di...  \n",
       "303  b\"I suppose you could say this film has a grain of potential, but nothing more, because boy did the filmmakers botch it. The p...  \n",
       "44   b\"I just don't know how this stupid, crap, junk, garbage & good for nothing film is a blockbuster. It was so boring with a ver...  \n",
       "679  b'\"Beowulf\" is like a very bad game : no characters, no story, no real dialogues, bad fights ... It\\'s probably the worst movi...  "
      ]
     },
     "metadata": {},
     "output_type": "display_data"
    },
    {
     "data": {
      "text/markdown": [
       "#### Highest 5"
      ]
     },
     "metadata": {},
     "output_type": "display_data"
    },
    {
     "data": {
      "text/html": [
       "<div>\n",
       "<style scoped>\n",
       "    .dataframe tbody tr th:only-of-type {\n",
       "        vertical-align: middle;\n",
       "    }\n",
       "\n",
       "    .dataframe tbody tr th {\n",
       "        vertical-align: top;\n",
       "    }\n",
       "\n",
       "    .dataframe thead th {\n",
       "        text-align: right;\n",
       "    }\n",
       "</style>\n",
       "<table border=\"1\" class=\"dataframe\">\n",
       "  <thead>\n",
       "    <tr style=\"text-align: right;\">\n",
       "      <th></th>\n",
       "      <th>pred</th>\n",
       "      <th>prob</th>\n",
       "      <th>real</th>\n",
       "      <th>text</th>\n",
       "    </tr>\n",
       "  </thead>\n",
       "  <tbody>\n",
       "    <tr>\n",
       "      <th>101</th>\n",
       "      <td>1.000000</td>\n",
       "      <td>1.000000</td>\n",
       "      <td>1</td>\n",
       "      <td>b'Up front, if you\\'re tired, the first hour could be slow. The set up of the story has a natural leisurely pace, unhurried - ...</td>\n",
       "    </tr>\n",
       "    <tr>\n",
       "      <th>135</th>\n",
       "      <td>1.000000</td>\n",
       "      <td>1.000000</td>\n",
       "      <td>1</td>\n",
       "      <td>b'As a fan of history, mythology, and fantasy \"Mystic Knights\" show pulled me in from the get-go. It has semi-decent scripting...</td>\n",
       "    </tr>\n",
       "    <tr>\n",
       "      <th>236</th>\n",
       "      <td>1.000000</td>\n",
       "      <td>1.000000</td>\n",
       "      <td>1</td>\n",
       "      <td>b\"This is a truly great film, with excellent direction. The core plot element, the painting of mila's ass is captivating. I re...</td>\n",
       "    </tr>\n",
       "    <tr>\n",
       "      <th>355</th>\n",
       "      <td>1.000000</td>\n",
       "      <td>1.000000</td>\n",
       "      <td>1</td>\n",
       "      <td>b\"Beautiful art direction, excellent editing and wonderful stories make this some of the best television ever produced. The fa...</td>\n",
       "    </tr>\n",
       "    <tr>\n",
       "      <th>427</th>\n",
       "      <td>1.000000</td>\n",
       "      <td>1.000000</td>\n",
       "      <td>1</td>\n",
       "      <td>b'Very glad to see that this excellent film gets such high marks from the users of IMDB. The Best Years of Their Lives remains...</td>\n",
       "    </tr>\n",
       "  </tbody>\n",
       "</table>\n",
       "</div>"
      ],
      "text/plain": [
       "        pred     prob  real  \\\n",
       "101 1.000000 1.000000     1   \n",
       "135 1.000000 1.000000     1   \n",
       "236 1.000000 1.000000     1   \n",
       "355 1.000000 1.000000     1   \n",
       "427 1.000000 1.000000     1   \n",
       "\n",
       "                                                                                                                                  text  \n",
       "101  b'Up front, if you\\'re tired, the first hour could be slow. The set up of the story has a natural leisurely pace, unhurried - ...  \n",
       "135  b'As a fan of history, mythology, and fantasy \"Mystic Knights\" show pulled me in from the get-go. It has semi-decent scripting...  \n",
       "236  b\"This is a truly great film, with excellent direction. The core plot element, the painting of mila's ass is captivating. I re...  \n",
       "355  b\"Beautiful art direction, excellent editing and wonderful stories make this some of the best television ever produced. The fa...  \n",
       "427  b'Very glad to see that this excellent film gets such high marks from the users of IMDB. The Best Years of Their Lives remains...  "
      ]
     },
     "metadata": {},
     "output_type": "display_data"
    },
    {
     "data": {
      "text/markdown": [
       "#### Lowest 5 mispredicted"
      ]
     },
     "metadata": {},
     "output_type": "display_data"
    },
    {
     "data": {
      "text/html": [
       "<div>\n",
       "<style scoped>\n",
       "    .dataframe tbody tr th:only-of-type {\n",
       "        vertical-align: middle;\n",
       "    }\n",
       "\n",
       "    .dataframe tbody tr th {\n",
       "        vertical-align: top;\n",
       "    }\n",
       "\n",
       "    .dataframe thead th {\n",
       "        text-align: right;\n",
       "    }\n",
       "</style>\n",
       "<table border=\"1\" class=\"dataframe\">\n",
       "  <thead>\n",
       "    <tr style=\"text-align: right;\">\n",
       "      <th></th>\n",
       "      <th>pred</th>\n",
       "      <th>prob</th>\n",
       "      <th>real</th>\n",
       "      <th>text</th>\n",
       "    </tr>\n",
       "  </thead>\n",
       "  <tbody>\n",
       "    <tr>\n",
       "      <th>549</th>\n",
       "      <td>0.000000</td>\n",
       "      <td>0.000006</td>\n",
       "      <td>1</td>\n",
       "      <td>b'Where do I start. Do I say how great the cinematography is. Do I praise certain scenes which show the directors creativity. ...</td>\n",
       "    </tr>\n",
       "    <tr>\n",
       "      <th>821</th>\n",
       "      <td>0.000000</td>\n",
       "      <td>0.000045</td>\n",
       "      <td>1</td>\n",
       "      <td>b'Sam Firstenberg\\'s \"Ninja 3:The Domination\" mixes martial arts with \"The Exorcist\" like horror.The horror elements thrown on...</td>\n",
       "    </tr>\n",
       "    <tr>\n",
       "      <th>341</th>\n",
       "      <td>0.000000</td>\n",
       "      <td>0.000230</td>\n",
       "      <td>1</td>\n",
       "      <td>b\"This is a totally awesome movie! If you haven't seen it yet, you damn well should. Sure, the plot is slow to develop, the sp...</td>\n",
       "    </tr>\n",
       "    <tr>\n",
       "      <th>454</th>\n",
       "      <td>0.000000</td>\n",
       "      <td>0.000389</td>\n",
       "      <td>1</td>\n",
       "      <td>b\"I haven't read the Anne Rice novel that this movie was based on, but who knows, maybe reading the book is cheaper than renti...</td>\n",
       "    </tr>\n",
       "    <tr>\n",
       "      <th>37</th>\n",
       "      <td>0.000000</td>\n",
       "      <td>0.000662</td>\n",
       "      <td>1</td>\n",
       "      <td>b'You have to be awfully patient to sit through a film with one-liners so flat and unfunny that you wonder what all the fuss w...</td>\n",
       "    </tr>\n",
       "  </tbody>\n",
       "</table>\n",
       "</div>"
      ],
      "text/plain": [
       "        pred     prob  real  \\\n",
       "549 0.000000 0.000006     1   \n",
       "821 0.000000 0.000045     1   \n",
       "341 0.000000 0.000230     1   \n",
       "454 0.000000 0.000389     1   \n",
       "37  0.000000 0.000662     1   \n",
       "\n",
       "                                                                                                                                  text  \n",
       "549  b'Where do I start. Do I say how great the cinematography is. Do I praise certain scenes which show the directors creativity. ...  \n",
       "821  b'Sam Firstenberg\\'s \"Ninja 3:The Domination\" mixes martial arts with \"The Exorcist\" like horror.The horror elements thrown on...  \n",
       "341  b\"This is a totally awesome movie! If you haven't seen it yet, you damn well should. Sure, the plot is slow to develop, the sp...  \n",
       "454  b\"I haven't read the Anne Rice novel that this movie was based on, but who knows, maybe reading the book is cheaper than renti...  \n",
       "37   b'You have to be awfully patient to sit through a film with one-liners so flat and unfunny that you wonder what all the fuss w...  "
      ]
     },
     "metadata": {},
     "output_type": "display_data"
    },
    {
     "data": {
      "text/markdown": [
       "#### Highest 5 mispredicted"
      ]
     },
     "metadata": {},
     "output_type": "display_data"
    },
    {
     "data": {
      "text/html": [
       "<div>\n",
       "<style scoped>\n",
       "    .dataframe tbody tr th:only-of-type {\n",
       "        vertical-align: middle;\n",
       "    }\n",
       "\n",
       "    .dataframe tbody tr th {\n",
       "        vertical-align: top;\n",
       "    }\n",
       "\n",
       "    .dataframe thead th {\n",
       "        text-align: right;\n",
       "    }\n",
       "</style>\n",
       "<table border=\"1\" class=\"dataframe\">\n",
       "  <thead>\n",
       "    <tr style=\"text-align: right;\">\n",
       "      <th></th>\n",
       "      <th>pred</th>\n",
       "      <th>prob</th>\n",
       "      <th>real</th>\n",
       "      <th>text</th>\n",
       "    </tr>\n",
       "  </thead>\n",
       "  <tbody>\n",
       "    <tr>\n",
       "      <th>523</th>\n",
       "      <td>1.000000</td>\n",
       "      <td>1.000000</td>\n",
       "      <td>0</td>\n",
       "      <td>b\"This film has the language, the style and the attitude down ... plus greats rides from Occy (a world champ) and the great Je...</td>\n",
       "    </tr>\n",
       "    <tr>\n",
       "      <th>71</th>\n",
       "      <td>1.000000</td>\n",
       "      <td>0.999892</td>\n",
       "      <td>0</td>\n",
       "      <td>b'I went to see this 3 nights ago here in Cork, Ireland. It was the world premiere of it, in the tiny cinema in the Triskel Ar...</td>\n",
       "    </tr>\n",
       "    <tr>\n",
       "      <th>578</th>\n",
       "      <td>1.000000</td>\n",
       "      <td>0.999027</td>\n",
       "      <td>0</td>\n",
       "      <td>b'I think it is very interesting this movie is called a thriller. It is anything but thrilling.&lt;br /&gt;&lt;br /&gt;Most of the time yo...</td>\n",
       "    </tr>\n",
       "    <tr>\n",
       "      <th>182</th>\n",
       "      <td>1.000000</td>\n",
       "      <td>0.998880</td>\n",
       "      <td>0</td>\n",
       "      <td>b'There must be an error. This movie belongs with \"Plan 9\", and a lot others as a quite entertaining, silly diversion. You\\'ll...</td>\n",
       "    </tr>\n",
       "    <tr>\n",
       "      <th>641</th>\n",
       "      <td>1.000000</td>\n",
       "      <td>0.998126</td>\n",
       "      <td>0</td>\n",
       "      <td>b'Another of those flimsy stories coupled with most forgettable musical numbers. Powell and O\\'Keefe as battling publicists ar...</td>\n",
       "    </tr>\n",
       "  </tbody>\n",
       "</table>\n",
       "</div>"
      ],
      "text/plain": [
       "        pred     prob  real  \\\n",
       "523 1.000000 1.000000     0   \n",
       "71  1.000000 0.999892     0   \n",
       "578 1.000000 0.999027     0   \n",
       "182 1.000000 0.998880     0   \n",
       "641 1.000000 0.998126     0   \n",
       "\n",
       "                                                                                                                                  text  \n",
       "523  b\"This film has the language, the style and the attitude down ... plus greats rides from Occy (a world champ) and the great Je...  \n",
       "71   b'I went to see this 3 nights ago here in Cork, Ireland. It was the world premiere of it, in the tiny cinema in the Triskel Ar...  \n",
       "578  b'I think it is very interesting this movie is called a thriller. It is anything but thrilling.<br /><br />Most of the time yo...  \n",
       "182  b'There must be an error. This movie belongs with \"Plan 9\", and a lot others as a quite entertaining, silly diversion. You\\'ll...  \n",
       "641  b'Another of those flimsy stories coupled with most forgettable musical numbers. Powell and O\\'Keefe as battling publicists ar...  "
      ]
     },
     "metadata": {},
     "output_type": "display_data"
    },
    {
     "data": {
      "text/markdown": [
       "#### Classification report for keras"
      ]
     },
     "metadata": {},
     "output_type": "display_data"
    },
    {
     "name": "stdout",
     "output_type": "stream",
     "text": [
      "             precision    recall  f1-score   support\n",
      "\n",
      "   Negative       0.86      0.87      0.86       498\n",
      "   Positive       0.87      0.85      0.86       502\n",
      "\n",
      "avg / total       0.86      0.86      0.86      1000\n",
      "\n"
     ]
    },
    {
     "data": {
      "image/png": "[encoded data removed]",
      "text/plain": [
       "<matplotlib.figure.Figure at 0x7f99154d72b0>"
      ]
     },
     "metadata": {},
     "output_type": "display_data"
    }
   ],
   "source": [
    "check_model(X_test, y_test, model)"
   ]
  },
  {
   "cell_type": "code",
   "execution_count": null,
   "metadata": {},
   "outputs": [],
   "source": []
  }
 ],
 "metadata": {
  "kernelspec": {
   "display_name": "Python 3",
   "language": "python",
   "name": "python3"
  },
  "language_info": {
   "codemirror_mode": {
    "name": "ipython",
    "version": 3
   },
   "file_extension": ".py",
   "mimetype": "text/x-python",
   "name": "python",
   "nbconvert_exporter": "python",
   "pygments_lexer": "ipython3",
   "version": "3.5.2"
  }
 },
 "nbformat": 4,
 "nbformat_minor": 2
}
