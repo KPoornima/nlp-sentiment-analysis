{
 "cells": [
  {
   "cell_type": "code",
   "execution_count": 1,
   "metadata": {},
   "outputs": [],
   "source": [
    "%load_ext autoreload\n",
    "%autoreload 2"
   ]
  },
  {
   "cell_type": "code",
   "execution_count": 2,
   "metadata": {},
   "outputs": [
    {
     "name": "stderr",
     "output_type": "stream",
     "text": [
      "Using TensorFlow backend.\n"
     ]
    }
   ],
   "source": [
    "from shared.pipelines import get_keras_pipeline\n",
    "from shared.data import load_imdb"
   ]
  },
  {
   "cell_type": "code",
   "execution_count": 3,
   "metadata": {},
   "outputs": [],
   "source": [
    "import en_vectors_web_lg\n",
    "nlp = en_vectors_web_lg.load()"
   ]
  },
  {
   "cell_type": "code",
   "execution_count": 4,
   "metadata": {},
   "outputs": [],
   "source": [
    "MAX_WORDS_IN_SENTENCE = 200\n",
    "LIMIT = -1\n",
    "model_path = '../dist/models/imdb_{}.h5'.format(LIMIT if LIMIT > 0 else 'all')"
   ]
  },
  {
   "cell_type": "code",
   "execution_count": 5,
   "metadata": {},
   "outputs": [],
   "source": [
    "import matplotlib.pyplot as plt\n",
    "from keras import models\n",
    "\n",
    "\n",
    "def plot_training(history):\n",
    "    plt.plot(history.history['loss'], c='red')\n",
    "    \n",
    "\n",
    "def train_model(limit, max_words_in_sentence, **train_params): \n",
    "    train_params['validation_split'] = 0\n",
    "    X, y = load_imdb('../data/aclImdb/train', limit)\n",
    "    pipeline = get_keras_pipeline(nlp, max_words_in_sentence, **train_params).fit(X, y)\n",
    "    model_step = pipeline.steps[-1][1]\n",
    "    plot_training(model_step.history)\n",
    "    return model_step.model\n",
    "\n",
    "\n",
    "def load_or_train_model(model_path, limit, max_words_in_sentence, **train_params):\n",
    "    try:\n",
    "        print(\"Loading cached model...\")\n",
    "        return models.load_model(model_path)\n",
    "    except:\n",
    "        print(\"Unable to find cached model, training...\")\n",
    "        model = train_model(limit, max_words_in_sentence, **train_params)\n",
    "        models.save_model(model, model_path)\n",
    "        return model"
   ]
  },
  {
   "cell_type": "code",
   "execution_count": 11,
   "metadata": {},
   "outputs": [
    {
     "name": "stdout",
     "output_type": "stream",
     "text": [
      "Loading cached model...\n"
     ]
    }
   ],
   "source": [
    "model = load_or_train_model(\n",
    "    model_path, limit=LIMIT, epochs=50, \n",
    "    max_words_in_sentence=MAX_WORDS_IN_SENTENCE)\n",
    "pipeline = get_keras_pipeline(nlp, model=model, max_words_in_sentence=MAX_WORDS_IN_SENTENCE)"
   ]
  },
  {
   "cell_type": "code",
   "execution_count": 7,
   "metadata": {},
   "outputs": [
    {
     "name": "stdout",
     "output_type": "stream",
     "text": [
      "1000/1000 [==============================] - 0s 165us/step\n"
     ]
    },
    {
     "data": {
      "text/plain": [
       "0.80000000143051142"
      ]
     },
     "execution_count": 7,
     "metadata": {},
     "output_type": "execute_result"
    }
   ],
   "source": [
    "X, y = load_imdb('../data/aclImdb/test', limit=1000)\n",
    "pipeline.score(X, y)"
   ]
  },
  {
   "cell_type": "code",
   "execution_count": 10,
   "metadata": {},
   "outputs": [
    {
     "data": {
      "text/plain": [
       "array([[ 0.38960242,  0.61039758],\n",
       "       [ 0.38748628,  0.61251372]], dtype=float32)"
      ]
     },
     "execution_count": 10,
     "metadata": {},
     "output_type": "execute_result"
    }
   ],
   "source": [
    "import numpy as np\n",
    "\n",
    "pipeline.predict_proba(np.array([\n",
    "    \"That movie is realy good\",\n",
    "    \"I don't like it at all\",\n",
    "], dtype='object'))"
   ]
  },
  {
   "cell_type": "code",
   "execution_count": null,
   "metadata": {},
   "outputs": [],
   "source": []
  }
 ],
 "metadata": {
  "kernelspec": {
   "display_name": "Python 3",
   "language": "python",
   "name": "python3"
  },
  "language_info": {
   "codemirror_mode": {
    "name": "ipython",
    "version": 3
   },
   "file_extension": ".py",
   "mimetype": "text/x-python",
   "name": "python",
   "nbconvert_exporter": "python",
   "pygments_lexer": "ipython3",
   "version": "3.5.2"
  }
 },
 "nbformat": 4,
 "nbformat_minor": 2
}
