{
 "cells": [
  {
   "cell_type": "code",
   "execution_count": 1,
   "metadata": {},
   "outputs": [
    {
     "name": "stderr",
     "output_type": "stream",
     "text": [
      "Using TensorFlow backend.\n"
     ]
    }
   ],
   "source": [
    "%reload_ext autoreload\n",
    "%autoreload 2\n",
    "\n",
    "import numpy as np\n",
    "import en_vectors_web_lg\n",
    "from IPython.display import display_markdown\n",
    "from sklearn.model_selection import train_test_split\n",
    "\n",
    "from shared import models\n",
    "from shared.data import load_imdb\n",
    "from shared.models_store import Store\n",
    "from machine_learning.cache import get_preprocessed_data\n",
    "from machine_learning.plot_helpers import display_example_predictions, describe_data\n",
    "from machine_learning.evaluation import evaluate_and_report"
   ]
  },
  {
   "cell_type": "code",
   "execution_count": 2,
   "metadata": {},
   "outputs": [],
   "source": [
    "nlp = en_vectors_web_lg.load()"
   ]
  },
  {
   "cell_type": "code",
   "execution_count": 3,
   "metadata": {},
   "outputs": [],
   "source": [
    "MAX_WORDS_IN_SENTENCE = 300\n",
    "LIMIT = -1\n",
    "dataset_id = 'imdb_{}'.format(LIMIT if LIMIT > 0 else 'all')\n",
    "SAVE_IN_STORE = True"
   ]
  },
  {
   "cell_type": "code",
   "execution_count": 4,
   "metadata": {},
   "outputs": [
    {
     "name": "stdout",
     "output_type": "stream",
     "text": [
      "Loading training data...\n",
      "Loading test data...\n"
     ]
    }
   ],
   "source": [
    "print(\"Loading training data...\")\n",
    "X_train, y_train = load_imdb('../data/aclImdb/train', limit=LIMIT)\n",
    "\n",
    "print(\"Loading test data...\")\n",
    "# lower text count, because of memory problems when trying to load all\n",
    "test_limit = LIMIT if 0 <= LIMIT <= 1000 else 1000\n",
    "X_test, y_test = load_imdb('../data/aclImdb/test', limit=test_limit)"
   ]
  },
  {
   "cell_type": "code",
   "execution_count": 8,
   "metadata": {},
   "outputs": [
    {
     "data": {
      "text/markdown": [
       "### Data sample"
      ]
     },
     "metadata": {},
     "output_type": "display_data"
    },
    {
     "data": {
      "text/html": [
       "<div>\n",
       "<style scoped>\n",
       "    .dataframe tbody tr th:only-of-type {\n",
       "        vertical-align: middle;\n",
       "    }\n",
       "\n",
       "    .dataframe tbody tr th {\n",
       "        vertical-align: top;\n",
       "    }\n",
       "\n",
       "    .dataframe thead th {\n",
       "        text-align: right;\n",
       "    }\n",
       "</style>\n",
       "<table border=\"1\" class=\"dataframe\">\n",
       "  <thead>\n",
       "    <tr style=\"text-align: right;\">\n",
       "      <th></th>\n",
       "      <th>X</th>\n",
       "      <th>y</th>\n",
       "    </tr>\n",
       "  </thead>\n",
       "  <tbody>\n",
       "    <tr>\n",
       "      <th>0</th>\n",
       "      <td>b\"Dan Katzir has produced a wonderful film tha...</td>\n",
       "      <td>1</td>\n",
       "    </tr>\n",
       "    <tr>\n",
       "      <th>1</th>\n",
       "      <td>b'If you want Scream or anything like the big-...</td>\n",
       "      <td>1</td>\n",
       "    </tr>\n",
       "    <tr>\n",
       "      <th>2</th>\n",
       "      <td>b\"Outlandish premise that rates low on plausib...</td>\n",
       "      <td>0</td>\n",
       "    </tr>\n",
       "    <tr>\n",
       "      <th>3</th>\n",
       "      <td>b'Let\\'s face it-- if you rented a STDVD seque...</td>\n",
       "      <td>0</td>\n",
       "    </tr>\n",
       "    <tr>\n",
       "      <th>4</th>\n",
       "      <td>b'Bizarre Tobe Hooper exercise regarding an un...</td>\n",
       "      <td>0</td>\n",
       "    </tr>\n",
       "    <tr>\n",
       "      <th>5</th>\n",
       "      <td>b'Well, maybe the PC version of this game was ...</td>\n",
       "      <td>0</td>\n",
       "    </tr>\n",
       "    <tr>\n",
       "      <th>6</th>\n",
       "      <td>b'Watching \"Kroko\" I would have liked to leave...</td>\n",
       "      <td>0</td>\n",
       "    </tr>\n",
       "    <tr>\n",
       "      <th>7</th>\n",
       "      <td>b\"First of all, I have to start this comment b...</td>\n",
       "      <td>1</td>\n",
       "    </tr>\n",
       "    <tr>\n",
       "      <th>8</th>\n",
       "      <td>b\"Very much a film from the times -- extremely...</td>\n",
       "      <td>0</td>\n",
       "    </tr>\n",
       "    <tr>\n",
       "      <th>9</th>\n",
       "      <td>b'\"The Invisible Ray\" is part science fiction ...</td>\n",
       "      <td>1</td>\n",
       "    </tr>\n",
       "  </tbody>\n",
       "</table>\n",
       "</div>"
      ],
      "text/plain": [
       "                                                   X  y\n",
       "0  b\"Dan Katzir has produced a wonderful film tha...  1\n",
       "1  b'If you want Scream or anything like the big-...  1\n",
       "2  b\"Outlandish premise that rates low on plausib...  0\n",
       "3  b'Let\\'s face it-- if you rented a STDVD seque...  0\n",
       "4  b'Bizarre Tobe Hooper exercise regarding an un...  0\n",
       "5  b'Well, maybe the PC version of this game was ...  0\n",
       "6  b'Watching \"Kroko\" I would have liked to leave...  0\n",
       "7  b\"First of all, I have to start this comment b...  1\n",
       "8  b\"Very much a film from the times -- extremely...  0\n",
       "9  b'\"The Invisible Ray\" is part science fiction ...  1"
      ]
     },
     "metadata": {},
     "output_type": "display_data"
    },
    {
     "data": {
      "text/markdown": [
       "#### Text stats"
      ]
     },
     "metadata": {},
     "output_type": "display_data"
    },
    {
     "data": {
      "text/plain": [
       "count                                                 25000\n",
       "unique                                                24904\n",
       "top       b\"When i got this movie free from my job, alon...\n",
       "freq                                                      3\n",
       "Name: X, dtype: object"
      ]
     },
     "metadata": {},
     "output_type": "display_data"
    },
    {
     "data": {
      "text/markdown": [
       "#### Words length stats"
      ]
     },
     "metadata": {},
     "output_type": "display_data"
    },
    {
     "data": {
      "text/plain": [
       "count    25000.000000\n",
       "mean       233.776720\n",
       "std        173.715418\n",
       "min         10.000000\n",
       "25%        127.000000\n",
       "50%        174.000000\n",
       "75%        284.000000\n",
       "max       2470.000000\n",
       "Name: X, dtype: float64"
      ]
     },
     "metadata": {},
     "output_type": "display_data"
    },
    {
     "data": {
      "text/markdown": [
       "#### Labels stats"
      ]
     },
     "metadata": {},
     "output_type": "display_data"
    },
    {
     "data": {
      "text/plain": [
       "count    25000.00000\n",
       "mean         0.50000\n",
       "std          0.50001\n",
       "min          0.00000\n",
       "25%          0.00000\n",
       "50%          0.50000\n",
       "75%          1.00000\n",
       "max          1.00000\n",
       "Name: y, dtype: float64"
      ]
     },
     "metadata": {},
     "output_type": "display_data"
    },
    {
     "data": {
      "text/markdown": [
       "#### Labels counts"
      ]
     },
     "metadata": {},
     "output_type": "display_data"
    },
    {
     "data": {
      "text/plain": [
       "1    12500\n",
       "0    12500\n",
       "Name: y, dtype: int64"
      ]
     },
     "metadata": {},
     "output_type": "display_data"
    },
    {
     "data": {
      "text/plain": [
       "1    0.5\n",
       "0    0.5\n",
       "Name: y, dtype: float64"
      ]
     },
     "metadata": {},
     "output_type": "display_data"
    },
    {
     "data": {
      "text/markdown": [
       "### Train count: 25000"
      ]
     },
     "metadata": {},
     "output_type": "display_data"
    },
    {
     "data": {
      "text/markdown": [
       "### Test count:  1000"
      ]
     },
     "metadata": {},
     "output_type": "display_data"
    }
   ],
   "source": [
    "describe_data(X_train, y_train)\n",
    "\n",
    "display_markdown('### Train count: {}'.format(len(X_train)), raw=True)\n",
    "display_markdown('### Test count:  {}'.format(len(X_test)), raw=True)"
   ]
  },
  {
   "cell_type": "code",
   "execution_count": 5,
   "metadata": {
    "scrolled": false
   },
   "outputs": [],
   "source": [
    "# helper for saving models for reuse in web application\n",
    "store = Store(nlp, '../dist/store.json')\n",
    "input_samples = [\n",
    "    \"This movie is, in my opinion, very worth watching!\",\n",
    "    \"I kinda liked that movie. Maybe it's not as good as other, but still watchable\",\n",
    "    \"I have to warn everybody, this movie is really bad. Actors don't know how to play. It su!*!\",\n",
    "]\n",
    "\n",
    "def train_model_and_display_results(model, X=X_train, y=y_train, **train_params):\n",
    "    display_markdown('## {}'.format(model.__class__.__name__), raw=True)\n",
    "    display_markdown('#### Training', raw=True)\n",
    "    model.load_or_train(X, y, **train_params)\n",
    "\n",
    "    display_markdown(\"#### Overview of created model\", raw=True)\n",
    "    display(model.summary())\n",
    "\n",
    "    display_markdown('#### Model results', raw=True)\n",
    "    display_example_predictions(model, input_samples)\n",
    "    return evaluate_and_report(model, X_test, y_test)"
   ]
  },
  {
   "cell_type": "code",
   "execution_count": 7,
   "metadata": {},
   "outputs": [
    {
     "name": "stdout",
     "output_type": "stream",
     "text": [
      "Loading cached data...\n",
      "Loaded data from 'kerasmodel_imdb_all.h5'\n"
     ]
    },
    {
     "data": {
      "text/markdown": [
       "## KerasModel"
      ]
     },
     "metadata": {},
     "output_type": "display_data"
    },
    {
     "data": {
      "text/markdown": [
       "#### Training"
      ]
     },
     "metadata": {},
     "output_type": "display_data"
    },
    {
     "name": "stdout",
     "output_type": "stream",
     "text": [
      "Loading model...\n",
      "Model 'keras_imdb_all_999bd479.h5' loaded\n"
     ]
    },
    {
     "data": {
      "text/markdown": [
       "#### Overview of created model"
      ]
     },
     "metadata": {},
     "output_type": "display_data"
    },
    {
     "name": "stdout",
     "output_type": "stream",
     "text": [
      "_________________________________________________________________\n",
      "Layer (type)                 Output Shape              Param #   \n",
      "=================================================================\n",
      "conv1d_1 (Conv1D)            (None, 296, 32)           48032     \n",
      "_________________________________________________________________\n",
      "max_pooling1d_1 (MaxPooling1 (None, 59, 32)            0         \n",
      "_________________________________________________________________\n",
      "batch_normalization_1 (Batch (None, 59, 32)            128       \n",
      "_________________________________________________________________\n",
      "conv1d_2 (Conv1D)            (None, 55, 64)            10304     \n",
      "_________________________________________________________________\n",
      "global_max_pooling1d_1 (Glob (None, 64)                0         \n",
      "_________________________________________________________________\n",
      "batch_normalization_2 (Batch (None, 64)                256       \n",
      "_________________________________________________________________\n",
      "dropout_1 (Dropout)          (None, 64)                0         \n",
      "_________________________________________________________________\n",
      "dense_1 (Dense)              (None, 1)                 65        \n",
      "=================================================================\n",
      "Total params: 58,785\n",
      "Trainable params: 58,593\n",
      "Non-trainable params: 192\n",
      "_________________________________________________________________\n"
     ]
    },
    {
     "data": {
      "text/plain": [
       "None"
      ]
     },
     "metadata": {},
     "output_type": "display_data"
    },
    {
     "data": {
      "text/markdown": [
       "#### Model results"
      ]
     },
     "metadata": {},
     "output_type": "display_data"
    },
    {
     "data": {
      "text/markdown": [
       "#### Predicted scores"
      ]
     },
     "metadata": {},
     "output_type": "display_data"
    },
    {
     "data": {
      "text/html": [
       "<div>\n",
       "<style scoped>\n",
       "    .dataframe tbody tr th:only-of-type {\n",
       "        vertical-align: middle;\n",
       "    }\n",
       "\n",
       "    .dataframe tbody tr th {\n",
       "        vertical-align: top;\n",
       "    }\n",
       "\n",
       "    .dataframe thead th {\n",
       "        text-align: right;\n",
       "    }\n",
       "</style>\n",
       "<table border=\"1\" class=\"dataframe\">\n",
       "  <thead>\n",
       "    <tr style=\"text-align: right;\">\n",
       "      <th></th>\n",
       "      <th>score</th>\n",
       "      <th>text</th>\n",
       "    </tr>\n",
       "  </thead>\n",
       "  <tbody>\n",
       "    <tr>\n",
       "      <th>0</th>\n",
       "      <td>0.958829</td>\n",
       "      <td>This movie is, in my opinion, very worth watching!</td>\n",
       "    </tr>\n",
       "    <tr>\n",
       "      <th>1</th>\n",
       "      <td>0.786654</td>\n",
       "      <td>I kinda liked that movie. Maybe it's not as good as other, but still watchable</td>\n",
       "    </tr>\n",
       "    <tr>\n",
       "      <th>2</th>\n",
       "      <td>0.001080</td>\n",
       "      <td>I have to warn everybody, this movie is really bad. Actors don't know how to play. It su!*!</td>\n",
       "    </tr>\n",
       "  </tbody>\n",
       "</table>\n",
       "</div>"
      ],
      "text/plain": [
       "      score  \\\n",
       "0  0.958829   \n",
       "1  0.786654   \n",
       "2  0.001080   \n",
       "\n",
       "                                                                                          text  \n",
       "0  This movie is, in my opinion, very worth watching!                                           \n",
       "1  I kinda liked that movie. Maybe it's not as good as other, but still watchable               \n",
       "2  I have to warn everybody, this movie is really bad. Actors don't know how to play. It su!*!  "
      ]
     },
     "metadata": {},
     "output_type": "display_data"
    },
    {
     "data": {
      "text/markdown": [
       "#### Highest 5"
      ]
     },
     "metadata": {},
     "output_type": "display_data"
    },
    {
     "data": {
      "text/html": [
       "<div>\n",
       "<style scoped>\n",
       "    .dataframe tbody tr th:only-of-type {\n",
       "        vertical-align: middle;\n",
       "    }\n",
       "\n",
       "    .dataframe tbody tr th {\n",
       "        vertical-align: top;\n",
       "    }\n",
       "\n",
       "    .dataframe thead th {\n",
       "        text-align: right;\n",
       "    }\n",
       "</style>\n",
       "<table border=\"1\" class=\"dataframe\">\n",
       "  <thead>\n",
       "    <tr style=\"text-align: right;\">\n",
       "      <th></th>\n",
       "      <th>pred</th>\n",
       "      <th>prob</th>\n",
       "      <th>real</th>\n",
       "      <th>text</th>\n",
       "    </tr>\n",
       "  </thead>\n",
       "  <tbody>\n",
       "    <tr>\n",
       "      <th>2</th>\n",
       "      <td>1.000000</td>\n",
       "      <td>1.000000</td>\n",
       "      <td>1</td>\n",
       "      <td>b\"I caught this movie on the Horror Channel and was quite impressed by the film's Gothic atmosphere and tone. As a big fan of ...</td>\n",
       "    </tr>\n",
       "    <tr>\n",
       "      <th>21</th>\n",
       "      <td>1.000000</td>\n",
       "      <td>1.000000</td>\n",
       "      <td>1</td>\n",
       "      <td>b'Big Fat Liar is a great watch for kids of all ages, even adults. I had a great time watching this movie and recommend this t...</td>\n",
       "    </tr>\n",
       "    <tr>\n",
       "      <th>28</th>\n",
       "      <td>1.000000</td>\n",
       "      <td>1.000000</td>\n",
       "      <td>1</td>\n",
       "      <td>b\"This is a very modest, very lovely movie with a great score by Hoagy Carmichael and Frank Loesser with a standout number, We...</td>\n",
       "    </tr>\n",
       "    <tr>\n",
       "      <th>40</th>\n",
       "      <td>1.000000</td>\n",
       "      <td>1.000000</td>\n",
       "      <td>1</td>\n",
       "      <td>b'This is my favourite kung fu movie. It has a very authentic flavour, seasoned by an eerie music score (of tradition chinese ...</td>\n",
       "    </tr>\n",
       "    <tr>\n",
       "      <th>42</th>\n",
       "      <td>1.000000</td>\n",
       "      <td>1.000000</td>\n",
       "      <td>1</td>\n",
       "      <td>b\"I just finished watching the movie tonight and I truly loved it. John Denver didn't play a pastor, but it was the reverend o...</td>\n",
       "    </tr>\n",
       "  </tbody>\n",
       "</table>\n",
       "</div>"
      ],
      "text/plain": [
       "       pred     prob  real  \\\n",
       "2  1.000000 1.000000     1   \n",
       "21 1.000000 1.000000     1   \n",
       "28 1.000000 1.000000     1   \n",
       "40 1.000000 1.000000     1   \n",
       "42 1.000000 1.000000     1   \n",
       "\n",
       "                                                                                                                                 text  \n",
       "2   b\"I caught this movie on the Horror Channel and was quite impressed by the film's Gothic atmosphere and tone. As a big fan of ...  \n",
       "21  b'Big Fat Liar is a great watch for kids of all ages, even adults. I had a great time watching this movie and recommend this t...  \n",
       "28  b\"This is a very modest, very lovely movie with a great score by Hoagy Carmichael and Frank Loesser with a standout number, We...  \n",
       "40  b'This is my favourite kung fu movie. It has a very authentic flavour, seasoned by an eerie music score (of tradition chinese ...  \n",
       "42  b\"I just finished watching the movie tonight and I truly loved it. John Denver didn't play a pastor, but it was the reverend o...  "
      ]
     },
     "metadata": {},
     "output_type": "display_data"
    },
    {
     "data": {
      "text/markdown": [
       "#### Lowest 5"
      ]
     },
     "metadata": {},
     "output_type": "display_data"
    },
    {
     "data": {
      "text/html": [
       "<div>\n",
       "<style scoped>\n",
       "    .dataframe tbody tr th:only-of-type {\n",
       "        vertical-align: middle;\n",
       "    }\n",
       "\n",
       "    .dataframe tbody tr th {\n",
       "        vertical-align: top;\n",
       "    }\n",
       "\n",
       "    .dataframe thead th {\n",
       "        text-align: right;\n",
       "    }\n",
       "</style>\n",
       "<table border=\"1\" class=\"dataframe\">\n",
       "  <thead>\n",
       "    <tr style=\"text-align: right;\">\n",
       "      <th></th>\n",
       "      <th>pred</th>\n",
       "      <th>prob</th>\n",
       "      <th>real</th>\n",
       "      <th>text</th>\n",
       "    </tr>\n",
       "  </thead>\n",
       "  <tbody>\n",
       "    <tr>\n",
       "      <th>934</th>\n",
       "      <td>0.000000</td>\n",
       "      <td>0.000000</td>\n",
       "      <td>0</td>\n",
       "      <td>b'There is an endless supply of trashy horror movies. It seems that people never get tired of trying to scare and thrill. Alas...</td>\n",
       "    </tr>\n",
       "    <tr>\n",
       "      <th>679</th>\n",
       "      <td>0.000000</td>\n",
       "      <td>0.000000</td>\n",
       "      <td>0</td>\n",
       "      <td>b'\"Beowulf\" is like a very bad game : no characters, no story, no real dialogues, bad fights ... It\\'s probably the worst movi...</td>\n",
       "    </tr>\n",
       "    <tr>\n",
       "      <th>305</th>\n",
       "      <td>0.000000</td>\n",
       "      <td>0.000000</td>\n",
       "      <td>0</td>\n",
       "      <td>b\"Dorothy Stratten is the only reason to watch this unfunny sci-fi spoof, and her appearance is a disappointment. Though she h...</td>\n",
       "    </tr>\n",
       "    <tr>\n",
       "      <th>337</th>\n",
       "      <td>0.000000</td>\n",
       "      <td>0.000000</td>\n",
       "      <td>0</td>\n",
       "      <td>b\"A waste of time, talent and shelf space, this is a truly abysmal film. What are big leaguers like Keanu Reeves, Cameron Diaz...</td>\n",
       "    </tr>\n",
       "    <tr>\n",
       "      <th>38</th>\n",
       "      <td>0.000000</td>\n",
       "      <td>0.000000</td>\n",
       "      <td>0</td>\n",
       "      <td>b'What an utter disappointment. Forget this abysmal film and get hold of the TV series instead. What on earth were they doing ...</td>\n",
       "    </tr>\n",
       "  </tbody>\n",
       "</table>\n",
       "</div>"
      ],
      "text/plain": [
       "        pred     prob  real  \\\n",
       "934 0.000000 0.000000     0   \n",
       "679 0.000000 0.000000     0   \n",
       "305 0.000000 0.000000     0   \n",
       "337 0.000000 0.000000     0   \n",
       "38  0.000000 0.000000     0   \n",
       "\n",
       "                                                                                                                                  text  \n",
       "934  b'There is an endless supply of trashy horror movies. It seems that people never get tired of trying to scare and thrill. Alas...  \n",
       "679  b'\"Beowulf\" is like a very bad game : no characters, no story, no real dialogues, bad fights ... It\\'s probably the worst movi...  \n",
       "305  b\"Dorothy Stratten is the only reason to watch this unfunny sci-fi spoof, and her appearance is a disappointment. Though she h...  \n",
       "337  b\"A waste of time, talent and shelf space, this is a truly abysmal film. What are big leaguers like Keanu Reeves, Cameron Diaz...  \n",
       "38   b'What an utter disappointment. Forget this abysmal film and get hold of the TV series instead. What on earth were they doing ...  "
      ]
     },
     "metadata": {},
     "output_type": "display_data"
    },
    {
     "data": {
      "text/markdown": [
       "#### Highest 5 mispredicted"
      ]
     },
     "metadata": {},
     "output_type": "display_data"
    },
    {
     "data": {
      "text/html": [
       "<div>\n",
       "<style scoped>\n",
       "    .dataframe tbody tr th:only-of-type {\n",
       "        vertical-align: middle;\n",
       "    }\n",
       "\n",
       "    .dataframe tbody tr th {\n",
       "        vertical-align: top;\n",
       "    }\n",
       "\n",
       "    .dataframe thead th {\n",
       "        text-align: right;\n",
       "    }\n",
       "</style>\n",
       "<table border=\"1\" class=\"dataframe\">\n",
       "  <thead>\n",
       "    <tr style=\"text-align: right;\">\n",
       "      <th></th>\n",
       "      <th>pred</th>\n",
       "      <th>prob</th>\n",
       "      <th>real</th>\n",
       "      <th>text</th>\n",
       "    </tr>\n",
       "  </thead>\n",
       "  <tbody>\n",
       "    <tr>\n",
       "      <th>523</th>\n",
       "      <td>1.000000</td>\n",
       "      <td>1.000000</td>\n",
       "      <td>0</td>\n",
       "      <td>b\"This film has the language, the style and the attitude down ... plus greats rides from Occy (a world champ) and the great Je...</td>\n",
       "    </tr>\n",
       "    <tr>\n",
       "      <th>71</th>\n",
       "      <td>1.000000</td>\n",
       "      <td>1.000000</td>\n",
       "      <td>0</td>\n",
       "      <td>b'I went to see this 3 nights ago here in Cork, Ireland. It was the world premiere of it, in the tiny cinema in the Triskel Ar...</td>\n",
       "    </tr>\n",
       "    <tr>\n",
       "      <th>978</th>\n",
       "      <td>1.000000</td>\n",
       "      <td>0.999997</td>\n",
       "      <td>0</td>\n",
       "      <td>b\"It beats me how anyone can rate this film very highly. It is no understatement to call it far fetched. How the guy managed i...</td>\n",
       "    </tr>\n",
       "    <tr>\n",
       "      <th>517</th>\n",
       "      <td>1.000000</td>\n",
       "      <td>0.999984</td>\n",
       "      <td>0</td>\n",
       "      <td>b\"Interesting and short television movie describes some of the machinations surrounding Jay Leno's replacing Carson as host of...</td>\n",
       "    </tr>\n",
       "    <tr>\n",
       "      <th>954</th>\n",
       "      <td>1.000000</td>\n",
       "      <td>0.999980</td>\n",
       "      <td>0</td>\n",
       "      <td>b'Uninspired, pretty much all around. The only exceptions were a couple emotional scenes with Keena (Violet), with whose perfo...</td>\n",
       "    </tr>\n",
       "  </tbody>\n",
       "</table>\n",
       "</div>"
      ],
      "text/plain": [
       "        pred     prob  real  \\\n",
       "523 1.000000 1.000000     0   \n",
       "71  1.000000 1.000000     0   \n",
       "978 1.000000 0.999997     0   \n",
       "517 1.000000 0.999984     0   \n",
       "954 1.000000 0.999980     0   \n",
       "\n",
       "                                                                                                                                  text  \n",
       "523  b\"This film has the language, the style and the attitude down ... plus greats rides from Occy (a world champ) and the great Je...  \n",
       "71   b'I went to see this 3 nights ago here in Cork, Ireland. It was the world premiere of it, in the tiny cinema in the Triskel Ar...  \n",
       "978  b\"It beats me how anyone can rate this film very highly. It is no understatement to call it far fetched. How the guy managed i...  \n",
       "517  b\"Interesting and short television movie describes some of the machinations surrounding Jay Leno's replacing Carson as host of...  \n",
       "954  b'Uninspired, pretty much all around. The only exceptions were a couple emotional scenes with Keena (Violet), with whose perfo...  "
      ]
     },
     "metadata": {},
     "output_type": "display_data"
    },
    {
     "data": {
      "text/markdown": [
       "#### Lowest 5 mispredicted"
      ]
     },
     "metadata": {},
     "output_type": "display_data"
    },
    {
     "data": {
      "text/html": [
       "<div>\n",
       "<style scoped>\n",
       "    .dataframe tbody tr th:only-of-type {\n",
       "        vertical-align: middle;\n",
       "    }\n",
       "\n",
       "    .dataframe tbody tr th {\n",
       "        vertical-align: top;\n",
       "    }\n",
       "\n",
       "    .dataframe thead th {\n",
       "        text-align: right;\n",
       "    }\n",
       "</style>\n",
       "<table border=\"1\" class=\"dataframe\">\n",
       "  <thead>\n",
       "    <tr style=\"text-align: right;\">\n",
       "      <th></th>\n",
       "      <th>pred</th>\n",
       "      <th>prob</th>\n",
       "      <th>real</th>\n",
       "      <th>text</th>\n",
       "    </tr>\n",
       "  </thead>\n",
       "  <tbody>\n",
       "    <tr>\n",
       "      <th>821</th>\n",
       "      <td>0.000000</td>\n",
       "      <td>0.000194</td>\n",
       "      <td>1</td>\n",
       "      <td>b'Sam Firstenberg\\'s \"Ninja 3:The Domination\" mixes martial arts with \"The Exorcist\" like horror.The horror elements thrown on...</td>\n",
       "    </tr>\n",
       "    <tr>\n",
       "      <th>649</th>\n",
       "      <td>0.000000</td>\n",
       "      <td>0.006571</td>\n",
       "      <td>1</td>\n",
       "      <td>b\"Overall, I enjoyed the movie Scarlett. I am a huge fan of Gone with the Wind. I have read the book and seen the classic movi...</td>\n",
       "    </tr>\n",
       "    <tr>\n",
       "      <th>244</th>\n",
       "      <td>0.000000</td>\n",
       "      <td>0.022926</td>\n",
       "      <td>1</td>\n",
       "      <td>b\"If a joke doesn't offend anybody, it isn't funny.&lt;br /&gt;&lt;br /&gt;The Inki cartoons are offensive, no doubt about it. So is rap m...</td>\n",
       "    </tr>\n",
       "    <tr>\n",
       "      <th>549</th>\n",
       "      <td>0.000000</td>\n",
       "      <td>0.031159</td>\n",
       "      <td>1</td>\n",
       "      <td>b'Where do I start. Do I say how great the cinematography is. Do I praise certain scenes which show the directors creativity. ...</td>\n",
       "    </tr>\n",
       "    <tr>\n",
       "      <th>194</th>\n",
       "      <td>0.000000</td>\n",
       "      <td>0.111465</td>\n",
       "      <td>1</td>\n",
       "      <td>b'You got to love this movie! I mean, what other Swedish splatter movie could be so evil, bizarre and totally cruel...The whol...</td>\n",
       "    </tr>\n",
       "  </tbody>\n",
       "</table>\n",
       "</div>"
      ],
      "text/plain": [
       "        pred     prob  real  \\\n",
       "821 0.000000 0.000194     1   \n",
       "649 0.000000 0.006571     1   \n",
       "244 0.000000 0.022926     1   \n",
       "549 0.000000 0.031159     1   \n",
       "194 0.000000 0.111465     1   \n",
       "\n",
       "                                                                                                                                  text  \n",
       "821  b'Sam Firstenberg\\'s \"Ninja 3:The Domination\" mixes martial arts with \"The Exorcist\" like horror.The horror elements thrown on...  \n",
       "649  b\"Overall, I enjoyed the movie Scarlett. I am a huge fan of Gone with the Wind. I have read the book and seen the classic movi...  \n",
       "244  b\"If a joke doesn't offend anybody, it isn't funny.<br /><br />The Inki cartoons are offensive, no doubt about it. So is rap m...  \n",
       "549  b'Where do I start. Do I say how great the cinematography is. Do I praise certain scenes which show the directors creativity. ...  \n",
       "194  b'You got to love this movie! I mean, what other Swedish splatter movie could be so evil, bizarre and totally cruel...The whol...  "
      ]
     },
     "metadata": {},
     "output_type": "display_data"
    },
    {
     "data": {
      "text/markdown": [
       "#### Classification report for keras"
      ]
     },
     "metadata": {},
     "output_type": "display_data"
    },
    {
     "name": "stdout",
     "output_type": "stream",
     "text": [
      "             precision    recall  f1-score   support\n",
      "\n",
      "   Negative       0.94      0.58      0.72       498\n",
      "   Positive       0.70      0.96      0.81       502\n",
      "\n",
      "avg / total       0.82      0.78      0.77      1000\n",
      "\n"
     ]
    },
    {
     "data": {
      "image/png": "[encoded data removed]",
      "text/plain": [
       "<matplotlib.figure.Figure at 0x7f2c3c7b15f8>"
      ]
     },
     "metadata": {},
     "output_type": "display_data"
    }
   ],
   "source": [
    "keras_model = models.KerasModel(\n",
    "    nlp, \n",
    "    dataset_id, \n",
    "    max_words_in_sentence=MAX_WORDS_IN_SENTENCE, \n",
    "    epochs=50)\n",
    "\n",
    "X_keras_preprocessed = get_preprocessed_data(keras_model, dataset_id, X_train)\n",
    "\n",
    "accuracy = train_model_and_display_results(keras_model, X_keras_preprocessed, preprocessed=True)\n",
    "\n",
    "if SAVE_IN_STORE:\n",
    "    store.add_model(keras_model, \"conv1d_imdb\", \"IMDB Conv1d\", metadata={\n",
    "        'Dataset': 'Internet Movie Database',\n",
    "        'Training samples': len(X_train),\n",
    "        'Accuracy': accuracy,\n",
    "        'Description': \"1D Convolutional network defined using Keras and trained on a publicly-available dataset\"\n",
    "    })\n",
    "\n",
    "# we need memory for further processing\n",
    "del X_keras_preprocessed"
   ]
  },
  {
   "cell_type": "code",
   "execution_count": 8,
   "metadata": {},
   "outputs": [
    {
     "name": "stdout",
     "output_type": "stream",
     "text": [
      "Loading cached data...\n",
      "Unable to load data, preprocessing...\n",
      "Preprocessed and saved to 'sklearnmodel_imdb_all.h5'\n"
     ]
    }
   ],
   "source": [
    "# preprocessed data for all sklearn-based models\n",
    "\n",
    "model = models.SklearnModel(nlp, dataset_id)\n",
    "X_sklearn_preprocessed = get_preprocessed_data(model, dataset_id, X_train)"
   ]
  },
  {
   "cell_type": "code",
   "execution_count": 9,
   "metadata": {},
   "outputs": [
    {
     "data": {
      "text/markdown": [
       "## SVCModel"
      ]
     },
     "metadata": {},
     "output_type": "display_data"
    },
    {
     "data": {
      "text/markdown": [
       "#### Training"
      ]
     },
     "metadata": {},
     "output_type": "display_data"
    },
    {
     "name": "stdout",
     "output_type": "stream",
     "text": [
      "Loading model...\n",
      "Unable to load model, training...\n"
     ]
    },
    {
     "name": "stderr",
     "output_type": "stream",
     "text": [
      "/usr/local/lib/python3.5/dist-packages/sklearn/utils/validation.py:578: DataConversionWarning: A column-vector y was passed when a 1d array was expected. Please change the shape of y to (n_samples, ), for example using ravel().\n",
      "  y = column_or_1d(y, warn=True)\n"
     ]
    },
    {
     "name": "stdout",
     "output_type": "stream",
     "text": [
      "Model 'svc_imdb_all_80e28a4f.pkl' saved\n"
     ]
    },
    {
     "data": {
      "text/markdown": [
       "#### Overview of created model"
      ]
     },
     "metadata": {},
     "output_type": "display_data"
    },
    {
     "data": {
      "text/plain": [
       "SVC(C=0.025, cache_size=200, class_weight=None, coef0=0.0,\n",
       "  decision_function_shape='ovr', degree=3, gamma='auto', kernel='linear',\n",
       "  max_iter=-1, probability=True, random_state=None, shrinking=True,\n",
       "  tol=0.001, verbose=False)"
      ]
     },
     "metadata": {},
     "output_type": "display_data"
    },
    {
     "data": {
      "text/markdown": [
       "#### Model results"
      ]
     },
     "metadata": {},
     "output_type": "display_data"
    },
    {
     "data": {
      "text/markdown": [
       "#### Predicted scores"
      ]
     },
     "metadata": {},
     "output_type": "display_data"
    },
    {
     "data": {
      "text/html": [
       "<div>\n",
       "<style scoped>\n",
       "    .dataframe tbody tr th:only-of-type {\n",
       "        vertical-align: middle;\n",
       "    }\n",
       "\n",
       "    .dataframe tbody tr th {\n",
       "        vertical-align: top;\n",
       "    }\n",
       "\n",
       "    .dataframe thead th {\n",
       "        text-align: right;\n",
       "    }\n",
       "</style>\n",
       "<table border=\"1\" class=\"dataframe\">\n",
       "  <thead>\n",
       "    <tr style=\"text-align: right;\">\n",
       "      <th></th>\n",
       "      <th>score</th>\n",
       "      <th>text</th>\n",
       "    </tr>\n",
       "  </thead>\n",
       "  <tbody>\n",
       "    <tr>\n",
       "      <th>0</th>\n",
       "      <td>0.988949</td>\n",
       "      <td>This movie is, in my opinion, very worth watching!</td>\n",
       "    </tr>\n",
       "    <tr>\n",
       "      <th>1</th>\n",
       "      <td>0.044466</td>\n",
       "      <td>I kinda liked that movie. Maybe it's not as good as other, but still watchable</td>\n",
       "    </tr>\n",
       "    <tr>\n",
       "      <th>2</th>\n",
       "      <td>0.060011</td>\n",
       "      <td>I have to warn everybody, this movie is really bad. Actors don't know how to play. It su!*!</td>\n",
       "    </tr>\n",
       "  </tbody>\n",
       "</table>\n",
       "</div>"
      ],
      "text/plain": [
       "      score  \\\n",
       "0  0.988949   \n",
       "1  0.044466   \n",
       "2  0.060011   \n",
       "\n",
       "                                                                                          text  \n",
       "0  This movie is, in my opinion, very worth watching!                                           \n",
       "1  I kinda liked that movie. Maybe it's not as good as other, but still watchable               \n",
       "2  I have to warn everybody, this movie is really bad. Actors don't know how to play. It su!*!  "
      ]
     },
     "metadata": {},
     "output_type": "display_data"
    },
    {
     "data": {
      "text/markdown": [
       "#### Highest 5"
      ]
     },
     "metadata": {},
     "output_type": "display_data"
    },
    {
     "data": {
      "text/html": [
       "<div>\n",
       "<style scoped>\n",
       "    .dataframe tbody tr th:only-of-type {\n",
       "        vertical-align: middle;\n",
       "    }\n",
       "\n",
       "    .dataframe tbody tr th {\n",
       "        vertical-align: top;\n",
       "    }\n",
       "\n",
       "    .dataframe thead th {\n",
       "        text-align: right;\n",
       "    }\n",
       "</style>\n",
       "<table border=\"1\" class=\"dataframe\">\n",
       "  <thead>\n",
       "    <tr style=\"text-align: right;\">\n",
       "      <th></th>\n",
       "      <th>pred</th>\n",
       "      <th>prob</th>\n",
       "      <th>real</th>\n",
       "      <th>text</th>\n",
       "    </tr>\n",
       "  </thead>\n",
       "  <tbody>\n",
       "    <tr>\n",
       "      <th>75</th>\n",
       "      <td>1.000000</td>\n",
       "      <td>1.000000</td>\n",
       "      <td>1</td>\n",
       "      <td>b'For those that are great fans and collectors of dinosaurs like I am, it is not only a very informative series but also puts ...</td>\n",
       "    </tr>\n",
       "    <tr>\n",
       "      <th>284</th>\n",
       "      <td>1.000000</td>\n",
       "      <td>1.000000</td>\n",
       "      <td>1</td>\n",
       "      <td>b'When you want to celebrate life and love, especially for precious little daughters, you have to shout it from the countrysid...</td>\n",
       "    </tr>\n",
       "    <tr>\n",
       "      <th>877</th>\n",
       "      <td>1.000000</td>\n",
       "      <td>1.000000</td>\n",
       "      <td>1</td>\n",
       "      <td>b'Otto Preminger\\'s \"Porgy and Bess\" stands, to date, as a great American musical. I believe it is time bring this film out on...</td>\n",
       "    </tr>\n",
       "    <tr>\n",
       "      <th>982</th>\n",
       "      <td>1.000000</td>\n",
       "      <td>0.999998</td>\n",
       "      <td>1</td>\n",
       "      <td>b\"This a wonderful sequel to the award winning Lonesome Dove miniseries in the 1980's. This sequel is perhaps, better than the...</td>\n",
       "    </tr>\n",
       "    <tr>\n",
       "      <th>262</th>\n",
       "      <td>1.000000</td>\n",
       "      <td>0.999997</td>\n",
       "      <td>1</td>\n",
       "      <td>b'In \"Lassie Come Home,\" \"National Velvet,\" and \"The Courage of Lassie,\" Elizabeth Taylor was eleven years old \\xc2\\x85 Nevert...</td>\n",
       "    </tr>\n",
       "  </tbody>\n",
       "</table>\n",
       "</div>"
      ],
      "text/plain": [
       "        pred     prob  real  \\\n",
       "75  1.000000 1.000000     1   \n",
       "284 1.000000 1.000000     1   \n",
       "877 1.000000 1.000000     1   \n",
       "982 1.000000 0.999998     1   \n",
       "262 1.000000 0.999997     1   \n",
       "\n",
       "                                                                                                                                  text  \n",
       "75   b'For those that are great fans and collectors of dinosaurs like I am, it is not only a very informative series but also puts ...  \n",
       "284  b'When you want to celebrate life and love, especially for precious little daughters, you have to shout it from the countrysid...  \n",
       "877  b'Otto Preminger\\'s \"Porgy and Bess\" stands, to date, as a great American musical. I believe it is time bring this film out on...  \n",
       "982  b\"This a wonderful sequel to the award winning Lonesome Dove miniseries in the 1980's. This sequel is perhaps, better than the...  \n",
       "262  b'In \"Lassie Come Home,\" \"National Velvet,\" and \"The Courage of Lassie,\" Elizabeth Taylor was eleven years old \\xc2\\x85 Nevert...  "
      ]
     },
     "metadata": {},
     "output_type": "display_data"
    },
    {
     "data": {
      "text/markdown": [
       "#### Lowest 5"
      ]
     },
     "metadata": {},
     "output_type": "display_data"
    },
    {
     "data": {
      "text/html": [
       "<div>\n",
       "<style scoped>\n",
       "    .dataframe tbody tr th:only-of-type {\n",
       "        vertical-align: middle;\n",
       "    }\n",
       "\n",
       "    .dataframe tbody tr th {\n",
       "        vertical-align: top;\n",
       "    }\n",
       "\n",
       "    .dataframe thead th {\n",
       "        text-align: right;\n",
       "    }\n",
       "</style>\n",
       "<table border=\"1\" class=\"dataframe\">\n",
       "  <thead>\n",
       "    <tr style=\"text-align: right;\">\n",
       "      <th></th>\n",
       "      <th>pred</th>\n",
       "      <th>prob</th>\n",
       "      <th>real</th>\n",
       "      <th>text</th>\n",
       "    </tr>\n",
       "  </thead>\n",
       "  <tbody>\n",
       "    <tr>\n",
       "      <th>265</th>\n",
       "      <td>0.000000</td>\n",
       "      <td>0.000676</td>\n",
       "      <td>0</td>\n",
       "      <td>b'Idiots go camping and act like idiots before they finally die like idiots, yes Camp Blood (or if you\\'re wanting an awful, b...</td>\n",
       "    </tr>\n",
       "    <tr>\n",
       "      <th>297</th>\n",
       "      <td>0.000000</td>\n",
       "      <td>0.000703</td>\n",
       "      <td>0</td>\n",
       "      <td>b\"Killjoy 2 is the same as killjoy 1. Bad acting, bad characters, annoying clown, bad lines, you name it. Honestly, I'm not al...</td>\n",
       "    </tr>\n",
       "    <tr>\n",
       "      <th>837</th>\n",
       "      <td>0.000000</td>\n",
       "      <td>0.001217</td>\n",
       "      <td>0</td>\n",
       "      <td>b'As Anthony Bourdain said... \"I wanted to stick my head in a bucket of lye, pull my eyeballs out and jump off a cliff.\" This ...</td>\n",
       "    </tr>\n",
       "    <tr>\n",
       "      <th>956</th>\n",
       "      <td>0.000000</td>\n",
       "      <td>0.001334</td>\n",
       "      <td>0</td>\n",
       "      <td>b'What could have been some majorly creepy stuff ends up being an incomprehensible, nutty motion picture that even the filmmak...</td>\n",
       "    </tr>\n",
       "    <tr>\n",
       "      <th>145</th>\n",
       "      <td>0.000000</td>\n",
       "      <td>0.001507</td>\n",
       "      <td>0</td>\n",
       "      <td>b\"I would rather have someone cut out my eyeballs with a razor blade than have to watch this movie again. I watched it from st...</td>\n",
       "    </tr>\n",
       "  </tbody>\n",
       "</table>\n",
       "</div>"
      ],
      "text/plain": [
       "        pred     prob  real  \\\n",
       "265 0.000000 0.000676     0   \n",
       "297 0.000000 0.000703     0   \n",
       "837 0.000000 0.001217     0   \n",
       "956 0.000000 0.001334     0   \n",
       "145 0.000000 0.001507     0   \n",
       "\n",
       "                                                                                                                                  text  \n",
       "265  b'Idiots go camping and act like idiots before they finally die like idiots, yes Camp Blood (or if you\\'re wanting an awful, b...  \n",
       "297  b\"Killjoy 2 is the same as killjoy 1. Bad acting, bad characters, annoying clown, bad lines, you name it. Honestly, I'm not al...  \n",
       "837  b'As Anthony Bourdain said... \"I wanted to stick my head in a bucket of lye, pull my eyeballs out and jump off a cliff.\" This ...  \n",
       "956  b'What could have been some majorly creepy stuff ends up being an incomprehensible, nutty motion picture that even the filmmak...  \n",
       "145  b\"I would rather have someone cut out my eyeballs with a razor blade than have to watch this movie again. I watched it from st...  "
      ]
     },
     "metadata": {},
     "output_type": "display_data"
    },
    {
     "data": {
      "text/markdown": [
       "#### Highest 5 mispredicted"
      ]
     },
     "metadata": {},
     "output_type": "display_data"
    },
    {
     "data": {
      "text/html": [
       "<div>\n",
       "<style scoped>\n",
       "    .dataframe tbody tr th:only-of-type {\n",
       "        vertical-align: middle;\n",
       "    }\n",
       "\n",
       "    .dataframe tbody tr th {\n",
       "        vertical-align: top;\n",
       "    }\n",
       "\n",
       "    .dataframe thead th {\n",
       "        text-align: right;\n",
       "    }\n",
       "</style>\n",
       "<table border=\"1\" class=\"dataframe\">\n",
       "  <thead>\n",
       "    <tr style=\"text-align: right;\">\n",
       "      <th></th>\n",
       "      <th>pred</th>\n",
       "      <th>prob</th>\n",
       "      <th>real</th>\n",
       "      <th>text</th>\n",
       "    </tr>\n",
       "  </thead>\n",
       "  <tbody>\n",
       "    <tr>\n",
       "      <th>523</th>\n",
       "      <td>1.000000</td>\n",
       "      <td>0.999995</td>\n",
       "      <td>0</td>\n",
       "      <td>b\"This film has the language, the style and the attitude down ... plus greats rides from Occy (a world champ) and the great Je...</td>\n",
       "    </tr>\n",
       "    <tr>\n",
       "      <th>71</th>\n",
       "      <td>1.000000</td>\n",
       "      <td>0.942049</td>\n",
       "      <td>0</td>\n",
       "      <td>b'I went to see this 3 nights ago here in Cork, Ireland. It was the world premiere of it, in the tiny cinema in the Triskel Ar...</td>\n",
       "    </tr>\n",
       "    <tr>\n",
       "      <th>517</th>\n",
       "      <td>1.000000</td>\n",
       "      <td>0.939821</td>\n",
       "      <td>0</td>\n",
       "      <td>b\"Interesting and short television movie describes some of the machinations surrounding Jay Leno's replacing Carson as host of...</td>\n",
       "    </tr>\n",
       "    <tr>\n",
       "      <th>224</th>\n",
       "      <td>1.000000</td>\n",
       "      <td>0.937982</td>\n",
       "      <td>0</td>\n",
       "      <td>b\"Well, I think I've finally seen my last Woody Allen movie! I read the review in the newspaper and went to see this movie wit...</td>\n",
       "    </tr>\n",
       "    <tr>\n",
       "      <th>708</th>\n",
       "      <td>1.000000</td>\n",
       "      <td>0.935255</td>\n",
       "      <td>0</td>\n",
       "      <td>b'The filmmaker stayed true to the most accurate account of the story published in 1894 which includes an 1846 manuscript by R...</td>\n",
       "    </tr>\n",
       "  </tbody>\n",
       "</table>\n",
       "</div>"
      ],
      "text/plain": [
       "        pred     prob  real  \\\n",
       "523 1.000000 0.999995     0   \n",
       "71  1.000000 0.942049     0   \n",
       "517 1.000000 0.939821     0   \n",
       "224 1.000000 0.937982     0   \n",
       "708 1.000000 0.935255     0   \n",
       "\n",
       "                                                                                                                                  text  \n",
       "523  b\"This film has the language, the style and the attitude down ... plus greats rides from Occy (a world champ) and the great Je...  \n",
       "71   b'I went to see this 3 nights ago here in Cork, Ireland. It was the world premiere of it, in the tiny cinema in the Triskel Ar...  \n",
       "517  b\"Interesting and short television movie describes some of the machinations surrounding Jay Leno's replacing Carson as host of...  \n",
       "224  b\"Well, I think I've finally seen my last Woody Allen movie! I read the review in the newspaper and went to see this movie wit...  \n",
       "708  b'The filmmaker stayed true to the most accurate account of the story published in 1894 which includes an 1846 manuscript by R...  "
      ]
     },
     "metadata": {},
     "output_type": "display_data"
    },
    {
     "data": {
      "text/markdown": [
       "#### Lowest 5 mispredicted"
      ]
     },
     "metadata": {},
     "output_type": "display_data"
    },
    {
     "data": {
      "text/html": [
       "<div>\n",
       "<style scoped>\n",
       "    .dataframe tbody tr th:only-of-type {\n",
       "        vertical-align: middle;\n",
       "    }\n",
       "\n",
       "    .dataframe tbody tr th {\n",
       "        vertical-align: top;\n",
       "    }\n",
       "\n",
       "    .dataframe thead th {\n",
       "        text-align: right;\n",
       "    }\n",
       "</style>\n",
       "<table border=\"1\" class=\"dataframe\">\n",
       "  <thead>\n",
       "    <tr style=\"text-align: right;\">\n",
       "      <th></th>\n",
       "      <th>pred</th>\n",
       "      <th>prob</th>\n",
       "      <th>real</th>\n",
       "      <th>text</th>\n",
       "    </tr>\n",
       "  </thead>\n",
       "  <tbody>\n",
       "    <tr>\n",
       "      <th>244</th>\n",
       "      <td>0.000000</td>\n",
       "      <td>0.001539</td>\n",
       "      <td>1</td>\n",
       "      <td>b\"If a joke doesn't offend anybody, it isn't funny.&lt;br /&gt;&lt;br /&gt;The Inki cartoons are offensive, no doubt about it. So is rap m...</td>\n",
       "    </tr>\n",
       "    <tr>\n",
       "      <th>553</th>\n",
       "      <td>0.000000</td>\n",
       "      <td>0.014293</td>\n",
       "      <td>1</td>\n",
       "      <td>b\"yes barney is nonsense now but when i was a kid it made perfect sense.&lt;br /&gt;&lt;br /&gt;i haven't gotten any smarter but i enjoyed...</td>\n",
       "    </tr>\n",
       "    <tr>\n",
       "      <th>924</th>\n",
       "      <td>0.000000</td>\n",
       "      <td>0.044952</td>\n",
       "      <td>1</td>\n",
       "      <td>b\"Might contain spoilers.&lt;br /&gt;&lt;br /&gt;This is just a good movie. Lots of good silly stuff to laugh at. However, do not watch th...</td>\n",
       "    </tr>\n",
       "    <tr>\n",
       "      <th>539</th>\n",
       "      <td>0.000000</td>\n",
       "      <td>0.058629</td>\n",
       "      <td>1</td>\n",
       "      <td>b\"i would give this movie an 8.5 or a 9. I thought it was just straight up hilarious i don't know how you could not think this...</td>\n",
       "    </tr>\n",
       "    <tr>\n",
       "      <th>326</th>\n",
       "      <td>0.000000</td>\n",
       "      <td>0.060619</td>\n",
       "      <td>1</td>\n",
       "      <td>b'I can\\'t even begin to imagine why everyone hates this movie so much. It had me literally crying with laughter several times...</td>\n",
       "    </tr>\n",
       "  </tbody>\n",
       "</table>\n",
       "</div>"
      ],
      "text/plain": [
       "        pred     prob  real  \\\n",
       "244 0.000000 0.001539     1   \n",
       "553 0.000000 0.014293     1   \n",
       "924 0.000000 0.044952     1   \n",
       "539 0.000000 0.058629     1   \n",
       "326 0.000000 0.060619     1   \n",
       "\n",
       "                                                                                                                                  text  \n",
       "244  b\"If a joke doesn't offend anybody, it isn't funny.<br /><br />The Inki cartoons are offensive, no doubt about it. So is rap m...  \n",
       "553  b\"yes barney is nonsense now but when i was a kid it made perfect sense.<br /><br />i haven't gotten any smarter but i enjoyed...  \n",
       "924  b\"Might contain spoilers.<br /><br />This is just a good movie. Lots of good silly stuff to laugh at. However, do not watch th...  \n",
       "539  b\"i would give this movie an 8.5 or a 9. I thought it was just straight up hilarious i don't know how you could not think this...  \n",
       "326  b'I can\\'t even begin to imagine why everyone hates this movie so much. It had me literally crying with laughter several times...  "
      ]
     },
     "metadata": {},
     "output_type": "display_data"
    },
    {
     "data": {
      "text/markdown": [
       "#### Classification report for svc"
      ]
     },
     "metadata": {},
     "output_type": "display_data"
    },
    {
     "name": "stdout",
     "output_type": "stream",
     "text": [
      "             precision    recall  f1-score   support\n",
      "\n",
      "   Negative       0.81      0.84      0.83       498\n",
      "   Positive       0.84      0.81      0.82       502\n",
      "\n",
      "avg / total       0.83      0.82      0.82      1000\n",
      "\n"
     ]
    },
    {
     "data": {
      "image/png": "[encoded data removed]",
      "text/plain": [
       "<matplotlib.figure.Figure at 0x7f2c3d34e9b0>"
      ]
     },
     "metadata": {},
     "output_type": "display_data"
    }
   ],
   "source": [
    "# it's almost impossible to train SVC on full dataset due to time complexity\n",
    "svc_limit = min(20000, len(X_sklearn_preprocessed))\n",
    "svc_model = models.SVCModel(\n",
    "    nlp, dataset_id, \n",
    "    kernel=\"linear\", C=0.025,\n",
    "    probability=True)\n",
    "\n",
    "accuracy = train_model_and_display_results(\n",
    "    svc_model,\n",
    "    X_sklearn_preprocessed[:svc_limit], \n",
    "    y_train[:svc_limit], \n",
    "    preprocessed=True\n",
    ")\n",
    "\n",
    "if SAVE_IN_STORE:\n",
    "    store.add_model(svc_model, \"svc_imdb\", \"IMDB SVC\", metadata={\n",
    "        'Dataset': 'Internet Movie Database',\n",
    "        'Training samples': svc_limit,\n",
    "        'Accuracy': accuracy,\n",
    "        'Description': \"SVM algorithm from Sklearn package. Trained on a reduced dataset due to O(n^2) time complexity\"\n",
    "    })\n"
   ]
  },
  {
   "cell_type": "code",
   "execution_count": 10,
   "metadata": {},
   "outputs": [
    {
     "data": {
      "text/markdown": [
       "## DecisionTreeModel"
      ]
     },
     "metadata": {},
     "output_type": "display_data"
    },
    {
     "data": {
      "text/markdown": [
       "#### Training"
      ]
     },
     "metadata": {},
     "output_type": "display_data"
    },
    {
     "name": "stdout",
     "output_type": "stream",
     "text": [
      "Loading model...\n",
      "Unable to load model, training...\n",
      "Model 'decisiontreeclassifier_imdb_all_5099b258.pkl' saved\n"
     ]
    },
    {
     "data": {
      "text/markdown": [
       "#### Overview of created model"
      ]
     },
     "metadata": {},
     "output_type": "display_data"
    },
    {
     "data": {
      "text/plain": [
       "DecisionTreeClassifier(class_weight=None, criterion='gini', max_depth=6,\n",
       "            max_features=None, max_leaf_nodes=None,\n",
       "            min_impurity_decrease=0.0, min_impurity_split=None,\n",
       "            min_samples_leaf=1, min_samples_split=2,\n",
       "            min_weight_fraction_leaf=0.0, presort=False, random_state=None,\n",
       "            splitter='best')"
      ]
     },
     "metadata": {},
     "output_type": "display_data"
    },
    {
     "data": {
      "text/markdown": [
       "#### Model results"
      ]
     },
     "metadata": {},
     "output_type": "display_data"
    },
    {
     "data": {
      "text/markdown": [
       "#### Predicted scores"
      ]
     },
     "metadata": {},
     "output_type": "display_data"
    },
    {
     "data": {
      "text/html": [
       "<div>\n",
       "<style scoped>\n",
       "    .dataframe tbody tr th:only-of-type {\n",
       "        vertical-align: middle;\n",
       "    }\n",
       "\n",
       "    .dataframe tbody tr th {\n",
       "        vertical-align: top;\n",
       "    }\n",
       "\n",
       "    .dataframe thead th {\n",
       "        text-align: right;\n",
       "    }\n",
       "</style>\n",
       "<table border=\"1\" class=\"dataframe\">\n",
       "  <thead>\n",
       "    <tr style=\"text-align: right;\">\n",
       "      <th></th>\n",
       "      <th>score</th>\n",
       "      <th>text</th>\n",
       "    </tr>\n",
       "  </thead>\n",
       "  <tbody>\n",
       "    <tr>\n",
       "      <th>0</th>\n",
       "      <td>0.700000</td>\n",
       "      <td>This movie is, in my opinion, very worth watching!</td>\n",
       "    </tr>\n",
       "    <tr>\n",
       "      <th>1</th>\n",
       "      <td>0.079453</td>\n",
       "      <td>I kinda liked that movie. Maybe it's not as good as other, but still watchable</td>\n",
       "    </tr>\n",
       "    <tr>\n",
       "      <th>2</th>\n",
       "      <td>0.474708</td>\n",
       "      <td>I have to warn everybody, this movie is really bad. Actors don't know how to play. It su!*!</td>\n",
       "    </tr>\n",
       "  </tbody>\n",
       "</table>\n",
       "</div>"
      ],
      "text/plain": [
       "      score  \\\n",
       "0  0.700000   \n",
       "1  0.079453   \n",
       "2  0.474708   \n",
       "\n",
       "                                                                                          text  \n",
       "0  This movie is, in my opinion, very worth watching!                                           \n",
       "1  I kinda liked that movie. Maybe it's not as good as other, but still watchable               \n",
       "2  I have to warn everybody, this movie is really bad. Actors don't know how to play. It su!*!  "
      ]
     },
     "metadata": {},
     "output_type": "display_data"
    },
    {
     "data": {
      "text/markdown": [
       "#### Highest 5"
      ]
     },
     "metadata": {},
     "output_type": "display_data"
    },
    {
     "data": {
      "text/html": [
       "<div>\n",
       "<style scoped>\n",
       "    .dataframe tbody tr th:only-of-type {\n",
       "        vertical-align: middle;\n",
       "    }\n",
       "\n",
       "    .dataframe tbody tr th {\n",
       "        vertical-align: top;\n",
       "    }\n",
       "\n",
       "    .dataframe thead th {\n",
       "        text-align: right;\n",
       "    }\n",
       "</style>\n",
       "<table border=\"1\" class=\"dataframe\">\n",
       "  <thead>\n",
       "    <tr style=\"text-align: right;\">\n",
       "      <th></th>\n",
       "      <th>pred</th>\n",
       "      <th>prob</th>\n",
       "      <th>real</th>\n",
       "      <th>text</th>\n",
       "    </tr>\n",
       "  </thead>\n",
       "  <tbody>\n",
       "    <tr>\n",
       "      <th>21</th>\n",
       "      <td>1.000000</td>\n",
       "      <td>0.956822</td>\n",
       "      <td>1</td>\n",
       "      <td>b'Big Fat Liar is a great watch for kids of all ages, even adults. I had a great time watching this movie and recommend this t...</td>\n",
       "    </tr>\n",
       "    <tr>\n",
       "      <th>35</th>\n",
       "      <td>1.000000</td>\n",
       "      <td>0.956822</td>\n",
       "      <td>1</td>\n",
       "      <td>b\"Out of all the Bat-films, Batman Returns is my favorite. This beautiful, dark, and funny film is one of Tim Burton's best wo...</td>\n",
       "    </tr>\n",
       "    <tr>\n",
       "      <th>36</th>\n",
       "      <td>1.000000</td>\n",
       "      <td>0.956822</td>\n",
       "      <td>1</td>\n",
       "      <td>b\"'Opera' (1987) &lt;br /&gt;&lt;br /&gt;Director: Dario Argento (Deep Red, Suspiria) Screenplay: Dario Argento and Franco Ferrini (The Ch...</td>\n",
       "    </tr>\n",
       "    <tr>\n",
       "      <th>78</th>\n",
       "      <td>1.000000</td>\n",
       "      <td>0.956822</td>\n",
       "      <td>1</td>\n",
       "      <td>b\"In August Days/Dies d'agost Marc Recha has given us a sun-saturated Catalan documentary-style road movie that's mostly a mea...</td>\n",
       "    </tr>\n",
       "    <tr>\n",
       "      <th>84</th>\n",
       "      <td>1.000000</td>\n",
       "      <td>0.956822</td>\n",
       "      <td>1</td>\n",
       "      <td>b\"I've seen this movie at least 8 times, and I still laugh every time. The movie is about how an intelligent and motivated man...</td>\n",
       "    </tr>\n",
       "  </tbody>\n",
       "</table>\n",
       "</div>"
      ],
      "text/plain": [
       "       pred     prob  real  \\\n",
       "21 1.000000 0.956822     1   \n",
       "35 1.000000 0.956822     1   \n",
       "36 1.000000 0.956822     1   \n",
       "78 1.000000 0.956822     1   \n",
       "84 1.000000 0.956822     1   \n",
       "\n",
       "                                                                                                                                 text  \n",
       "21  b'Big Fat Liar is a great watch for kids of all ages, even adults. I had a great time watching this movie and recommend this t...  \n",
       "35  b\"Out of all the Bat-films, Batman Returns is my favorite. This beautiful, dark, and funny film is one of Tim Burton's best wo...  \n",
       "36  b\"'Opera' (1987) <br /><br />Director: Dario Argento (Deep Red, Suspiria) Screenplay: Dario Argento and Franco Ferrini (The Ch...  \n",
       "78  b\"In August Days/Dies d'agost Marc Recha has given us a sun-saturated Catalan documentary-style road movie that's mostly a mea...  \n",
       "84  b\"I've seen this movie at least 8 times, and I still laugh every time. The movie is about how an intelligent and motivated man...  "
      ]
     },
     "metadata": {},
     "output_type": "display_data"
    },
    {
     "data": {
      "text/markdown": [
       "#### Lowest 5"
      ]
     },
     "metadata": {},
     "output_type": "display_data"
    },
    {
     "data": {
      "text/html": [
       "<div>\n",
       "<style scoped>\n",
       "    .dataframe tbody tr th:only-of-type {\n",
       "        vertical-align: middle;\n",
       "    }\n",
       "\n",
       "    .dataframe tbody tr th {\n",
       "        vertical-align: top;\n",
       "    }\n",
       "\n",
       "    .dataframe thead th {\n",
       "        text-align: right;\n",
       "    }\n",
       "</style>\n",
       "<table border=\"1\" class=\"dataframe\">\n",
       "  <thead>\n",
       "    <tr style=\"text-align: right;\">\n",
       "      <th></th>\n",
       "      <th>pred</th>\n",
       "      <th>prob</th>\n",
       "      <th>real</th>\n",
       "      <th>text</th>\n",
       "    </tr>\n",
       "  </thead>\n",
       "  <tbody>\n",
       "    <tr>\n",
       "      <th>3</th>\n",
       "      <td>0.000000</td>\n",
       "      <td>0.079453</td>\n",
       "      <td>0</td>\n",
       "      <td>b'NBC had a chance to make a powerful religious epic along the lines of \"The Ten Commandments\" and \"The Greatest Story Ever To...</td>\n",
       "    </tr>\n",
       "    <tr>\n",
       "      <th>8</th>\n",
       "      <td>0.000000</td>\n",
       "      <td>0.079453</td>\n",
       "      <td>0</td>\n",
       "      <td>b'Ocean\\'s Twelve: just plain stupid, bad and nothing compared to the other two.&lt;br /&gt;&lt;br /&gt;An art robbery. 10 known actors, a...</td>\n",
       "    </tr>\n",
       "    <tr>\n",
       "      <th>23</th>\n",
       "      <td>0.000000</td>\n",
       "      <td>0.079453</td>\n",
       "      <td>0</td>\n",
       "      <td>b\"1 hour and 40 minutes of talking--boring talking, and more talking and then some. It is hard for me to grasp how an actress ...</td>\n",
       "    </tr>\n",
       "    <tr>\n",
       "      <th>26</th>\n",
       "      <td>0.000000</td>\n",
       "      <td>0.079453</td>\n",
       "      <td>0</td>\n",
       "      <td>b\"I thought this is an unbelievable boring movie! i heard the director can't speak french and so he left his actors tell what ...</td>\n",
       "    </tr>\n",
       "    <tr>\n",
       "      <th>39</th>\n",
       "      <td>0.000000</td>\n",
       "      <td>0.079453</td>\n",
       "      <td>0</td>\n",
       "      <td>b'Milla stands out in this movie because of her personal sense of style and the way the clothes hang on her. I have learned to...</td>\n",
       "    </tr>\n",
       "  </tbody>\n",
       "</table>\n",
       "</div>"
      ],
      "text/plain": [
       "       pred     prob  real  \\\n",
       "3  0.000000 0.079453     0   \n",
       "8  0.000000 0.079453     0   \n",
       "23 0.000000 0.079453     0   \n",
       "26 0.000000 0.079453     0   \n",
       "39 0.000000 0.079453     0   \n",
       "\n",
       "                                                                                                                                 text  \n",
       "3   b'NBC had a chance to make a powerful religious epic along the lines of \"The Ten Commandments\" and \"The Greatest Story Ever To...  \n",
       "8   b'Ocean\\'s Twelve: just plain stupid, bad and nothing compared to the other two.<br /><br />An art robbery. 10 known actors, a...  \n",
       "23  b\"1 hour and 40 minutes of talking--boring talking, and more talking and then some. It is hard for me to grasp how an actress ...  \n",
       "26  b\"I thought this is an unbelievable boring movie! i heard the director can't speak french and so he left his actors tell what ...  \n",
       "39  b'Milla stands out in this movie because of her personal sense of style and the way the clothes hang on her. I have learned to...  "
      ]
     },
     "metadata": {},
     "output_type": "display_data"
    },
    {
     "data": {
      "text/markdown": [
       "#### Highest 5 mispredicted"
      ]
     },
     "metadata": {},
     "output_type": "display_data"
    },
    {
     "data": {
      "text/html": [
       "<div>\n",
       "<style scoped>\n",
       "    .dataframe tbody tr th:only-of-type {\n",
       "        vertical-align: middle;\n",
       "    }\n",
       "\n",
       "    .dataframe tbody tr th {\n",
       "        vertical-align: top;\n",
       "    }\n",
       "\n",
       "    .dataframe thead th {\n",
       "        text-align: right;\n",
       "    }\n",
       "</style>\n",
       "<table border=\"1\" class=\"dataframe\">\n",
       "  <thead>\n",
       "    <tr style=\"text-align: right;\">\n",
       "      <th></th>\n",
       "      <th>pred</th>\n",
       "      <th>prob</th>\n",
       "      <th>real</th>\n",
       "      <th>text</th>\n",
       "    </tr>\n",
       "  </thead>\n",
       "  <tbody>\n",
       "    <tr>\n",
       "      <th>226</th>\n",
       "      <td>1.000000</td>\n",
       "      <td>0.956822</td>\n",
       "      <td>0</td>\n",
       "      <td>b'This is simply another bad Chuck Norris movie. Norris plays a cop on the trail of a twisted serial killer of women. He put t...</td>\n",
       "    </tr>\n",
       "    <tr>\n",
       "      <th>462</th>\n",
       "      <td>1.000000</td>\n",
       "      <td>0.956822</td>\n",
       "      <td>0</td>\n",
       "      <td>b\"This movie has been a classic in my part of the country because it was filmed in my own small town. I now have many friends ...</td>\n",
       "    </tr>\n",
       "    <tr>\n",
       "      <th>523</th>\n",
       "      <td>1.000000</td>\n",
       "      <td>0.956822</td>\n",
       "      <td>0</td>\n",
       "      <td>b\"This film has the language, the style and the attitude down ... plus greats rides from Occy (a world champ) and the great Je...</td>\n",
       "    </tr>\n",
       "    <tr>\n",
       "      <th>627</th>\n",
       "      <td>1.000000</td>\n",
       "      <td>0.898488</td>\n",
       "      <td>0</td>\n",
       "      <td>b'Really!Here the French cinema hits rock bottom ,and compared to it, the least appealing of the American adolescent horror mo...</td>\n",
       "    </tr>\n",
       "    <tr>\n",
       "      <th>690</th>\n",
       "      <td>1.000000</td>\n",
       "      <td>0.898488</td>\n",
       "      <td>0</td>\n",
       "      <td>b\"The story is: a turn-of-the-century troupe of actors, along with producers and theatre-owners, have very complicated relatio...</td>\n",
       "    </tr>\n",
       "  </tbody>\n",
       "</table>\n",
       "</div>"
      ],
      "text/plain": [
       "        pred     prob  real  \\\n",
       "226 1.000000 0.956822     0   \n",
       "462 1.000000 0.956822     0   \n",
       "523 1.000000 0.956822     0   \n",
       "627 1.000000 0.898488     0   \n",
       "690 1.000000 0.898488     0   \n",
       "\n",
       "                                                                                                                                  text  \n",
       "226  b'This is simply another bad Chuck Norris movie. Norris plays a cop on the trail of a twisted serial killer of women. He put t...  \n",
       "462  b\"This movie has been a classic in my part of the country because it was filmed in my own small town. I now have many friends ...  \n",
       "523  b\"This film has the language, the style and the attitude down ... plus greats rides from Occy (a world champ) and the great Je...  \n",
       "627  b'Really!Here the French cinema hits rock bottom ,and compared to it, the least appealing of the American adolescent horror mo...  \n",
       "690  b\"The story is: a turn-of-the-century troupe of actors, along with producers and theatre-owners, have very complicated relatio...  "
      ]
     },
     "metadata": {},
     "output_type": "display_data"
    },
    {
     "data": {
      "text/markdown": [
       "#### Lowest 5 mispredicted"
      ]
     },
     "metadata": {},
     "output_type": "display_data"
    },
    {
     "data": {
      "text/html": [
       "<div>\n",
       "<style scoped>\n",
       "    .dataframe tbody tr th:only-of-type {\n",
       "        vertical-align: middle;\n",
       "    }\n",
       "\n",
       "    .dataframe tbody tr th {\n",
       "        vertical-align: top;\n",
       "    }\n",
       "\n",
       "    .dataframe thead th {\n",
       "        text-align: right;\n",
       "    }\n",
       "</style>\n",
       "<table border=\"1\" class=\"dataframe\">\n",
       "  <thead>\n",
       "    <tr style=\"text-align: right;\">\n",
       "      <th></th>\n",
       "      <th>pred</th>\n",
       "      <th>prob</th>\n",
       "      <th>real</th>\n",
       "      <th>text</th>\n",
       "    </tr>\n",
       "  </thead>\n",
       "  <tbody>\n",
       "    <tr>\n",
       "      <th>169</th>\n",
       "      <td>0.000000</td>\n",
       "      <td>0.079453</td>\n",
       "      <td>1</td>\n",
       "      <td>b'This movie is a hard-to-find gem! It is the story of Juliette, a perfectly ordinary cleaning woman who works in the large co...</td>\n",
       "    </tr>\n",
       "    <tr>\n",
       "      <th>245</th>\n",
       "      <td>0.000000</td>\n",
       "      <td>0.079453</td>\n",
       "      <td>1</td>\n",
       "      <td>b'\"For a Squadron Leader - normally the only guy trained and equipped for navigation in a squadron and very hard to replace - ...</td>\n",
       "    </tr>\n",
       "    <tr>\n",
       "      <th>326</th>\n",
       "      <td>0.000000</td>\n",
       "      <td>0.079453</td>\n",
       "      <td>1</td>\n",
       "      <td>b'I can\\'t even begin to imagine why everyone hates this movie so much. It had me literally crying with laughter several times...</td>\n",
       "    </tr>\n",
       "    <tr>\n",
       "      <th>387</th>\n",
       "      <td>0.000000</td>\n",
       "      <td>0.079453</td>\n",
       "      <td>1</td>\n",
       "      <td>b\"if you are going to see this movie, by all means don't go into this movie with the expectation of this movie will be absolut...</td>\n",
       "    </tr>\n",
       "    <tr>\n",
       "      <th>700</th>\n",
       "      <td>0.000000</td>\n",
       "      <td>0.079453</td>\n",
       "      <td>1</td>\n",
       "      <td>b\"I don't want to write too much about the film but basically it's an action/comedy with a little bit of romance thrown in abo...</td>\n",
       "    </tr>\n",
       "  </tbody>\n",
       "</table>\n",
       "</div>"
      ],
      "text/plain": [
       "        pred     prob  real  \\\n",
       "169 0.000000 0.079453     1   \n",
       "245 0.000000 0.079453     1   \n",
       "326 0.000000 0.079453     1   \n",
       "387 0.000000 0.079453     1   \n",
       "700 0.000000 0.079453     1   \n",
       "\n",
       "                                                                                                                                  text  \n",
       "169  b'This movie is a hard-to-find gem! It is the story of Juliette, a perfectly ordinary cleaning woman who works in the large co...  \n",
       "245  b'\"For a Squadron Leader - normally the only guy trained and equipped for navigation in a squadron and very hard to replace - ...  \n",
       "326  b'I can\\'t even begin to imagine why everyone hates this movie so much. It had me literally crying with laughter several times...  \n",
       "387  b\"if you are going to see this movie, by all means don't go into this movie with the expectation of this movie will be absolut...  \n",
       "700  b\"I don't want to write too much about the film but basically it's an action/comedy with a little bit of romance thrown in abo...  "
      ]
     },
     "metadata": {},
     "output_type": "display_data"
    },
    {
     "data": {
      "text/markdown": [
       "#### Classification report for decisiontreeclassifier"
      ]
     },
     "metadata": {},
     "output_type": "display_data"
    },
    {
     "name": "stdout",
     "output_type": "stream",
     "text": [
      "             precision    recall  f1-score   support\n",
      "\n",
      "   Negative       0.73      0.69      0.71       498\n",
      "   Positive       0.71      0.74      0.72       502\n",
      "\n",
      "avg / total       0.72      0.71      0.71      1000\n",
      "\n"
     ]
    },
    {
     "data": {
      "image/png": "[encoded data removed]",
      "text/plain": [
       "<matplotlib.figure.Figure at 0x7f2c3d2b8860>"
      ]
     },
     "metadata": {},
     "output_type": "display_data"
    }
   ],
   "source": [
    "decision_tree_model = models.DecisionTreeModel(\n",
    "    nlp, dataset_id, \n",
    "    max_depth=6)\n",
    "\n",
    "accuracy = train_model_and_display_results(\n",
    "    decision_tree_model, \n",
    "    X_sklearn_preprocessed, \n",
    "    preprocessed=True)\n",
    "\n",
    "if SAVE_IN_STORE:\n",
    "    store.add_model(decision_tree_model, \"decision_tree_imdb\", \"IMDB Decision Tree\", metadata={\n",
    "        'Dataset': 'Internet Movie Database',\n",
    "        'Training samples': len(X_sklearn_preprocessed),\n",
    "        'Accuracy': accuracy,\n",
    "        'Description': \"Decision Tree algorithm from Sklearn package.\"\n",
    "    })"
   ]
  },
  {
   "cell_type": "code",
   "execution_count": 11,
   "metadata": {
    "scrolled": false
   },
   "outputs": [
    {
     "data": {
      "text/markdown": [
       "## MLPModel"
      ]
     },
     "metadata": {},
     "output_type": "display_data"
    },
    {
     "data": {
      "text/markdown": [
       "#### Training"
      ]
     },
     "metadata": {},
     "output_type": "display_data"
    },
    {
     "name": "stdout",
     "output_type": "stream",
     "text": [
      "Loading model...\n",
      "Unable to load model, training...\n",
      "Iteration 1, loss = 0.53806308\n"
     ]
    },
    {
     "name": "stderr",
     "output_type": "stream",
     "text": [
      "/usr/local/lib/python3.5/dist-packages/sklearn/neural_network/multilayer_perceptron.py:912: DataConversionWarning: A column-vector y was passed when a 1d array was expected. Please change the shape of y to (n_samples, ), for example using ravel().\n",
      "  y = column_or_1d(y, warn=True)\n"
     ]
    },
    {
     "name": "stdout",
     "output_type": "stream",
     "text": [
      "Iteration 2, loss = 0.37793423\n",
      "Iteration 3, loss = 0.35682913\n",
      "Iteration 4, loss = 0.34721349\n",
      "Iteration 5, loss = 0.34474215\n",
      "Iteration 6, loss = 0.33620934\n",
      "Iteration 7, loss = 0.33472883\n",
      "Iteration 8, loss = 0.33101201\n",
      "Iteration 9, loss = 0.33244794\n",
      "Iteration 10, loss = 0.32769541\n",
      "Iteration 11, loss = 0.32448834\n",
      "Iteration 12, loss = 0.32960638\n",
      "Iteration 13, loss = 0.32462216\n",
      "Iteration 14, loss = 0.32086929\n",
      "Iteration 15, loss = 0.32352313\n",
      "Iteration 16, loss = 0.31945241\n",
      "Iteration 17, loss = 0.31882223\n",
      "Iteration 18, loss = 0.31386002\n",
      "Iteration 19, loss = 0.31357674\n",
      "Iteration 20, loss = 0.31253640\n",
      "Iteration 21, loss = 0.31002074\n",
      "Iteration 22, loss = 0.31225532\n",
      "Iteration 23, loss = 0.31106052\n",
      "Iteration 24, loss = 0.30742737\n",
      "Iteration 25, loss = 0.30404316\n",
      "Iteration 26, loss = 0.30292591\n",
      "Iteration 27, loss = 0.30411417\n",
      "Iteration 28, loss = 0.30519288\n",
      "Iteration 29, loss = 0.29861733\n",
      "Iteration 30, loss = 0.29896246\n",
      "Iteration 31, loss = 0.29733738\n",
      "Iteration 32, loss = 0.29671517\n",
      "Iteration 33, loss = 0.29603864\n",
      "Iteration 34, loss = 0.29502754\n",
      "Iteration 35, loss = 0.29417646\n",
      "Iteration 36, loss = 0.29241952\n",
      "Iteration 37, loss = 0.28974637\n",
      "Iteration 38, loss = 0.29116898\n",
      "Iteration 39, loss = 0.28938090\n",
      "Iteration 40, loss = 0.28878834\n",
      "Iteration 41, loss = 0.28462631\n",
      "Iteration 42, loss = 0.28204522\n",
      "Iteration 43, loss = 0.28514844\n",
      "Iteration 44, loss = 0.28197019\n",
      "Iteration 45, loss = 0.28238184\n",
      "Training loss did not improve more than tol=0.000100 for two consecutive epochs. Stopping.\n",
      "Model 'mlpclassifier_imdb_all_80b0dabd.pkl' saved\n"
     ]
    },
    {
     "data": {
      "text/markdown": [
       "#### Overview of created model"
      ]
     },
     "metadata": {},
     "output_type": "display_data"
    },
    {
     "data": {
      "text/plain": [
       "MLPClassifier(activation='relu', alpha=0.0001, batch_size='auto', beta_1=0.9,\n",
       "       beta_2=0.999, early_stopping=False, epsilon=1e-08,\n",
       "       hidden_layer_sizes=(50, 50), learning_rate='constant',\n",
       "       learning_rate_init=0.001, max_iter=50, momentum=0.9,\n",
       "       nesterovs_momentum=True, power_t=0.5, random_state=None,\n",
       "       shuffle=True, solver='adam', tol=0.0001, validation_fraction=0.1,\n",
       "       verbose=True, warm_start=False)"
      ]
     },
     "metadata": {},
     "output_type": "display_data"
    },
    {
     "data": {
      "text/markdown": [
       "#### Model results"
      ]
     },
     "metadata": {},
     "output_type": "display_data"
    },
    {
     "data": {
      "text/markdown": [
       "#### Predicted scores"
      ]
     },
     "metadata": {},
     "output_type": "display_data"
    },
    {
     "data": {
      "text/html": [
       "<div>\n",
       "<style scoped>\n",
       "    .dataframe tbody tr th:only-of-type {\n",
       "        vertical-align: middle;\n",
       "    }\n",
       "\n",
       "    .dataframe tbody tr th {\n",
       "        vertical-align: top;\n",
       "    }\n",
       "\n",
       "    .dataframe thead th {\n",
       "        text-align: right;\n",
       "    }\n",
       "</style>\n",
       "<table border=\"1\" class=\"dataframe\">\n",
       "  <thead>\n",
       "    <tr style=\"text-align: right;\">\n",
       "      <th></th>\n",
       "      <th>score</th>\n",
       "      <th>text</th>\n",
       "    </tr>\n",
       "  </thead>\n",
       "  <tbody>\n",
       "    <tr>\n",
       "      <th>0</th>\n",
       "      <td>0.999123</td>\n",
       "      <td>This movie is, in my opinion, very worth watching!</td>\n",
       "    </tr>\n",
       "    <tr>\n",
       "      <th>1</th>\n",
       "      <td>0.688288</td>\n",
       "      <td>I kinda liked that movie. Maybe it's not as good as other, but still watchable</td>\n",
       "    </tr>\n",
       "    <tr>\n",
       "      <th>2</th>\n",
       "      <td>0.686890</td>\n",
       "      <td>I have to warn everybody, this movie is really bad. Actors don't know how to play. It su!*!</td>\n",
       "    </tr>\n",
       "  </tbody>\n",
       "</table>\n",
       "</div>"
      ],
      "text/plain": [
       "      score  \\\n",
       "0  0.999123   \n",
       "1  0.688288   \n",
       "2  0.686890   \n",
       "\n",
       "                                                                                          text  \n",
       "0  This movie is, in my opinion, very worth watching!                                           \n",
       "1  I kinda liked that movie. Maybe it's not as good as other, but still watchable               \n",
       "2  I have to warn everybody, this movie is really bad. Actors don't know how to play. It su!*!  "
      ]
     },
     "metadata": {},
     "output_type": "display_data"
    },
    {
     "data": {
      "text/markdown": [
       "#### Highest 5"
      ]
     },
     "metadata": {},
     "output_type": "display_data"
    },
    {
     "data": {
      "text/html": [
       "<div>\n",
       "<style scoped>\n",
       "    .dataframe tbody tr th:only-of-type {\n",
       "        vertical-align: middle;\n",
       "    }\n",
       "\n",
       "    .dataframe tbody tr th {\n",
       "        vertical-align: top;\n",
       "    }\n",
       "\n",
       "    .dataframe thead th {\n",
       "        text-align: right;\n",
       "    }\n",
       "</style>\n",
       "<table border=\"1\" class=\"dataframe\">\n",
       "  <thead>\n",
       "    <tr style=\"text-align: right;\">\n",
       "      <th></th>\n",
       "      <th>pred</th>\n",
       "      <th>prob</th>\n",
       "      <th>real</th>\n",
       "      <th>text</th>\n",
       "    </tr>\n",
       "  </thead>\n",
       "  <tbody>\n",
       "    <tr>\n",
       "      <th>75</th>\n",
       "      <td>1.000000</td>\n",
       "      <td>0.999449</td>\n",
       "      <td>1</td>\n",
       "      <td>b'For those that are great fans and collectors of dinosaurs like I am, it is not only a very informative series but also puts ...</td>\n",
       "    </tr>\n",
       "    <tr>\n",
       "      <th>427</th>\n",
       "      <td>1.000000</td>\n",
       "      <td>0.999442</td>\n",
       "      <td>1</td>\n",
       "      <td>b'Very glad to see that this excellent film gets such high marks from the users of IMDB. The Best Years of Their Lives remains...</td>\n",
       "    </tr>\n",
       "    <tr>\n",
       "      <th>983</th>\n",
       "      <td>1.000000</td>\n",
       "      <td>0.999416</td>\n",
       "      <td>1</td>\n",
       "      <td>b\"At the 2005 Phoenix Film Festival, it was no secret which film ranked at the top of everyone's viewing list. Checking Out (2...</td>\n",
       "    </tr>\n",
       "    <tr>\n",
       "      <th>819</th>\n",
       "      <td>1.000000</td>\n",
       "      <td>0.999409</td>\n",
       "      <td>1</td>\n",
       "      <td>b\"I thought that this is a wonderfully written movie. I love little Scamp, and the street-wise Angel. This movie is very easy ...</td>\n",
       "    </tr>\n",
       "    <tr>\n",
       "      <th>214</th>\n",
       "      <td>1.000000</td>\n",
       "      <td>0.999246</td>\n",
       "      <td>1</td>\n",
       "      <td>b\"The biggest heroes, is one of the greatest movies ever. A good story, great actors and a brilliant ending is what makes this...</td>\n",
       "    </tr>\n",
       "  </tbody>\n",
       "</table>\n",
       "</div>"
      ],
      "text/plain": [
       "        pred     prob  real  \\\n",
       "75  1.000000 0.999449     1   \n",
       "427 1.000000 0.999442     1   \n",
       "983 1.000000 0.999416     1   \n",
       "819 1.000000 0.999409     1   \n",
       "214 1.000000 0.999246     1   \n",
       "\n",
       "                                                                                                                                  text  \n",
       "75   b'For those that are great fans and collectors of dinosaurs like I am, it is not only a very informative series but also puts ...  \n",
       "427  b'Very glad to see that this excellent film gets such high marks from the users of IMDB. The Best Years of Their Lives remains...  \n",
       "983  b\"At the 2005 Phoenix Film Festival, it was no secret which film ranked at the top of everyone's viewing list. Checking Out (2...  \n",
       "819  b\"I thought that this is a wonderfully written movie. I love little Scamp, and the street-wise Angel. This movie is very easy ...  \n",
       "214  b\"The biggest heroes, is one of the greatest movies ever. A good story, great actors and a brilliant ending is what makes this...  "
      ]
     },
     "metadata": {},
     "output_type": "display_data"
    },
    {
     "data": {
      "text/markdown": [
       "#### Lowest 5"
      ]
     },
     "metadata": {},
     "output_type": "display_data"
    },
    {
     "data": {
      "text/html": [
       "<div>\n",
       "<style scoped>\n",
       "    .dataframe tbody tr th:only-of-type {\n",
       "        vertical-align: middle;\n",
       "    }\n",
       "\n",
       "    .dataframe tbody tr th {\n",
       "        vertical-align: top;\n",
       "    }\n",
       "\n",
       "    .dataframe thead th {\n",
       "        text-align: right;\n",
       "    }\n",
       "</style>\n",
       "<table border=\"1\" class=\"dataframe\">\n",
       "  <thead>\n",
       "    <tr style=\"text-align: right;\">\n",
       "      <th></th>\n",
       "      <th>pred</th>\n",
       "      <th>prob</th>\n",
       "      <th>real</th>\n",
       "      <th>text</th>\n",
       "    </tr>\n",
       "  </thead>\n",
       "  <tbody>\n",
       "    <tr>\n",
       "      <th>837</th>\n",
       "      <td>0.000000</td>\n",
       "      <td>0.000226</td>\n",
       "      <td>0</td>\n",
       "      <td>b'As Anthony Bourdain said... \"I wanted to stick my head in a bucket of lye, pull my eyeballs out and jump off a cliff.\" This ...</td>\n",
       "    </tr>\n",
       "    <tr>\n",
       "      <th>720</th>\n",
       "      <td>0.000000</td>\n",
       "      <td>0.000270</td>\n",
       "      <td>0</td>\n",
       "      <td>b'To soccer fans every where -- stay away from this movie. It was so baaaaddd! Lame acting, lame script, lame soccer and no di...</td>\n",
       "    </tr>\n",
       "    <tr>\n",
       "      <th>82</th>\n",
       "      <td>0.000000</td>\n",
       "      <td>0.000555</td>\n",
       "      <td>0</td>\n",
       "      <td>b'That was a waste of 9 dollars. the movie was terrible. all the \"scary\" parts were pointless and sadly repetitive. Seemingly ...</td>\n",
       "    </tr>\n",
       "    <tr>\n",
       "      <th>197</th>\n",
       "      <td>0.000000</td>\n",
       "      <td>0.000689</td>\n",
       "      <td>0</td>\n",
       "      <td>b'Anyone who knows anything about evolution wouldn\\'t even need to see the film to say \"fake\". \"it\\'s never been disproved\" al...</td>\n",
       "    </tr>\n",
       "    <tr>\n",
       "      <th>150</th>\n",
       "      <td>0.000000</td>\n",
       "      <td>0.000832</td>\n",
       "      <td>0</td>\n",
       "      <td>b'Usual awful movie... I\\'ll not bother you about the synopsis, just put together The Core, Armageddon, an evil-planner Milita...</td>\n",
       "    </tr>\n",
       "  </tbody>\n",
       "</table>\n",
       "</div>"
      ],
      "text/plain": [
       "        pred     prob  real  \\\n",
       "837 0.000000 0.000226     0   \n",
       "720 0.000000 0.000270     0   \n",
       "82  0.000000 0.000555     0   \n",
       "197 0.000000 0.000689     0   \n",
       "150 0.000000 0.000832     0   \n",
       "\n",
       "                                                                                                                                  text  \n",
       "837  b'As Anthony Bourdain said... \"I wanted to stick my head in a bucket of lye, pull my eyeballs out and jump off a cliff.\" This ...  \n",
       "720  b'To soccer fans every where -- stay away from this movie. It was so baaaaddd! Lame acting, lame script, lame soccer and no di...  \n",
       "82   b'That was a waste of 9 dollars. the movie was terrible. all the \"scary\" parts were pointless and sadly repetitive. Seemingly ...  \n",
       "197  b'Anyone who knows anything about evolution wouldn\\'t even need to see the film to say \"fake\". \"it\\'s never been disproved\" al...  \n",
       "150  b'Usual awful movie... I\\'ll not bother you about the synopsis, just put together The Core, Armageddon, an evil-planner Milita...  "
      ]
     },
     "metadata": {},
     "output_type": "display_data"
    },
    {
     "data": {
      "text/markdown": [
       "#### Highest 5 mispredicted"
      ]
     },
     "metadata": {},
     "output_type": "display_data"
    },
    {
     "data": {
      "text/html": [
       "<div>\n",
       "<style scoped>\n",
       "    .dataframe tbody tr th:only-of-type {\n",
       "        vertical-align: middle;\n",
       "    }\n",
       "\n",
       "    .dataframe tbody tr th {\n",
       "        vertical-align: top;\n",
       "    }\n",
       "\n",
       "    .dataframe thead th {\n",
       "        text-align: right;\n",
       "    }\n",
       "</style>\n",
       "<table border=\"1\" class=\"dataframe\">\n",
       "  <thead>\n",
       "    <tr style=\"text-align: right;\">\n",
       "      <th></th>\n",
       "      <th>pred</th>\n",
       "      <th>prob</th>\n",
       "      <th>real</th>\n",
       "      <th>text</th>\n",
       "    </tr>\n",
       "  </thead>\n",
       "  <tbody>\n",
       "    <tr>\n",
       "      <th>523</th>\n",
       "      <td>1.000000</td>\n",
       "      <td>0.998667</td>\n",
       "      <td>0</td>\n",
       "      <td>b\"This film has the language, the style and the attitude down ... plus greats rides from Occy (a world champ) and the great Je...</td>\n",
       "    </tr>\n",
       "    <tr>\n",
       "      <th>545</th>\n",
       "      <td>1.000000</td>\n",
       "      <td>0.984308</td>\n",
       "      <td>0</td>\n",
       "      <td>b'Note to self. Never ever ever again watch a serious movie with Charlie Sheen in it. Great comedian, horrible seal. This movi...</td>\n",
       "    </tr>\n",
       "    <tr>\n",
       "      <th>34</th>\n",
       "      <td>1.000000</td>\n",
       "      <td>0.981001</td>\n",
       "      <td>0</td>\n",
       "      <td>b\"Since I am not a big Steven Seagal fan, I thought this was a pretty good movie. It is apparent that his fans are very disple...</td>\n",
       "    </tr>\n",
       "    <tr>\n",
       "      <th>65</th>\n",
       "      <td>1.000000</td>\n",
       "      <td>0.980274</td>\n",
       "      <td>0</td>\n",
       "      <td>b'Not the funniest movie ever.....but I have to watch this film at least once a year just so I can fall in Love with Michelle ...</td>\n",
       "    </tr>\n",
       "    <tr>\n",
       "      <th>659</th>\n",
       "      <td>1.000000</td>\n",
       "      <td>0.973124</td>\n",
       "      <td>0</td>\n",
       "      <td>b\"My ratings: Acting - 3/10 Suspense - 2/10 Character Attachment - 1/10 Plot - 2/10 Character Development - 2/10 Overall - 2/1...</td>\n",
       "    </tr>\n",
       "  </tbody>\n",
       "</table>\n",
       "</div>"
      ],
      "text/plain": [
       "        pred     prob  real  \\\n",
       "523 1.000000 0.998667     0   \n",
       "545 1.000000 0.984308     0   \n",
       "34  1.000000 0.981001     0   \n",
       "65  1.000000 0.980274     0   \n",
       "659 1.000000 0.973124     0   \n",
       "\n",
       "                                                                                                                                  text  \n",
       "523  b\"This film has the language, the style and the attitude down ... plus greats rides from Occy (a world champ) and the great Je...  \n",
       "545  b'Note to self. Never ever ever again watch a serious movie with Charlie Sheen in it. Great comedian, horrible seal. This movi...  \n",
       "34   b\"Since I am not a big Steven Seagal fan, I thought this was a pretty good movie. It is apparent that his fans are very disple...  \n",
       "65   b'Not the funniest movie ever.....but I have to watch this film at least once a year just so I can fall in Love with Michelle ...  \n",
       "659  b\"My ratings: Acting - 3/10 Suspense - 2/10 Character Attachment - 1/10 Plot - 2/10 Character Development - 2/10 Overall - 2/1...  "
      ]
     },
     "metadata": {},
     "output_type": "display_data"
    },
    {
     "data": {
      "text/markdown": [
       "#### Lowest 5 mispredicted"
      ]
     },
     "metadata": {},
     "output_type": "display_data"
    },
    {
     "data": {
      "text/html": [
       "<div>\n",
       "<style scoped>\n",
       "    .dataframe tbody tr th:only-of-type {\n",
       "        vertical-align: middle;\n",
       "    }\n",
       "\n",
       "    .dataframe tbody tr th {\n",
       "        vertical-align: top;\n",
       "    }\n",
       "\n",
       "    .dataframe thead th {\n",
       "        text-align: right;\n",
       "    }\n",
       "</style>\n",
       "<table border=\"1\" class=\"dataframe\">\n",
       "  <thead>\n",
       "    <tr style=\"text-align: right;\">\n",
       "      <th></th>\n",
       "      <th>pred</th>\n",
       "      <th>prob</th>\n",
       "      <th>real</th>\n",
       "      <th>text</th>\n",
       "    </tr>\n",
       "  </thead>\n",
       "  <tbody>\n",
       "    <tr>\n",
       "      <th>897</th>\n",
       "      <td>0.000000</td>\n",
       "      <td>0.022145</td>\n",
       "      <td>1</td>\n",
       "      <td>b'If you value your freedom!&lt;br /&gt;&lt;br /&gt;I first got seriously interested in The Branch Davidian debacle after reading an artic...</td>\n",
       "    </tr>\n",
       "    <tr>\n",
       "      <th>43</th>\n",
       "      <td>0.000000</td>\n",
       "      <td>0.022989</td>\n",
       "      <td>1</td>\n",
       "      <td>b\"The casting of Robert Culp is probably the only decent move the production team made with this film. Falk and Culp were marv...</td>\n",
       "    </tr>\n",
       "    <tr>\n",
       "      <th>244</th>\n",
       "      <td>0.000000</td>\n",
       "      <td>0.024823</td>\n",
       "      <td>1</td>\n",
       "      <td>b\"If a joke doesn't offend anybody, it isn't funny.&lt;br /&gt;&lt;br /&gt;The Inki cartoons are offensive, no doubt about it. So is rap m...</td>\n",
       "    </tr>\n",
       "    <tr>\n",
       "      <th>958</th>\n",
       "      <td>0.000000</td>\n",
       "      <td>0.044192</td>\n",
       "      <td>1</td>\n",
       "      <td>b'I can honestly say that \"Death Bed: The Bed That Eats\" was a much better movie than I expected. Allow me to clarify the plot...</td>\n",
       "    </tr>\n",
       "    <tr>\n",
       "      <th>610</th>\n",
       "      <td>0.000000</td>\n",
       "      <td>0.048435</td>\n",
       "      <td>1</td>\n",
       "      <td>b'...and normally i don\\'t like surprises!! Watch this movie by chance in a motel in South Africa second week of a three month...</td>\n",
       "    </tr>\n",
       "  </tbody>\n",
       "</table>\n",
       "</div>"
      ],
      "text/plain": [
       "        pred     prob  real  \\\n",
       "897 0.000000 0.022145     1   \n",
       "43  0.000000 0.022989     1   \n",
       "244 0.000000 0.024823     1   \n",
       "958 0.000000 0.044192     1   \n",
       "610 0.000000 0.048435     1   \n",
       "\n",
       "                                                                                                                                  text  \n",
       "897  b'If you value your freedom!<br /><br />I first got seriously interested in The Branch Davidian debacle after reading an artic...  \n",
       "43   b\"The casting of Robert Culp is probably the only decent move the production team made with this film. Falk and Culp were marv...  \n",
       "244  b\"If a joke doesn't offend anybody, it isn't funny.<br /><br />The Inki cartoons are offensive, no doubt about it. So is rap m...  \n",
       "958  b'I can honestly say that \"Death Bed: The Bed That Eats\" was a much better movie than I expected. Allow me to clarify the plot...  \n",
       "610  b'...and normally i don\\'t like surprises!! Watch this movie by chance in a motel in South Africa second week of a three month...  "
      ]
     },
     "metadata": {},
     "output_type": "display_data"
    },
    {
     "data": {
      "text/markdown": [
       "#### Classification report for mlpclassifier"
      ]
     },
     "metadata": {},
     "output_type": "display_data"
    },
    {
     "name": "stdout",
     "output_type": "stream",
     "text": [
      "             precision    recall  f1-score   support\n",
      "\n",
      "   Negative       0.89      0.82      0.85       498\n",
      "   Positive       0.84      0.90      0.87       502\n",
      "\n",
      "avg / total       0.86      0.86      0.86      1000\n",
      "\n"
     ]
    },
    {
     "data": {
      "image/png": "[encoded data removed]",
      "text/plain": [
       "<matplotlib.figure.Figure at 0x7f2c3d25ce80>"
      ]
     },
     "metadata": {},
     "output_type": "display_data"
    }
   ],
   "source": [
    "mlp_model = models.MLPModel(\n",
    "    nlp, dataset_id,\n",
    "    hidden_layer_sizes=(50, 50), \n",
    "    max_iter=50, \n",
    "    verbose=True)\n",
    "\n",
    "accuracy = train_model_and_display_results(\n",
    "    mlp_model,\n",
    "    X_sklearn_preprocessed, \n",
    "    preprocessed=True\n",
    ")\n",
    "\n",
    "if SAVE_IN_STORE:\n",
    "    store.add_model(mlp_model, \"mlp_imdb\", \"IMDB Multi-Layer Perceptron\", metadata={\n",
    "        'Dataset': 'Internet Movie Database',\n",
    "        'Training samples': len(X_sklearn_preprocessed),\n",
    "        'Accuracy': accuracy,\n",
    "        'Description': \"MLP algorithm from Sklearn package, with 50x50 hidden layers sizes\"\n",
    "    })"
   ]
  },
  {
   "cell_type": "code",
   "execution_count": 12,
   "metadata": {},
   "outputs": [
    {
     "data": {
      "text/markdown": [
       "## GaussianNBModel"
      ]
     },
     "metadata": {},
     "output_type": "display_data"
    },
    {
     "data": {
      "text/markdown": [
       "#### Training"
      ]
     },
     "metadata": {},
     "output_type": "display_data"
    },
    {
     "name": "stdout",
     "output_type": "stream",
     "text": [
      "Loading model...\n",
      "Unable to load model, training...\n",
      "Model 'gaussiannb_imdb_all_d41d8cd9.pkl' saved\n"
     ]
    },
    {
     "name": "stderr",
     "output_type": "stream",
     "text": [
      "/usr/local/lib/python3.5/dist-packages/sklearn/utils/validation.py:578: DataConversionWarning: A column-vector y was passed when a 1d array was expected. Please change the shape of y to (n_samples, ), for example using ravel().\n",
      "  y = column_or_1d(y, warn=True)\n"
     ]
    },
    {
     "data": {
      "text/markdown": [
       "#### Overview of created model"
      ]
     },
     "metadata": {},
     "output_type": "display_data"
    },
    {
     "data": {
      "text/plain": [
       "GaussianNB(priors=None)"
      ]
     },
     "metadata": {},
     "output_type": "display_data"
    },
    {
     "data": {
      "text/markdown": [
       "#### Model results"
      ]
     },
     "metadata": {},
     "output_type": "display_data"
    },
    {
     "data": {
      "text/markdown": [
       "#### Predicted scores"
      ]
     },
     "metadata": {},
     "output_type": "display_data"
    },
    {
     "data": {
      "text/html": [
       "<div>\n",
       "<style scoped>\n",
       "    .dataframe tbody tr th:only-of-type {\n",
       "        vertical-align: middle;\n",
       "    }\n",
       "\n",
       "    .dataframe tbody tr th {\n",
       "        vertical-align: top;\n",
       "    }\n",
       "\n",
       "    .dataframe thead th {\n",
       "        text-align: right;\n",
       "    }\n",
       "</style>\n",
       "<table border=\"1\" class=\"dataframe\">\n",
       "  <thead>\n",
       "    <tr style=\"text-align: right;\">\n",
       "      <th></th>\n",
       "      <th>score</th>\n",
       "      <th>text</th>\n",
       "    </tr>\n",
       "  </thead>\n",
       "  <tbody>\n",
       "    <tr>\n",
       "      <th>0</th>\n",
       "      <td>1.0</td>\n",
       "      <td>This movie is, in my opinion, very worth watching!</td>\n",
       "    </tr>\n",
       "    <tr>\n",
       "      <th>1</th>\n",
       "      <td>1.0</td>\n",
       "      <td>I kinda liked that movie. Maybe it's not as good as other, but still watchable</td>\n",
       "    </tr>\n",
       "    <tr>\n",
       "      <th>2</th>\n",
       "      <td>1.0</td>\n",
       "      <td>I have to warn everybody, this movie is really bad. Actors don't know how to play. It su!*!</td>\n",
       "    </tr>\n",
       "  </tbody>\n",
       "</table>\n",
       "</div>"
      ],
      "text/plain": [
       "   score  \\\n",
       "0  1.0     \n",
       "1  1.0     \n",
       "2  1.0     \n",
       "\n",
       "                                                                                          text  \n",
       "0  This movie is, in my opinion, very worth watching!                                           \n",
       "1  I kinda liked that movie. Maybe it's not as good as other, but still watchable               \n",
       "2  I have to warn everybody, this movie is really bad. Actors don't know how to play. It su!*!  "
      ]
     },
     "metadata": {},
     "output_type": "display_data"
    },
    {
     "data": {
      "text/markdown": [
       "#### Highest 5"
      ]
     },
     "metadata": {},
     "output_type": "display_data"
    },
    {
     "data": {
      "text/html": [
       "<div>\n",
       "<style scoped>\n",
       "    .dataframe tbody tr th:only-of-type {\n",
       "        vertical-align: middle;\n",
       "    }\n",
       "\n",
       "    .dataframe tbody tr th {\n",
       "        vertical-align: top;\n",
       "    }\n",
       "\n",
       "    .dataframe thead th {\n",
       "        text-align: right;\n",
       "    }\n",
       "</style>\n",
       "<table border=\"1\" class=\"dataframe\">\n",
       "  <thead>\n",
       "    <tr style=\"text-align: right;\">\n",
       "      <th></th>\n",
       "      <th>pred</th>\n",
       "      <th>prob</th>\n",
       "      <th>real</th>\n",
       "      <th>text</th>\n",
       "    </tr>\n",
       "  </thead>\n",
       "  <tbody>\n",
       "    <tr>\n",
       "      <th>0</th>\n",
       "      <td>1.000000</td>\n",
       "      <td>1.000000</td>\n",
       "      <td>1</td>\n",
       "      <td>b\"Don't hate Heather Graham because she's beautiful, hate her because she's fun to watch in this movie. Like the hip clothing ...</td>\n",
       "    </tr>\n",
       "    <tr>\n",
       "      <th>2</th>\n",
       "      <td>1.000000</td>\n",
       "      <td>1.000000</td>\n",
       "      <td>1</td>\n",
       "      <td>b\"I caught this movie on the Horror Channel and was quite impressed by the film's Gothic atmosphere and tone. As a big fan of ...</td>\n",
       "    </tr>\n",
       "    <tr>\n",
       "      <th>6</th>\n",
       "      <td>1.000000</td>\n",
       "      <td>1.000000</td>\n",
       "      <td>1</td>\n",
       "      <td>b\"I think this is one hell of a movie...........We can see Steven fighting around with his martial art stuff again and like in...</td>\n",
       "    </tr>\n",
       "    <tr>\n",
       "      <th>9</th>\n",
       "      <td>1.000000</td>\n",
       "      <td>1.000000</td>\n",
       "      <td>1</td>\n",
       "      <td>b\"This excellent movie starring Elizabeth Montgomery is long overdue for release in DVD form. The same can be said for her ear...</td>\n",
       "    </tr>\n",
       "    <tr>\n",
       "      <th>21</th>\n",
       "      <td>1.000000</td>\n",
       "      <td>1.000000</td>\n",
       "      <td>1</td>\n",
       "      <td>b'Big Fat Liar is a great watch for kids of all ages, even adults. I had a great time watching this movie and recommend this t...</td>\n",
       "    </tr>\n",
       "  </tbody>\n",
       "</table>\n",
       "</div>"
      ],
      "text/plain": [
       "       pred     prob  real  \\\n",
       "0  1.000000 1.000000     1   \n",
       "2  1.000000 1.000000     1   \n",
       "6  1.000000 1.000000     1   \n",
       "9  1.000000 1.000000     1   \n",
       "21 1.000000 1.000000     1   \n",
       "\n",
       "                                                                                                                                 text  \n",
       "0   b\"Don't hate Heather Graham because she's beautiful, hate her because she's fun to watch in this movie. Like the hip clothing ...  \n",
       "2   b\"I caught this movie on the Horror Channel and was quite impressed by the film's Gothic atmosphere and tone. As a big fan of ...  \n",
       "6   b\"I think this is one hell of a movie...........We can see Steven fighting around with his martial art stuff again and like in...  \n",
       "9   b\"This excellent movie starring Elizabeth Montgomery is long overdue for release in DVD form. The same can be said for her ear...  \n",
       "21  b'Big Fat Liar is a great watch for kids of all ages, even adults. I had a great time watching this movie and recommend this t...  "
      ]
     },
     "metadata": {},
     "output_type": "display_data"
    },
    {
     "data": {
      "text/markdown": [
       "#### Lowest 5"
      ]
     },
     "metadata": {},
     "output_type": "display_data"
    },
    {
     "data": {
      "text/html": [
       "<div>\n",
       "<style scoped>\n",
       "    .dataframe tbody tr th:only-of-type {\n",
       "        vertical-align: middle;\n",
       "    }\n",
       "\n",
       "    .dataframe tbody tr th {\n",
       "        vertical-align: top;\n",
       "    }\n",
       "\n",
       "    .dataframe thead th {\n",
       "        text-align: right;\n",
       "    }\n",
       "</style>\n",
       "<table border=\"1\" class=\"dataframe\">\n",
       "  <thead>\n",
       "    <tr style=\"text-align: right;\">\n",
       "      <th></th>\n",
       "      <th>pred</th>\n",
       "      <th>prob</th>\n",
       "      <th>real</th>\n",
       "      <th>text</th>\n",
       "    </tr>\n",
       "  </thead>\n",
       "  <tbody>\n",
       "    <tr>\n",
       "      <th>619</th>\n",
       "      <td>0.000000</td>\n",
       "      <td>0.000000</td>\n",
       "      <td>0</td>\n",
       "      <td>b'This movie has got to be about one of the worst i have ever seen. The humor was crude, hardly funny and been heard a million...</td>\n",
       "    </tr>\n",
       "    <tr>\n",
       "      <th>575</th>\n",
       "      <td>0.000000</td>\n",
       "      <td>0.000000</td>\n",
       "      <td>0</td>\n",
       "      <td>b\"Bloody Birthday is a totally rubbish slasher movie from beginning to end. &lt;br /&gt;&lt;br /&gt;I found the acting to be pretty good c...</td>\n",
       "    </tr>\n",
       "    <tr>\n",
       "      <th>956</th>\n",
       "      <td>0.000000</td>\n",
       "      <td>0.000000</td>\n",
       "      <td>0</td>\n",
       "      <td>b'What could have been some majorly creepy stuff ends up being an incomprehensible, nutty motion picture that even the filmmak...</td>\n",
       "    </tr>\n",
       "    <tr>\n",
       "      <th>145</th>\n",
       "      <td>0.000000</td>\n",
       "      <td>0.000000</td>\n",
       "      <td>0</td>\n",
       "      <td>b\"I would rather have someone cut out my eyeballs with a razor blade than have to watch this movie again. I watched it from st...</td>\n",
       "    </tr>\n",
       "    <tr>\n",
       "      <th>265</th>\n",
       "      <td>0.000000</td>\n",
       "      <td>0.000000</td>\n",
       "      <td>0</td>\n",
       "      <td>b'Idiots go camping and act like idiots before they finally die like idiots, yes Camp Blood (or if you\\'re wanting an awful, b...</td>\n",
       "    </tr>\n",
       "  </tbody>\n",
       "</table>\n",
       "</div>"
      ],
      "text/plain": [
       "        pred     prob  real  \\\n",
       "619 0.000000 0.000000     0   \n",
       "575 0.000000 0.000000     0   \n",
       "956 0.000000 0.000000     0   \n",
       "145 0.000000 0.000000     0   \n",
       "265 0.000000 0.000000     0   \n",
       "\n",
       "                                                                                                                                  text  \n",
       "619  b'This movie has got to be about one of the worst i have ever seen. The humor was crude, hardly funny and been heard a million...  \n",
       "575  b\"Bloody Birthday is a totally rubbish slasher movie from beginning to end. <br /><br />I found the acting to be pretty good c...  \n",
       "956  b'What could have been some majorly creepy stuff ends up being an incomprehensible, nutty motion picture that even the filmmak...  \n",
       "145  b\"I would rather have someone cut out my eyeballs with a razor blade than have to watch this movie again. I watched it from st...  \n",
       "265  b'Idiots go camping and act like idiots before they finally die like idiots, yes Camp Blood (or if you\\'re wanting an awful, b...  "
      ]
     },
     "metadata": {},
     "output_type": "display_data"
    },
    {
     "data": {
      "text/markdown": [
       "#### Highest 5 mispredicted"
      ]
     },
     "metadata": {},
     "output_type": "display_data"
    },
    {
     "data": {
      "text/html": [
       "<div>\n",
       "<style scoped>\n",
       "    .dataframe tbody tr th:only-of-type {\n",
       "        vertical-align: middle;\n",
       "    }\n",
       "\n",
       "    .dataframe tbody tr th {\n",
       "        vertical-align: top;\n",
       "    }\n",
       "\n",
       "    .dataframe thead th {\n",
       "        text-align: right;\n",
       "    }\n",
       "</style>\n",
       "<table border=\"1\" class=\"dataframe\">\n",
       "  <thead>\n",
       "    <tr style=\"text-align: right;\">\n",
       "      <th></th>\n",
       "      <th>pred</th>\n",
       "      <th>prob</th>\n",
       "      <th>real</th>\n",
       "      <th>text</th>\n",
       "    </tr>\n",
       "  </thead>\n",
       "  <tbody>\n",
       "    <tr>\n",
       "      <th>34</th>\n",
       "      <td>1.000000</td>\n",
       "      <td>1.000000</td>\n",
       "      <td>0</td>\n",
       "      <td>b\"Since I am not a big Steven Seagal fan, I thought this was a pretty good movie. It is apparent that his fans are very disple...</td>\n",
       "    </tr>\n",
       "    <tr>\n",
       "      <th>73</th>\n",
       "      <td>1.000000</td>\n",
       "      <td>1.000000</td>\n",
       "      <td>0</td>\n",
       "      <td>b'Problems: 1) Although billed as \"a loving tribute to Poverty Row,\" a lot of the old footage is not even from Poverty Row fil...</td>\n",
       "    </tr>\n",
       "    <tr>\n",
       "      <th>116</th>\n",
       "      <td>1.000000</td>\n",
       "      <td>1.000000</td>\n",
       "      <td>0</td>\n",
       "      <td>b'While studying the differences between religion and cult in college, Mindy (Rachel Miner), who is the best student in the cl...</td>\n",
       "    </tr>\n",
       "    <tr>\n",
       "      <th>120</th>\n",
       "      <td>1.000000</td>\n",
       "      <td>1.000000</td>\n",
       "      <td>0</td>\n",
       "      <td>b'Pat O\\'Brien portrays Knute Rockne, the All-American Notre Dame football coach. No doubt, this film will be considerably mor...</td>\n",
       "    </tr>\n",
       "    <tr>\n",
       "      <th>143</th>\n",
       "      <td>1.000000</td>\n",
       "      <td>1.000000</td>\n",
       "      <td>0</td>\n",
       "      <td>b\"Jason Lee does well to give this doggy movie fleeting promise, but it's not enough to distinguish it from any other bland fa...</td>\n",
       "    </tr>\n",
       "  </tbody>\n",
       "</table>\n",
       "</div>"
      ],
      "text/plain": [
       "        pred     prob  real  \\\n",
       "34  1.000000 1.000000     0   \n",
       "73  1.000000 1.000000     0   \n",
       "116 1.000000 1.000000     0   \n",
       "120 1.000000 1.000000     0   \n",
       "143 1.000000 1.000000     0   \n",
       "\n",
       "                                                                                                                                  text  \n",
       "34   b\"Since I am not a big Steven Seagal fan, I thought this was a pretty good movie. It is apparent that his fans are very disple...  \n",
       "73   b'Problems: 1) Although billed as \"a loving tribute to Poverty Row,\" a lot of the old footage is not even from Poverty Row fil...  \n",
       "116  b'While studying the differences between religion and cult in college, Mindy (Rachel Miner), who is the best student in the cl...  \n",
       "120  b'Pat O\\'Brien portrays Knute Rockne, the All-American Notre Dame football coach. No doubt, this film will be considerably mor...  \n",
       "143  b\"Jason Lee does well to give this doggy movie fleeting promise, but it's not enough to distinguish it from any other bland fa...  "
      ]
     },
     "metadata": {},
     "output_type": "display_data"
    },
    {
     "data": {
      "text/markdown": [
       "#### Lowest 5 mispredicted"
      ]
     },
     "metadata": {},
     "output_type": "display_data"
    },
    {
     "data": {
      "text/html": [
       "<div>\n",
       "<style scoped>\n",
       "    .dataframe tbody tr th:only-of-type {\n",
       "        vertical-align: middle;\n",
       "    }\n",
       "\n",
       "    .dataframe tbody tr th {\n",
       "        vertical-align: top;\n",
       "    }\n",
       "\n",
       "    .dataframe thead th {\n",
       "        text-align: right;\n",
       "    }\n",
       "</style>\n",
       "<table border=\"1\" class=\"dataframe\">\n",
       "  <thead>\n",
       "    <tr style=\"text-align: right;\">\n",
       "      <th></th>\n",
       "      <th>pred</th>\n",
       "      <th>prob</th>\n",
       "      <th>real</th>\n",
       "      <th>text</th>\n",
       "    </tr>\n",
       "  </thead>\n",
       "  <tbody>\n",
       "    <tr>\n",
       "      <th>924</th>\n",
       "      <td>0.000000</td>\n",
       "      <td>0.000000</td>\n",
       "      <td>1</td>\n",
       "      <td>b\"Might contain spoilers.&lt;br /&gt;&lt;br /&gt;This is just a good movie. Lots of good silly stuff to laugh at. However, do not watch th...</td>\n",
       "    </tr>\n",
       "    <tr>\n",
       "      <th>717</th>\n",
       "      <td>0.000000</td>\n",
       "      <td>0.000000</td>\n",
       "      <td>1</td>\n",
       "      <td>b'i haven\\'t seen this in years but when i was about 6 i first saw this on VHS and i must have watched it at least 10 times. n...</td>\n",
       "    </tr>\n",
       "    <tr>\n",
       "      <th>467</th>\n",
       "      <td>0.000000</td>\n",
       "      <td>0.000000</td>\n",
       "      <td>1</td>\n",
       "      <td>b\"yes, i have noticed that there are 347 other comments, i think that is a good sign for a movie, even if some are negative. i...</td>\n",
       "    </tr>\n",
       "    <tr>\n",
       "      <th>965</th>\n",
       "      <td>0.000000</td>\n",
       "      <td>0.000000</td>\n",
       "      <td>1</td>\n",
       "      <td>b\"The very few reviews I could find online of Barnens \\xc3\\xb6 really do not do it justice. I read them all before ordering th...</td>\n",
       "    </tr>\n",
       "    <tr>\n",
       "      <th>879</th>\n",
       "      <td>0.000000</td>\n",
       "      <td>0.000000</td>\n",
       "      <td>1</td>\n",
       "      <td>b'One of the most macabre, depressing, yet eye-opening docs. I\\'ve watched in awhile. There\\'s no narration or story that\\'s t...</td>\n",
       "    </tr>\n",
       "  </tbody>\n",
       "</table>\n",
       "</div>"
      ],
      "text/plain": [
       "        pred     prob  real  \\\n",
       "924 0.000000 0.000000     1   \n",
       "717 0.000000 0.000000     1   \n",
       "467 0.000000 0.000000     1   \n",
       "965 0.000000 0.000000     1   \n",
       "879 0.000000 0.000000     1   \n",
       "\n",
       "                                                                                                                                  text  \n",
       "924  b\"Might contain spoilers.<br /><br />This is just a good movie. Lots of good silly stuff to laugh at. However, do not watch th...  \n",
       "717  b'i haven\\'t seen this in years but when i was about 6 i first saw this on VHS and i must have watched it at least 10 times. n...  \n",
       "467  b\"yes, i have noticed that there are 347 other comments, i think that is a good sign for a movie, even if some are negative. i...  \n",
       "965  b\"The very few reviews I could find online of Barnens \\xc3\\xb6 really do not do it justice. I read them all before ordering th...  \n",
       "879  b'One of the most macabre, depressing, yet eye-opening docs. I\\'ve watched in awhile. There\\'s no narration or story that\\'s t...  "
      ]
     },
     "metadata": {},
     "output_type": "display_data"
    },
    {
     "data": {
      "text/markdown": [
       "#### Classification report for gaussiannb"
      ]
     },
     "metadata": {},
     "output_type": "display_data"
    },
    {
     "name": "stdout",
     "output_type": "stream",
     "text": [
      "             precision    recall  f1-score   support\n",
      "\n",
      "   Negative       0.67      0.77      0.72       498\n",
      "   Positive       0.74      0.63      0.68       502\n",
      "\n",
      "avg / total       0.71      0.70      0.70      1000\n",
      "\n"
     ]
    },
    {
     "data": {
      "image/png": "[encoded data removed]",
      "text/plain": [
       "<matplotlib.figure.Figure at 0x7f2c3d25cf98>"
      ]
     },
     "metadata": {},
     "output_type": "display_data"
    }
   ],
   "source": [
    "gaussian_nb_model = models.GaussianNBModel(\n",
    "    nlp, dataset_id\n",
    ")\n",
    "\n",
    "accuracy = train_model_and_display_results(\n",
    "    gaussian_nb_model,\n",
    "    X_sklearn_preprocessed, \n",
    "    preprocessed=True\n",
    ")\n",
    "\n",
    "\n",
    "if SAVE_IN_STORE:\n",
    "    store.add_model(gaussian_nb_model, \"gnb_imdb\", \"IMDB Gaussian Naive Bayes\", metadata={\n",
    "        'Dataset': 'Internet Movie Database',\n",
    "        'Training samples': len(X_sklearn_preprocessed),\n",
    "        'Accuracy': accuracy,\n",
    "        'Description': \"GaussianNB algorithm from Sklearn package, default options\"\n",
    "    })"
   ]
  },
  {
   "cell_type": "code",
   "execution_count": 13,
   "metadata": {},
   "outputs": [
    {
     "data": {
      "text/markdown": [
       "## AdaBoostModel"
      ]
     },
     "metadata": {},
     "output_type": "display_data"
    },
    {
     "data": {
      "text/markdown": [
       "#### Training"
      ]
     },
     "metadata": {},
     "output_type": "display_data"
    },
    {
     "name": "stdout",
     "output_type": "stream",
     "text": [
      "Loading model...\n",
      "Unable to load model, training...\n"
     ]
    },
    {
     "name": "stderr",
     "output_type": "stream",
     "text": [
      "/usr/local/lib/python3.5/dist-packages/sklearn/utils/validation.py:578: DataConversionWarning: A column-vector y was passed when a 1d array was expected. Please change the shape of y to (n_samples, ), for example using ravel().\n",
      "  y = column_or_1d(y, warn=True)\n"
     ]
    },
    {
     "name": "stdout",
     "output_type": "stream",
     "text": [
      "Model 'adaboostclassifier_imdb_all_d41d8cd9.pkl' saved\n"
     ]
    },
    {
     "data": {
      "text/markdown": [
       "#### Overview of created model"
      ]
     },
     "metadata": {},
     "output_type": "display_data"
    },
    {
     "data": {
      "text/plain": [
       "AdaBoostClassifier(algorithm='SAMME.R', base_estimator=None,\n",
       "          learning_rate=1.0, n_estimators=50, random_state=None)"
      ]
     },
     "metadata": {},
     "output_type": "display_data"
    },
    {
     "data": {
      "text/markdown": [
       "#### Model results"
      ]
     },
     "metadata": {},
     "output_type": "display_data"
    },
    {
     "data": {
      "text/markdown": [
       "#### Predicted scores"
      ]
     },
     "metadata": {},
     "output_type": "display_data"
    },
    {
     "data": {
      "text/html": [
       "<div>\n",
       "<style scoped>\n",
       "    .dataframe tbody tr th:only-of-type {\n",
       "        vertical-align: middle;\n",
       "    }\n",
       "\n",
       "    .dataframe tbody tr th {\n",
       "        vertical-align: top;\n",
       "    }\n",
       "\n",
       "    .dataframe thead th {\n",
       "        text-align: right;\n",
       "    }\n",
       "</style>\n",
       "<table border=\"1\" class=\"dataframe\">\n",
       "  <thead>\n",
       "    <tr style=\"text-align: right;\">\n",
       "      <th></th>\n",
       "      <th>score</th>\n",
       "      <th>text</th>\n",
       "    </tr>\n",
       "  </thead>\n",
       "  <tbody>\n",
       "    <tr>\n",
       "      <th>0</th>\n",
       "      <td>0.510652</td>\n",
       "      <td>This movie is, in my opinion, very worth watching!</td>\n",
       "    </tr>\n",
       "    <tr>\n",
       "      <th>1</th>\n",
       "      <td>0.486407</td>\n",
       "      <td>I kinda liked that movie. Maybe it's not as good as other, but still watchable</td>\n",
       "    </tr>\n",
       "    <tr>\n",
       "      <th>2</th>\n",
       "      <td>0.502071</td>\n",
       "      <td>I have to warn everybody, this movie is really bad. Actors don't know how to play. It su!*!</td>\n",
       "    </tr>\n",
       "  </tbody>\n",
       "</table>\n",
       "</div>"
      ],
      "text/plain": [
       "      score  \\\n",
       "0  0.510652   \n",
       "1  0.486407   \n",
       "2  0.502071   \n",
       "\n",
       "                                                                                          text  \n",
       "0  This movie is, in my opinion, very worth watching!                                           \n",
       "1  I kinda liked that movie. Maybe it's not as good as other, but still watchable               \n",
       "2  I have to warn everybody, this movie is really bad. Actors don't know how to play. It su!*!  "
      ]
     },
     "metadata": {},
     "output_type": "display_data"
    },
    {
     "data": {
      "text/markdown": [
       "#### Highest 5"
      ]
     },
     "metadata": {},
     "output_type": "display_data"
    },
    {
     "data": {
      "text/html": [
       "<div>\n",
       "<style scoped>\n",
       "    .dataframe tbody tr th:only-of-type {\n",
       "        vertical-align: middle;\n",
       "    }\n",
       "\n",
       "    .dataframe tbody tr th {\n",
       "        vertical-align: top;\n",
       "    }\n",
       "\n",
       "    .dataframe thead th {\n",
       "        text-align: right;\n",
       "    }\n",
       "</style>\n",
       "<table border=\"1\" class=\"dataframe\">\n",
       "  <thead>\n",
       "    <tr style=\"text-align: right;\">\n",
       "      <th></th>\n",
       "      <th>pred</th>\n",
       "      <th>prob</th>\n",
       "      <th>real</th>\n",
       "      <th>text</th>\n",
       "    </tr>\n",
       "  </thead>\n",
       "  <tbody>\n",
       "    <tr>\n",
       "      <th>428</th>\n",
       "      <td>1.000000</td>\n",
       "      <td>0.537114</td>\n",
       "      <td>1</td>\n",
       "      <td>b'These critics need to find a new job!!! This movie is based on a TRUE STORY, which has made history. It illustrates beautifu...</td>\n",
       "    </tr>\n",
       "    <tr>\n",
       "      <th>762</th>\n",
       "      <td>1.000000</td>\n",
       "      <td>0.535769</td>\n",
       "      <td>1</td>\n",
       "      <td>b\"The movie has taken a little flack for playing fast and loose with the facts. But it will put you close to being in a time a...</td>\n",
       "    </tr>\n",
       "    <tr>\n",
       "      <th>818</th>\n",
       "      <td>1.000000</td>\n",
       "      <td>0.532010</td>\n",
       "      <td>1</td>\n",
       "      <td>b\"1981's Just Before Dawn is one of the best tales of wilderness horror out there. It's one of the finest-made slashers of the...</td>\n",
       "    </tr>\n",
       "    <tr>\n",
       "      <th>307</th>\n",
       "      <td>1.000000</td>\n",
       "      <td>0.531643</td>\n",
       "      <td>1</td>\n",
       "      <td>b\"I have seen this film on a Sunday evening and I must say there is no better way to end the weekend. I am totally pleased wit...</td>\n",
       "    </tr>\n",
       "    <tr>\n",
       "      <th>66</th>\n",
       "      <td>1.000000</td>\n",
       "      <td>0.530431</td>\n",
       "      <td>1</td>\n",
       "      <td>b'Love Jones cleverly portrays young African-American men and women in a clear, positive, realistic sense. I feel that all of ...</td>\n",
       "    </tr>\n",
       "  </tbody>\n",
       "</table>\n",
       "</div>"
      ],
      "text/plain": [
       "        pred     prob  real  \\\n",
       "428 1.000000 0.537114     1   \n",
       "762 1.000000 0.535769     1   \n",
       "818 1.000000 0.532010     1   \n",
       "307 1.000000 0.531643     1   \n",
       "66  1.000000 0.530431     1   \n",
       "\n",
       "                                                                                                                                  text  \n",
       "428  b'These critics need to find a new job!!! This movie is based on a TRUE STORY, which has made history. It illustrates beautifu...  \n",
       "762  b\"The movie has taken a little flack for playing fast and loose with the facts. But it will put you close to being in a time a...  \n",
       "818  b\"1981's Just Before Dawn is one of the best tales of wilderness horror out there. It's one of the finest-made slashers of the...  \n",
       "307  b\"I have seen this film on a Sunday evening and I must say there is no better way to end the weekend. I am totally pleased wit...  \n",
       "66   b'Love Jones cleverly portrays young African-American men and women in a clear, positive, realistic sense. I feel that all of ...  "
      ]
     },
     "metadata": {},
     "output_type": "display_data"
    },
    {
     "data": {
      "text/markdown": [
       "#### Lowest 5"
      ]
     },
     "metadata": {},
     "output_type": "display_data"
    },
    {
     "data": {
      "text/html": [
       "<div>\n",
       "<style scoped>\n",
       "    .dataframe tbody tr th:only-of-type {\n",
       "        vertical-align: middle;\n",
       "    }\n",
       "\n",
       "    .dataframe tbody tr th {\n",
       "        vertical-align: top;\n",
       "    }\n",
       "\n",
       "    .dataframe thead th {\n",
       "        text-align: right;\n",
       "    }\n",
       "</style>\n",
       "<table border=\"1\" class=\"dataframe\">\n",
       "  <thead>\n",
       "    <tr style=\"text-align: right;\">\n",
       "      <th></th>\n",
       "      <th>pred</th>\n",
       "      <th>prob</th>\n",
       "      <th>real</th>\n",
       "      <th>text</th>\n",
       "    </tr>\n",
       "  </thead>\n",
       "  <tbody>\n",
       "    <tr>\n",
       "      <th>265</th>\n",
       "      <td>0.000000</td>\n",
       "      <td>0.464389</td>\n",
       "      <td>0</td>\n",
       "      <td>b'Idiots go camping and act like idiots before they finally die like idiots, yes Camp Blood (or if you\\'re wanting an awful, b...</td>\n",
       "    </tr>\n",
       "    <tr>\n",
       "      <th>837</th>\n",
       "      <td>0.000000</td>\n",
       "      <td>0.468950</td>\n",
       "      <td>0</td>\n",
       "      <td>b'As Anthony Bourdain said... \"I wanted to stick my head in a bucket of lye, pull my eyeballs out and jump off a cliff.\" This ...</td>\n",
       "    </tr>\n",
       "    <tr>\n",
       "      <th>541</th>\n",
       "      <td>0.000000</td>\n",
       "      <td>0.471254</td>\n",
       "      <td>0</td>\n",
       "      <td>b'This movie was pointless. I can\\'t even call it sci-fi, since that requires more from a movie than merely taking place in sp...</td>\n",
       "    </tr>\n",
       "    <tr>\n",
       "      <th>781</th>\n",
       "      <td>0.000000</td>\n",
       "      <td>0.471262</td>\n",
       "      <td>0</td>\n",
       "      <td>b\"why oh why did i ever waste my time watching this film? it was given to me on video by a friend and i thought i'll watch it,...</td>\n",
       "    </tr>\n",
       "    <tr>\n",
       "      <th>870</th>\n",
       "      <td>0.000000</td>\n",
       "      <td>0.471542</td>\n",
       "      <td>0</td>\n",
       "      <td>b'The spoof genre, which has lacked creativity and humor for some time already, gets spat upon yet again by hacks with no tale...</td>\n",
       "    </tr>\n",
       "  </tbody>\n",
       "</table>\n",
       "</div>"
      ],
      "text/plain": [
       "        pred     prob  real  \\\n",
       "265 0.000000 0.464389     0   \n",
       "837 0.000000 0.468950     0   \n",
       "541 0.000000 0.471254     0   \n",
       "781 0.000000 0.471262     0   \n",
       "870 0.000000 0.471542     0   \n",
       "\n",
       "                                                                                                                                  text  \n",
       "265  b'Idiots go camping and act like idiots before they finally die like idiots, yes Camp Blood (or if you\\'re wanting an awful, b...  \n",
       "837  b'As Anthony Bourdain said... \"I wanted to stick my head in a bucket of lye, pull my eyeballs out and jump off a cliff.\" This ...  \n",
       "541  b'This movie was pointless. I can\\'t even call it sci-fi, since that requires more from a movie than merely taking place in sp...  \n",
       "781  b\"why oh why did i ever waste my time watching this film? it was given to me on video by a friend and i thought i'll watch it,...  \n",
       "870  b'The spoof genre, which has lacked creativity and humor for some time already, gets spat upon yet again by hacks with no tale...  "
      ]
     },
     "metadata": {},
     "output_type": "display_data"
    },
    {
     "data": {
      "text/markdown": [
       "#### Highest 5 mispredicted"
      ]
     },
     "metadata": {},
     "output_type": "display_data"
    },
    {
     "data": {
      "text/html": [
       "<div>\n",
       "<style scoped>\n",
       "    .dataframe tbody tr th:only-of-type {\n",
       "        vertical-align: middle;\n",
       "    }\n",
       "\n",
       "    .dataframe tbody tr th {\n",
       "        vertical-align: top;\n",
       "    }\n",
       "\n",
       "    .dataframe thead th {\n",
       "        text-align: right;\n",
       "    }\n",
       "</style>\n",
       "<table border=\"1\" class=\"dataframe\">\n",
       "  <thead>\n",
       "    <tr style=\"text-align: right;\">\n",
       "      <th></th>\n",
       "      <th>pred</th>\n",
       "      <th>prob</th>\n",
       "      <th>real</th>\n",
       "      <th>text</th>\n",
       "    </tr>\n",
       "  </thead>\n",
       "  <tbody>\n",
       "    <tr>\n",
       "      <th>224</th>\n",
       "      <td>1.000000</td>\n",
       "      <td>0.526081</td>\n",
       "      <td>0</td>\n",
       "      <td>b\"Well, I think I've finally seen my last Woody Allen movie! I read the review in the newspaper and went to see this movie wit...</td>\n",
       "    </tr>\n",
       "    <tr>\n",
       "      <th>523</th>\n",
       "      <td>1.000000</td>\n",
       "      <td>0.523544</td>\n",
       "      <td>0</td>\n",
       "      <td>b\"This film has the language, the style and the attitude down ... plus greats rides from Occy (a world champ) and the great Je...</td>\n",
       "    </tr>\n",
       "    <tr>\n",
       "      <th>57</th>\n",
       "      <td>1.000000</td>\n",
       "      <td>0.518183</td>\n",
       "      <td>0</td>\n",
       "      <td>b'Terrible. The only way I could even begin to consider it funny is if it made fun of itself. \"Amazing. It\\'s about an ass tha...</td>\n",
       "    </tr>\n",
       "    <tr>\n",
       "      <th>482</th>\n",
       "      <td>1.000000</td>\n",
       "      <td>0.517693</td>\n",
       "      <td>0</td>\n",
       "      <td>b\"Although this was the first Hunter S. Thompson documentary I have seen it was average at best despite the involvement's of h...</td>\n",
       "    </tr>\n",
       "    <tr>\n",
       "      <th>11</th>\n",
       "      <td>1.000000</td>\n",
       "      <td>0.517682</td>\n",
       "      <td>0</td>\n",
       "      <td>b\"Even Disney are guilty of the cash cow disease, after the roaring success of The Love Bug in 1968, the house of mouse cashed...</td>\n",
       "    </tr>\n",
       "  </tbody>\n",
       "</table>\n",
       "</div>"
      ],
      "text/plain": [
       "        pred     prob  real  \\\n",
       "224 1.000000 0.526081     0   \n",
       "523 1.000000 0.523544     0   \n",
       "57  1.000000 0.518183     0   \n",
       "482 1.000000 0.517693     0   \n",
       "11  1.000000 0.517682     0   \n",
       "\n",
       "                                                                                                                                  text  \n",
       "224  b\"Well, I think I've finally seen my last Woody Allen movie! I read the review in the newspaper and went to see this movie wit...  \n",
       "523  b\"This film has the language, the style and the attitude down ... plus greats rides from Occy (a world champ) and the great Je...  \n",
       "57   b'Terrible. The only way I could even begin to consider it funny is if it made fun of itself. \"Amazing. It\\'s about an ass tha...  \n",
       "482  b\"Although this was the first Hunter S. Thompson documentary I have seen it was average at best despite the involvement's of h...  \n",
       "11   b\"Even Disney are guilty of the cash cow disease, after the roaring success of The Love Bug in 1968, the house of mouse cashed...  "
      ]
     },
     "metadata": {},
     "output_type": "display_data"
    },
    {
     "data": {
      "text/markdown": [
       "#### Lowest 5 mispredicted"
      ]
     },
     "metadata": {},
     "output_type": "display_data"
    },
    {
     "data": {
      "text/html": [
       "<div>\n",
       "<style scoped>\n",
       "    .dataframe tbody tr th:only-of-type {\n",
       "        vertical-align: middle;\n",
       "    }\n",
       "\n",
       "    .dataframe tbody tr th {\n",
       "        vertical-align: top;\n",
       "    }\n",
       "\n",
       "    .dataframe thead th {\n",
       "        text-align: right;\n",
       "    }\n",
       "</style>\n",
       "<table border=\"1\" class=\"dataframe\">\n",
       "  <thead>\n",
       "    <tr style=\"text-align: right;\">\n",
       "      <th></th>\n",
       "      <th>pred</th>\n",
       "      <th>prob</th>\n",
       "      <th>real</th>\n",
       "      <th>text</th>\n",
       "    </tr>\n",
       "  </thead>\n",
       "  <tbody>\n",
       "    <tr>\n",
       "      <th>924</th>\n",
       "      <td>0.000000</td>\n",
       "      <td>0.473169</td>\n",
       "      <td>1</td>\n",
       "      <td>b\"Might contain spoilers.&lt;br /&gt;&lt;br /&gt;This is just a good movie. Lots of good silly stuff to laugh at. However, do not watch th...</td>\n",
       "    </tr>\n",
       "    <tr>\n",
       "      <th>958</th>\n",
       "      <td>0.000000</td>\n",
       "      <td>0.483614</td>\n",
       "      <td>1</td>\n",
       "      <td>b'I can honestly say that \"Death Bed: The Bed That Eats\" was a much better movie than I expected. Allow me to clarify the plot...</td>\n",
       "    </tr>\n",
       "    <tr>\n",
       "      <th>244</th>\n",
       "      <td>0.000000</td>\n",
       "      <td>0.483891</td>\n",
       "      <td>1</td>\n",
       "      <td>b\"If a joke doesn't offend anybody, it isn't funny.&lt;br /&gt;&lt;br /&gt;The Inki cartoons are offensive, no doubt about it. So is rap m...</td>\n",
       "    </tr>\n",
       "    <tr>\n",
       "      <th>417</th>\n",
       "      <td>0.000000</td>\n",
       "      <td>0.485617</td>\n",
       "      <td>1</td>\n",
       "      <td>b\"I'm not sure where to start with this. In short, it was a disappointing movie. Having taught the novella, I was aware that i...</td>\n",
       "    </tr>\n",
       "    <tr>\n",
       "      <th>473</th>\n",
       "      <td>0.000000</td>\n",
       "      <td>0.486484</td>\n",
       "      <td>1</td>\n",
       "      <td>b'this movie is funny funny funny my favorite quote from the movie \"i think i saw a half naked Indian in my room last night\" r...</td>\n",
       "    </tr>\n",
       "  </tbody>\n",
       "</table>\n",
       "</div>"
      ],
      "text/plain": [
       "        pred     prob  real  \\\n",
       "924 0.000000 0.473169     1   \n",
       "958 0.000000 0.483614     1   \n",
       "244 0.000000 0.483891     1   \n",
       "417 0.000000 0.485617     1   \n",
       "473 0.000000 0.486484     1   \n",
       "\n",
       "                                                                                                                                  text  \n",
       "924  b\"Might contain spoilers.<br /><br />This is just a good movie. Lots of good silly stuff to laugh at. However, do not watch th...  \n",
       "958  b'I can honestly say that \"Death Bed: The Bed That Eats\" was a much better movie than I expected. Allow me to clarify the plot...  \n",
       "244  b\"If a joke doesn't offend anybody, it isn't funny.<br /><br />The Inki cartoons are offensive, no doubt about it. So is rap m...  \n",
       "417  b\"I'm not sure where to start with this. In short, it was a disappointing movie. Having taught the novella, I was aware that i...  \n",
       "473  b'this movie is funny funny funny my favorite quote from the movie \"i think i saw a half naked Indian in my room last night\" r...  "
      ]
     },
     "metadata": {},
     "output_type": "display_data"
    },
    {
     "data": {
      "text/markdown": [
       "#### Classification report for adaboostclassifier"
      ]
     },
     "metadata": {},
     "output_type": "display_data"
    },
    {
     "name": "stdout",
     "output_type": "stream",
     "text": [
      "             precision    recall  f1-score   support\n",
      "\n",
      "   Negative       0.82      0.80      0.81       498\n",
      "   Positive       0.80      0.83      0.81       502\n",
      "\n",
      "avg / total       0.81      0.81      0.81      1000\n",
      "\n"
     ]
    },
    {
     "data": {
      "image/png": "[encoded data removed]",
      "text/plain": [
       "<matplotlib.figure.Figure at 0x7f2c3d21f3c8>"
      ]
     },
     "metadata": {},
     "output_type": "display_data"
    }
   ],
   "source": [
    "ada_boost_model = models.AdaBoostModel(\n",
    "    nlp, dataset_id\n",
    ")\n",
    "\n",
    "accuracy = train_model_and_display_results(\n",
    "    ada_boost_model,\n",
    "    X_sklearn_preprocessed, \n",
    "    preprocessed=True\n",
    ")\n",
    "\n",
    "if SAVE_IN_STORE:\n",
    "    store.add_model(ada_boost_model, \"ada_imdb\", \"IMDB Ada Boost\", metadata={\n",
    "        'Dataset': 'Internet Movie Database',\n",
    "        'Training samples': len(X_sklearn_preprocessed),\n",
    "        'Accuracy': accuracy,\n",
    "        'Description': \"Ada Boost algorithm from Sklearn package, default options\"\n",
    "    })"
   ]
  },
  {
   "cell_type": "code",
   "execution_count": 15,
   "metadata": {
    "scrolled": true
   },
   "outputs": [
    {
     "data": {
      "text/markdown": [
       "## QuadraticDiscriminantAnalysisModel"
      ]
     },
     "metadata": {},
     "output_type": "display_data"
    },
    {
     "data": {
      "text/markdown": [
       "#### Training"
      ]
     },
     "metadata": {},
     "output_type": "display_data"
    },
    {
     "name": "stdout",
     "output_type": "stream",
     "text": [
      "Loading model...\n",
      "Model 'quadraticdiscriminantanalysis_imdb_all_d41d8cd9.pkl' loaded\n"
     ]
    },
    {
     "data": {
      "text/markdown": [
       "#### Overview of created model"
      ]
     },
     "metadata": {},
     "output_type": "display_data"
    },
    {
     "data": {
      "text/plain": [
       "QuadraticDiscriminantAnalysis(priors=None, reg_param=0.0,\n",
       "               store_covariance=False, store_covariances=None, tol=0.0001)"
      ]
     },
     "metadata": {},
     "output_type": "display_data"
    },
    {
     "data": {
      "text/markdown": [
       "#### Model results"
      ]
     },
     "metadata": {},
     "output_type": "display_data"
    },
    {
     "data": {
      "text/markdown": [
       "#### Predicted scores"
      ]
     },
     "metadata": {},
     "output_type": "display_data"
    },
    {
     "data": {
      "text/html": [
       "<div>\n",
       "<style scoped>\n",
       "    .dataframe tbody tr th:only-of-type {\n",
       "        vertical-align: middle;\n",
       "    }\n",
       "\n",
       "    .dataframe tbody tr th {\n",
       "        vertical-align: top;\n",
       "    }\n",
       "\n",
       "    .dataframe thead th {\n",
       "        text-align: right;\n",
       "    }\n",
       "</style>\n",
       "<table border=\"1\" class=\"dataframe\">\n",
       "  <thead>\n",
       "    <tr style=\"text-align: right;\">\n",
       "      <th></th>\n",
       "      <th>score</th>\n",
       "      <th>text</th>\n",
       "    </tr>\n",
       "  </thead>\n",
       "  <tbody>\n",
       "    <tr>\n",
       "      <th>0</th>\n",
       "      <td>1.000000</td>\n",
       "      <td>This movie is, in my opinion, very worth watching!</td>\n",
       "    </tr>\n",
       "    <tr>\n",
       "      <th>1</th>\n",
       "      <td>1.000000</td>\n",
       "      <td>I kinda liked that movie. Maybe it's not as good as other, but still watchable</td>\n",
       "    </tr>\n",
       "    <tr>\n",
       "      <th>2</th>\n",
       "      <td>0.001013</td>\n",
       "      <td>I have to warn everybody, this movie is really bad. Actors don't know how to play. It su!*!</td>\n",
       "    </tr>\n",
       "  </tbody>\n",
       "</table>\n",
       "</div>"
      ],
      "text/plain": [
       "      score  \\\n",
       "0  1.000000   \n",
       "1  1.000000   \n",
       "2  0.001013   \n",
       "\n",
       "                                                                                          text  \n",
       "0  This movie is, in my opinion, very worth watching!                                           \n",
       "1  I kinda liked that movie. Maybe it's not as good as other, but still watchable               \n",
       "2  I have to warn everybody, this movie is really bad. Actors don't know how to play. It su!*!  "
      ]
     },
     "metadata": {},
     "output_type": "display_data"
    },
    {
     "data": {
      "text/markdown": [
       "#### Highest 5"
      ]
     },
     "metadata": {},
     "output_type": "display_data"
    },
    {
     "data": {
      "text/html": [
       "<div>\n",
       "<style scoped>\n",
       "    .dataframe tbody tr th:only-of-type {\n",
       "        vertical-align: middle;\n",
       "    }\n",
       "\n",
       "    .dataframe tbody tr th {\n",
       "        vertical-align: top;\n",
       "    }\n",
       "\n",
       "    .dataframe thead th {\n",
       "        text-align: right;\n",
       "    }\n",
       "</style>\n",
       "<table border=\"1\" class=\"dataframe\">\n",
       "  <thead>\n",
       "    <tr style=\"text-align: right;\">\n",
       "      <th></th>\n",
       "      <th>pred</th>\n",
       "      <th>prob</th>\n",
       "      <th>real</th>\n",
       "      <th>text</th>\n",
       "    </tr>\n",
       "  </thead>\n",
       "  <tbody>\n",
       "    <tr>\n",
       "      <th>11</th>\n",
       "      <td>1.000000</td>\n",
       "      <td>1.000000</td>\n",
       "      <td>0</td>\n",
       "      <td>b\"Even Disney are guilty of the cash cow disease, after the roaring success of The Love Bug in 1968, the house of mouse cashed...</td>\n",
       "    </tr>\n",
       "    <tr>\n",
       "      <th>21</th>\n",
       "      <td>1.000000</td>\n",
       "      <td>1.000000</td>\n",
       "      <td>1</td>\n",
       "      <td>b'Big Fat Liar is a great watch for kids of all ages, even adults. I had a great time watching this movie and recommend this t...</td>\n",
       "    </tr>\n",
       "    <tr>\n",
       "      <th>40</th>\n",
       "      <td>1.000000</td>\n",
       "      <td>1.000000</td>\n",
       "      <td>1</td>\n",
       "      <td>b'This is my favourite kung fu movie. It has a very authentic flavour, seasoned by an eerie music score (of tradition chinese ...</td>\n",
       "    </tr>\n",
       "    <tr>\n",
       "      <th>43</th>\n",
       "      <td>1.000000</td>\n",
       "      <td>1.000000</td>\n",
       "      <td>1</td>\n",
       "      <td>b\"The casting of Robert Culp is probably the only decent move the production team made with this film. Falk and Culp were marv...</td>\n",
       "    </tr>\n",
       "    <tr>\n",
       "      <th>75</th>\n",
       "      <td>1.000000</td>\n",
       "      <td>1.000000</td>\n",
       "      <td>1</td>\n",
       "      <td>b'For those that are great fans and collectors of dinosaurs like I am, it is not only a very informative series but also puts ...</td>\n",
       "    </tr>\n",
       "  </tbody>\n",
       "</table>\n",
       "</div>"
      ],
      "text/plain": [
       "       pred     prob  real  \\\n",
       "11 1.000000 1.000000     0   \n",
       "21 1.000000 1.000000     1   \n",
       "40 1.000000 1.000000     1   \n",
       "43 1.000000 1.000000     1   \n",
       "75 1.000000 1.000000     1   \n",
       "\n",
       "                                                                                                                                 text  \n",
       "11  b\"Even Disney are guilty of the cash cow disease, after the roaring success of The Love Bug in 1968, the house of mouse cashed...  \n",
       "21  b'Big Fat Liar is a great watch for kids of all ages, even adults. I had a great time watching this movie and recommend this t...  \n",
       "40  b'This is my favourite kung fu movie. It has a very authentic flavour, seasoned by an eerie music score (of tradition chinese ...  \n",
       "43  b\"The casting of Robert Culp is probably the only decent move the production team made with this film. Falk and Culp were marv...  \n",
       "75  b'For those that are great fans and collectors of dinosaurs like I am, it is not only a very informative series but also puts ...  "
      ]
     },
     "metadata": {},
     "output_type": "display_data"
    },
    {
     "data": {
      "text/markdown": [
       "#### Lowest 5"
      ]
     },
     "metadata": {},
     "output_type": "display_data"
    },
    {
     "data": {
      "text/html": [
       "<div>\n",
       "<style scoped>\n",
       "    .dataframe tbody tr th:only-of-type {\n",
       "        vertical-align: middle;\n",
       "    }\n",
       "\n",
       "    .dataframe tbody tr th {\n",
       "        vertical-align: top;\n",
       "    }\n",
       "\n",
       "    .dataframe thead th {\n",
       "        text-align: right;\n",
       "    }\n",
       "</style>\n",
       "<table border=\"1\" class=\"dataframe\">\n",
       "  <thead>\n",
       "    <tr style=\"text-align: right;\">\n",
       "      <th></th>\n",
       "      <th>pred</th>\n",
       "      <th>prob</th>\n",
       "      <th>real</th>\n",
       "      <th>text</th>\n",
       "    </tr>\n",
       "  </thead>\n",
       "  <tbody>\n",
       "    <tr>\n",
       "      <th>837</th>\n",
       "      <td>0.000000</td>\n",
       "      <td>0.000000</td>\n",
       "      <td>0</td>\n",
       "      <td>b'As Anthony Bourdain said... \"I wanted to stick my head in a bucket of lye, pull my eyeballs out and jump off a cliff.\" This ...</td>\n",
       "    </tr>\n",
       "    <tr>\n",
       "      <th>338</th>\n",
       "      <td>0.000000</td>\n",
       "      <td>0.000000</td>\n",
       "      <td>0</td>\n",
       "      <td>b\"This was really the worst movie I've ever seen. Anyone who has seen it will know what I'm talking about. I saw it on Starz, ...</td>\n",
       "    </tr>\n",
       "    <tr>\n",
       "      <th>725</th>\n",
       "      <td>0.000000</td>\n",
       "      <td>0.000000</td>\n",
       "      <td>1</td>\n",
       "      <td>b'It\\'s really good to see Van Damme\\'s film are slowly getting better of late and especially compared to C-grade flops \"Derai...</td>\n",
       "    </tr>\n",
       "    <tr>\n",
       "      <th>720</th>\n",
       "      <td>0.000000</td>\n",
       "      <td>0.000000</td>\n",
       "      <td>0</td>\n",
       "      <td>b'To soccer fans every where -- stay away from this movie. It was so baaaaddd! Lame acting, lame script, lame soccer and no di...</td>\n",
       "    </tr>\n",
       "    <tr>\n",
       "      <th>528</th>\n",
       "      <td>0.000000</td>\n",
       "      <td>0.000000</td>\n",
       "      <td>0</td>\n",
       "      <td>b'Bad, a lot a crap. It copied simone, also a bad movie! Them flips when \"loretta modern\" sang was lame. That internet scenes ...</td>\n",
       "    </tr>\n",
       "  </tbody>\n",
       "</table>\n",
       "</div>"
      ],
      "text/plain": [
       "        pred     prob  real  \\\n",
       "837 0.000000 0.000000     0   \n",
       "338 0.000000 0.000000     0   \n",
       "725 0.000000 0.000000     1   \n",
       "720 0.000000 0.000000     0   \n",
       "528 0.000000 0.000000     0   \n",
       "\n",
       "                                                                                                                                  text  \n",
       "837  b'As Anthony Bourdain said... \"I wanted to stick my head in a bucket of lye, pull my eyeballs out and jump off a cliff.\" This ...  \n",
       "338  b\"This was really the worst movie I've ever seen. Anyone who has seen it will know what I'm talking about. I saw it on Starz, ...  \n",
       "725  b'It\\'s really good to see Van Damme\\'s film are slowly getting better of late and especially compared to C-grade flops \"Derai...  \n",
       "720  b'To soccer fans every where -- stay away from this movie. It was so baaaaddd! Lame acting, lame script, lame soccer and no di...  \n",
       "528  b'Bad, a lot a crap. It copied simone, also a bad movie! Them flips when \"loretta modern\" sang was lame. That internet scenes ...  "
      ]
     },
     "metadata": {},
     "output_type": "display_data"
    },
    {
     "data": {
      "text/markdown": [
       "#### Highest 5 mispredicted"
      ]
     },
     "metadata": {},
     "output_type": "display_data"
    },
    {
     "data": {
      "text/html": [
       "<div>\n",
       "<style scoped>\n",
       "    .dataframe tbody tr th:only-of-type {\n",
       "        vertical-align: middle;\n",
       "    }\n",
       "\n",
       "    .dataframe tbody tr th {\n",
       "        vertical-align: top;\n",
       "    }\n",
       "\n",
       "    .dataframe thead th {\n",
       "        text-align: right;\n",
       "    }\n",
       "</style>\n",
       "<table border=\"1\" class=\"dataframe\">\n",
       "  <thead>\n",
       "    <tr style=\"text-align: right;\">\n",
       "      <th></th>\n",
       "      <th>pred</th>\n",
       "      <th>prob</th>\n",
       "      <th>real</th>\n",
       "      <th>text</th>\n",
       "    </tr>\n",
       "  </thead>\n",
       "  <tbody>\n",
       "    <tr>\n",
       "      <th>11</th>\n",
       "      <td>1.000000</td>\n",
       "      <td>1.000000</td>\n",
       "      <td>0</td>\n",
       "      <td>b\"Even Disney are guilty of the cash cow disease, after the roaring success of The Love Bug in 1968, the house of mouse cashed...</td>\n",
       "    </tr>\n",
       "    <tr>\n",
       "      <th>120</th>\n",
       "      <td>1.000000</td>\n",
       "      <td>1.000000</td>\n",
       "      <td>0</td>\n",
       "      <td>b'Pat O\\'Brien portrays Knute Rockne, the All-American Notre Dame football coach. No doubt, this film will be considerably mor...</td>\n",
       "    </tr>\n",
       "    <tr>\n",
       "      <th>247</th>\n",
       "      <td>1.000000</td>\n",
       "      <td>1.000000</td>\n",
       "      <td>0</td>\n",
       "      <td>b\"I saw this movie and I thought this is a stupid movie. What is even more stupid is that who had thought an idea that there s...</td>\n",
       "    </tr>\n",
       "    <tr>\n",
       "      <th>343</th>\n",
       "      <td>1.000000</td>\n",
       "      <td>1.000000</td>\n",
       "      <td>0</td>\n",
       "      <td>b'EVAN ALMIGHTY (2007) ** Steve Carell, Morgan Freeman, Lauren Graham, Johnny Simmons, Graham Phillips, Jimmy Bennett, John Go...</td>\n",
       "    </tr>\n",
       "    <tr>\n",
       "      <th>523</th>\n",
       "      <td>1.000000</td>\n",
       "      <td>1.000000</td>\n",
       "      <td>0</td>\n",
       "      <td>b\"This film has the language, the style and the attitude down ... plus greats rides from Occy (a world champ) and the great Je...</td>\n",
       "    </tr>\n",
       "  </tbody>\n",
       "</table>\n",
       "</div>"
      ],
      "text/plain": [
       "        pred     prob  real  \\\n",
       "11  1.000000 1.000000     0   \n",
       "120 1.000000 1.000000     0   \n",
       "247 1.000000 1.000000     0   \n",
       "343 1.000000 1.000000     0   \n",
       "523 1.000000 1.000000     0   \n",
       "\n",
       "                                                                                                                                  text  \n",
       "11   b\"Even Disney are guilty of the cash cow disease, after the roaring success of The Love Bug in 1968, the house of mouse cashed...  \n",
       "120  b'Pat O\\'Brien portrays Knute Rockne, the All-American Notre Dame football coach. No doubt, this film will be considerably mor...  \n",
       "247  b\"I saw this movie and I thought this is a stupid movie. What is even more stupid is that who had thought an idea that there s...  \n",
       "343  b'EVAN ALMIGHTY (2007) ** Steve Carell, Morgan Freeman, Lauren Graham, Johnny Simmons, Graham Phillips, Jimmy Bennett, John Go...  \n",
       "523  b\"This film has the language, the style and the attitude down ... plus greats rides from Occy (a world champ) and the great Je...  "
      ]
     },
     "metadata": {},
     "output_type": "display_data"
    },
    {
     "data": {
      "text/markdown": [
       "#### Lowest 5 mispredicted"
      ]
     },
     "metadata": {},
     "output_type": "display_data"
    },
    {
     "data": {
      "text/html": [
       "<div>\n",
       "<style scoped>\n",
       "    .dataframe tbody tr th:only-of-type {\n",
       "        vertical-align: middle;\n",
       "    }\n",
       "\n",
       "    .dataframe tbody tr th {\n",
       "        vertical-align: top;\n",
       "    }\n",
       "\n",
       "    .dataframe thead th {\n",
       "        text-align: right;\n",
       "    }\n",
       "</style>\n",
       "<table border=\"1\" class=\"dataframe\">\n",
       "  <thead>\n",
       "    <tr style=\"text-align: right;\">\n",
       "      <th></th>\n",
       "      <th>pred</th>\n",
       "      <th>prob</th>\n",
       "      <th>real</th>\n",
       "      <th>text</th>\n",
       "    </tr>\n",
       "  </thead>\n",
       "  <tbody>\n",
       "    <tr>\n",
       "      <th>725</th>\n",
       "      <td>0.000000</td>\n",
       "      <td>0.000000</td>\n",
       "      <td>1</td>\n",
       "      <td>b'It\\'s really good to see Van Damme\\'s film are slowly getting better of late and especially compared to C-grade flops \"Derai...</td>\n",
       "    </tr>\n",
       "    <tr>\n",
       "      <th>897</th>\n",
       "      <td>0.000000</td>\n",
       "      <td>0.000000</td>\n",
       "      <td>1</td>\n",
       "      <td>b'If you value your freedom!&lt;br /&gt;&lt;br /&gt;I first got seriously interested in The Branch Davidian debacle after reading an artic...</td>\n",
       "    </tr>\n",
       "    <tr>\n",
       "      <th>550</th>\n",
       "      <td>0.000000</td>\n",
       "      <td>0.000000</td>\n",
       "      <td>1</td>\n",
       "      <td>b\"This thriller is one of the few (film) surprises I've had in quite some time. Everybody - and I do mean EVERYBODY - I talked...</td>\n",
       "    </tr>\n",
       "    <tr>\n",
       "      <th>961</th>\n",
       "      <td>0.000000</td>\n",
       "      <td>0.000000</td>\n",
       "      <td>1</td>\n",
       "      <td>b'Ignore everyone else\\'s comments for this movie and watch it on pay cable (like I did) or rent it. You owe it to yourself. T...</td>\n",
       "    </tr>\n",
       "    <tr>\n",
       "      <th>880</th>\n",
       "      <td>0.000000</td>\n",
       "      <td>0.000000</td>\n",
       "      <td>1</td>\n",
       "      <td>b'I have never seen \"American Werewolf in London\" but this movie was very entertaining. When renting it I thought it was a hor...</td>\n",
       "    </tr>\n",
       "  </tbody>\n",
       "</table>\n",
       "</div>"
      ],
      "text/plain": [
       "        pred     prob  real  \\\n",
       "725 0.000000 0.000000     1   \n",
       "897 0.000000 0.000000     1   \n",
       "550 0.000000 0.000000     1   \n",
       "961 0.000000 0.000000     1   \n",
       "880 0.000000 0.000000     1   \n",
       "\n",
       "                                                                                                                                  text  \n",
       "725  b'It\\'s really good to see Van Damme\\'s film are slowly getting better of late and especially compared to C-grade flops \"Derai...  \n",
       "897  b'If you value your freedom!<br /><br />I first got seriously interested in The Branch Davidian debacle after reading an artic...  \n",
       "550  b\"This thriller is one of the few (film) surprises I've had in quite some time. Everybody - and I do mean EVERYBODY - I talked...  \n",
       "961  b'Ignore everyone else\\'s comments for this movie and watch it on pay cable (like I did) or rent it. You owe it to yourself. T...  \n",
       "880  b'I have never seen \"American Werewolf in London\" but this movie was very entertaining. When renting it I thought it was a hor...  "
      ]
     },
     "metadata": {},
     "output_type": "display_data"
    },
    {
     "data": {
      "text/markdown": [
       "#### Classification report for quadraticdiscriminantanalysis"
      ]
     },
     "metadata": {},
     "output_type": "display_data"
    },
    {
     "name": "stdout",
     "output_type": "stream",
     "text": [
      "             precision    recall  f1-score   support\n",
      "\n",
      "   Negative       0.68      0.83      0.75       498\n",
      "   Positive       0.78      0.62      0.69       502\n",
      "\n",
      "avg / total       0.73      0.72      0.72      1000\n",
      "\n"
     ]
    },
    {
     "data": {
      "image/png": "[encoded data removed]",
      "text/plain": [
       "<matplotlib.figure.Figure at 0x7f2c3c5d32e8>"
      ]
     },
     "metadata": {},
     "output_type": "display_data"
    }
   ],
   "source": [
    "qda_model = models.QuadraticDiscriminantAnalysisModel(\n",
    "    nlp, dataset_id\n",
    ")\n",
    "\n",
    "accuracy = train_model_and_display_results(\n",
    "    qda_model,\n",
    "    X_sklearn_preprocessed, \n",
    "    preprocessed=True\n",
    ")\n",
    "\n",
    "if SAVE_IN_STORE:\n",
    "    store.add_model(qda_model, \"qda_imdb\", \"IMDB Quadratic Discriminant Analysis\", metadata={\n",
    "        'Dataset': 'Internet Movie Database',\n",
    "        'Training samples': len(X_sklearn_preprocessed),\n",
    "        'Accuracy': accuracy,\n",
    "        'Description': \"Quadratic Discriminant Analysis algorithm from Sklearn package, default options\"\n",
    "    })"
   ]
  },
  {
   "cell_type": "code",
   "execution_count": 16,
   "metadata": {},
   "outputs": [
    {
     "data": {
      "text/markdown": [
       "## LogisticRegressionModel"
      ]
     },
     "metadata": {},
     "output_type": "display_data"
    },
    {
     "data": {
      "text/markdown": [
       "#### Training"
      ]
     },
     "metadata": {},
     "output_type": "display_data"
    },
    {
     "name": "stdout",
     "output_type": "stream",
     "text": [
      "Loading model...\n",
      "Unable to load model, training...\n"
     ]
    },
    {
     "name": "stderr",
     "output_type": "stream",
     "text": [
      "/usr/local/lib/python3.5/dist-packages/sklearn/utils/validation.py:578: DataConversionWarning: A column-vector y was passed when a 1d array was expected. Please change the shape of y to (n_samples, ), for example using ravel().\n",
      "  y = column_or_1d(y, warn=True)\n"
     ]
    },
    {
     "name": "stdout",
     "output_type": "stream",
     "text": [
      "Model 'logisticregression_imdb_all_90795899.pkl' saved\n"
     ]
    },
    {
     "data": {
      "text/markdown": [
       "#### Overview of created model"
      ]
     },
     "metadata": {},
     "output_type": "display_data"
    },
    {
     "data": {
      "text/plain": [
       "LogisticRegression(C=100000.0, class_weight=None, dual=False,\n",
       "          fit_intercept=True, intercept_scaling=1, max_iter=100,\n",
       "          multi_class='ovr', n_jobs=1, penalty='l2', random_state=None,\n",
       "          solver='liblinear', tol=0.0001, verbose=0, warm_start=False)"
      ]
     },
     "metadata": {},
     "output_type": "display_data"
    },
    {
     "data": {
      "text/markdown": [
       "#### Model results"
      ]
     },
     "metadata": {},
     "output_type": "display_data"
    },
    {
     "data": {
      "text/markdown": [
       "#### Predicted scores"
      ]
     },
     "metadata": {},
     "output_type": "display_data"
    },
    {
     "data": {
      "text/html": [
       "<div>\n",
       "<style scoped>\n",
       "    .dataframe tbody tr th:only-of-type {\n",
       "        vertical-align: middle;\n",
       "    }\n",
       "\n",
       "    .dataframe tbody tr th {\n",
       "        vertical-align: top;\n",
       "    }\n",
       "\n",
       "    .dataframe thead th {\n",
       "        text-align: right;\n",
       "    }\n",
       "</style>\n",
       "<table border=\"1\" class=\"dataframe\">\n",
       "  <thead>\n",
       "    <tr style=\"text-align: right;\">\n",
       "      <th></th>\n",
       "      <th>score</th>\n",
       "      <th>text</th>\n",
       "    </tr>\n",
       "  </thead>\n",
       "  <tbody>\n",
       "    <tr>\n",
       "      <th>0</th>\n",
       "      <td>0.998702</td>\n",
       "      <td>This movie is, in my opinion, very worth watching!</td>\n",
       "    </tr>\n",
       "    <tr>\n",
       "      <th>1</th>\n",
       "      <td>0.481527</td>\n",
       "      <td>I kinda liked that movie. Maybe it's not as good as other, but still watchable</td>\n",
       "    </tr>\n",
       "    <tr>\n",
       "      <th>2</th>\n",
       "      <td>0.078397</td>\n",
       "      <td>I have to warn everybody, this movie is really bad. Actors don't know how to play. It su!*!</td>\n",
       "    </tr>\n",
       "  </tbody>\n",
       "</table>\n",
       "</div>"
      ],
      "text/plain": [
       "      score  \\\n",
       "0  0.998702   \n",
       "1  0.481527   \n",
       "2  0.078397   \n",
       "\n",
       "                                                                                          text  \n",
       "0  This movie is, in my opinion, very worth watching!                                           \n",
       "1  I kinda liked that movie. Maybe it's not as good as other, but still watchable               \n",
       "2  I have to warn everybody, this movie is really bad. Actors don't know how to play. It su!*!  "
      ]
     },
     "metadata": {},
     "output_type": "display_data"
    },
    {
     "data": {
      "text/markdown": [
       "#### Highest 5"
      ]
     },
     "metadata": {},
     "output_type": "display_data"
    },
    {
     "data": {
      "text/html": [
       "<div>\n",
       "<style scoped>\n",
       "    .dataframe tbody tr th:only-of-type {\n",
       "        vertical-align: middle;\n",
       "    }\n",
       "\n",
       "    .dataframe tbody tr th {\n",
       "        vertical-align: top;\n",
       "    }\n",
       "\n",
       "    .dataframe thead th {\n",
       "        text-align: right;\n",
       "    }\n",
       "</style>\n",
       "<table border=\"1\" class=\"dataframe\">\n",
       "  <thead>\n",
       "    <tr style=\"text-align: right;\">\n",
       "      <th></th>\n",
       "      <th>pred</th>\n",
       "      <th>prob</th>\n",
       "      <th>real</th>\n",
       "      <th>text</th>\n",
       "    </tr>\n",
       "  </thead>\n",
       "  <tbody>\n",
       "    <tr>\n",
       "      <th>75</th>\n",
       "      <td>1.000000</td>\n",
       "      <td>0.999986</td>\n",
       "      <td>1</td>\n",
       "      <td>b'For those that are great fans and collectors of dinosaurs like I am, it is not only a very informative series but also puts ...</td>\n",
       "    </tr>\n",
       "    <tr>\n",
       "      <th>982</th>\n",
       "      <td>1.000000</td>\n",
       "      <td>0.999913</td>\n",
       "      <td>1</td>\n",
       "      <td>b\"This a wonderful sequel to the award winning Lonesome Dove miniseries in the 1980's. This sequel is perhaps, better than the...</td>\n",
       "    </tr>\n",
       "    <tr>\n",
       "      <th>819</th>\n",
       "      <td>1.000000</td>\n",
       "      <td>0.999877</td>\n",
       "      <td>1</td>\n",
       "      <td>b\"I thought that this is a wonderfully written movie. I love little Scamp, and the street-wise Angel. This movie is very easy ...</td>\n",
       "    </tr>\n",
       "    <tr>\n",
       "      <th>428</th>\n",
       "      <td>1.000000</td>\n",
       "      <td>0.999841</td>\n",
       "      <td>1</td>\n",
       "      <td>b'These critics need to find a new job!!! This movie is based on a TRUE STORY, which has made history. It illustrates beautifu...</td>\n",
       "    </tr>\n",
       "    <tr>\n",
       "      <th>523</th>\n",
       "      <td>1.000000</td>\n",
       "      <td>0.999813</td>\n",
       "      <td>0</td>\n",
       "      <td>b\"This film has the language, the style and the attitude down ... plus greats rides from Occy (a world champ) and the great Je...</td>\n",
       "    </tr>\n",
       "  </tbody>\n",
       "</table>\n",
       "</div>"
      ],
      "text/plain": [
       "        pred     prob  real  \\\n",
       "75  1.000000 0.999986     1   \n",
       "982 1.000000 0.999913     1   \n",
       "819 1.000000 0.999877     1   \n",
       "428 1.000000 0.999841     1   \n",
       "523 1.000000 0.999813     0   \n",
       "\n",
       "                                                                                                                                  text  \n",
       "75   b'For those that are great fans and collectors of dinosaurs like I am, it is not only a very informative series but also puts ...  \n",
       "982  b\"This a wonderful sequel to the award winning Lonesome Dove miniseries in the 1980's. This sequel is perhaps, better than the...  \n",
       "819  b\"I thought that this is a wonderfully written movie. I love little Scamp, and the street-wise Angel. This movie is very easy ...  \n",
       "428  b'These critics need to find a new job!!! This movie is based on a TRUE STORY, which has made history. It illustrates beautifu...  \n",
       "523  b\"This film has the language, the style and the attitude down ... plus greats rides from Occy (a world champ) and the great Je...  "
      ]
     },
     "metadata": {},
     "output_type": "display_data"
    },
    {
     "data": {
      "text/markdown": [
       "#### Lowest 5"
      ]
     },
     "metadata": {},
     "output_type": "display_data"
    },
    {
     "data": {
      "text/html": [
       "<div>\n",
       "<style scoped>\n",
       "    .dataframe tbody tr th:only-of-type {\n",
       "        vertical-align: middle;\n",
       "    }\n",
       "\n",
       "    .dataframe tbody tr th {\n",
       "        vertical-align: top;\n",
       "    }\n",
       "\n",
       "    .dataframe thead th {\n",
       "        text-align: right;\n",
       "    }\n",
       "</style>\n",
       "<table border=\"1\" class=\"dataframe\">\n",
       "  <thead>\n",
       "    <tr style=\"text-align: right;\">\n",
       "      <th></th>\n",
       "      <th>pred</th>\n",
       "      <th>prob</th>\n",
       "      <th>real</th>\n",
       "      <th>text</th>\n",
       "    </tr>\n",
       "  </thead>\n",
       "  <tbody>\n",
       "    <tr>\n",
       "      <th>837</th>\n",
       "      <td>0.000000</td>\n",
       "      <td>0.000004</td>\n",
       "      <td>0</td>\n",
       "      <td>b'As Anthony Bourdain said... \"I wanted to stick my head in a bucket of lye, pull my eyeballs out and jump off a cliff.\" This ...</td>\n",
       "    </tr>\n",
       "    <tr>\n",
       "      <th>528</th>\n",
       "      <td>0.000000</td>\n",
       "      <td>0.000012</td>\n",
       "      <td>0</td>\n",
       "      <td>b'Bad, a lot a crap. It copied simone, also a bad movie! Them flips when \"loretta modern\" sang was lame. That internet scenes ...</td>\n",
       "    </tr>\n",
       "    <tr>\n",
       "      <th>720</th>\n",
       "      <td>0.000000</td>\n",
       "      <td>0.000013</td>\n",
       "      <td>0</td>\n",
       "      <td>b'To soccer fans every where -- stay away from this movie. It was so baaaaddd! Lame acting, lame script, lame soccer and no di...</td>\n",
       "    </tr>\n",
       "    <tr>\n",
       "      <th>418</th>\n",
       "      <td>0.000000</td>\n",
       "      <td>0.000014</td>\n",
       "      <td>0</td>\n",
       "      <td>b'\"Cleo\\'s Second Husband\" is an amateurish attempt at psychodrama with more to fault than to praise. The plot is hacked, the ...</td>\n",
       "    </tr>\n",
       "    <tr>\n",
       "      <th>265</th>\n",
       "      <td>0.000000</td>\n",
       "      <td>0.000036</td>\n",
       "      <td>0</td>\n",
       "      <td>b'Idiots go camping and act like idiots before they finally die like idiots, yes Camp Blood (or if you\\'re wanting an awful, b...</td>\n",
       "    </tr>\n",
       "  </tbody>\n",
       "</table>\n",
       "</div>"
      ],
      "text/plain": [
       "        pred     prob  real  \\\n",
       "837 0.000000 0.000004     0   \n",
       "528 0.000000 0.000012     0   \n",
       "720 0.000000 0.000013     0   \n",
       "418 0.000000 0.000014     0   \n",
       "265 0.000000 0.000036     0   \n",
       "\n",
       "                                                                                                                                  text  \n",
       "837  b'As Anthony Bourdain said... \"I wanted to stick my head in a bucket of lye, pull my eyeballs out and jump off a cliff.\" This ...  \n",
       "528  b'Bad, a lot a crap. It copied simone, also a bad movie! Them flips when \"loretta modern\" sang was lame. That internet scenes ...  \n",
       "720  b'To soccer fans every where -- stay away from this movie. It was so baaaaddd! Lame acting, lame script, lame soccer and no di...  \n",
       "418  b'\"Cleo\\'s Second Husband\" is an amateurish attempt at psychodrama with more to fault than to praise. The plot is hacked, the ...  \n",
       "265  b'Idiots go camping and act like idiots before they finally die like idiots, yes Camp Blood (or if you\\'re wanting an awful, b...  "
      ]
     },
     "metadata": {},
     "output_type": "display_data"
    },
    {
     "data": {
      "text/markdown": [
       "#### Highest 5 mispredicted"
      ]
     },
     "metadata": {},
     "output_type": "display_data"
    },
    {
     "data": {
      "text/html": [
       "<div>\n",
       "<style scoped>\n",
       "    .dataframe tbody tr th:only-of-type {\n",
       "        vertical-align: middle;\n",
       "    }\n",
       "\n",
       "    .dataframe tbody tr th {\n",
       "        vertical-align: top;\n",
       "    }\n",
       "\n",
       "    .dataframe thead th {\n",
       "        text-align: right;\n",
       "    }\n",
       "</style>\n",
       "<table border=\"1\" class=\"dataframe\">\n",
       "  <thead>\n",
       "    <tr style=\"text-align: right;\">\n",
       "      <th></th>\n",
       "      <th>pred</th>\n",
       "      <th>prob</th>\n",
       "      <th>real</th>\n",
       "      <th>text</th>\n",
       "    </tr>\n",
       "  </thead>\n",
       "  <tbody>\n",
       "    <tr>\n",
       "      <th>523</th>\n",
       "      <td>1.000000</td>\n",
       "      <td>0.999813</td>\n",
       "      <td>0</td>\n",
       "      <td>b\"This film has the language, the style and the attitude down ... plus greats rides from Occy (a world champ) and the great Je...</td>\n",
       "    </tr>\n",
       "    <tr>\n",
       "      <th>71</th>\n",
       "      <td>1.000000</td>\n",
       "      <td>0.972409</td>\n",
       "      <td>0</td>\n",
       "      <td>b'I went to see this 3 nights ago here in Cork, Ireland. It was the world premiere of it, in the tiny cinema in the Triskel Ar...</td>\n",
       "    </tr>\n",
       "    <tr>\n",
       "      <th>11</th>\n",
       "      <td>1.000000</td>\n",
       "      <td>0.961680</td>\n",
       "      <td>0</td>\n",
       "      <td>b\"Even Disney are guilty of the cash cow disease, after the roaring success of The Love Bug in 1968, the house of mouse cashed...</td>\n",
       "    </tr>\n",
       "    <tr>\n",
       "      <th>810</th>\n",
       "      <td>1.000000</td>\n",
       "      <td>0.954614</td>\n",
       "      <td>0</td>\n",
       "      <td>b'I expected so much more than what I received from watching this movie. It is not that I object to literary license, (if that...</td>\n",
       "    </tr>\n",
       "    <tr>\n",
       "      <th>65</th>\n",
       "      <td>1.000000</td>\n",
       "      <td>0.953910</td>\n",
       "      <td>0</td>\n",
       "      <td>b'Not the funniest movie ever.....but I have to watch this film at least once a year just so I can fall in Love with Michelle ...</td>\n",
       "    </tr>\n",
       "  </tbody>\n",
       "</table>\n",
       "</div>"
      ],
      "text/plain": [
       "        pred     prob  real  \\\n",
       "523 1.000000 0.999813     0   \n",
       "71  1.000000 0.972409     0   \n",
       "11  1.000000 0.961680     0   \n",
       "810 1.000000 0.954614     0   \n",
       "65  1.000000 0.953910     0   \n",
       "\n",
       "                                                                                                                                  text  \n",
       "523  b\"This film has the language, the style and the attitude down ... plus greats rides from Occy (a world champ) and the great Je...  \n",
       "71   b'I went to see this 3 nights ago here in Cork, Ireland. It was the world premiere of it, in the tiny cinema in the Triskel Ar...  \n",
       "11   b\"Even Disney are guilty of the cash cow disease, after the roaring success of The Love Bug in 1968, the house of mouse cashed...  \n",
       "810  b'I expected so much more than what I received from watching this movie. It is not that I object to literary license, (if that...  \n",
       "65   b'Not the funniest movie ever.....but I have to watch this film at least once a year just so I can fall in Love with Michelle ...  "
      ]
     },
     "metadata": {},
     "output_type": "display_data"
    },
    {
     "data": {
      "text/markdown": [
       "#### Lowest 5 mispredicted"
      ]
     },
     "metadata": {},
     "output_type": "display_data"
    },
    {
     "data": {
      "text/html": [
       "<div>\n",
       "<style scoped>\n",
       "    .dataframe tbody tr th:only-of-type {\n",
       "        vertical-align: middle;\n",
       "    }\n",
       "\n",
       "    .dataframe tbody tr th {\n",
       "        vertical-align: top;\n",
       "    }\n",
       "\n",
       "    .dataframe thead th {\n",
       "        text-align: right;\n",
       "    }\n",
       "</style>\n",
       "<table border=\"1\" class=\"dataframe\">\n",
       "  <thead>\n",
       "    <tr style=\"text-align: right;\">\n",
       "      <th></th>\n",
       "      <th>pred</th>\n",
       "      <th>prob</th>\n",
       "      <th>real</th>\n",
       "      <th>text</th>\n",
       "    </tr>\n",
       "  </thead>\n",
       "  <tbody>\n",
       "    <tr>\n",
       "      <th>821</th>\n",
       "      <td>0.000000</td>\n",
       "      <td>0.004812</td>\n",
       "      <td>1</td>\n",
       "      <td>b'Sam Firstenberg\\'s \"Ninja 3:The Domination\" mixes martial arts with \"The Exorcist\" like horror.The horror elements thrown on...</td>\n",
       "    </tr>\n",
       "    <tr>\n",
       "      <th>244</th>\n",
       "      <td>0.000000</td>\n",
       "      <td>0.005137</td>\n",
       "      <td>1</td>\n",
       "      <td>b\"If a joke doesn't offend anybody, it isn't funny.&lt;br /&gt;&lt;br /&gt;The Inki cartoons are offensive, no doubt about it. So is rap m...</td>\n",
       "    </tr>\n",
       "    <tr>\n",
       "      <th>958</th>\n",
       "      <td>0.000000</td>\n",
       "      <td>0.022089</td>\n",
       "      <td>1</td>\n",
       "      <td>b'I can honestly say that \"Death Bed: The Bed That Eats\" was a much better movie than I expected. Allow me to clarify the plot...</td>\n",
       "    </tr>\n",
       "    <tr>\n",
       "      <th>553</th>\n",
       "      <td>0.000000</td>\n",
       "      <td>0.025684</td>\n",
       "      <td>1</td>\n",
       "      <td>b\"yes barney is nonsense now but when i was a kid it made perfect sense.&lt;br /&gt;&lt;br /&gt;i haven't gotten any smarter but i enjoyed...</td>\n",
       "    </tr>\n",
       "    <tr>\n",
       "      <th>924</th>\n",
       "      <td>0.000000</td>\n",
       "      <td>0.043110</td>\n",
       "      <td>1</td>\n",
       "      <td>b\"Might contain spoilers.&lt;br /&gt;&lt;br /&gt;This is just a good movie. Lots of good silly stuff to laugh at. However, do not watch th...</td>\n",
       "    </tr>\n",
       "  </tbody>\n",
       "</table>\n",
       "</div>"
      ],
      "text/plain": [
       "        pred     prob  real  \\\n",
       "821 0.000000 0.004812     1   \n",
       "244 0.000000 0.005137     1   \n",
       "958 0.000000 0.022089     1   \n",
       "553 0.000000 0.025684     1   \n",
       "924 0.000000 0.043110     1   \n",
       "\n",
       "                                                                                                                                  text  \n",
       "821  b'Sam Firstenberg\\'s \"Ninja 3:The Domination\" mixes martial arts with \"The Exorcist\" like horror.The horror elements thrown on...  \n",
       "244  b\"If a joke doesn't offend anybody, it isn't funny.<br /><br />The Inki cartoons are offensive, no doubt about it. So is rap m...  \n",
       "958  b'I can honestly say that \"Death Bed: The Bed That Eats\" was a much better movie than I expected. Allow me to clarify the plot...  \n",
       "553  b\"yes barney is nonsense now but when i was a kid it made perfect sense.<br /><br />i haven't gotten any smarter but i enjoyed...  \n",
       "924  b\"Might contain spoilers.<br /><br />This is just a good movie. Lots of good silly stuff to laugh at. However, do not watch th...  "
      ]
     },
     "metadata": {},
     "output_type": "display_data"
    },
    {
     "data": {
      "text/markdown": [
       "#### Classification report for logisticregression"
      ]
     },
     "metadata": {},
     "output_type": "display_data"
    },
    {
     "name": "stdout",
     "output_type": "stream",
     "text": [
      "             precision    recall  f1-score   support\n",
      "\n",
      "   Negative       0.86      0.86      0.86       498\n",
      "   Positive       0.86      0.86      0.86       502\n",
      "\n",
      "avg / total       0.86      0.86      0.86      1000\n",
      "\n"
     ]
    },
    {
     "data": {
      "image/png": "[encoded data removed]",
      "text/plain": [
       "<matplotlib.figure.Figure at 0x7f2c3c59e400>"
      ]
     },
     "metadata": {},
     "output_type": "display_data"
    }
   ],
   "source": [
    "logistic_regression_limit = min(100000, len(X_sklearn_preprocessed))\n",
    "\n",
    "logistic_regression = models.LogisticRegressionModel(\n",
    "    nlp, dataset_id,\n",
    "    C=1e5\n",
    ")\n",
    "\n",
    "accuracy = train_model_and_display_results(\n",
    "    logistic_regression,\n",
    "    X_sklearn_preprocessed[:logistic_regression_limit],\n",
    "    y_train[:logistic_regression_limit],\n",
    "    preprocessed=True\n",
    ")\n",
    "\n",
    "if SAVE_IN_STORE:\n",
    "    store.add_model(logistic_regression, \"logistic_reg_imdb\", \"IMDB Logistic Regression\", metadata={\n",
    "        'Dataset': 'Internet Movie Database',\n",
    "        'Training samples': logistic_regression_limit,\n",
    "        'Accuracy': accuracy,\n",
    "        'Description': \"Logistic Regression Analysis algorithm from Sklearn package, default options except C=1e5\"\n",
    "    })"
   ]
  },
  {
   "cell_type": "code",
   "execution_count": 17,
   "metadata": {
    "scrolled": true
   },
   "outputs": [
    {
     "data": {
      "text/markdown": [
       "## GradientBoostingModel"
      ]
     },
     "metadata": {},
     "output_type": "display_data"
    },
    {
     "data": {
      "text/markdown": [
       "#### Training"
      ]
     },
     "metadata": {},
     "output_type": "display_data"
    },
    {
     "name": "stdout",
     "output_type": "stream",
     "text": [
      "Loading model...\n",
      "Unable to load model, training...\n"
     ]
    },
    {
     "name": "stderr",
     "output_type": "stream",
     "text": [
      "/usr/local/lib/python3.5/dist-packages/sklearn/utils/validation.py:578: DataConversionWarning: A column-vector y was passed when a 1d array was expected. Please change the shape of y to (n_samples, ), for example using ravel().\n",
      "  y = column_or_1d(y, warn=True)\n"
     ]
    },
    {
     "name": "stdout",
     "output_type": "stream",
     "text": [
      "      Iter       Train Loss   Remaining Time \n",
      "         1           1.3557           21.20s\n",
      "         2           1.3289           21.02s\n",
      "         3           1.3059           20.47s\n",
      "         4           1.2854           19.95s\n",
      "         5           1.2671           19.49s\n",
      "         6           1.2498           19.04s\n",
      "         7           1.2344           18.57s\n",
      "         8           1.2195           18.14s\n",
      "         9           1.2058           17.71s\n",
      "        10           1.1915           17.25s\n",
      "        11           1.1784           16.81s\n",
      "        12           1.1672           16.43s\n",
      "        13           1.1567           15.99s\n",
      "        14           1.1468           15.57s\n",
      "        15           1.1373           15.15s\n",
      "        16           1.1282           14.72s\n",
      "        17           1.1197           14.28s\n",
      "        18           1.1113           13.85s\n",
      "        19           1.1025           13.41s\n",
      "        20           1.0947           12.96s\n",
      "        21           1.0866           12.54s\n",
      "        22           1.0796           12.11s\n",
      "        23           1.0710           11.68s\n",
      "        24           1.0641           11.25s\n",
      "        25           1.0578           10.81s\n",
      "        26           1.0520           10.39s\n",
      "        27           1.0459            9.97s\n",
      "        28           1.0402            9.55s\n",
      "        29           1.0345            9.12s\n",
      "        30           1.0288            8.70s\n",
      "        31           1.0231            8.27s\n",
      "        32           1.0178            7.84s\n",
      "        33           1.0131            7.40s\n",
      "        34           1.0084            6.97s\n",
      "        35           1.0038            6.53s\n",
      "        36           0.9991            6.10s\n",
      "        37           0.9936            5.66s\n",
      "        38           0.9893            5.22s\n",
      "        39           0.9845            4.79s\n",
      "        40           0.9802            4.36s\n",
      "        41           0.9760            3.93s\n",
      "        42           0.9720            3.49s\n",
      "        43           0.9684            3.05s\n",
      "        44           0.9648            2.62s\n",
      "        45           0.9610            2.18s\n",
      "        46           0.9575            1.74s\n",
      "        47           0.9536            1.31s\n",
      "        48           0.9502            0.87s\n",
      "        49           0.9467            0.44s\n",
      "        50           0.9435            0.00s\n",
      "Model 'gradientboostingclassifier_imdb_all_c002d57a.pkl' saved\n"
     ]
    },
    {
     "data": {
      "text/markdown": [
       "#### Overview of created model"
      ]
     },
     "metadata": {},
     "output_type": "display_data"
    },
    {
     "data": {
      "text/plain": [
       "GradientBoostingClassifier(criterion='friedman_mse', init=None,\n",
       "              learning_rate=0.1, loss='deviance', max_depth=2,\n",
       "              max_features=None, max_leaf_nodes=None,\n",
       "              min_impurity_decrease=0.0, min_impurity_split=None,\n",
       "              min_samples_leaf=1, min_samples_split=2,\n",
       "              min_weight_fraction_leaf=0.0, n_estimators=50,\n",
       "              presort='auto', random_state=None, subsample=1.0, verbose=2,\n",
       "              warm_start=False)"
      ]
     },
     "metadata": {},
     "output_type": "display_data"
    },
    {
     "data": {
      "text/markdown": [
       "#### Model results"
      ]
     },
     "metadata": {},
     "output_type": "display_data"
    },
    {
     "data": {
      "text/markdown": [
       "#### Predicted scores"
      ]
     },
     "metadata": {},
     "output_type": "display_data"
    },
    {
     "data": {
      "text/html": [
       "<div>\n",
       "<style scoped>\n",
       "    .dataframe tbody tr th:only-of-type {\n",
       "        vertical-align: middle;\n",
       "    }\n",
       "\n",
       "    .dataframe tbody tr th {\n",
       "        vertical-align: top;\n",
       "    }\n",
       "\n",
       "    .dataframe thead th {\n",
       "        text-align: right;\n",
       "    }\n",
       "</style>\n",
       "<table border=\"1\" class=\"dataframe\">\n",
       "  <thead>\n",
       "    <tr style=\"text-align: right;\">\n",
       "      <th></th>\n",
       "      <th>score</th>\n",
       "      <th>text</th>\n",
       "    </tr>\n",
       "  </thead>\n",
       "  <tbody>\n",
       "    <tr>\n",
       "      <th>0</th>\n",
       "      <td>0.630584</td>\n",
       "      <td>This movie is, in my opinion, very worth watching!</td>\n",
       "    </tr>\n",
       "    <tr>\n",
       "      <th>1</th>\n",
       "      <td>0.242231</td>\n",
       "      <td>I kinda liked that movie. Maybe it's not as good as other, but still watchable</td>\n",
       "    </tr>\n",
       "    <tr>\n",
       "      <th>2</th>\n",
       "      <td>0.323044</td>\n",
       "      <td>I have to warn everybody, this movie is really bad. Actors don't know how to play. It su!*!</td>\n",
       "    </tr>\n",
       "  </tbody>\n",
       "</table>\n",
       "</div>"
      ],
      "text/plain": [
       "      score  \\\n",
       "0  0.630584   \n",
       "1  0.242231   \n",
       "2  0.323044   \n",
       "\n",
       "                                                                                          text  \n",
       "0  This movie is, in my opinion, very worth watching!                                           \n",
       "1  I kinda liked that movie. Maybe it's not as good as other, but still watchable               \n",
       "2  I have to warn everybody, this movie is really bad. Actors don't know how to play. It su!*!  "
      ]
     },
     "metadata": {},
     "output_type": "display_data"
    },
    {
     "data": {
      "text/markdown": [
       "#### Highest 5"
      ]
     },
     "metadata": {},
     "output_type": "display_data"
    },
    {
     "data": {
      "text/html": [
       "<div>\n",
       "<style scoped>\n",
       "    .dataframe tbody tr th:only-of-type {\n",
       "        vertical-align: middle;\n",
       "    }\n",
       "\n",
       "    .dataframe tbody tr th {\n",
       "        vertical-align: top;\n",
       "    }\n",
       "\n",
       "    .dataframe thead th {\n",
       "        text-align: right;\n",
       "    }\n",
       "</style>\n",
       "<table border=\"1\" class=\"dataframe\">\n",
       "  <thead>\n",
       "    <tr style=\"text-align: right;\">\n",
       "      <th></th>\n",
       "      <th>pred</th>\n",
       "      <th>prob</th>\n",
       "      <th>real</th>\n",
       "      <th>text</th>\n",
       "    </tr>\n",
       "  </thead>\n",
       "  <tbody>\n",
       "    <tr>\n",
       "      <th>721</th>\n",
       "      <td>1.000000</td>\n",
       "      <td>0.944278</td>\n",
       "      <td>1</td>\n",
       "      <td>b'I chose \"The English Patient\" for a history extra credit assignment. I thought that this movie would be incredibly boring. I...</td>\n",
       "    </tr>\n",
       "    <tr>\n",
       "      <th>762</th>\n",
       "      <td>1.000000</td>\n",
       "      <td>0.941567</td>\n",
       "      <td>1</td>\n",
       "      <td>b\"The movie has taken a little flack for playing fast and loose with the facts. But it will put you close to being in a time a...</td>\n",
       "    </tr>\n",
       "    <tr>\n",
       "      <th>428</th>\n",
       "      <td>1.000000</td>\n",
       "      <td>0.935400</td>\n",
       "      <td>1</td>\n",
       "      <td>b'These critics need to find a new job!!! This movie is based on a TRUE STORY, which has made history. It illustrates beautifu...</td>\n",
       "    </tr>\n",
       "    <tr>\n",
       "      <th>302</th>\n",
       "      <td>1.000000</td>\n",
       "      <td>0.931832</td>\n",
       "      <td>1</td>\n",
       "      <td>b\"Fantastically written, acted, and produced! Loved seeing this gleaming, talented cast -- every single one of them -- give a ...</td>\n",
       "    </tr>\n",
       "    <tr>\n",
       "      <th>491</th>\n",
       "      <td>1.000000</td>\n",
       "      <td>0.931161</td>\n",
       "      <td>1</td>\n",
       "      <td>b\"I did not know what to expect when I decided to watch this documentary. I knew it was about an ex-Viet Nam POW in Laos who e...</td>\n",
       "    </tr>\n",
       "  </tbody>\n",
       "</table>\n",
       "</div>"
      ],
      "text/plain": [
       "        pred     prob  real  \\\n",
       "721 1.000000 0.944278     1   \n",
       "762 1.000000 0.941567     1   \n",
       "428 1.000000 0.935400     1   \n",
       "302 1.000000 0.931832     1   \n",
       "491 1.000000 0.931161     1   \n",
       "\n",
       "                                                                                                                                  text  \n",
       "721  b'I chose \"The English Patient\" for a history extra credit assignment. I thought that this movie would be incredibly boring. I...  \n",
       "762  b\"The movie has taken a little flack for playing fast and loose with the facts. But it will put you close to being in a time a...  \n",
       "428  b'These critics need to find a new job!!! This movie is based on a TRUE STORY, which has made history. It illustrates beautifu...  \n",
       "302  b\"Fantastically written, acted, and produced! Loved seeing this gleaming, talented cast -- every single one of them -- give a ...  \n",
       "491  b\"I did not know what to expect when I decided to watch this documentary. I knew it was about an ex-Viet Nam POW in Laos who e...  "
      ]
     },
     "metadata": {},
     "output_type": "display_data"
    },
    {
     "data": {
      "text/markdown": [
       "#### Lowest 5"
      ]
     },
     "metadata": {},
     "output_type": "display_data"
    },
    {
     "data": {
      "text/html": [
       "<div>\n",
       "<style scoped>\n",
       "    .dataframe tbody tr th:only-of-type {\n",
       "        vertical-align: middle;\n",
       "    }\n",
       "\n",
       "    .dataframe tbody tr th {\n",
       "        vertical-align: top;\n",
       "    }\n",
       "\n",
       "    .dataframe thead th {\n",
       "        text-align: right;\n",
       "    }\n",
       "</style>\n",
       "<table border=\"1\" class=\"dataframe\">\n",
       "  <thead>\n",
       "    <tr style=\"text-align: right;\">\n",
       "      <th></th>\n",
       "      <th>pred</th>\n",
       "      <th>prob</th>\n",
       "      <th>real</th>\n",
       "      <th>text</th>\n",
       "    </tr>\n",
       "  </thead>\n",
       "  <tbody>\n",
       "    <tr>\n",
       "      <th>265</th>\n",
       "      <td>0.000000</td>\n",
       "      <td>0.078968</td>\n",
       "      <td>0</td>\n",
       "      <td>b'Idiots go camping and act like idiots before they finally die like idiots, yes Camp Blood (or if you\\'re wanting an awful, b...</td>\n",
       "    </tr>\n",
       "    <tr>\n",
       "      <th>507</th>\n",
       "      <td>0.000000</td>\n",
       "      <td>0.098646</td>\n",
       "      <td>0</td>\n",
       "      <td>b'There isn\\'t enough space to explain the many ways this movie is a disappointing mess. Silly special effects and an incompre...</td>\n",
       "    </tr>\n",
       "    <tr>\n",
       "      <th>145</th>\n",
       "      <td>0.000000</td>\n",
       "      <td>0.099532</td>\n",
       "      <td>0</td>\n",
       "      <td>b\"I would rather have someone cut out my eyeballs with a razor blade than have to watch this movie again. I watched it from st...</td>\n",
       "    </tr>\n",
       "    <tr>\n",
       "      <th>837</th>\n",
       "      <td>0.000000</td>\n",
       "      <td>0.101480</td>\n",
       "      <td>0</td>\n",
       "      <td>b'As Anthony Bourdain said... \"I wanted to stick my head in a bucket of lye, pull my eyeballs out and jump off a cliff.\" This ...</td>\n",
       "    </tr>\n",
       "    <tr>\n",
       "      <th>870</th>\n",
       "      <td>0.000000</td>\n",
       "      <td>0.102493</td>\n",
       "      <td>0</td>\n",
       "      <td>b'The spoof genre, which has lacked creativity and humor for some time already, gets spat upon yet again by hacks with no tale...</td>\n",
       "    </tr>\n",
       "  </tbody>\n",
       "</table>\n",
       "</div>"
      ],
      "text/plain": [
       "        pred     prob  real  \\\n",
       "265 0.000000 0.078968     0   \n",
       "507 0.000000 0.098646     0   \n",
       "145 0.000000 0.099532     0   \n",
       "837 0.000000 0.101480     0   \n",
       "870 0.000000 0.102493     0   \n",
       "\n",
       "                                                                                                                                  text  \n",
       "265  b'Idiots go camping and act like idiots before they finally die like idiots, yes Camp Blood (or if you\\'re wanting an awful, b...  \n",
       "507  b'There isn\\'t enough space to explain the many ways this movie is a disappointing mess. Silly special effects and an incompre...  \n",
       "145  b\"I would rather have someone cut out my eyeballs with a razor blade than have to watch this movie again. I watched it from st...  \n",
       "837  b'As Anthony Bourdain said... \"I wanted to stick my head in a bucket of lye, pull my eyeballs out and jump off a cliff.\" This ...  \n",
       "870  b'The spoof genre, which has lacked creativity and humor for some time already, gets spat upon yet again by hacks with no tale...  "
      ]
     },
     "metadata": {},
     "output_type": "display_data"
    },
    {
     "data": {
      "text/markdown": [
       "#### Highest 5 mispredicted"
      ]
     },
     "metadata": {},
     "output_type": "display_data"
    },
    {
     "data": {
      "text/html": [
       "<div>\n",
       "<style scoped>\n",
       "    .dataframe tbody tr th:only-of-type {\n",
       "        vertical-align: middle;\n",
       "    }\n",
       "\n",
       "    .dataframe tbody tr th {\n",
       "        vertical-align: top;\n",
       "    }\n",
       "\n",
       "    .dataframe thead th {\n",
       "        text-align: right;\n",
       "    }\n",
       "</style>\n",
       "<table border=\"1\" class=\"dataframe\">\n",
       "  <thead>\n",
       "    <tr style=\"text-align: right;\">\n",
       "      <th></th>\n",
       "      <th>pred</th>\n",
       "      <th>prob</th>\n",
       "      <th>real</th>\n",
       "      <th>text</th>\n",
       "    </tr>\n",
       "  </thead>\n",
       "  <tbody>\n",
       "    <tr>\n",
       "      <th>224</th>\n",
       "      <td>1.000000</td>\n",
       "      <td>0.894663</td>\n",
       "      <td>0</td>\n",
       "      <td>b\"Well, I think I've finally seen my last Woody Allen movie! I read the review in the newspaper and went to see this movie wit...</td>\n",
       "    </tr>\n",
       "    <tr>\n",
       "      <th>523</th>\n",
       "      <td>1.000000</td>\n",
       "      <td>0.882861</td>\n",
       "      <td>0</td>\n",
       "      <td>b\"This film has the language, the style and the attitude down ... plus greats rides from Occy (a world champ) and the great Je...</td>\n",
       "    </tr>\n",
       "    <tr>\n",
       "      <th>71</th>\n",
       "      <td>1.000000</td>\n",
       "      <td>0.833414</td>\n",
       "      <td>0</td>\n",
       "      <td>b'I went to see this 3 nights ago here in Cork, Ireland. It was the world premiere of it, in the tiny cinema in the Triskel Ar...</td>\n",
       "    </tr>\n",
       "    <tr>\n",
       "      <th>849</th>\n",
       "      <td>1.000000</td>\n",
       "      <td>0.803938</td>\n",
       "      <td>0</td>\n",
       "      <td>b\"Sadly, this movie is not very good. But does it really matter ? We all know the basics for the story, and this has nothing n...</td>\n",
       "    </tr>\n",
       "    <tr>\n",
       "      <th>517</th>\n",
       "      <td>1.000000</td>\n",
       "      <td>0.799969</td>\n",
       "      <td>0</td>\n",
       "      <td>b\"Interesting and short television movie describes some of the machinations surrounding Jay Leno's replacing Carson as host of...</td>\n",
       "    </tr>\n",
       "  </tbody>\n",
       "</table>\n",
       "</div>"
      ],
      "text/plain": [
       "        pred     prob  real  \\\n",
       "224 1.000000 0.894663     0   \n",
       "523 1.000000 0.882861     0   \n",
       "71  1.000000 0.833414     0   \n",
       "849 1.000000 0.803938     0   \n",
       "517 1.000000 0.799969     0   \n",
       "\n",
       "                                                                                                                                  text  \n",
       "224  b\"Well, I think I've finally seen my last Woody Allen movie! I read the review in the newspaper and went to see this movie wit...  \n",
       "523  b\"This film has the language, the style and the attitude down ... plus greats rides from Occy (a world champ) and the great Je...  \n",
       "71   b'I went to see this 3 nights ago here in Cork, Ireland. It was the world premiere of it, in the tiny cinema in the Triskel Ar...  \n",
       "849  b\"Sadly, this movie is not very good. But does it really matter ? We all know the basics for the story, and this has nothing n...  \n",
       "517  b\"Interesting and short television movie describes some of the machinations surrounding Jay Leno's replacing Carson as host of...  "
      ]
     },
     "metadata": {},
     "output_type": "display_data"
    },
    {
     "data": {
      "text/markdown": [
       "#### Lowest 5 mispredicted"
      ]
     },
     "metadata": {},
     "output_type": "display_data"
    },
    {
     "data": {
      "text/html": [
       "<div>\n",
       "<style scoped>\n",
       "    .dataframe tbody tr th:only-of-type {\n",
       "        vertical-align: middle;\n",
       "    }\n",
       "\n",
       "    .dataframe tbody tr th {\n",
       "        vertical-align: top;\n",
       "    }\n",
       "\n",
       "    .dataframe thead th {\n",
       "        text-align: right;\n",
       "    }\n",
       "</style>\n",
       "<table border=\"1\" class=\"dataframe\">\n",
       "  <thead>\n",
       "    <tr style=\"text-align: right;\">\n",
       "      <th></th>\n",
       "      <th>pred</th>\n",
       "      <th>prob</th>\n",
       "      <th>real</th>\n",
       "      <th>text</th>\n",
       "    </tr>\n",
       "  </thead>\n",
       "  <tbody>\n",
       "    <tr>\n",
       "      <th>924</th>\n",
       "      <td>0.000000</td>\n",
       "      <td>0.121088</td>\n",
       "      <td>1</td>\n",
       "      <td>b\"Might contain spoilers.&lt;br /&gt;&lt;br /&gt;This is just a good movie. Lots of good silly stuff to laugh at. However, do not watch th...</td>\n",
       "    </tr>\n",
       "    <tr>\n",
       "      <th>326</th>\n",
       "      <td>0.000000</td>\n",
       "      <td>0.167972</td>\n",
       "      <td>1</td>\n",
       "      <td>b'I can\\'t even begin to imagine why everyone hates this movie so much. It had me literally crying with laughter several times...</td>\n",
       "    </tr>\n",
       "    <tr>\n",
       "      <th>610</th>\n",
       "      <td>0.000000</td>\n",
       "      <td>0.188935</td>\n",
       "      <td>1</td>\n",
       "      <td>b'...and normally i don\\'t like surprises!! Watch this movie by chance in a motel in South Africa second week of a three month...</td>\n",
       "    </tr>\n",
       "    <tr>\n",
       "      <th>244</th>\n",
       "      <td>0.000000</td>\n",
       "      <td>0.207768</td>\n",
       "      <td>1</td>\n",
       "      <td>b\"If a joke doesn't offend anybody, it isn't funny.&lt;br /&gt;&lt;br /&gt;The Inki cartoons are offensive, no doubt about it. So is rap m...</td>\n",
       "    </tr>\n",
       "    <tr>\n",
       "      <th>189</th>\n",
       "      <td>0.000000</td>\n",
       "      <td>0.234603</td>\n",
       "      <td>1</td>\n",
       "      <td>b\"Yes. Bam cried a couple times and so did Englund. And most probably you will too. The whole cast is back in action and Knoxv...</td>\n",
       "    </tr>\n",
       "  </tbody>\n",
       "</table>\n",
       "</div>"
      ],
      "text/plain": [
       "        pred     prob  real  \\\n",
       "924 0.000000 0.121088     1   \n",
       "326 0.000000 0.167972     1   \n",
       "610 0.000000 0.188935     1   \n",
       "244 0.000000 0.207768     1   \n",
       "189 0.000000 0.234603     1   \n",
       "\n",
       "                                                                                                                                  text  \n",
       "924  b\"Might contain spoilers.<br /><br />This is just a good movie. Lots of good silly stuff to laugh at. However, do not watch th...  \n",
       "326  b'I can\\'t even begin to imagine why everyone hates this movie so much. It had me literally crying with laughter several times...  \n",
       "610  b'...and normally i don\\'t like surprises!! Watch this movie by chance in a motel in South Africa second week of a three month...  \n",
       "244  b\"If a joke doesn't offend anybody, it isn't funny.<br /><br />The Inki cartoons are offensive, no doubt about it. So is rap m...  \n",
       "189  b\"Yes. Bam cried a couple times and so did Englund. And most probably you will too. The whole cast is back in action and Knoxv...  "
      ]
     },
     "metadata": {},
     "output_type": "display_data"
    },
    {
     "data": {
      "text/markdown": [
       "#### Classification report for gradientboostingclassifier"
      ]
     },
     "metadata": {},
     "output_type": "display_data"
    },
    {
     "name": "stdout",
     "output_type": "stream",
     "text": [
      "             precision    recall  f1-score   support\n",
      "\n",
      "   Negative       0.80      0.79      0.79       498\n",
      "   Positive       0.79      0.80      0.80       502\n",
      "\n",
      "avg / total       0.80      0.80      0.79      1000\n",
      "\n"
     ]
    },
    {
     "data": {
      "image/png": "[encoded data removed]",
      "text/plain": [
       "<matplotlib.figure.Figure at 0x7f2c3d3bf978>"
      ]
     },
     "metadata": {},
     "output_type": "display_data"
    }
   ],
   "source": [
    "gradient_boosting_model = models.GradientBoostingModel(\n",
    "    nlp, dataset_id,\n",
    "    n_estimators=50, \n",
    "    max_depth=2,\n",
    "    verbose=2\n",
    ")\n",
    "\n",
    "accuracy = train_model_and_display_results(\n",
    "    gradient_boosting_model,\n",
    "    X_sklearn_preprocessed, \n",
    "    preprocessed=True\n",
    ")\n",
    "\n",
    "if SAVE_IN_STORE:\n",
    "    store.add_model(gradient_boosting_model, \"gradient_boost_imdb\", \"IMDB Gradient Boosting\", metadata={\n",
    "        'Dataset': 'Internet Movie Database',\n",
    "        'Training samples': len(X_sklearn_preprocessed),\n",
    "        'Accuracy': accuracy,\n",
    "        'Description': \"Gradient Boosting algorithm from Sklearn package, n_estimators=50, max_depth=2\"\n",
    "    })"
   ]
  },
  {
   "cell_type": "code",
   "execution_count": 18,
   "metadata": {},
   "outputs": [
    {
     "data": {
      "text/markdown": [
       "## XGBModel"
      ]
     },
     "metadata": {},
     "output_type": "display_data"
    },
    {
     "data": {
      "text/markdown": [
       "#### Training"
      ]
     },
     "metadata": {},
     "output_type": "display_data"
    },
    {
     "name": "stdout",
     "output_type": "stream",
     "text": [
      "Loading model...\n",
      "Unable to load model, training...\n"
     ]
    },
    {
     "name": "stderr",
     "output_type": "stream",
     "text": [
      "/usr/local/lib/python3.5/dist-packages/sklearn/preprocessing/label.py:95: DataConversionWarning: A column-vector y was passed when a 1d array was expected. Please change the shape of y to (n_samples, ), for example using ravel().\n",
      "  y = column_or_1d(y, warn=True)\n",
      "/usr/local/lib/python3.5/dist-packages/sklearn/preprocessing/label.py:128: DataConversionWarning: A column-vector y was passed when a 1d array was expected. Please change the shape of y to (n_samples, ), for example using ravel().\n",
      "  y = column_or_1d(y, warn=True)\n"
     ]
    },
    {
     "name": "stdout",
     "output_type": "stream",
     "text": [
      "Model 'xgbclassifier_imdb_all_5d69fa9f.pkl' saved\n"
     ]
    },
    {
     "data": {
      "text/markdown": [
       "#### Overview of created model"
      ]
     },
     "metadata": {},
     "output_type": "display_data"
    },
    {
     "data": {
      "text/plain": [
       "XGBClassifier(base_score=0.5, booster='gbtree', colsample_bylevel=1,\n",
       "       colsample_bytree=1, gamma=0, learning_rate=0.1, max_delta_step=0,\n",
       "       max_depth=3, min_child_weight=1, missing=None, n_estimators=100,\n",
       "       n_jobs=1, nthread=None, objective='binary:logistic', random_state=0,\n",
       "       reg_alpha=0, reg_lambda=1, scale_pos_weight=1, seed=None,\n",
       "       silent=True, subsample=1, verbose_eval=1)"
      ]
     },
     "metadata": {},
     "output_type": "display_data"
    },
    {
     "data": {
      "text/markdown": [
       "#### Model results"
      ]
     },
     "metadata": {},
     "output_type": "display_data"
    },
    {
     "data": {
      "text/markdown": [
       "#### Predicted scores"
      ]
     },
     "metadata": {},
     "output_type": "display_data"
    },
    {
     "data": {
      "text/html": [
       "<div>\n",
       "<style scoped>\n",
       "    .dataframe tbody tr th:only-of-type {\n",
       "        vertical-align: middle;\n",
       "    }\n",
       "\n",
       "    .dataframe tbody tr th {\n",
       "        vertical-align: top;\n",
       "    }\n",
       "\n",
       "    .dataframe thead th {\n",
       "        text-align: right;\n",
       "    }\n",
       "</style>\n",
       "<table border=\"1\" class=\"dataframe\">\n",
       "  <thead>\n",
       "    <tr style=\"text-align: right;\">\n",
       "      <th></th>\n",
       "      <th>score</th>\n",
       "      <th>text</th>\n",
       "    </tr>\n",
       "  </thead>\n",
       "  <tbody>\n",
       "    <tr>\n",
       "      <th>0</th>\n",
       "      <td>0.679294</td>\n",
       "      <td>This movie is, in my opinion, very worth watching!</td>\n",
       "    </tr>\n",
       "    <tr>\n",
       "      <th>1</th>\n",
       "      <td>0.325554</td>\n",
       "      <td>I kinda liked that movie. Maybe it's not as good as other, but still watchable</td>\n",
       "    </tr>\n",
       "    <tr>\n",
       "      <th>2</th>\n",
       "      <td>0.379419</td>\n",
       "      <td>I have to warn everybody, this movie is really bad. Actors don't know how to play. It su!*!</td>\n",
       "    </tr>\n",
       "  </tbody>\n",
       "</table>\n",
       "</div>"
      ],
      "text/plain": [
       "      score  \\\n",
       "0  0.679294   \n",
       "1  0.325554   \n",
       "2  0.379419   \n",
       "\n",
       "                                                                                          text  \n",
       "0  This movie is, in my opinion, very worth watching!                                           \n",
       "1  I kinda liked that movie. Maybe it's not as good as other, but still watchable               \n",
       "2  I have to warn everybody, this movie is really bad. Actors don't know how to play. It su!*!  "
      ]
     },
     "metadata": {},
     "output_type": "display_data"
    },
    {
     "data": {
      "text/markdown": [
       "#### Highest 5"
      ]
     },
     "metadata": {},
     "output_type": "display_data"
    },
    {
     "data": {
      "text/html": [
       "<div>\n",
       "<style scoped>\n",
       "    .dataframe tbody tr th:only-of-type {\n",
       "        vertical-align: middle;\n",
       "    }\n",
       "\n",
       "    .dataframe tbody tr th {\n",
       "        vertical-align: top;\n",
       "    }\n",
       "\n",
       "    .dataframe thead th {\n",
       "        text-align: right;\n",
       "    }\n",
       "</style>\n",
       "<table border=\"1\" class=\"dataframe\">\n",
       "  <thead>\n",
       "    <tr style=\"text-align: right;\">\n",
       "      <th></th>\n",
       "      <th>pred</th>\n",
       "      <th>prob</th>\n",
       "      <th>real</th>\n",
       "      <th>text</th>\n",
       "    </tr>\n",
       "  </thead>\n",
       "  <tbody>\n",
       "    <tr>\n",
       "      <th>384</th>\n",
       "      <td>1.000000</td>\n",
       "      <td>0.992945</td>\n",
       "      <td>1</td>\n",
       "      <td>b\"I had the chance to watch Blind Spot in Barcelona and I enjoyed it tremendously. I thought it to be one of the most captivat...</td>\n",
       "    </tr>\n",
       "    <tr>\n",
       "      <th>428</th>\n",
       "      <td>1.000000</td>\n",
       "      <td>0.991122</td>\n",
       "      <td>1</td>\n",
       "      <td>b'These critics need to find a new job!!! This movie is based on a TRUE STORY, which has made history. It illustrates beautifu...</td>\n",
       "    </tr>\n",
       "    <tr>\n",
       "      <th>75</th>\n",
       "      <td>1.000000</td>\n",
       "      <td>0.987391</td>\n",
       "      <td>1</td>\n",
       "      <td>b'For those that are great fans and collectors of dinosaurs like I am, it is not only a very informative series but also puts ...</td>\n",
       "    </tr>\n",
       "    <tr>\n",
       "      <th>721</th>\n",
       "      <td>1.000000</td>\n",
       "      <td>0.984942</td>\n",
       "      <td>1</td>\n",
       "      <td>b'I chose \"The English Patient\" for a history extra credit assignment. I thought that this movie would be incredibly boring. I...</td>\n",
       "    </tr>\n",
       "    <tr>\n",
       "      <th>871</th>\n",
       "      <td>1.000000</td>\n",
       "      <td>0.983060</td>\n",
       "      <td>1</td>\n",
       "      <td>b\"What a great movie!! It's a touching story about four high-school friends who grow up in the 1960s. Throughout the decade, t...</td>\n",
       "    </tr>\n",
       "  </tbody>\n",
       "</table>\n",
       "</div>"
      ],
      "text/plain": [
       "        pred     prob  real  \\\n",
       "384 1.000000 0.992945     1   \n",
       "428 1.000000 0.991122     1   \n",
       "75  1.000000 0.987391     1   \n",
       "721 1.000000 0.984942     1   \n",
       "871 1.000000 0.983060     1   \n",
       "\n",
       "                                                                                                                                  text  \n",
       "384  b\"I had the chance to watch Blind Spot in Barcelona and I enjoyed it tremendously. I thought it to be one of the most captivat...  \n",
       "428  b'These critics need to find a new job!!! This movie is based on a TRUE STORY, which has made history. It illustrates beautifu...  \n",
       "75   b'For those that are great fans and collectors of dinosaurs like I am, it is not only a very informative series but also puts ...  \n",
       "721  b'I chose \"The English Patient\" for a history extra credit assignment. I thought that this movie would be incredibly boring. I...  \n",
       "871  b\"What a great movie!! It's a touching story about four high-school friends who grow up in the 1960s. Throughout the decade, t...  "
      ]
     },
     "metadata": {},
     "output_type": "display_data"
    },
    {
     "data": {
      "text/markdown": [
       "#### Lowest 5"
      ]
     },
     "metadata": {},
     "output_type": "display_data"
    },
    {
     "data": {
      "text/html": [
       "<div>\n",
       "<style scoped>\n",
       "    .dataframe tbody tr th:only-of-type {\n",
       "        vertical-align: middle;\n",
       "    }\n",
       "\n",
       "    .dataframe tbody tr th {\n",
       "        vertical-align: top;\n",
       "    }\n",
       "\n",
       "    .dataframe thead th {\n",
       "        text-align: right;\n",
       "    }\n",
       "</style>\n",
       "<table border=\"1\" class=\"dataframe\">\n",
       "  <thead>\n",
       "    <tr style=\"text-align: right;\">\n",
       "      <th></th>\n",
       "      <th>pred</th>\n",
       "      <th>prob</th>\n",
       "      <th>real</th>\n",
       "      <th>text</th>\n",
       "    </tr>\n",
       "  </thead>\n",
       "  <tbody>\n",
       "    <tr>\n",
       "      <th>265</th>\n",
       "      <td>0.000000</td>\n",
       "      <td>0.011599</td>\n",
       "      <td>0</td>\n",
       "      <td>b'Idiots go camping and act like idiots before they finally die like idiots, yes Camp Blood (or if you\\'re wanting an awful, b...</td>\n",
       "    </tr>\n",
       "    <tr>\n",
       "      <th>145</th>\n",
       "      <td>0.000000</td>\n",
       "      <td>0.019804</td>\n",
       "      <td>0</td>\n",
       "      <td>b\"I would rather have someone cut out my eyeballs with a razor blade than have to watch this movie again. I watched it from st...</td>\n",
       "    </tr>\n",
       "    <tr>\n",
       "      <th>837</th>\n",
       "      <td>0.000000</td>\n",
       "      <td>0.019877</td>\n",
       "      <td>0</td>\n",
       "      <td>b'As Anthony Bourdain said... \"I wanted to stick my head in a bucket of lye, pull my eyeballs out and jump off a cliff.\" This ...</td>\n",
       "    </tr>\n",
       "    <tr>\n",
       "      <th>309</th>\n",
       "      <td>0.000000</td>\n",
       "      <td>0.022773</td>\n",
       "      <td>0</td>\n",
       "      <td>b'Well, Killshot is not awful, but it comes close. Production values are decent and the main actors do a pretty good job (exce...</td>\n",
       "    </tr>\n",
       "    <tr>\n",
       "      <th>684</th>\n",
       "      <td>0.000000</td>\n",
       "      <td>0.023839</td>\n",
       "      <td>0</td>\n",
       "      <td>b'This movie had horrible lighting and terrible camera movements. This movie is a jumpy horror flick with no meaning at all. T...</td>\n",
       "    </tr>\n",
       "  </tbody>\n",
       "</table>\n",
       "</div>"
      ],
      "text/plain": [
       "        pred     prob  real  \\\n",
       "265 0.000000 0.011599     0   \n",
       "145 0.000000 0.019804     0   \n",
       "837 0.000000 0.019877     0   \n",
       "309 0.000000 0.022773     0   \n",
       "684 0.000000 0.023839     0   \n",
       "\n",
       "                                                                                                                                  text  \n",
       "265  b'Idiots go camping and act like idiots before they finally die like idiots, yes Camp Blood (or if you\\'re wanting an awful, b...  \n",
       "145  b\"I would rather have someone cut out my eyeballs with a razor blade than have to watch this movie again. I watched it from st...  \n",
       "837  b'As Anthony Bourdain said... \"I wanted to stick my head in a bucket of lye, pull my eyeballs out and jump off a cliff.\" This ...  \n",
       "309  b'Well, Killshot is not awful, but it comes close. Production values are decent and the main actors do a pretty good job (exce...  \n",
       "684  b'This movie had horrible lighting and terrible camera movements. This movie is a jumpy horror flick with no meaning at all. T...  "
      ]
     },
     "metadata": {},
     "output_type": "display_data"
    },
    {
     "data": {
      "text/markdown": [
       "#### Highest 5 mispredicted"
      ]
     },
     "metadata": {},
     "output_type": "display_data"
    },
    {
     "data": {
      "text/html": [
       "<div>\n",
       "<style scoped>\n",
       "    .dataframe tbody tr th:only-of-type {\n",
       "        vertical-align: middle;\n",
       "    }\n",
       "\n",
       "    .dataframe tbody tr th {\n",
       "        vertical-align: top;\n",
       "    }\n",
       "\n",
       "    .dataframe thead th {\n",
       "        text-align: right;\n",
       "    }\n",
       "</style>\n",
       "<table border=\"1\" class=\"dataframe\">\n",
       "  <thead>\n",
       "    <tr style=\"text-align: right;\">\n",
       "      <th></th>\n",
       "      <th>pred</th>\n",
       "      <th>prob</th>\n",
       "      <th>real</th>\n",
       "      <th>text</th>\n",
       "    </tr>\n",
       "  </thead>\n",
       "  <tbody>\n",
       "    <tr>\n",
       "      <th>523</th>\n",
       "      <td>1.000000</td>\n",
       "      <td>0.947512</td>\n",
       "      <td>0</td>\n",
       "      <td>b\"This film has the language, the style and the attitude down ... plus greats rides from Occy (a world champ) and the great Je...</td>\n",
       "    </tr>\n",
       "    <tr>\n",
       "      <th>224</th>\n",
       "      <td>1.000000</td>\n",
       "      <td>0.946282</td>\n",
       "      <td>0</td>\n",
       "      <td>b\"Well, I think I've finally seen my last Woody Allen movie! I read the review in the newspaper and went to see this movie wit...</td>\n",
       "    </tr>\n",
       "    <tr>\n",
       "      <th>849</th>\n",
       "      <td>1.000000</td>\n",
       "      <td>0.937795</td>\n",
       "      <td>0</td>\n",
       "      <td>b\"Sadly, this movie is not very good. But does it really matter ? We all know the basics for the story, and this has nothing n...</td>\n",
       "    </tr>\n",
       "    <tr>\n",
       "      <th>71</th>\n",
       "      <td>1.000000</td>\n",
       "      <td>0.928966</td>\n",
       "      <td>0</td>\n",
       "      <td>b'I went to see this 3 nights ago here in Cork, Ireland. It was the world premiere of it, in the tiny cinema in the Triskel Ar...</td>\n",
       "    </tr>\n",
       "    <tr>\n",
       "      <th>11</th>\n",
       "      <td>1.000000</td>\n",
       "      <td>0.910773</td>\n",
       "      <td>0</td>\n",
       "      <td>b\"Even Disney are guilty of the cash cow disease, after the roaring success of The Love Bug in 1968, the house of mouse cashed...</td>\n",
       "    </tr>\n",
       "  </tbody>\n",
       "</table>\n",
       "</div>"
      ],
      "text/plain": [
       "        pred     prob  real  \\\n",
       "523 1.000000 0.947512     0   \n",
       "224 1.000000 0.946282     0   \n",
       "849 1.000000 0.937795     0   \n",
       "71  1.000000 0.928966     0   \n",
       "11  1.000000 0.910773     0   \n",
       "\n",
       "                                                                                                                                  text  \n",
       "523  b\"This film has the language, the style and the attitude down ... plus greats rides from Occy (a world champ) and the great Je...  \n",
       "224  b\"Well, I think I've finally seen my last Woody Allen movie! I read the review in the newspaper and went to see this movie wit...  \n",
       "849  b\"Sadly, this movie is not very good. But does it really matter ? We all know the basics for the story, and this has nothing n...  \n",
       "71   b'I went to see this 3 nights ago here in Cork, Ireland. It was the world premiere of it, in the tiny cinema in the Triskel Ar...  \n",
       "11   b\"Even Disney are guilty of the cash cow disease, after the roaring success of The Love Bug in 1968, the house of mouse cashed...  "
      ]
     },
     "metadata": {},
     "output_type": "display_data"
    },
    {
     "data": {
      "text/markdown": [
       "#### Lowest 5 mispredicted"
      ]
     },
     "metadata": {},
     "output_type": "display_data"
    },
    {
     "data": {
      "text/html": [
       "<div>\n",
       "<style scoped>\n",
       "    .dataframe tbody tr th:only-of-type {\n",
       "        vertical-align: middle;\n",
       "    }\n",
       "\n",
       "    .dataframe tbody tr th {\n",
       "        vertical-align: top;\n",
       "    }\n",
       "\n",
       "    .dataframe thead th {\n",
       "        text-align: right;\n",
       "    }\n",
       "</style>\n",
       "<table border=\"1\" class=\"dataframe\">\n",
       "  <thead>\n",
       "    <tr style=\"text-align: right;\">\n",
       "      <th></th>\n",
       "      <th>pred</th>\n",
       "      <th>prob</th>\n",
       "      <th>real</th>\n",
       "      <th>text</th>\n",
       "    </tr>\n",
       "  </thead>\n",
       "  <tbody>\n",
       "    <tr>\n",
       "      <th>924</th>\n",
       "      <td>0.000000</td>\n",
       "      <td>0.039572</td>\n",
       "      <td>1</td>\n",
       "      <td>b\"Might contain spoilers.&lt;br /&gt;&lt;br /&gt;This is just a good movie. Lots of good silly stuff to laugh at. However, do not watch th...</td>\n",
       "    </tr>\n",
       "    <tr>\n",
       "      <th>244</th>\n",
       "      <td>0.000000</td>\n",
       "      <td>0.063431</td>\n",
       "      <td>1</td>\n",
       "      <td>b\"If a joke doesn't offend anybody, it isn't funny.&lt;br /&gt;&lt;br /&gt;The Inki cartoons are offensive, no doubt about it. So is rap m...</td>\n",
       "    </tr>\n",
       "    <tr>\n",
       "      <th>326</th>\n",
       "      <td>0.000000</td>\n",
       "      <td>0.077508</td>\n",
       "      <td>1</td>\n",
       "      <td>b'I can\\'t even begin to imagine why everyone hates this movie so much. It had me literally crying with laughter several times...</td>\n",
       "    </tr>\n",
       "    <tr>\n",
       "      <th>610</th>\n",
       "      <td>0.000000</td>\n",
       "      <td>0.145157</td>\n",
       "      <td>1</td>\n",
       "      <td>b'...and normally i don\\'t like surprises!! Watch this movie by chance in a motel in South Africa second week of a three month...</td>\n",
       "    </tr>\n",
       "    <tr>\n",
       "      <th>742</th>\n",
       "      <td>0.000000</td>\n",
       "      <td>0.189125</td>\n",
       "      <td>1</td>\n",
       "      <td>b\"Not too bad entry in the series, heavily ladled with war propaganda, but Rathbone &amp; Bruce's sincerity keep me happy.&lt;br /&gt;&lt;b...</td>\n",
       "    </tr>\n",
       "  </tbody>\n",
       "</table>\n",
       "</div>"
      ],
      "text/plain": [
       "        pred     prob  real  \\\n",
       "924 0.000000 0.039572     1   \n",
       "244 0.000000 0.063431     1   \n",
       "326 0.000000 0.077508     1   \n",
       "610 0.000000 0.145157     1   \n",
       "742 0.000000 0.189125     1   \n",
       "\n",
       "                                                                                                                                  text  \n",
       "924  b\"Might contain spoilers.<br /><br />This is just a good movie. Lots of good silly stuff to laugh at. However, do not watch th...  \n",
       "244  b\"If a joke doesn't offend anybody, it isn't funny.<br /><br />The Inki cartoons are offensive, no doubt about it. So is rap m...  \n",
       "326  b'I can\\'t even begin to imagine why everyone hates this movie so much. It had me literally crying with laughter several times...  \n",
       "610  b'...and normally i don\\'t like surprises!! Watch this movie by chance in a motel in South Africa second week of a three month...  \n",
       "742  b\"Not too bad entry in the series, heavily ladled with war propaganda, but Rathbone & Bruce's sincerity keep me happy.<br /><b...  "
      ]
     },
     "metadata": {},
     "output_type": "display_data"
    },
    {
     "data": {
      "text/markdown": [
       "#### Classification report for xgbclassifier"
      ]
     },
     "metadata": {},
     "output_type": "display_data"
    },
    {
     "name": "stdout",
     "output_type": "stream",
     "text": [
      "             precision    recall  f1-score   support\n",
      "\n",
      "   Negative       0.83      0.82      0.82       498\n",
      "   Positive       0.83      0.83      0.83       502\n",
      "\n",
      "avg / total       0.83      0.83      0.83      1000\n",
      "\n"
     ]
    },
    {
     "data": {
      "image/png": "[encoded data removed]",
      "text/plain": [
       "<matplotlib.figure.Figure at 0x7f2c3c44a080>"
      ]
     },
     "metadata": {},
     "output_type": "display_data"
    }
   ],
   "source": [
    "xgb_limit = min(50000, len(X_sklearn_preprocessed))\n",
    "xgb_model = models.XGBModel(\n",
    "    nlp, dataset_id, verbose_eval=1\n",
    ")\n",
    "\n",
    "accuracy = train_model_and_display_results(\n",
    "    xgb_model,\n",
    "    X_sklearn_preprocessed[:xgb_limit],\n",
    "    y_train[:xgb_limit],\n",
    "    preprocessed=True\n",
    ")\n",
    "\n",
    "if SAVE_IN_STORE:\n",
    "    store.add_model(xgb_model, \"xgboost_imdb\", \"IMDB XGBoost\", metadata={\n",
    "        'Dataset': 'Internet Movie Database',\n",
    "        'Training samples': xgb_limit,\n",
    "        'Accuracy': accuracy,\n",
    "        'Description': \"XGBoost using default parameters\"\n",
    "    })"
   ]
  },
  {
   "cell_type": "code",
   "execution_count": null,
   "metadata": {},
   "outputs": [],
   "source": []
  }
 ],
 "metadata": {
  "kernelspec": {
   "display_name": "Python 3",
   "language": "python",
   "name": "python3"
  },
  "language_info": {
   "codemirror_mode": {
    "name": "ipython",
    "version": 3
   },
   "file_extension": ".py",
   "mimetype": "text/x-python",
   "name": "python",
   "nbconvert_exporter": "python",
   "pygments_lexer": "ipython3",
   "version": "3.5.2"
  }
 },
 "nbformat": 4,
 "nbformat_minor": 2
}
