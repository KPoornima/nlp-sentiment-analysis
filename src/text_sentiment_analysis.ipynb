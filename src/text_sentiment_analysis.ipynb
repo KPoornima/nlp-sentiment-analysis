{
 "cells": [
  {
   "cell_type": "code",
   "execution_count": 5,
   "metadata": {},
   "outputs": [
    {
     "name": "stdout",
     "output_type": "stream",
     "text": [
      "The autoreload extension is already loaded. To reload it, use:\n",
      "  %reload_ext autoreload\n"
     ]
    }
   ],
   "source": [
    "%load_ext autoreload\n",
    "%autoreload 2"
   ]
  },
  {
   "cell_type": "code",
   "execution_count": 6,
   "metadata": {},
   "outputs": [],
   "source": [
    "from shared.pipelines import get_keras_pipeline\n",
    "from shared.data import load_fine_food_reviews"
   ]
  },
  {
   "cell_type": "code",
   "execution_count": 7,
   "metadata": {},
   "outputs": [],
   "source": [
    "import en_vectors_web_lg\n",
    "nlp = en_vectors_web_lg.load()"
   ]
  },
  {
   "cell_type": "code",
   "execution_count": 8,
   "metadata": {},
   "outputs": [],
   "source": [
    "MAX_WORDS_IN_SENTENCE = 200\n",
    "LIMIT = -1\n",
    "model_path = '../dist/models/food_{}.h5'.format(LIMIT if LIMIT > 0 else 'all')"
   ]
  },
  {
   "cell_type": "code",
   "execution_count": 9,
   "metadata": {},
   "outputs": [],
   "source": [
    "import matplotlib.pyplot as plt\n",
    "from keras import models\n",
    "\n",
    "\n",
    "def plot_training(history):\n",
    "    plt.plot(history.history['loss'], c='red')\n",
    "    _ = plt.plot(history.history['val_loss'], c='blue')\n",
    "\n",
    "\n",
    "def train_model(limit, max_words_in_sentence, **train_params):\n",
    "    X, y = load_fine_food_reviews(limit)\n",
    "    pipeline = get_keras_pipeline(nlp, max_words_in_sentence, **train_params).fit(X, y)\n",
    "    model_step = pipeline.steps[-1][1]\n",
    "    plot_training(model_step.history)\n",
    "    return model_step.model\n",
    "\n",
    "\n",
    "def load_or_train_model(model_path, limit, max_words_in_sentence, **train_params):\n",
    "    try:\n",
    "        print(\"Loading cached model...\")\n",
    "        return models.load_model(model_path)\n",
    "    except:\n",
    "        print(\"Unable to find cached model, training...\")\n",
    "        model = train_model(limit, max_words_in_sentence, **train_params)\n",
    "        models.save_model(model, model_path)\n",
    "        return model"
   ]
  },
  {
   "cell_type": "code",
   "execution_count": 10,
   "metadata": {},
   "outputs": [
    {
     "name": "stdout",
     "output_type": "stream",
     "text": [
      "Loading cached model...\n",
      "Unable to find cached model, training...\n",
      "Epoch 1/5\n",
      "3081/3081 [==============================] - 120s 39ms/step - loss: 0.5008 - acc: 0.7674 - val_loss: 0.1547 - val_acc: 0.8690\n",
      "Epoch 2/5\n",
      "3081/3081 [==============================] - 135s 44ms/step - loss: 0.1361 - acc: 0.8666 - val_loss: 0.1307 - val_acc: 0.8745\n",
      "Epoch 3/5\n",
      "3081/3081 [==============================] - 130s 42ms/step - loss: 0.1104 - acc: 0.8702 - val_loss: 0.1040 - val_acc: 0.8762\n",
      "Epoch 4/5\n",
      "3081/3081 [==============================] - 117s 38ms/step - loss: 0.1065 - acc: 0.8707 - val_loss: 0.1024 - val_acc: 0.8755\n",
      "Epoch 5/5\n",
      "3081/3081 [==============================] - 137s 45ms/step - loss: 0.1061 - acc: 0.8706 - val_loss: 0.1017 - val_acc: 0.8761\n"
     ]
    },
    {
     "data": {
      "image/png": "[encoded data removed]",
      "text/plain": [
       "<matplotlib.figure.Figure at 0x7f545659aba8>"
      ]
     },
     "metadata": {},
     "output_type": "display_data"
    }
   ],
   "source": [
    "model = load_or_train_model(model_path, limit=LIMIT, max_words_in_sentence=MAX_WORDS_IN_SENTENCE)\n",
    "pipeline = get_keras_pipeline(nlp, model=model, max_words_in_sentence=MAX_WORDS_IN_SENTENCE)"
   ]
  },
  {
   "cell_type": "code",
   "execution_count": 13,
   "metadata": {},
   "outputs": [
    {
     "data": {
      "text/plain": [
       "array([[ 0.78920048],\n",
       "       [ 0.51199126],\n",
       "       [ 0.60853308],\n",
       "       [ 0.78920048]], dtype=float32)"
      ]
     },
     "execution_count": 13,
     "metadata": {},
     "output_type": "execute_result"
    }
   ],
   "source": [
    "import numpy as np\n",
    "\n",
    "pipeline.predict(np.array([\n",
    "    \"it was very good\",\n",
    "    \"can't even smell it\",\n",
    "    \"expectations met\",\n",
    "    \"tasty\",\n",
    "], dtype='object'))"
   ]
  }
 ],
 "metadata": {
  "kernelspec": {
   "display_name": "Python 3",
   "language": "python",
   "name": "python3"
  },
  "language_info": {
   "codemirror_mode": {
    "name": "ipython",
    "version": 3
   },
   "file_extension": ".py",
   "mimetype": "text/x-python",
   "name": "python",
   "nbconvert_exporter": "python",
   "pygments_lexer": "ipython3",
   "version": "3.5.2"
  }
 },
 "nbformat": 4,
 "nbformat_minor": 2
}
